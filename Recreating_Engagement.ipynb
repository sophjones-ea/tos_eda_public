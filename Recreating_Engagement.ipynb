{
 "cells": [
  {
   "attachments": {},
   "cell_type": "markdown",
   "id": "6880664f-5550-4ad0-9f03-08bcc6c48f7d",
   "metadata": {},
   "source": [
    "## Experiment with different thresholds (eg.45,60,75,90) and observe the effects\n",
    "- Accurately join f_aa_hits_detail (for post_evar columns) and f_aa_hits_detail_engagement (for time on site seconds and has_engagement test column)\n",
    "\n"
   ]
  },
  {
   "attachments": {},
   "cell_type": "markdown",
   "id": "aa4ffb91",
   "metadata": {},
   "source": [
    "## Imports and Set Up"
   ]
  },
  {
   "cell_type": "code",
   "execution_count": 2,
   "id": "4e0dd379",
   "metadata": {},
   "outputs": [],
   "source": [
    "import boto3\n",
    "import snowflake.connector\n",
    "from pathlib import Path\n",
    "from snowflake.connector.pandas_tools import write_pandas\n",
    "from sqlalchemy import create_engine\n",
    "from snowflake.connector.pandas_tools import pd_writer\n",
    "from snowflake.connector import DictCursor\n",
    "import pandas as pd\n",
    "from snowflake.snowpark import functions as fn\n",
    "from snowflake.snowpark import types as type\n",
    "from snowflake.snowpark import DataFrame as df\n",
    "import numpy as np\n",
    "from snowflake.snowpark import Session\n",
    "from snowflake.snowpark.types import StringType, BooleanType\n",
    "from snowflake.snowpark.functions import udf\n",
    "from snowflake.snowpark.functions import col"
   ]
  },
  {
   "cell_type": "code",
   "execution_count": 3,
   "id": "98aee96c-2c9c-4915-a31c-8e5069b7da8d",
   "metadata": {
    "tags": []
   },
   "outputs": [
    {
     "name": "stdout",
     "output_type": "stream",
     "text": [
      "Initiating login request with your identity provider. A browser window should have opened for you to complete the login. If you can't see it, check existing browser windows, or your OS settings. Press CTRL+C to abort and try again...\n",
      "Going to open: https://netman.okta.com/app/snowflake/exk5idnkinyNtZ20m417/sso/saml?SAMLRequest=lZJBc9owEIX%2Fikc925IMpKDBZGiYtLQkJcFk2txUeyEabMnVyhjy6ytM3EkPyUxvGum93U%2F7dnx5KItgDxaV0QnhESMB6MzkSm8Tsk6vwyEJ0Emdy8JoSMgRkFxOxijLohLT2j3pe%2FhdA7rAF9Io2oeE1FYLI1Gh0LIEFC4Tq%2BnNQsQRE5U1zmSmIK8s7zskIljnCTtLjsrjPTlXCUqbpomaXmTslsaMMcpG1KtOkg%2Bd%2FuD%2F9IaeU9Y%2F6b3Cy5cvbJ%2BUPo%2FgPaxfZxGKL2m6DJffVykJph3qldFYl2BXYPcqg%2FX94gyAnmCL%2FQvG%2BhHUYeNHF%2FIItWk2hdxBZsqqdr5q5E90AzktzFb5j89nCal2Kp8vDikblp8Xy7uN%2FvptLZ%2F3P7f5cJDaO20M7%2F24WT0bbh%2FUrJ%2BR4KFLNj4lO0esYa5PeTp%2FxeJeyAYhH6Z8IDgT8UU04qNHEsw8lNLStc4OWoMrpY7MzsmWTVYV%2FYtN4bAbqFzvlD7euseYlX3%2BkSIaekqXnBdGtP3t5H%2FHMKav3S%2B7d%2BvjmM%2BWplDZMbg2tpTu7bR4xNsblYebViqglKqY5rkFRJ9aUZjmyoJ0fsWdrYHQybnrv0s%2B%2BQM%3D&RelayState=64187 to authenticate...\n"
     ]
    }
   ],
   "source": [
    "def snowflake_sesion(connection_parameters) -> Session:\n",
    "    return Session.builder.configs(connection_parameters).create()\n",
    "\n",
    "connection_parameters = {\n",
    "    \"user\" : \"sophie.jones@contractor.itech.media\",\n",
    "    \"account\" : \"gs46004.eu-west-1\",\n",
    "    \"role\" : \"PRD_ANALYST\",\n",
    "    \"warehouse\" : \"PRD_WH\",\n",
    "    \"database\" : \"PRD_DWH\",\n",
    "    \"schema\":\"SANDBOX\",\n",
    "    \"authenticator\" : \"externalbrowser\"\n",
    "}\n",
    "\n",
    "main_session = snowflake_sesion(connection_parameters)"
   ]
  },
  {
   "attachments": {},
   "cell_type": "markdown",
   "id": "de26863f",
   "metadata": {},
   "source": [
    "## Read in all Dataframes"
   ]
  },
  {
   "cell_type": "code",
   "execution_count": 4,
   "id": "078ca79c-1f56-4a54-abeb-59d3010c359c",
   "metadata": {
    "tags": []
   },
   "outputs": [
    {
     "data": {
      "text/plain": [
       "['VISIT_DATE_UTC',\n",
       " 'D_SITE_HIST_SK',\n",
       " 'SITE_URL',\n",
       " 'VISIT_DATE_TIME_UTC',\n",
       " 'VISITOR_ID',\n",
       " 'VISIT_NUM',\n",
       " 'VISIT_ID',\n",
       " 'DEVICE_TYPE',\n",
       " 'CONNECTION_TYPE',\n",
       " 'D_USER_LANGUAGE_SK',\n",
       " 'D_COUNTRY_HIST_SK',\n",
       " 'STATE_CODE',\n",
       " 'VISIT_REFERRER_TYPE',\n",
       " 'VISIT_SEARCH_ENGINE',\n",
       " 'VISIT_START_PAGE_URL',\n",
       " 'VISIT_START_D_PAGE_HIST_SK',\n",
       " 'HIT_TIME_UTC',\n",
       " 'PAGE_URL',\n",
       " 'D_PAGE_HIST_SK',\n",
       " 'VISIT_PAGE_NUM',\n",
       " 'IS_LANDING_PAGE',\n",
       " 'HAS_CLICKOUT',\n",
       " 'HAS_ENGAGEMENT',\n",
       " 'OUTBOUND_LINK',\n",
       " 'PAGE_VERTICAL',\n",
       " 'CHANNEL_NAME',\n",
       " 'TRANSACTION_ID']"
      ]
     },
     "execution_count": 4,
     "metadata": {},
     "output_type": "execute_result"
    }
   ],
   "source": [
    "f_aa_hits_detail_engagement = main_session.table('dimensional.f_aa_hits_detail_engagement')\n",
    "f_aa_hits_detail_engagement.columns"
   ]
  },
  {
   "attachments": {},
   "cell_type": "markdown",
   "id": "95902ec8",
   "metadata": {},
   "source": [
    "#^ has engagement and has clickout on a hit level"
   ]
  },
  {
   "cell_type": "code",
   "execution_count": 5,
   "id": "221ba965",
   "metadata": {},
   "outputs": [
    {
     "data": {
      "text/plain": [
       "['VISIT_DATE_UTC',\n",
       " 'VISIT_DATE_TIME_UTC',\n",
       " 'FIRST_HIT_TIME_UTC',\n",
       " 'LAST_HIT_TIME_UTC',\n",
       " 'HIT_TIME_UTC',\n",
       " 'POST_CUST_HIT_TIME_UTC',\n",
       " 'REPORT_SUITE_DATE_TIME',\n",
       " 'D_SITE_HIST_SK',\n",
       " 'D_BROWSER_SK',\n",
       " 'C_COLOR',\n",
       " 'COLOR_DEPTH',\n",
       " 'CONNECTION_TYPE',\n",
       " 'D_USER_LANGUAGE_SK',\n",
       " 'DAILY_VISITOR',\n",
       " 'DOMAIN',\n",
       " 'EVAR_PAGE_URL',\n",
       " 'EVAR_PAGE_TAG_CATEGORIES',\n",
       " 'EVAR_PAGE_TAG_VERTICALS',\n",
       " 'EVAR_PAGE_TAG_COUNTRY_SK',\n",
       " 'EVAR_PAGE_LANGUAGE_SK',\n",
       " 'EVAR_PAGE_BREAD_CRUMBS',\n",
       " 'EVAR_PAGE_ALTERNATIVE_URL',\n",
       " 'EVAR_EXPERIMENT_CAMPAIGN_ID',\n",
       " 'EVAR_EXPERIMENT_USER_ID',\n",
       " 'EVAR_ARTICLE_AUTHOR',\n",
       " 'EVAR_ARTICLE_PUBLICATION_DATE',\n",
       " 'EVAR_ARTICLE_MODIFICATION_DATE',\n",
       " 'EVAR_ARTICLE_TITLE',\n",
       " 'EVAR_ARTICLE_CATEGORIES',\n",
       " 'EVAR_ARTICLE_COMMENTS_NUMBER',\n",
       " 'EVAR_LINK_LOCATION',\n",
       " 'EVAR_LINK_URL',\n",
       " 'EVAR_LINK_TYPE',\n",
       " 'EVAR_IPHONE_SCREEN_SIZE',\n",
       " 'EVAR_USER_AGENT',\n",
       " 'EVAR_MARKETING_CLOUD_ID',\n",
       " 'EVAR_TRANSACTION_ID',\n",
       " 'EVAR_USER_PREVIOUS_PAGE',\n",
       " 'EVAR_USER_LANGUAGE_SK',\n",
       " 'EVAR_ARCADE_CLIENT_ID',\n",
       " 'EVAR_ARCADE_GAME_ID',\n",
       " 'EVAR_ARCADE_GEO',\n",
       " 'EVAR_ARCADE_LINK_ID',\n",
       " 'EVAR_ARCADE_REFERRER',\n",
       " 'EVAR_ARCADE_USER_AGENT',\n",
       " 'EVAR_ARCADE_GAME_NAME',\n",
       " 'EVAR_PERFORMANCE_LCP',\n",
       " 'EVAR_PERFORMANCE_FID',\n",
       " 'EVAR_PERFORMANCE_CLS',\n",
       " 'EVAR_PERFORMANCE_FCP',\n",
       " 'EVAR_PERFORMANCE_TTFB',\n",
       " 'EVAR_PRIMARY_PAGE_SUB_CATEGORY',\n",
       " 'EVAR_CONTAINS_TOPLIST',\n",
       " 'EVAR_VIDEO_NAME',\n",
       " 'EVAR_VIDEO_ID',\n",
       " 'EVAR_VIDEO_SECONDS_WATCHED',\n",
       " 'EVAR_VIDEO_CURRENT_TIME',\n",
       " 'EVAR_VIDEO_LENGTH',\n",
       " 'EVAR_VIDEO_IS_MUTED',\n",
       " 'EVAR_EXPERIMENT_TEST',\n",
       " 'EVAR_AA_CONNECTOR_VERSION',\n",
       " 'EVAR_SITE_NAME',\n",
       " 'EXCLUDE_HIT',\n",
       " 'FIRST_HIT_PAGE_URL',\n",
       " 'FIRST_HIT_PAGENAME',\n",
       " 'FIRST_HIT_REF_DOMAIN',\n",
       " 'FIRST_HIT_REF_TYPE',\n",
       " 'FIRST_HIT_REFERRER',\n",
       " 'GEO_CITY',\n",
       " 'GEO_COUNTRY_SK',\n",
       " 'GEO_DMA',\n",
       " 'GEO_REGION',\n",
       " 'GEO_ZIP',\n",
       " 'HIT_SOURCE',\n",
       " 'HITID_HIGH',\n",
       " 'HITID_LOW',\n",
       " 'HOURLY_VISITOR',\n",
       " 'IP',\n",
       " 'J_JSCRIPT',\n",
       " 'JAVASCRIPT_VERSION',\n",
       " 'MCVISID',\n",
       " 'D_MOBILE_ATTRIBUTE_SK',\n",
       " 'DEVICE_TYPE',\n",
       " 'MONTHLY_VISITOR',\n",
       " 'NEW_VISIT',\n",
       " 'D_OPERATING_SYSTEM_SK',\n",
       " 'PAGE_EVENT',\n",
       " 'PAGE_URL',\n",
       " 'PAGE_VERTICAL',\n",
       " 'POST_PAGE_URL',\n",
       " 'PAGENAME',\n",
       " 'BROWSER_HEIGHT',\n",
       " 'BROWSER_WIDTH',\n",
       " 'POST_CLICKMAPLINK',\n",
       " 'POST_CLICKMAPLINKBYREGION',\n",
       " 'POST_CLICKMAPPAGE',\n",
       " 'POST_CLICKMAPREGION',\n",
       " 'POST_COOKIES',\n",
       " 'POST_EVAR_DEVICE_TYPE',\n",
       " 'POST_EVAR_PAGE_URL',\n",
       " 'POST_EVAR_PAGE_TAG_CATEGORIES',\n",
       " 'POST_EVAR_PAGE_TAG_VERTICALS',\n",
       " 'POST_EVAR_PAGE_TAG_COUNTRY_SK',\n",
       " 'POST_EVAR_PAGE_LANGUAGE_SK',\n",
       " 'POST_EVAR_PAGE_BREAD_CRUMBS',\n",
       " 'POST_EVAR_PAGE_ALTERNATIVE_URL',\n",
       " 'POST_EVAR_EXPERIMENT_CAMPAIGN_ID',\n",
       " 'POST_EVAR_EXPERIMENT_USER_ID',\n",
       " 'POST_EVAR_ARTICLE_AUTHOR',\n",
       " 'POST_EVAR_ARTICLE_PUBLICATION_DATE',\n",
       " 'POST_EVAR_ARTICLE_MODIFICATION_DATE',\n",
       " 'POST_EVAR_ARTICLE_TITLE',\n",
       " 'POST_EVAR_ARTICLE_CATEGORIES',\n",
       " 'POST_EVAR_ARTICLE_COMMENTS_NUMBER',\n",
       " 'POST_EVAR_LINK_LOCATION',\n",
       " 'POST_EVAR_LINK_URL',\n",
       " 'POST_EVAR_LINK_TYPE',\n",
       " 'POST_EVAR_IPHONE_SCREEN_SIZE',\n",
       " 'POST_EVAR_USER_AGENT',\n",
       " 'POST_EVAR_MARKETING_CLOUD_ID',\n",
       " 'POST_EVAR_TRANSACTION_ID',\n",
       " 'POST_EVAR_USER_PREVIOUS_PAGE',\n",
       " 'POST_EVAR_USER_LANGUAGE_SK',\n",
       " 'POST_EVAR_ARCADE_CLIENT_ID',\n",
       " 'POST_EVAR_ARCADE_GAME_ID',\n",
       " 'POST_EVAR_ARCADE_GEO',\n",
       " 'POST_EVAR_ARCADE_LINK_ID',\n",
       " 'POST_EVAR_ARCADE_REFERRER',\n",
       " 'POST_EVAR_ARCADE_USER_AGENT',\n",
       " 'POST_EVAR_ARCADE_GAME_NAME',\n",
       " 'POST_EVAR_PERFORMANCE_LCP',\n",
       " 'POST_EVAR_PERFORMANCE_FID',\n",
       " 'POST_EVAR_PERFORMANCE_CLS',\n",
       " 'POST_EVAR_PERFORMANCE_FCP',\n",
       " 'POST_EVAR_PERFORMANCE_TTFB',\n",
       " 'POST_EVAR_PRIMARY_PAGE_SUB_CATEGORY',\n",
       " 'POST_EVAR_CONTAINS_TOPLIST',\n",
       " 'POST_EVAR_VIDEO_NAME',\n",
       " 'POST_EVAR_VIDEO_ID',\n",
       " 'POST_EVAR_VIDEO_SECONDS_WATCHED',\n",
       " 'POST_EVAR_VIDEO_CURRENT_TIME',\n",
       " 'POST_EVAR_VIDEO_LENGTH',\n",
       " 'POST_EVAR_VIDEO_IS_MUTED',\n",
       " 'POST_EVAR_EXPERIMENT_TEST',\n",
       " 'POST_EVAR_AA_CONNECTOR_VERSION',\n",
       " 'POST_EVAR_SITE_NAME',\n",
       " 'POST_EVENT_LIST',\n",
       " 'POST_JAVA_ENABLED',\n",
       " 'POST_PAGE_EVENT',\n",
       " 'POST_PAGE_EVENT_VAR1',\n",
       " 'POST_PAGE_EVENT_VAR2',\n",
       " 'POST_PAGENAME',\n",
       " 'POST_PERSISTENT_COOKIE',\n",
       " 'POST_PRODUCT_LIST',\n",
       " 'POST_PROP_PAGE_TITLE',\n",
       " 'POST_PROP_TIME_ON_PAGE',\n",
       " 'POST_REFERRER',\n",
       " 'T_TIME_INFO',\n",
       " 'VISIT_ID',\n",
       " 'VISITOR_ID',\n",
       " 'POST_ZIP',\n",
       " 'QUARTERLY_VISITOR',\n",
       " 'REF_DOMAIN',\n",
       " 'REFERRER_TYPE',\n",
       " 'SCREEN_RESOLUTION',\n",
       " 'S_RESOLUTION',\n",
       " 'SEARCH_ENGINE',\n",
       " 'TRUNCATED_HIT',\n",
       " 'USERNAME',\n",
       " 'LAST_TOUCH_CHANNEL_DETAIL',\n",
       " 'LAST_TOUCH_CHANNEL',\n",
       " 'FIRST_TOUCH_CHANNEL_DETAIL',\n",
       " 'FIRST_TOUCH_CHANNEL',\n",
       " 'MARKETING_CHANNEL_INSTANCES',\n",
       " 'MARKETING_CHANNEL_NEW_ENGAGEMENT',\n",
       " 'VISID_NEW',\n",
       " 'VISID_TYPE',\n",
       " 'VISIT_NUM',\n",
       " 'VISIT_PAGE_NUM',\n",
       " 'VISIT_REF_DOMAIN',\n",
       " 'VISIT_REFERRER_TYPE',\n",
       " 'VISIT_REFERRER',\n",
       " 'VISIT_SEARCH_ENGINE',\n",
       " 'VISIT_EVAR_START_PAGE_URL',\n",
       " 'VISIT_START_PAGE_URL',\n",
       " 'VISIT_START_PAGENAME',\n",
       " 'WEEKLY_VISITOR',\n",
       " 'YEARLY_VISITOR',\n",
       " 'POST_T_TIME_INFO',\n",
       " 'POST_VISID_HIGH',\n",
       " 'POST_VISID_LOW',\n",
       " 'VISID_TIMESTAMP',\n",
       " 'POST_VISID_TYPE',\n",
       " 'ETL_LOAD_TIME',\n",
       " 'ETL_DAG_ID',\n",
       " 'ETL_TASK_ID',\n",
       " 'ETL_LOGICAL_DATE_TIME',\n",
       " 'IS_BOT_TRAFFIC',\n",
       " 'EVAR_D_PAGE_HIST_SK',\n",
       " 'FIRST_HIT_D_PAGE_HIST_SK',\n",
       " 'D_PAGE_HIST_SK',\n",
       " 'POST_D_PAGE_HIST_SK',\n",
       " 'POST_EVAR_D_PAGE_HIST_SK',\n",
       " 'VISIT_EVAR_START_D_PAGE_HIST_SK',\n",
       " 'VISIT_START_D_PAGE_HIST_SK',\n",
       " 'TOPLIST_RESPONSE_ID',\n",
       " 'TOPLIST_IDENTIFIER',\n",
       " 'PARTNER_SLUG',\n",
       " 'PARTNER_PAYOUT_TIME',\n",
       " 'TOPLIST_OFFER_ID',\n",
       " 'TOPLIST_OFFER_AMOUNT',\n",
       " 'PARTNER_POSITION_IN_TOPLIST',\n",
       " 'TOPLIST_OFFER_NAME',\n",
       " 'PARTNER_RATING',\n",
       " 'PARTNER_RTP']"
      ]
     },
     "execution_count": 5,
     "metadata": {},
     "output_type": "execute_result"
    }
   ],
   "source": [
    "f_aa_hits_detail = main_session.table('dimensional.f_aa_hits_detail')\n",
    "f_aa_hits_detail.columns"
   ]
  },
  {
   "cell_type": "code",
   "execution_count": 6,
   "id": "2b5ead40",
   "metadata": {},
   "outputs": [
    {
     "data": {
      "text/plain": [
       "['D_SITE_HIST_SK',\n",
       " 'SITE_URL',\n",
       " 'SITE_NAME',\n",
       " 'PILLAR',\n",
       " 'ETL_LOAD_TIME',\n",
       " 'ETL_DAG_ID',\n",
       " 'ETL_TASK_ID',\n",
       " 'ETL_LOGICAL_DATE_TIME',\n",
       " 'SITE_NUMBER']"
      ]
     },
     "execution_count": 6,
     "metadata": {},
     "output_type": "execute_result"
    }
   ],
   "source": [
    "d_site_hist = main_session.table('dimensional.d_site_hist')\n",
    "d_site_hist.columns"
   ]
  },
  {
   "attachments": {},
   "cell_type": "markdown",
   "id": "7e4d75db",
   "metadata": {},
   "source": [
    "## Join Site Data from d_site_hist"
   ]
  },
  {
   "cell_type": "code",
   "execution_count": 7,
   "id": "4ea6eecb",
   "metadata": {},
   "outputs": [],
   "source": [
    "f_aa_hits_detail = f_aa_hits_detail.select(['VISIT_DATE_UTC','HIT_TIME_UTC','EVAR_PAGE_URL','EVAR_PAGE_TAG_COUNTRY_SK','D_SITE_HIST_SK','post_evar_link_url','post_evar_link_type','post_prop_time_on_page'])\n",
    "d_site_hist = d_site_hist.select(['D_SITE_HIST_SK','SITE_URL','SITE_NAME'])\n",
    "#f_aa_hits_detail.count()"
   ]
  },
  {
   "cell_type": "code",
   "execution_count": 8,
   "id": "314d815b",
   "metadata": {},
   "outputs": [],
   "source": [
    "hits_detail = f_aa_hits_detail.join(d_site_hist, on ='D_SITE_HIST_SK', how='left')\n",
    "#f_aa_hits_detail.count()"
   ]
  },
  {
   "cell_type": "code",
   "execution_count": 9,
   "id": "38baee1f",
   "metadata": {},
   "outputs": [
    {
     "name": "stdout",
     "output_type": "stream",
     "text": [
      "There were 0 rows that didn't match.\n"
     ]
    }
   ],
   "source": [
    "#filter unmatched rows\n",
    "unmatched_rows = hits_detail.filter(hits_detail[\"SITE_NAME\"].isNull())\n",
    "\n",
    "# count the number of unmatched rows\n",
    "num_unmatched_rows = unmatched_rows.count()\n",
    "\n",
    "# print the result\n",
    "print(f\"There were {num_unmatched_rows} rows that didn't match.\")"
   ]
  },
  {
   "cell_type": "code",
   "execution_count": 10,
   "id": "adeeb2df",
   "metadata": {},
   "outputs": [
    {
     "data": {
      "text/plain": [
       "['D_SITE_HIST_SK',\n",
       " 'VISIT_DATE_UTC',\n",
       " 'HIT_TIME_UTC',\n",
       " 'EVAR_PAGE_URL',\n",
       " 'EVAR_PAGE_TAG_COUNTRY_SK',\n",
       " 'POST_EVAR_LINK_URL',\n",
       " 'POST_EVAR_LINK_TYPE',\n",
       " 'POST_PROP_TIME_ON_PAGE',\n",
       " 'SITE_URL',\n",
       " 'SITE_NAME']"
      ]
     },
     "execution_count": 10,
     "metadata": {},
     "output_type": "execute_result"
    }
   ],
   "source": [
    "hits_detail.columns"
   ]
  },
  {
   "attachments": {},
   "cell_type": "markdown",
   "id": "a668a38d",
   "metadata": {},
   "source": [
    "## Has clickout experimentation"
   ]
  },
  {
   "attachments": {},
   "cell_type": "markdown",
   "id": "43ceef9a",
   "metadata": {},
   "source": [
    "Create has clickout column from\n",
    "\n",
    "CASE s.site_url\n",
    "        WHEN 'covers.com'\n",
    "          THEN\n",
    "            IFF(CONTAINS(LOWER(h.post_evar_link_url), 'sportsbookredirect') OR CONTAINS(LOWER(h.post_evar_link_url), 'metabet'), 1, 0)\n",
    "        ELSE\n",
    "          IFF(h.post_evar_link_type = 'Partner', 1, 0)\n",
    "      END AS has_clickout\n",
    "\n",
    "and test with column in f_aa_hits_detail_engagement"
   ]
  },
  {
   "cell_type": "code",
   "execution_count": 13,
   "id": "e9c7c8ab",
   "metadata": {},
   "outputs": [
    {
     "data": {
      "text/plain": [
       "['D_SITE_HIST_SK',\n",
       " 'VISIT_DATE_UTC',\n",
       " 'EVAR_PAGE_URL',\n",
       " 'EVAR_PAGE_TAG_COUNTRY_SK',\n",
       " 'POST_EVAR_LINK_URL',\n",
       " 'POST_EVAR_LINK_TYPE',\n",
       " 'POST_PROP_TIME_ON_PAGE',\n",
       " 'SITE_URL',\n",
       " 'SITE_NAME',\n",
       " 'HAS_CLICKOUT_TEST']"
      ]
     },
     "execution_count": 13,
     "metadata": {},
     "output_type": "execute_result"
    }
   ],
   "source": [
    "@udf(name='has_clickout', input_types=[StringType(), StringType(), StringType()], return_type=BooleanType(), is_permanent=False, replace=True, session=main_session)\n",
    "\n",
    "def has_clickout_function(url,post_evar_link_url,post_evar_link_type) -> bool:\n",
    "    if 'covers.com' in url:\n",
    "        if ('sportsbookredirect' in post_evar_link_url) | ('metabet' in post_evar_link_url):\n",
    "            return True\n",
    "        elif post_evar_link_type == 'Partner':\n",
    "            return True\n",
    "        else:\n",
    "            return False\n",
    "    elif post_evar_link_type == 'Partner':\n",
    "        return True\n",
    "    else:\n",
    "        return False\n",
    "\n",
    "f_aa_hits_detail = f_aa_hits_detail.withColumn('has_clickout_test', has_clickout_function(col('SITE_URL'), col('post_evar_link_url'),col('post_evar_link_type')))\n",
    "f_aa_hits_detail.columns"
   ]
  },
  {
   "cell_type": "code",
   "execution_count": 14,
   "id": "9a35e1d9",
   "metadata": {},
   "outputs": [
    {
     "name": "stdout",
     "output_type": "stream",
     "text": [
      "------------------------------------------------------------------------------------------------------------------------------------------------------------------------------------------------------------------------------------------------------------------------------\n",
      "|\"D_SITE_HIST_SK\"  |\"VISIT_DATE_UTC\"  |\"EVAR_PAGE_URL\"                                 |\"EVAR_PAGE_TAG_COUNTRY_SK\"  |\"POST_EVAR_LINK_URL\"                                |\"POST_EVAR_LINK_TYPE\"  |\"POST_PROP_TIME_ON_PAGE\"  |\"SITE_URL\"  |\"SITE_NAME\"  |\"HAS_CLICKOUT_TEST\"  |\n",
      "------------------------------------------------------------------------------------------------------------------------------------------------------------------------------------------------------------------------------------------------------------------------------\n",
      "|33                |2021-03-15        |contests.covers.com/consensus/topconsensus/nba  |-1                          |https://www.covers.com/betting/sportsbookredire...  |External               |[Missing]                 |covers.com  |COVERS       |True                 |\n",
      "|33                |2021-03-15        |experts.covers.com/nba/freepicks                |-1                          |https://www.covers.com/betting/sportsbookredire...  |External               |[Missing]                 |covers.com  |COVERS       |True                 |\n",
      "|33                |2021-03-15        |experts.covers.com/nba/freepicks                |-1                          |https://www.covers.com/betting/sportsbookredire...  |External               |[Missing]                 |covers.com  |COVERS       |True                 |\n",
      "|33                |2021-03-15        |contests.covers.com/consensus                   |-1                          |https://www.covers.com/betting/sportsbookredire...  |External               |[Missing]                 |covers.com  |COVERS       |True                 |\n",
      "|33                |2021-03-15        |contests.covers.com/consensus                   |-1                          |https://www.covers.com/betting/sportsbookredire...  |External               |[Missing]                 |covers.com  |COVERS       |True                 |\n",
      "------------------------------------------------------------------------------------------------------------------------------------------------------------------------------------------------------------------------------------------------------------------------------\n",
      "\n"
     ]
    }
   ],
   "source": [
    "f_aa_hits_detail.filter((col('HAS_CLICKOUT_TEST') == True) & (col('SITE_URL')=='covers.com')).show(5)"
   ]
  },
  {
   "cell_type": "code",
   "execution_count": 15,
   "id": "c8492043",
   "metadata": {},
   "outputs": [
    {
     "data": {
      "text/plain": [
       "['VISIT_DATE_UTC',\n",
       " 'D_SITE_HIST_SK',\n",
       " 'SITE_URL',\n",
       " 'VISIT_DATE_TIME_UTC',\n",
       " 'VISITOR_ID',\n",
       " 'VISIT_NUM',\n",
       " 'VISIT_ID',\n",
       " 'DEVICE_TYPE',\n",
       " 'CONNECTION_TYPE',\n",
       " 'D_USER_LANGUAGE_SK',\n",
       " 'D_COUNTRY_HIST_SK',\n",
       " 'STATE_CODE',\n",
       " 'VISIT_REFERRER_TYPE',\n",
       " 'VISIT_SEARCH_ENGINE',\n",
       " 'VISIT_START_PAGE_URL',\n",
       " 'VISIT_START_D_PAGE_HIST_SK',\n",
       " 'HIT_TIME_UTC',\n",
       " 'PAGE_URL',\n",
       " 'D_PAGE_HIST_SK',\n",
       " 'VISIT_PAGE_NUM',\n",
       " 'IS_LANDING_PAGE',\n",
       " 'HAS_CLICKOUT',\n",
       " 'HAS_ENGAGEMENT',\n",
       " 'OUTBOUND_LINK',\n",
       " 'PAGE_VERTICAL',\n",
       " 'CHANNEL_NAME',\n",
       " 'TRANSACTION_ID']"
      ]
     },
     "execution_count": 15,
     "metadata": {},
     "output_type": "execute_result"
    }
   ],
   "source": [
    "f_aa_hits_detail_engagement.columns"
   ]
  },
  {
   "cell_type": "code",
   "execution_count": 16,
   "id": "3df1d017",
   "metadata": {},
   "outputs": [
    {
     "data": {
      "text/plain": [
       "9246003616"
      ]
     },
     "execution_count": 16,
     "metadata": {},
     "output_type": "execute_result"
    }
   ],
   "source": [
    "f_aa_hits_detail.count()"
   ]
  },
  {
   "cell_type": "code",
   "execution_count": 17,
   "id": "f8104f15",
   "metadata": {},
   "outputs": [
    {
     "data": {
      "text/plain": [
       "['D_SITE_HIST_SK',\n",
       " 'VISIT_DATE_UTC',\n",
       " 'EVAR_PAGE_URL',\n",
       " 'EVAR_PAGE_TAG_COUNTRY_SK',\n",
       " 'POST_EVAR_LINK_URL',\n",
       " 'POST_EVAR_LINK_TYPE',\n",
       " 'POST_PROP_TIME_ON_PAGE',\n",
       " 'SITE_URL',\n",
       " 'SITE_NAME',\n",
       " 'HAS_CLICKOUT_TEST']"
      ]
     },
     "execution_count": 17,
     "metadata": {},
     "output_type": "execute_result"
    }
   ],
   "source": [
    "f_aa_hits_detail.columns"
   ]
  },
  {
   "cell_type": "code",
   "execution_count": 17,
   "id": "c500c66a",
   "metadata": {},
   "outputs": [],
   "source": [
    "f_aa_hits_detail = f_aa_hits_detail.with_column_renamed(col(\"EVAR_PAGE_TAG_COUNTRY_SK\"), \"D_COUNTRY_HIST_SK\")"
   ]
  },
  {
   "cell_type": "code",
   "execution_count": 18,
   "id": "a66cf9c5",
   "metadata": {},
   "outputs": [],
   "source": [
    "f_aa_hits_detail = f_aa_hits_detail.with_column_renamed(col(\"EVAR_PAGE_URL\"), \"PAGE_URL\")"
   ]
  },
  {
   "cell_type": "code",
   "execution_count": 19,
   "id": "2fbed40d",
   "metadata": {},
   "outputs": [
    {
     "ename": "KeyboardInterrupt",
     "evalue": "",
     "output_type": "error",
     "traceback": [
      "\u001b[1;31m---------------------------------------------------------------------------\u001b[0m",
      "\u001b[1;31mKeyboardInterrupt\u001b[0m                         Traceback (most recent call last)",
      "Cell \u001b[1;32mIn[19], line 1\u001b[0m\n\u001b[1;32m----> 1\u001b[0m f_aa_hits_detail\u001b[39m.\u001b[39;49mcount()\n",
      "File \u001b[1;32mc:\\Users\\sophie.jones\\.virtualenvs\\eda_streamlit-675cm0gE\\lib\\site-packages\\snowflake\\snowpark\\dataframe.py:2526\u001b[0m, in \u001b[0;36mDataFrame.count\u001b[1;34m(self, statement_params, block)\u001b[0m\n\u001b[0;32m   2524\u001b[0m df \u001b[39m=\u001b[39m \u001b[39mself\u001b[39m\u001b[39m.\u001b[39magg((\u001b[39m\"\u001b[39m\u001b[39m*\u001b[39m\u001b[39m\"\u001b[39m, \u001b[39m\"\u001b[39m\u001b[39mcount\u001b[39m\u001b[39m\"\u001b[39m))\n\u001b[0;32m   2525\u001b[0m add_api_call(df, \u001b[39m\"\u001b[39m\u001b[39mDataFrame.count\u001b[39m\u001b[39m\"\u001b[39m)\n\u001b[1;32m-> 2526\u001b[0m result \u001b[39m=\u001b[39m df\u001b[39m.\u001b[39;49m_internal_collect_with_tag(\n\u001b[0;32m   2527\u001b[0m     statement_params\u001b[39m=\u001b[39;49mstatement_params,\n\u001b[0;32m   2528\u001b[0m     block\u001b[39m=\u001b[39;49mblock,\n\u001b[0;32m   2529\u001b[0m     data_type\u001b[39m=\u001b[39;49m_AsyncResultType\u001b[39m.\u001b[39;49mCOUNT,\n\u001b[0;32m   2530\u001b[0m )\n\u001b[0;32m   2531\u001b[0m \u001b[39mreturn\u001b[39;00m result[\u001b[39m0\u001b[39m][\u001b[39m0\u001b[39m] \u001b[39mif\u001b[39;00m block \u001b[39melse\u001b[39;00m result\n",
      "File \u001b[1;32mc:\\Users\\sophie.jones\\.virtualenvs\\eda_streamlit-675cm0gE\\lib\\site-packages\\snowflake\\snowpark\\_internal\\telemetry.py:139\u001b[0m, in \u001b[0;36mdf_collect_api_telemetry.<locals>.wrap\u001b[1;34m(*args, **kwargs)\u001b[0m\n\u001b[0;32m    136\u001b[0m \u001b[39m@functools\u001b[39m\u001b[39m.\u001b[39mwraps(func)\n\u001b[0;32m    137\u001b[0m \u001b[39mdef\u001b[39;00m \u001b[39mwrap\u001b[39m(\u001b[39m*\u001b[39margs, \u001b[39m*\u001b[39m\u001b[39m*\u001b[39mkwargs):\n\u001b[0;32m    138\u001b[0m     \u001b[39mwith\u001b[39;00m args[\u001b[39m0\u001b[39m]\u001b[39m.\u001b[39m_session\u001b[39m.\u001b[39mquery_history() \u001b[39mas\u001b[39;00m query_history:\n\u001b[1;32m--> 139\u001b[0m         result \u001b[39m=\u001b[39m func(\u001b[39m*\u001b[39;49margs, \u001b[39m*\u001b[39;49m\u001b[39m*\u001b[39;49mkwargs)\n\u001b[0;32m    140\u001b[0m     plan \u001b[39m=\u001b[39m args[\u001b[39m0\u001b[39m]\u001b[39m.\u001b[39m_select_statement \u001b[39mor\u001b[39;00m args[\u001b[39m0\u001b[39m]\u001b[39m.\u001b[39m_plan\n\u001b[0;32m    141\u001b[0m     api_calls \u001b[39m=\u001b[39m [\n\u001b[0;32m    142\u001b[0m         \u001b[39m*\u001b[39mplan\u001b[39m.\u001b[39mapi_calls,\n\u001b[0;32m    143\u001b[0m         {TelemetryField\u001b[39m.\u001b[39mNAME\u001b[39m.\u001b[39mvalue: \u001b[39mf\u001b[39m\u001b[39m\"\u001b[39m\u001b[39mDataFrame.\u001b[39m\u001b[39m{\u001b[39;00mfunc\u001b[39m.\u001b[39m\u001b[39m__name__\u001b[39m\u001b[39m}\u001b[39;00m\u001b[39m\"\u001b[39m},\n\u001b[0;32m    144\u001b[0m     ]\n",
      "File \u001b[1;32mc:\\Users\\sophie.jones\\.virtualenvs\\eda_streamlit-675cm0gE\\lib\\site-packages\\snowflake\\snowpark\\dataframe.py:623\u001b[0m, in \u001b[0;36mDataFrame._internal_collect_with_tag_no_telemetry\u001b[1;34m(self, statement_params, block, data_type, log_on_exception, case_sensitive)\u001b[0m\n\u001b[0;32m    611\u001b[0m \u001b[39mdef\u001b[39;00m \u001b[39m_internal_collect_with_tag_no_telemetry\u001b[39m(\n\u001b[0;32m    612\u001b[0m     \u001b[39mself\u001b[39m,\n\u001b[0;32m    613\u001b[0m     \u001b[39m*\u001b[39m,\n\u001b[1;32m   (...)\u001b[0m\n\u001b[0;32m    621\u001b[0m     \u001b[39m# we should always call this method instead of collect(), to make sure the\u001b[39;00m\n\u001b[0;32m    622\u001b[0m     \u001b[39m# query tag is set properly.\u001b[39;00m\n\u001b[1;32m--> 623\u001b[0m     \u001b[39mreturn\u001b[39;00m \u001b[39mself\u001b[39;49m\u001b[39m.\u001b[39;49m_session\u001b[39m.\u001b[39;49m_conn\u001b[39m.\u001b[39;49mexecute(\n\u001b[0;32m    624\u001b[0m         \u001b[39mself\u001b[39;49m\u001b[39m.\u001b[39;49m_plan,\n\u001b[0;32m    625\u001b[0m         block\u001b[39m=\u001b[39;49mblock,\n\u001b[0;32m    626\u001b[0m         data_type\u001b[39m=\u001b[39;49mdata_type,\n\u001b[0;32m    627\u001b[0m         _statement_params\u001b[39m=\u001b[39;49mcreate_or_update_statement_params_with_query_tag(\n\u001b[0;32m    628\u001b[0m             statement_params \u001b[39mor\u001b[39;49;00m \u001b[39mself\u001b[39;49m\u001b[39m.\u001b[39;49m_statement_params,\n\u001b[0;32m    629\u001b[0m             \u001b[39mself\u001b[39;49m\u001b[39m.\u001b[39;49m_session\u001b[39m.\u001b[39;49mquery_tag,\n\u001b[0;32m    630\u001b[0m             SKIP_LEVELS_THREE,\n\u001b[0;32m    631\u001b[0m         ),\n\u001b[0;32m    632\u001b[0m         log_on_exception\u001b[39m=\u001b[39;49mlog_on_exception,\n\u001b[0;32m    633\u001b[0m         case_sensitive\u001b[39m=\u001b[39;49mcase_sensitive,\n\u001b[0;32m    634\u001b[0m     )\n",
      "File \u001b[1;32mc:\\Users\\sophie.jones\\.virtualenvs\\eda_streamlit-675cm0gE\\lib\\site-packages\\snowflake\\snowpark\\_internal\\server_connection.py:442\u001b[0m, in \u001b[0;36mServerConnection.execute\u001b[1;34m(self, plan, to_pandas, to_iter, block, data_type, log_on_exception, case_sensitive, **kwargs)\u001b[0m\n\u001b[0;32m    438\u001b[0m \u001b[39mif\u001b[39;00m is_in_stored_procedure() \u001b[39mand\u001b[39;00m \u001b[39mnot\u001b[39;00m block:  \u001b[39m# pragma: no cover\u001b[39;00m\n\u001b[0;32m    439\u001b[0m     \u001b[39mraise\u001b[39;00m \u001b[39mNotImplementedError\u001b[39;00m(\n\u001b[0;32m    440\u001b[0m         \u001b[39m\"\u001b[39m\u001b[39mAsync query is not supported in stored procedure yet\u001b[39m\u001b[39m\"\u001b[39m\n\u001b[0;32m    441\u001b[0m     )\n\u001b[1;32m--> 442\u001b[0m result_set, result_meta \u001b[39m=\u001b[39m \u001b[39mself\u001b[39;49m\u001b[39m.\u001b[39;49mget_result_set(\n\u001b[0;32m    443\u001b[0m     plan,\n\u001b[0;32m    444\u001b[0m     to_pandas,\n\u001b[0;32m    445\u001b[0m     to_iter,\n\u001b[0;32m    446\u001b[0m     \u001b[39m*\u001b[39;49m\u001b[39m*\u001b[39;49mkwargs,\n\u001b[0;32m    447\u001b[0m     block\u001b[39m=\u001b[39;49mblock,\n\u001b[0;32m    448\u001b[0m     data_type\u001b[39m=\u001b[39;49mdata_type,\n\u001b[0;32m    449\u001b[0m     log_on_exception\u001b[39m=\u001b[39;49mlog_on_exception,\n\u001b[0;32m    450\u001b[0m     case_sensitive\u001b[39m=\u001b[39;49mcase_sensitive,\n\u001b[0;32m    451\u001b[0m )\n\u001b[0;32m    452\u001b[0m \u001b[39mif\u001b[39;00m \u001b[39mnot\u001b[39;00m block:\n\u001b[0;32m    453\u001b[0m     \u001b[39mreturn\u001b[39;00m result_set\n",
      "File \u001b[1;32mc:\\Users\\sophie.jones\\.virtualenvs\\eda_streamlit-675cm0gE\\lib\\site-packages\\snowflake\\snowpark\\_internal\\analyzer\\snowflake_plan.py:109\u001b[0m, in \u001b[0;36mSnowflakePlan.Decorator.wrap_exception.<locals>.wrap\u001b[1;34m(*args, **kwargs)\u001b[0m\n\u001b[0;32m    107\u001b[0m \u001b[39mdef\u001b[39;00m \u001b[39mwrap\u001b[39m(\u001b[39m*\u001b[39margs, \u001b[39m*\u001b[39m\u001b[39m*\u001b[39mkwargs):\n\u001b[0;32m    108\u001b[0m     \u001b[39mtry\u001b[39;00m:\n\u001b[1;32m--> 109\u001b[0m         \u001b[39mreturn\u001b[39;00m func(\u001b[39m*\u001b[39;49margs, \u001b[39m*\u001b[39;49m\u001b[39m*\u001b[39;49mkwargs)\n\u001b[0;32m    110\u001b[0m     \u001b[39mexcept\u001b[39;00m snowflake\u001b[39m.\u001b[39mconnector\u001b[39m.\u001b[39merrors\u001b[39m.\u001b[39mProgrammingError \u001b[39mas\u001b[39;00m e:\n\u001b[0;32m    111\u001b[0m         query \u001b[39m=\u001b[39m \u001b[39mNone\u001b[39;00m\n",
      "File \u001b[1;32mc:\\Users\\sophie.jones\\.virtualenvs\\eda_streamlit-675cm0gE\\lib\\site-packages\\snowflake\\snowpark\\_internal\\server_connection.py:550\u001b[0m, in \u001b[0;36mServerConnection.get_result_set\u001b[1;34m(self, plan, to_pandas, to_iter, block, data_type, log_on_exception, case_sensitive, **kwargs)\u001b[0m\n\u001b[0;32m    548\u001b[0m \u001b[39mfor\u001b[39;00m holder, id_ \u001b[39min\u001b[39;00m placeholders\u001b[39m.\u001b[39mitems():\n\u001b[0;32m    549\u001b[0m     final_query \u001b[39m=\u001b[39m final_query\u001b[39m.\u001b[39mreplace(holder, id_)\n\u001b[1;32m--> 550\u001b[0m result \u001b[39m=\u001b[39m \u001b[39mself\u001b[39;49m\u001b[39m.\u001b[39;49mrun_query(\n\u001b[0;32m    551\u001b[0m     final_query,\n\u001b[0;32m    552\u001b[0m     to_pandas,\n\u001b[0;32m    553\u001b[0m     to_iter \u001b[39mand\u001b[39;49;00m (i \u001b[39m==\u001b[39;49m \u001b[39mlen\u001b[39;49m(plan\u001b[39m.\u001b[39;49mqueries) \u001b[39m-\u001b[39;49m \u001b[39m1\u001b[39;49m),\n\u001b[0;32m    554\u001b[0m     is_ddl_on_temp_object\u001b[39m=\u001b[39;49mquery\u001b[39m.\u001b[39;49mis_ddl_on_temp_object,\n\u001b[0;32m    555\u001b[0m     block\u001b[39m=\u001b[39;49m\u001b[39mnot\u001b[39;49;00m is_last,\n\u001b[0;32m    556\u001b[0m     data_type\u001b[39m=\u001b[39;49mdata_type,\n\u001b[0;32m    557\u001b[0m     async_job_plan\u001b[39m=\u001b[39;49mplan,\n\u001b[0;32m    558\u001b[0m     log_on_exception\u001b[39m=\u001b[39;49mlog_on_exception,\n\u001b[0;32m    559\u001b[0m     case_sensitive\u001b[39m=\u001b[39;49mcase_sensitive,\n\u001b[0;32m    560\u001b[0m     params\u001b[39m=\u001b[39;49mquery\u001b[39m.\u001b[39;49mparams,\n\u001b[0;32m    561\u001b[0m     \u001b[39m*\u001b[39;49m\u001b[39m*\u001b[39;49mkwargs,\n\u001b[0;32m    562\u001b[0m )\n\u001b[0;32m    563\u001b[0m placeholders[query\u001b[39m.\u001b[39mquery_id_place_holder] \u001b[39m=\u001b[39m (\n\u001b[0;32m    564\u001b[0m     result[\u001b[39m\"\u001b[39m\u001b[39msfqid\u001b[39m\u001b[39m\"\u001b[39m] \u001b[39mif\u001b[39;00m \u001b[39mnot\u001b[39;00m is_last \u001b[39melse\u001b[39;00m result\u001b[39m.\u001b[39mquery_id\n\u001b[0;32m    565\u001b[0m )\n\u001b[0;32m    566\u001b[0m result_meta \u001b[39m=\u001b[39m \u001b[39mself\u001b[39m\u001b[39m.\u001b[39m_cursor\u001b[39m.\u001b[39mdescription\n",
      "File \u001b[1;32mc:\\Users\\sophie.jones\\.virtualenvs\\eda_streamlit-675cm0gE\\lib\\site-packages\\snowflake\\snowpark\\_internal\\server_connection.py:96\u001b[0m, in \u001b[0;36mServerConnection._Decorator.wrap_exception.<locals>.wrap\u001b[1;34m(*args, **kwargs)\u001b[0m\n\u001b[0;32m     94\u001b[0m     \u001b[39mraise\u001b[39;00m SnowparkClientExceptionMessages\u001b[39m.\u001b[39mSERVER_SESSION_HAS_BEEN_CLOSED()\n\u001b[0;32m     95\u001b[0m \u001b[39mtry\u001b[39;00m:\n\u001b[1;32m---> 96\u001b[0m     \u001b[39mreturn\u001b[39;00m func(\u001b[39m*\u001b[39;49margs, \u001b[39m*\u001b[39;49m\u001b[39m*\u001b[39;49mkwargs)\n\u001b[0;32m     97\u001b[0m \u001b[39mexcept\u001b[39;00m ReauthenticationRequest \u001b[39mas\u001b[39;00m ex:\n\u001b[0;32m     98\u001b[0m     \u001b[39mraise\u001b[39;00m SnowparkClientExceptionMessages\u001b[39m.\u001b[39mSERVER_SESSION_EXPIRED(\n\u001b[0;32m     99\u001b[0m         ex\u001b[39m.\u001b[39mcause\n\u001b[0;32m    100\u001b[0m     )\n",
      "File \u001b[1;32mc:\\Users\\sophie.jones\\.virtualenvs\\eda_streamlit-675cm0gE\\lib\\site-packages\\snowflake\\snowpark\\_internal\\server_connection.py:346\u001b[0m, in \u001b[0;36mServerConnection.run_query\u001b[1;34m(self, query, to_pandas, to_iter, is_ddl_on_temp_object, block, data_type, async_job_plan, log_on_exception, case_sensitive, params, **kwargs)\u001b[0m\n\u001b[0;32m    344\u001b[0m     kwargs[\u001b[39m\"\u001b[39m\u001b[39m_statement_params\u001b[39m\u001b[39m\"\u001b[39m][\u001b[39m\"\u001b[39m\u001b[39mSNOWPARK_SKIP_TXN_COMMIT_IN_DDL\u001b[39m\u001b[39m\"\u001b[39m] \u001b[39m=\u001b[39m \u001b[39mTrue\u001b[39;00m\n\u001b[0;32m    345\u001b[0m \u001b[39mif\u001b[39;00m block:\n\u001b[1;32m--> 346\u001b[0m     results_cursor \u001b[39m=\u001b[39m \u001b[39mself\u001b[39;49m\u001b[39m.\u001b[39;49m_cursor\u001b[39m.\u001b[39;49mexecute(query, params\u001b[39m=\u001b[39;49mparams, \u001b[39m*\u001b[39;49m\u001b[39m*\u001b[39;49mkwargs)\n\u001b[0;32m    347\u001b[0m     \u001b[39mself\u001b[39m\u001b[39m.\u001b[39mnotify_query_listeners(\n\u001b[0;32m    348\u001b[0m         QueryRecord(results_cursor\u001b[39m.\u001b[39msfqid, results_cursor\u001b[39m.\u001b[39mquery)\n\u001b[0;32m    349\u001b[0m     )\n\u001b[0;32m    350\u001b[0m     logger\u001b[39m.\u001b[39mdebug(\u001b[39mf\u001b[39m\u001b[39m\"\u001b[39m\u001b[39mExecute query [queryID: \u001b[39m\u001b[39m{\u001b[39;00mresults_cursor\u001b[39m.\u001b[39msfqid\u001b[39m}\u001b[39;00m\u001b[39m] \u001b[39m\u001b[39m{\u001b[39;00mquery\u001b[39m}\u001b[39;00m\u001b[39m\"\u001b[39m)\n",
      "File \u001b[1;32mc:\\Users\\sophie.jones\\.virtualenvs\\eda_streamlit-675cm0gE\\lib\\site-packages\\snowflake\\connector\\cursor.py:801\u001b[0m, in \u001b[0;36mSnowflakeCursor.execute\u001b[1;34m(self, command, params, _bind_stage, timeout, _exec_async, _no_retry, _do_reset, _put_callback, _put_azure_callback, _put_callback_output_stream, _get_callback, _get_azure_callback, _get_callback_output_stream, _show_progress_bar, _statement_params, _is_internal, _describe_only, _no_results, _is_put_get, _raise_put_get_error, _force_put_overwrite, _skip_upload_on_content_match, file_stream, num_statements)\u001b[0m\n\u001b[0;32m    799\u001b[0m \u001b[39mif\u001b[39;00m logger\u001b[39m.\u001b[39mgetEffectiveLevel() \u001b[39m<\u001b[39m\u001b[39m=\u001b[39m logging\u001b[39m.\u001b[39mINFO:\n\u001b[0;32m    800\u001b[0m     logger\u001b[39m.\u001b[39minfo(\u001b[39m\"\u001b[39m\u001b[39mquery: [\u001b[39m\u001b[39m%s\u001b[39;00m\u001b[39m]\u001b[39m\u001b[39m\"\u001b[39m, \u001b[39mself\u001b[39m\u001b[39m.\u001b[39m_format_query_for_log(query))\n\u001b[1;32m--> 801\u001b[0m ret \u001b[39m=\u001b[39m \u001b[39mself\u001b[39;49m\u001b[39m.\u001b[39;49m_execute_helper(query, \u001b[39m*\u001b[39;49m\u001b[39m*\u001b[39;49mkwargs)\n\u001b[0;32m    802\u001b[0m \u001b[39mself\u001b[39m\u001b[39m.\u001b[39m_sfqid \u001b[39m=\u001b[39m (\n\u001b[0;32m    803\u001b[0m     ret[\u001b[39m\"\u001b[39m\u001b[39mdata\u001b[39m\u001b[39m\"\u001b[39m][\u001b[39m\"\u001b[39m\u001b[39mqueryId\u001b[39m\u001b[39m\"\u001b[39m]\n\u001b[0;32m    804\u001b[0m     \u001b[39mif\u001b[39;00m \u001b[39m\"\u001b[39m\u001b[39mdata\u001b[39m\u001b[39m\"\u001b[39m \u001b[39min\u001b[39;00m ret \u001b[39mand\u001b[39;00m \u001b[39m\"\u001b[39m\u001b[39mqueryId\u001b[39m\u001b[39m\"\u001b[39m \u001b[39min\u001b[39;00m ret[\u001b[39m\"\u001b[39m\u001b[39mdata\u001b[39m\u001b[39m\"\u001b[39m]\n\u001b[0;32m    805\u001b[0m     \u001b[39melse\u001b[39;00m \u001b[39mNone\u001b[39;00m\n\u001b[0;32m    806\u001b[0m )\n\u001b[0;32m    807\u001b[0m logger\u001b[39m.\u001b[39mdebug(\u001b[39mf\u001b[39m\u001b[39m\"\u001b[39m\u001b[39msfqid: \u001b[39m\u001b[39m{\u001b[39;00m\u001b[39mself\u001b[39m\u001b[39m.\u001b[39msfqid\u001b[39m}\u001b[39;00m\u001b[39m\"\u001b[39m)\n",
      "File \u001b[1;32mc:\\Users\\sophie.jones\\.virtualenvs\\eda_streamlit-675cm0gE\\lib\\site-packages\\snowflake\\connector\\cursor.py:521\u001b[0m, in \u001b[0;36mSnowflakeCursor._execute_helper\u001b[1;34m(self, query, timeout, statement_params, binding_params, binding_stage, is_internal, describe_only, _no_results, _is_put_get, _no_retry)\u001b[0m\n\u001b[0;32m    519\u001b[0m ret: \u001b[39mdict\u001b[39m[\u001b[39mstr\u001b[39m, Any] \u001b[39m=\u001b[39m {\u001b[39m\"\u001b[39m\u001b[39mdata\u001b[39m\u001b[39m\"\u001b[39m: {}}\n\u001b[0;32m    520\u001b[0m \u001b[39mtry\u001b[39;00m:\n\u001b[1;32m--> 521\u001b[0m     ret \u001b[39m=\u001b[39m \u001b[39mself\u001b[39;49m\u001b[39m.\u001b[39;49m_connection\u001b[39m.\u001b[39;49mcmd_query(\n\u001b[0;32m    522\u001b[0m         query,\n\u001b[0;32m    523\u001b[0m         \u001b[39mself\u001b[39;49m\u001b[39m.\u001b[39;49m_sequence_counter,\n\u001b[0;32m    524\u001b[0m         \u001b[39mself\u001b[39;49m\u001b[39m.\u001b[39;49m_request_id,\n\u001b[0;32m    525\u001b[0m         binding_params\u001b[39m=\u001b[39;49mbinding_params,\n\u001b[0;32m    526\u001b[0m         binding_stage\u001b[39m=\u001b[39;49mbinding_stage,\n\u001b[0;32m    527\u001b[0m         is_file_transfer\u001b[39m=\u001b[39;49m\u001b[39mbool\u001b[39;49m(\u001b[39mself\u001b[39;49m\u001b[39m.\u001b[39;49m_is_file_transfer),\n\u001b[0;32m    528\u001b[0m         statement_params\u001b[39m=\u001b[39;49mstatement_params,\n\u001b[0;32m    529\u001b[0m         is_internal\u001b[39m=\u001b[39;49mis_internal,\n\u001b[0;32m    530\u001b[0m         describe_only\u001b[39m=\u001b[39;49mdescribe_only,\n\u001b[0;32m    531\u001b[0m         _no_results\u001b[39m=\u001b[39;49m_no_results,\n\u001b[0;32m    532\u001b[0m         _no_retry\u001b[39m=\u001b[39;49m_no_retry,\n\u001b[0;32m    533\u001b[0m     )\n\u001b[0;32m    534\u001b[0m \u001b[39mfinally\u001b[39;00m:\n\u001b[0;32m    535\u001b[0m     \u001b[39mtry\u001b[39;00m:\n",
      "File \u001b[1;32mc:\\Users\\sophie.jones\\.virtualenvs\\eda_streamlit-675cm0gE\\lib\\site-packages\\snowflake\\connector\\connection.py:1067\u001b[0m, in \u001b[0;36mSnowflakeConnection.cmd_query\u001b[1;34m(self, sql, sequence_counter, request_id, binding_params, binding_stage, is_file_transfer, statement_params, is_internal, describe_only, _no_results, _update_current_object, _no_retry)\u001b[0m\n\u001b[0;32m   1058\u001b[0m     logger\u001b[39m.\u001b[39mdebug(\n\u001b[0;32m   1059\u001b[0m         \u001b[39m\"\u001b[39m\u001b[39msql=[\u001b[39m\u001b[39m%s\u001b[39;00m\u001b[39m], sequence_id=[\u001b[39m\u001b[39m%s\u001b[39;00m\u001b[39m], is_file_transfer=[\u001b[39m\u001b[39m%s\u001b[39;00m\u001b[39m]\u001b[39m\u001b[39m\"\u001b[39m,\n\u001b[0;32m   1060\u001b[0m         \u001b[39mself\u001b[39m\u001b[39m.\u001b[39m_format_query_for_log(data[\u001b[39m\"\u001b[39m\u001b[39msqlText\u001b[39m\u001b[39m\"\u001b[39m]),\n\u001b[0;32m   1061\u001b[0m         data[\u001b[39m\"\u001b[39m\u001b[39msequenceId\u001b[39m\u001b[39m\"\u001b[39m],\n\u001b[0;32m   1062\u001b[0m         is_file_transfer,\n\u001b[0;32m   1063\u001b[0m     )\n\u001b[0;32m   1065\u001b[0m url_parameters \u001b[39m=\u001b[39m {REQUEST_ID: request_id}\n\u001b[1;32m-> 1067\u001b[0m ret \u001b[39m=\u001b[39m \u001b[39mself\u001b[39;49m\u001b[39m.\u001b[39;49mrest\u001b[39m.\u001b[39;49mrequest(\n\u001b[0;32m   1068\u001b[0m     \u001b[39m\"\u001b[39;49m\u001b[39m/queries/v1/query-request?\u001b[39;49m\u001b[39m\"\u001b[39;49m \u001b[39m+\u001b[39;49m urlencode(url_parameters),\n\u001b[0;32m   1069\u001b[0m     data,\n\u001b[0;32m   1070\u001b[0m     client\u001b[39m=\u001b[39;49mclient,\n\u001b[0;32m   1071\u001b[0m     _no_results\u001b[39m=\u001b[39;49m_no_results,\n\u001b[0;32m   1072\u001b[0m     _include_retry_params\u001b[39m=\u001b[39;49m\u001b[39mTrue\u001b[39;49;00m,\n\u001b[0;32m   1073\u001b[0m     _no_retry\u001b[39m=\u001b[39;49m_no_retry,\n\u001b[0;32m   1074\u001b[0m )\n\u001b[0;32m   1076\u001b[0m \u001b[39mif\u001b[39;00m ret \u001b[39mis\u001b[39;00m \u001b[39mNone\u001b[39;00m:\n\u001b[0;32m   1077\u001b[0m     ret \u001b[39m=\u001b[39m {\u001b[39m\"\u001b[39m\u001b[39mdata\u001b[39m\u001b[39m\"\u001b[39m: {}}\n",
      "File \u001b[1;32mc:\\Users\\sophie.jones\\.virtualenvs\\eda_streamlit-675cm0gE\\lib\\site-packages\\snowflake\\connector\\network.py:477\u001b[0m, in \u001b[0;36mSnowflakeRestful.request\u001b[1;34m(self, url, body, method, client, _no_results, timeout, _include_retry_params, _no_retry)\u001b[0m\n\u001b[0;32m    475\u001b[0m     headers[HTTP_HEADER_SERVICE_NAME] \u001b[39m=\u001b[39m \u001b[39mself\u001b[39m\u001b[39m.\u001b[39m_connection\u001b[39m.\u001b[39mservice_name\n\u001b[0;32m    476\u001b[0m \u001b[39mif\u001b[39;00m method \u001b[39m==\u001b[39m \u001b[39m\"\u001b[39m\u001b[39mpost\u001b[39m\u001b[39m\"\u001b[39m:\n\u001b[1;32m--> 477\u001b[0m     \u001b[39mreturn\u001b[39;00m \u001b[39mself\u001b[39;49m\u001b[39m.\u001b[39;49m_post_request(\n\u001b[0;32m    478\u001b[0m         url,\n\u001b[0;32m    479\u001b[0m         headers,\n\u001b[0;32m    480\u001b[0m         json\u001b[39m.\u001b[39;49mdumps(body),\n\u001b[0;32m    481\u001b[0m         token\u001b[39m=\u001b[39;49m\u001b[39mself\u001b[39;49m\u001b[39m.\u001b[39;49mtoken,\n\u001b[0;32m    482\u001b[0m         _no_results\u001b[39m=\u001b[39;49m_no_results,\n\u001b[0;32m    483\u001b[0m         timeout\u001b[39m=\u001b[39;49mtimeout,\n\u001b[0;32m    484\u001b[0m         _include_retry_params\u001b[39m=\u001b[39;49m_include_retry_params,\n\u001b[0;32m    485\u001b[0m         no_retry\u001b[39m=\u001b[39;49m_no_retry,\n\u001b[0;32m    486\u001b[0m     )\n\u001b[0;32m    487\u001b[0m \u001b[39melse\u001b[39;00m:\n\u001b[0;32m    488\u001b[0m     \u001b[39mreturn\u001b[39;00m \u001b[39mself\u001b[39m\u001b[39m.\u001b[39m_get_request(url, headers, token\u001b[39m=\u001b[39m\u001b[39mself\u001b[39m\u001b[39m.\u001b[39mtoken, timeout\u001b[39m=\u001b[39mtimeout)\n",
      "File \u001b[1;32mc:\\Users\\sophie.jones\\.virtualenvs\\eda_streamlit-675cm0gE\\lib\\site-packages\\snowflake\\connector\\network.py:763\u001b[0m, in \u001b[0;36mSnowflakeRestful._post_request\u001b[1;34m(self, url, headers, body, token, timeout, _no_results, no_retry, socket_timeout, _include_retry_params)\u001b[0m\n\u001b[0;32m    761\u001b[0m result_url \u001b[39m=\u001b[39m ret[\u001b[39m\"\u001b[39m\u001b[39mdata\u001b[39m\u001b[39m\"\u001b[39m][\u001b[39m\"\u001b[39m\u001b[39mgetResultUrl\u001b[39m\u001b[39m\"\u001b[39m]\n\u001b[0;32m    762\u001b[0m logger\u001b[39m.\u001b[39mdebug(\u001b[39m\"\u001b[39m\u001b[39mping pong starting...\u001b[39m\u001b[39m\"\u001b[39m)\n\u001b[1;32m--> 763\u001b[0m ret \u001b[39m=\u001b[39m \u001b[39mself\u001b[39;49m\u001b[39m.\u001b[39;49m_get_request(\n\u001b[0;32m    764\u001b[0m     result_url, headers, token\u001b[39m=\u001b[39;49m\u001b[39mself\u001b[39;49m\u001b[39m.\u001b[39;49mtoken, timeout\u001b[39m=\u001b[39;49mtimeout\n\u001b[0;32m    765\u001b[0m )\n\u001b[0;32m    766\u001b[0m logger\u001b[39m.\u001b[39mdebug(\u001b[39m\"\u001b[39m\u001b[39mret[code] = \u001b[39m\u001b[39m%s\u001b[39;00m\u001b[39m\"\u001b[39m, ret\u001b[39m.\u001b[39mget(\u001b[39m\"\u001b[39m\u001b[39mcode\u001b[39m\u001b[39m\"\u001b[39m, \u001b[39m\"\u001b[39m\u001b[39mN/A\u001b[39m\u001b[39m\"\u001b[39m))\n\u001b[0;32m    767\u001b[0m logger\u001b[39m.\u001b[39mdebug(\u001b[39m\"\u001b[39m\u001b[39mping pong done\u001b[39m\u001b[39m\"\u001b[39m)\n",
      "File \u001b[1;32mc:\\Users\\sophie.jones\\.virtualenvs\\eda_streamlit-675cm0gE\\lib\\site-packages\\snowflake\\connector\\network.py:672\u001b[0m, in \u001b[0;36mSnowflakeRestful._get_request\u001b[1;34m(self, url, headers, token, timeout, socket_timeout)\u001b[0m\n\u001b[0;32m    669\u001b[0m     \u001b[39mdel\u001b[39;00m headers[\u001b[39m\"\u001b[39m\u001b[39mContent-Length\u001b[39m\u001b[39m\"\u001b[39m]\n\u001b[0;32m    671\u001b[0m full_url \u001b[39m=\u001b[39m \u001b[39mf\u001b[39m\u001b[39m\"\u001b[39m\u001b[39m{\u001b[39;00m\u001b[39mself\u001b[39m\u001b[39m.\u001b[39m_protocol\u001b[39m}\u001b[39;00m\u001b[39m://\u001b[39m\u001b[39m{\u001b[39;00m\u001b[39mself\u001b[39m\u001b[39m.\u001b[39m_host\u001b[39m}\u001b[39;00m\u001b[39m:\u001b[39m\u001b[39m{\u001b[39;00m\u001b[39mself\u001b[39m\u001b[39m.\u001b[39m_port\u001b[39m}\u001b[39;00m\u001b[39m{\u001b[39;00murl\u001b[39m}\u001b[39;00m\u001b[39m\"\u001b[39m\n\u001b[1;32m--> 672\u001b[0m ret \u001b[39m=\u001b[39m \u001b[39mself\u001b[39;49m\u001b[39m.\u001b[39;49mfetch(\n\u001b[0;32m    673\u001b[0m     \u001b[39m\"\u001b[39;49m\u001b[39mget\u001b[39;49m\u001b[39m\"\u001b[39;49m,\n\u001b[0;32m    674\u001b[0m     full_url,\n\u001b[0;32m    675\u001b[0m     headers,\n\u001b[0;32m    676\u001b[0m     timeout\u001b[39m=\u001b[39;49mtimeout,\n\u001b[0;32m    677\u001b[0m     token\u001b[39m=\u001b[39;49mtoken,\n\u001b[0;32m    678\u001b[0m     socket_timeout\u001b[39m=\u001b[39;49msocket_timeout,\n\u001b[0;32m    679\u001b[0m )\n\u001b[0;32m    680\u001b[0m \u001b[39mif\u001b[39;00m ret\u001b[39m.\u001b[39mget(\u001b[39m\"\u001b[39m\u001b[39mcode\u001b[39m\u001b[39m\"\u001b[39m) \u001b[39m==\u001b[39m SESSION_EXPIRED_GS_CODE:\n\u001b[0;32m    681\u001b[0m     \u001b[39mtry\u001b[39;00m:\n",
      "File \u001b[1;32mc:\\Users\\sophie.jones\\.virtualenvs\\eda_streamlit-675cm0gE\\lib\\site-packages\\snowflake\\connector\\network.py:814\u001b[0m, in \u001b[0;36mSnowflakeRestful.fetch\u001b[1;34m(self, method, full_url, headers, data, timeout, **kwargs)\u001b[0m\n\u001b[0;32m    812\u001b[0m retry_ctx \u001b[39m=\u001b[39m RetryCtx(timeout, include_retry_params)\n\u001b[0;32m    813\u001b[0m \u001b[39mwhile\u001b[39;00m \u001b[39mTrue\u001b[39;00m:\n\u001b[1;32m--> 814\u001b[0m     ret \u001b[39m=\u001b[39m \u001b[39mself\u001b[39;49m\u001b[39m.\u001b[39;49m_request_exec_wrapper(\n\u001b[0;32m    815\u001b[0m         session, method, full_url, headers, data, retry_ctx, \u001b[39m*\u001b[39;49m\u001b[39m*\u001b[39;49mkwargs\n\u001b[0;32m    816\u001b[0m     )\n\u001b[0;32m    817\u001b[0m     \u001b[39mif\u001b[39;00m ret \u001b[39mis\u001b[39;00m \u001b[39mnot\u001b[39;00m \u001b[39mNone\u001b[39;00m:\n\u001b[0;32m    818\u001b[0m         \u001b[39mreturn\u001b[39;00m ret\n",
      "File \u001b[1;32mc:\\Users\\sophie.jones\\.virtualenvs\\eda_streamlit-675cm0gE\\lib\\site-packages\\snowflake\\connector\\network.py:857\u001b[0m, in \u001b[0;36mSnowflakeRestful._request_exec_wrapper\u001b[1;34m(self, session, method, full_url, headers, data, retry_ctx, no_retry, token, **kwargs)\u001b[0m\n\u001b[0;32m    855\u001b[0m full_url \u001b[39m=\u001b[39m SnowflakeRestful\u001b[39m.\u001b[39madd_request_guid(full_url)\n\u001b[0;32m    856\u001b[0m \u001b[39mtry\u001b[39;00m:\n\u001b[1;32m--> 857\u001b[0m     return_object \u001b[39m=\u001b[39m \u001b[39mself\u001b[39;49m\u001b[39m.\u001b[39;49m_request_exec(\n\u001b[0;32m    858\u001b[0m         session\u001b[39m=\u001b[39;49msession,\n\u001b[0;32m    859\u001b[0m         method\u001b[39m=\u001b[39;49mmethod,\n\u001b[0;32m    860\u001b[0m         full_url\u001b[39m=\u001b[39;49mfull_url,\n\u001b[0;32m    861\u001b[0m         headers\u001b[39m=\u001b[39;49mheaders,\n\u001b[0;32m    862\u001b[0m         data\u001b[39m=\u001b[39;49mdata,\n\u001b[0;32m    863\u001b[0m         token\u001b[39m=\u001b[39;49mtoken,\n\u001b[0;32m    864\u001b[0m         \u001b[39m*\u001b[39;49m\u001b[39m*\u001b[39;49mkwargs,\n\u001b[0;32m    865\u001b[0m     )\n\u001b[0;32m    866\u001b[0m     \u001b[39mif\u001b[39;00m return_object \u001b[39mis\u001b[39;00m \u001b[39mnot\u001b[39;00m \u001b[39mNone\u001b[39;00m:\n\u001b[0;32m    867\u001b[0m         \u001b[39mreturn\u001b[39;00m return_object\n",
      "File \u001b[1;32mc:\\Users\\sophie.jones\\.virtualenvs\\eda_streamlit-675cm0gE\\lib\\site-packages\\snowflake\\connector\\network.py:1033\u001b[0m, in \u001b[0;36mSnowflakeRestful._request_exec\u001b[1;34m(self, session, method, full_url, headers, data, token, catch_okta_unauthorized_error, is_raw_text, is_raw_binary, binary_data_handler, socket_timeout)\u001b[0m\n\u001b[0;32m   1029\u001b[0m download_start_time \u001b[39m=\u001b[39m get_time_millis()\n\u001b[0;32m   1030\u001b[0m \u001b[39m# socket timeout is constant. You should be able to receive\u001b[39;00m\n\u001b[0;32m   1031\u001b[0m \u001b[39m# the response within the time. If not, ConnectReadTimeout or\u001b[39;00m\n\u001b[0;32m   1032\u001b[0m \u001b[39m# ReadTimeout is raised.\u001b[39;00m\n\u001b[1;32m-> 1033\u001b[0m raw_ret \u001b[39m=\u001b[39m session\u001b[39m.\u001b[39;49mrequest(\n\u001b[0;32m   1034\u001b[0m     method\u001b[39m=\u001b[39;49mmethod,\n\u001b[0;32m   1035\u001b[0m     url\u001b[39m=\u001b[39;49mfull_url,\n\u001b[0;32m   1036\u001b[0m     headers\u001b[39m=\u001b[39;49mheaders,\n\u001b[0;32m   1037\u001b[0m     data\u001b[39m=\u001b[39;49minput_data,\n\u001b[0;32m   1038\u001b[0m     timeout\u001b[39m=\u001b[39;49msocket_timeout,\n\u001b[0;32m   1039\u001b[0m     verify\u001b[39m=\u001b[39;49m\u001b[39mTrue\u001b[39;49;00m,\n\u001b[0;32m   1040\u001b[0m     stream\u001b[39m=\u001b[39;49mis_raw_binary,\n\u001b[0;32m   1041\u001b[0m     auth\u001b[39m=\u001b[39;49mSnowflakeAuth(token),\n\u001b[0;32m   1042\u001b[0m )\n\u001b[0;32m   1043\u001b[0m download_end_time \u001b[39m=\u001b[39m get_time_millis()\n\u001b[0;32m   1045\u001b[0m \u001b[39mtry\u001b[39;00m:\n",
      "File \u001b[1;32mc:\\Users\\sophie.jones\\.virtualenvs\\eda_streamlit-675cm0gE\\lib\\site-packages\\snowflake\\connector\\vendored\\requests\\sessions.py:587\u001b[0m, in \u001b[0;36mSession.request\u001b[1;34m(self, method, url, params, data, headers, cookies, files, auth, timeout, allow_redirects, proxies, hooks, stream, verify, cert, json)\u001b[0m\n\u001b[0;32m    582\u001b[0m send_kwargs \u001b[39m=\u001b[39m {\n\u001b[0;32m    583\u001b[0m     \u001b[39m\"\u001b[39m\u001b[39mtimeout\u001b[39m\u001b[39m\"\u001b[39m: timeout,\n\u001b[0;32m    584\u001b[0m     \u001b[39m\"\u001b[39m\u001b[39mallow_redirects\u001b[39m\u001b[39m\"\u001b[39m: allow_redirects,\n\u001b[0;32m    585\u001b[0m }\n\u001b[0;32m    586\u001b[0m send_kwargs\u001b[39m.\u001b[39mupdate(settings)\n\u001b[1;32m--> 587\u001b[0m resp \u001b[39m=\u001b[39m \u001b[39mself\u001b[39;49m\u001b[39m.\u001b[39;49msend(prep, \u001b[39m*\u001b[39;49m\u001b[39m*\u001b[39;49msend_kwargs)\n\u001b[0;32m    589\u001b[0m \u001b[39mreturn\u001b[39;00m resp\n",
      "File \u001b[1;32mc:\\Users\\sophie.jones\\.virtualenvs\\eda_streamlit-675cm0gE\\lib\\site-packages\\snowflake\\connector\\vendored\\requests\\sessions.py:701\u001b[0m, in \u001b[0;36mSession.send\u001b[1;34m(self, request, **kwargs)\u001b[0m\n\u001b[0;32m    698\u001b[0m start \u001b[39m=\u001b[39m preferred_clock()\n\u001b[0;32m    700\u001b[0m \u001b[39m# Send the request\u001b[39;00m\n\u001b[1;32m--> 701\u001b[0m r \u001b[39m=\u001b[39m adapter\u001b[39m.\u001b[39;49msend(request, \u001b[39m*\u001b[39;49m\u001b[39m*\u001b[39;49mkwargs)\n\u001b[0;32m    703\u001b[0m \u001b[39m# Total elapsed time of the request (approximately)\u001b[39;00m\n\u001b[0;32m    704\u001b[0m elapsed \u001b[39m=\u001b[39m preferred_clock() \u001b[39m-\u001b[39m start\n",
      "File \u001b[1;32mc:\\Users\\sophie.jones\\.virtualenvs\\eda_streamlit-675cm0gE\\lib\\site-packages\\snowflake\\connector\\vendored\\requests\\adapters.py:489\u001b[0m, in \u001b[0;36mHTTPAdapter.send\u001b[1;34m(self, request, stream, timeout, verify, cert, proxies)\u001b[0m\n\u001b[0;32m    487\u001b[0m \u001b[39mtry\u001b[39;00m:\n\u001b[0;32m    488\u001b[0m     \u001b[39mif\u001b[39;00m \u001b[39mnot\u001b[39;00m chunked:\n\u001b[1;32m--> 489\u001b[0m         resp \u001b[39m=\u001b[39m conn\u001b[39m.\u001b[39;49murlopen(\n\u001b[0;32m    490\u001b[0m             method\u001b[39m=\u001b[39;49mrequest\u001b[39m.\u001b[39;49mmethod,\n\u001b[0;32m    491\u001b[0m             url\u001b[39m=\u001b[39;49murl,\n\u001b[0;32m    492\u001b[0m             body\u001b[39m=\u001b[39;49mrequest\u001b[39m.\u001b[39;49mbody,\n\u001b[0;32m    493\u001b[0m             headers\u001b[39m=\u001b[39;49mrequest\u001b[39m.\u001b[39;49mheaders,\n\u001b[0;32m    494\u001b[0m             redirect\u001b[39m=\u001b[39;49m\u001b[39mFalse\u001b[39;49;00m,\n\u001b[0;32m    495\u001b[0m             assert_same_host\u001b[39m=\u001b[39;49m\u001b[39mFalse\u001b[39;49;00m,\n\u001b[0;32m    496\u001b[0m             preload_content\u001b[39m=\u001b[39;49m\u001b[39mFalse\u001b[39;49;00m,\n\u001b[0;32m    497\u001b[0m             decode_content\u001b[39m=\u001b[39;49m\u001b[39mFalse\u001b[39;49;00m,\n\u001b[0;32m    498\u001b[0m             retries\u001b[39m=\u001b[39;49m\u001b[39mself\u001b[39;49m\u001b[39m.\u001b[39;49mmax_retries,\n\u001b[0;32m    499\u001b[0m             timeout\u001b[39m=\u001b[39;49mtimeout,\n\u001b[0;32m    500\u001b[0m         )\n\u001b[0;32m    502\u001b[0m     \u001b[39m# Send the request.\u001b[39;00m\n\u001b[0;32m    503\u001b[0m     \u001b[39melse\u001b[39;00m:\n\u001b[0;32m    504\u001b[0m         \u001b[39mif\u001b[39;00m \u001b[39mhasattr\u001b[39m(conn, \u001b[39m\"\u001b[39m\u001b[39mproxy_pool\u001b[39m\u001b[39m\"\u001b[39m):\n",
      "File \u001b[1;32mc:\\Users\\sophie.jones\\.virtualenvs\\eda_streamlit-675cm0gE\\lib\\site-packages\\snowflake\\connector\\vendored\\urllib3\\connectionpool.py:703\u001b[0m, in \u001b[0;36mHTTPConnectionPool.urlopen\u001b[1;34m(self, method, url, body, headers, retries, redirect, assert_same_host, timeout, pool_timeout, release_conn, chunked, body_pos, **response_kw)\u001b[0m\n\u001b[0;32m    700\u001b[0m     \u001b[39mself\u001b[39m\u001b[39m.\u001b[39m_prepare_proxy(conn)\n\u001b[0;32m    702\u001b[0m \u001b[39m# Make the request on the httplib connection object.\u001b[39;00m\n\u001b[1;32m--> 703\u001b[0m httplib_response \u001b[39m=\u001b[39m \u001b[39mself\u001b[39;49m\u001b[39m.\u001b[39;49m_make_request(\n\u001b[0;32m    704\u001b[0m     conn,\n\u001b[0;32m    705\u001b[0m     method,\n\u001b[0;32m    706\u001b[0m     url,\n\u001b[0;32m    707\u001b[0m     timeout\u001b[39m=\u001b[39;49mtimeout_obj,\n\u001b[0;32m    708\u001b[0m     body\u001b[39m=\u001b[39;49mbody,\n\u001b[0;32m    709\u001b[0m     headers\u001b[39m=\u001b[39;49mheaders,\n\u001b[0;32m    710\u001b[0m     chunked\u001b[39m=\u001b[39;49mchunked,\n\u001b[0;32m    711\u001b[0m )\n\u001b[0;32m    713\u001b[0m \u001b[39m# If we're going to release the connection in ``finally:``, then\u001b[39;00m\n\u001b[0;32m    714\u001b[0m \u001b[39m# the response doesn't need to know about the connection. Otherwise\u001b[39;00m\n\u001b[0;32m    715\u001b[0m \u001b[39m# it will also try to release it and we'll have a double-release\u001b[39;00m\n\u001b[0;32m    716\u001b[0m \u001b[39m# mess.\u001b[39;00m\n\u001b[0;32m    717\u001b[0m response_conn \u001b[39m=\u001b[39m conn \u001b[39mif\u001b[39;00m \u001b[39mnot\u001b[39;00m release_conn \u001b[39melse\u001b[39;00m \u001b[39mNone\u001b[39;00m\n",
      "File \u001b[1;32mc:\\Users\\sophie.jones\\.virtualenvs\\eda_streamlit-675cm0gE\\lib\\site-packages\\snowflake\\connector\\vendored\\urllib3\\connectionpool.py:449\u001b[0m, in \u001b[0;36mHTTPConnectionPool._make_request\u001b[1;34m(self, conn, method, url, timeout, chunked, **httplib_request_kw)\u001b[0m\n\u001b[0;32m    444\u001b[0m             httplib_response \u001b[39m=\u001b[39m conn\u001b[39m.\u001b[39mgetresponse()\n\u001b[0;32m    445\u001b[0m         \u001b[39mexcept\u001b[39;00m \u001b[39mBaseException\u001b[39;00m \u001b[39mas\u001b[39;00m e:\n\u001b[0;32m    446\u001b[0m             \u001b[39m# Remove the TypeError from the exception chain in\u001b[39;00m\n\u001b[0;32m    447\u001b[0m             \u001b[39m# Python 3 (including for exceptions like SystemExit).\u001b[39;00m\n\u001b[0;32m    448\u001b[0m             \u001b[39m# Otherwise it looks like a bug in the code.\u001b[39;00m\n\u001b[1;32m--> 449\u001b[0m             six\u001b[39m.\u001b[39;49mraise_from(e, \u001b[39mNone\u001b[39;49;00m)\n\u001b[0;32m    450\u001b[0m \u001b[39mexcept\u001b[39;00m (SocketTimeout, BaseSSLError, SocketError) \u001b[39mas\u001b[39;00m e:\n\u001b[0;32m    451\u001b[0m     \u001b[39mself\u001b[39m\u001b[39m.\u001b[39m_raise_timeout(err\u001b[39m=\u001b[39me, url\u001b[39m=\u001b[39murl, timeout_value\u001b[39m=\u001b[39mread_timeout)\n",
      "File \u001b[1;32m<string>:3\u001b[0m, in \u001b[0;36mraise_from\u001b[1;34m(value, from_value)\u001b[0m\n",
      "File \u001b[1;32mc:\\Users\\sophie.jones\\.virtualenvs\\eda_streamlit-675cm0gE\\lib\\site-packages\\snowflake\\connector\\vendored\\urllib3\\connectionpool.py:444\u001b[0m, in \u001b[0;36mHTTPConnectionPool._make_request\u001b[1;34m(self, conn, method, url, timeout, chunked, **httplib_request_kw)\u001b[0m\n\u001b[0;32m    441\u001b[0m \u001b[39mexcept\u001b[39;00m \u001b[39mTypeError\u001b[39;00m:\n\u001b[0;32m    442\u001b[0m     \u001b[39m# Python 3\u001b[39;00m\n\u001b[0;32m    443\u001b[0m     \u001b[39mtry\u001b[39;00m:\n\u001b[1;32m--> 444\u001b[0m         httplib_response \u001b[39m=\u001b[39m conn\u001b[39m.\u001b[39;49mgetresponse()\n\u001b[0;32m    445\u001b[0m     \u001b[39mexcept\u001b[39;00m \u001b[39mBaseException\u001b[39;00m \u001b[39mas\u001b[39;00m e:\n\u001b[0;32m    446\u001b[0m         \u001b[39m# Remove the TypeError from the exception chain in\u001b[39;00m\n\u001b[0;32m    447\u001b[0m         \u001b[39m# Python 3 (including for exceptions like SystemExit).\u001b[39;00m\n\u001b[0;32m    448\u001b[0m         \u001b[39m# Otherwise it looks like a bug in the code.\u001b[39;00m\n\u001b[0;32m    449\u001b[0m         six\u001b[39m.\u001b[39mraise_from(e, \u001b[39mNone\u001b[39;00m)\n",
      "File \u001b[1;32mC:\\Program Files\\WindowsApps\\PythonSoftwareFoundation.Python.3.8_3.8.2800.0_x64__qbz5n2kfra8p0\\lib\\http\\client.py:1344\u001b[0m, in \u001b[0;36mHTTPConnection.getresponse\u001b[1;34m(self)\u001b[0m\n\u001b[0;32m   1342\u001b[0m \u001b[39mtry\u001b[39;00m:\n\u001b[0;32m   1343\u001b[0m     \u001b[39mtry\u001b[39;00m:\n\u001b[1;32m-> 1344\u001b[0m         response\u001b[39m.\u001b[39;49mbegin()\n\u001b[0;32m   1345\u001b[0m     \u001b[39mexcept\u001b[39;00m \u001b[39mConnectionError\u001b[39;00m:\n\u001b[0;32m   1346\u001b[0m         \u001b[39mself\u001b[39m\u001b[39m.\u001b[39mclose()\n",
      "File \u001b[1;32mC:\\Program Files\\WindowsApps\\PythonSoftwareFoundation.Python.3.8_3.8.2800.0_x64__qbz5n2kfra8p0\\lib\\http\\client.py:307\u001b[0m, in \u001b[0;36mHTTPResponse.begin\u001b[1;34m(self)\u001b[0m\n\u001b[0;32m    305\u001b[0m \u001b[39m# read until we get a non-100 response\u001b[39;00m\n\u001b[0;32m    306\u001b[0m \u001b[39mwhile\u001b[39;00m \u001b[39mTrue\u001b[39;00m:\n\u001b[1;32m--> 307\u001b[0m     version, status, reason \u001b[39m=\u001b[39m \u001b[39mself\u001b[39;49m\u001b[39m.\u001b[39;49m_read_status()\n\u001b[0;32m    308\u001b[0m     \u001b[39mif\u001b[39;00m status \u001b[39m!=\u001b[39m CONTINUE:\n\u001b[0;32m    309\u001b[0m         \u001b[39mbreak\u001b[39;00m\n",
      "File \u001b[1;32mC:\\Program Files\\WindowsApps\\PythonSoftwareFoundation.Python.3.8_3.8.2800.0_x64__qbz5n2kfra8p0\\lib\\http\\client.py:268\u001b[0m, in \u001b[0;36mHTTPResponse._read_status\u001b[1;34m(self)\u001b[0m\n\u001b[0;32m    267\u001b[0m \u001b[39mdef\u001b[39;00m \u001b[39m_read_status\u001b[39m(\u001b[39mself\u001b[39m):\n\u001b[1;32m--> 268\u001b[0m     line \u001b[39m=\u001b[39m \u001b[39mstr\u001b[39m(\u001b[39mself\u001b[39;49m\u001b[39m.\u001b[39;49mfp\u001b[39m.\u001b[39;49mreadline(_MAXLINE \u001b[39m+\u001b[39;49m \u001b[39m1\u001b[39;49m), \u001b[39m\"\u001b[39m\u001b[39miso-8859-1\u001b[39m\u001b[39m\"\u001b[39m)\n\u001b[0;32m    269\u001b[0m     \u001b[39mif\u001b[39;00m \u001b[39mlen\u001b[39m(line) \u001b[39m>\u001b[39m _MAXLINE:\n\u001b[0;32m    270\u001b[0m         \u001b[39mraise\u001b[39;00m LineTooLong(\u001b[39m\"\u001b[39m\u001b[39mstatus line\u001b[39m\u001b[39m\"\u001b[39m)\n",
      "File \u001b[1;32mC:\\Program Files\\WindowsApps\\PythonSoftwareFoundation.Python.3.8_3.8.2800.0_x64__qbz5n2kfra8p0\\lib\\socket.py:669\u001b[0m, in \u001b[0;36mSocketIO.readinto\u001b[1;34m(self, b)\u001b[0m\n\u001b[0;32m    667\u001b[0m \u001b[39mwhile\u001b[39;00m \u001b[39mTrue\u001b[39;00m:\n\u001b[0;32m    668\u001b[0m     \u001b[39mtry\u001b[39;00m:\n\u001b[1;32m--> 669\u001b[0m         \u001b[39mreturn\u001b[39;00m \u001b[39mself\u001b[39;49m\u001b[39m.\u001b[39;49m_sock\u001b[39m.\u001b[39;49mrecv_into(b)\n\u001b[0;32m    670\u001b[0m     \u001b[39mexcept\u001b[39;00m timeout:\n\u001b[0;32m    671\u001b[0m         \u001b[39mself\u001b[39m\u001b[39m.\u001b[39m_timeout_occurred \u001b[39m=\u001b[39m \u001b[39mTrue\u001b[39;00m\n",
      "File \u001b[1;32mc:\\Users\\sophie.jones\\.virtualenvs\\eda_streamlit-675cm0gE\\lib\\site-packages\\snowflake\\connector\\vendored\\urllib3\\contrib\\pyopenssl.py:323\u001b[0m, in \u001b[0;36mWrappedSocket.recv_into\u001b[1;34m(self, *args, **kwargs)\u001b[0m\n\u001b[0;32m    321\u001b[0m         \u001b[39mraise\u001b[39;00m\n\u001b[0;32m    322\u001b[0m \u001b[39mexcept\u001b[39;00m OpenSSL\u001b[39m.\u001b[39mSSL\u001b[39m.\u001b[39mWantReadError:\n\u001b[1;32m--> 323\u001b[0m     \u001b[39mif\u001b[39;00m \u001b[39mnot\u001b[39;00m util\u001b[39m.\u001b[39;49mwait_for_read(\u001b[39mself\u001b[39;49m\u001b[39m.\u001b[39;49msocket, \u001b[39mself\u001b[39;49m\u001b[39m.\u001b[39;49msocket\u001b[39m.\u001b[39;49mgettimeout()):\n\u001b[0;32m    324\u001b[0m         \u001b[39mraise\u001b[39;00m timeout(\u001b[39m\"\u001b[39m\u001b[39mThe read operation timed out\u001b[39m\u001b[39m\"\u001b[39m)\n\u001b[0;32m    325\u001b[0m     \u001b[39melse\u001b[39;00m:\n",
      "File \u001b[1;32mc:\\Users\\sophie.jones\\.virtualenvs\\eda_streamlit-675cm0gE\\lib\\site-packages\\snowflake\\connector\\vendored\\urllib3\\util\\wait.py:145\u001b[0m, in \u001b[0;36mwait_for_read\u001b[1;34m(sock, timeout)\u001b[0m\n\u001b[0;32m    141\u001b[0m \u001b[39mdef\u001b[39;00m \u001b[39mwait_for_read\u001b[39m(sock, timeout\u001b[39m=\u001b[39m\u001b[39mNone\u001b[39;00m):\n\u001b[0;32m    142\u001b[0m \u001b[39m    \u001b[39m\u001b[39m\"\"\"Waits for reading to be available on a given socket.\u001b[39;00m\n\u001b[0;32m    143\u001b[0m \u001b[39m    Returns True if the socket is readable, or False if the timeout expired.\u001b[39;00m\n\u001b[0;32m    144\u001b[0m \u001b[39m    \"\"\"\u001b[39;00m\n\u001b[1;32m--> 145\u001b[0m     \u001b[39mreturn\u001b[39;00m wait_for_socket(sock, read\u001b[39m=\u001b[39;49m\u001b[39mTrue\u001b[39;49;00m, timeout\u001b[39m=\u001b[39;49mtimeout)\n",
      "File \u001b[1;32mc:\\Users\\sophie.jones\\.virtualenvs\\eda_streamlit-675cm0gE\\lib\\site-packages\\snowflake\\connector\\vendored\\urllib3\\util\\wait.py:85\u001b[0m, in \u001b[0;36mselect_wait_for_socket\u001b[1;34m(sock, read, write, timeout)\u001b[0m\n\u001b[0;32m     79\u001b[0m \u001b[39m# When doing a non-blocking connect, most systems signal success by\u001b[39;00m\n\u001b[0;32m     80\u001b[0m \u001b[39m# marking the socket writable. Windows, though, signals success by marked\u001b[39;00m\n\u001b[0;32m     81\u001b[0m \u001b[39m# it as \"exceptional\". We paper over the difference by checking the write\u001b[39;00m\n\u001b[0;32m     82\u001b[0m \u001b[39m# sockets for both conditions. (The stdlib selectors module does the same\u001b[39;00m\n\u001b[0;32m     83\u001b[0m \u001b[39m# thing.)\u001b[39;00m\n\u001b[0;32m     84\u001b[0m fn \u001b[39m=\u001b[39m partial(select\u001b[39m.\u001b[39mselect, rcheck, wcheck, wcheck)\n\u001b[1;32m---> 85\u001b[0m rready, wready, xready \u001b[39m=\u001b[39m _retry_on_intr(fn, timeout)\n\u001b[0;32m     86\u001b[0m \u001b[39mreturn\u001b[39;00m \u001b[39mbool\u001b[39m(rready \u001b[39mor\u001b[39;00m wready \u001b[39mor\u001b[39;00m xready)\n",
      "File \u001b[1;32mc:\\Users\\sophie.jones\\.virtualenvs\\eda_streamlit-675cm0gE\\lib\\site-packages\\snowflake\\connector\\vendored\\urllib3\\util\\wait.py:43\u001b[0m, in \u001b[0;36m_retry_on_intr\u001b[1;34m(fn, timeout)\u001b[0m\n\u001b[0;32m     42\u001b[0m \u001b[39mdef\u001b[39;00m \u001b[39m_retry_on_intr\u001b[39m(fn, timeout):\n\u001b[1;32m---> 43\u001b[0m     \u001b[39mreturn\u001b[39;00m fn(timeout)\n",
      "File \u001b[1;32mc:\\Users\\sophie.jones\\.virtualenvs\\eda_streamlit-675cm0gE\\lib\\site-packages\\snowflake\\connector\\cursor.py:510\u001b[0m, in \u001b[0;36mSnowflakeCursor._execute_helper.<locals>.interrupt_handler\u001b[1;34m(*_)\u001b[0m\n\u001b[0;32m    507\u001b[0m         \u001b[39mexcept\u001b[39;00m (\u001b[39mValueError\u001b[39;00m, \u001b[39mTypeError\u001b[39;00m):\n\u001b[0;32m    508\u001b[0m             \u001b[39m# ignore failures\u001b[39;00m\n\u001b[0;32m    509\u001b[0m             \u001b[39mpass\u001b[39;00m\n\u001b[1;32m--> 510\u001b[0m \u001b[39mraise\u001b[39;00m \u001b[39mKeyboardInterrupt\u001b[39;00m\n",
      "\u001b[1;31mKeyboardInterrupt\u001b[0m: "
     ]
    }
   ],
   "source": [
    "f_aa_hits_detail.count()"
   ]
  },
  {
   "cell_type": "code",
   "execution_count": 20,
   "id": "ce18c39d",
   "metadata": {},
   "outputs": [],
   "source": [
    "test_df = f_aa_hits_detail.select('PAGE_URL','SITE_URL','VISIT_DATE_UTC',\"D_COUNTRY_HIST_SK\",\"post_evar_link_url\",\"post_evar_link_type\",'POST_PROP_TIME_ON_PAGE').join(\n",
    "    f_aa_hits_detail_engagement.select('PAGE_URL','SITE_URL','VISIT_DATE_UTC','D_COUNTRY_HIST_SK','HAS_CLICKOUT','HAS_ENGAGEMENT'), \n",
    "    on = ['PAGE_URL','VISIT_DATE_UTC','D_COUNTRY_HIST_SK'] , \n",
    "    how='inner')\n",
    "test_df.count()"
   ]
  },
  {
   "cell_type": "code",
   "execution_count": 27,
   "id": "f7c592d1",
   "metadata": {},
   "outputs": [
    {
     "data": {
      "text/plain": [
       "['PAGE_URL',\n",
       " 'VISIT_DATE_UTC',\n",
       " 'D_COUNTRY_HIST_SK',\n",
       " '\"l_pgpq_SITE_URL\"',\n",
       " 'HAS_CLICKOUT_TEST',\n",
       " 'POST_EVAR_LINK_URL',\n",
       " 'POST_EVAR_LINK_TYPE',\n",
       " '\"r_rnk7_SITE_URL\"',\n",
       " 'HAS_CLICKOUT',\n",
       " 'HAS_ENGAGEMENT']"
      ]
     },
     "execution_count": 27,
     "metadata": {},
     "output_type": "execute_result"
    }
   ],
   "source": [
    "clickout_test.columns"
   ]
  },
  {
   "cell_type": "code",
   "execution_count": 28,
   "id": "05f5fea2",
   "metadata": {},
   "outputs": [
    {
     "name": "stdout",
     "output_type": "stream",
     "text": [
      "---------------------------------------------------------------------------------------------------------------------\n",
      "|\"PAGE_URL\"                   |\"HAS_CLICKOUT_TEST\"  |\"HAS_CLICKOUT\"  |\"POST_EVAR_LINK_URL\"  |\"POST_EVAR_LINK_TYPE\"  |\n",
      "---------------------------------------------------------------------------------------------------------------------\n",
      "|www.casinospiele.de/spiele/  |False                |0               |[Missing]             |[Missing]              |\n",
      "|www.casinospiele.de/spiele/  |False                |0               |[Missing]             |[Missing]              |\n",
      "|www.casinospiele.de/spiele/  |False                |0               |[Missing]             |[Missing]              |\n",
      "|www.casinospiele.de/spiele/  |False                |0               |[Missing]             |[Missing]              |\n",
      "|www.casinospiele.de/spiele/  |False                |0               |[Missing]             |[Missing]              |\n",
      "|www.casinospiele.de/spiele/  |False                |0               |[Missing]             |[Missing]              |\n",
      "|www.casinospiele.de/spiele/  |False                |0               |[Missing]             |[Missing]              |\n",
      "|www.casinospiele.de/spiele/  |False                |0               |[Missing]             |[Missing]              |\n",
      "|www.casinospiele.de/spiele/  |False                |0               |[Missing]             |[Missing]              |\n",
      "|www.casinospiele.de/spiele/  |False                |0               |[Missing]             |[Missing]              |\n",
      "|www.casinospiele.de/spiele/  |False                |0               |[Missing]             |[Missing]              |\n",
      "|www.casinospiele.de/spiele/  |False                |0               |[Missing]             |[Missing]              |\n",
      "|www.casinospiele.de/spiele/  |False                |0               |[Missing]             |[Missing]              |\n",
      "|www.casinospiele.de/spiele/  |False                |0               |[Missing]             |[Missing]              |\n",
      "|www.casinospiele.de/spiele/  |False                |0               |[Missing]             |[Missing]              |\n",
      "|www.casinospiele.de/spiele/  |False                |0               |[Missing]             |[Missing]              |\n",
      "|www.casinospiele.de/spiele/  |False                |0               |[Missing]             |[Missing]              |\n",
      "|www.casinospiele.de/spiele/  |False                |0               |[Missing]             |[Missing]              |\n",
      "|www.casinospiele.de/spiele/  |False                |0               |[Missing]             |[Missing]              |\n",
      "|www.casinospiele.de/spiele/  |False                |0               |[Missing]             |[Missing]              |\n",
      "|www.casinospiele.de/spiele/  |False                |0               |[Missing]             |[Missing]              |\n",
      "|www.casinospiele.de/spiele/  |False                |0               |[Missing]             |[Missing]              |\n",
      "|www.casinospiele.de/spiele/  |False                |0               |[Missing]             |[Missing]              |\n",
      "|www.casinospiele.de/spiele/  |False                |0               |[Missing]             |[Missing]              |\n",
      "|www.casinospiele.de/spiele/  |False                |0               |[Missing]             |[Missing]              |\n",
      "---------------------------------------------------------------------------------------------------------------------\n",
      "\n"
     ]
    }
   ],
   "source": [
    "clickout_test.select(\"PAGE_URL\",\"HAS_CLICKOUT_TEST\",\"HAS_CLICKOUT\",\"post_evar_link_url\",\"post_evar_link_type\").show(25)"
   ]
  },
  {
   "cell_type": "code",
   "execution_count": 34,
   "id": "5a8b9b77",
   "metadata": {},
   "outputs": [
    {
     "name": "stdout",
     "output_type": "stream",
     "text": [
      "-----------------------------------------------------------------------------------------------------------------------------------------------------------------------\n",
      "|\"PAGE_URL\"                            |\"VISIT_DATE_UTC\"  |\"D_COUNTRY_HIST_SK\"  |\"HAS_CLICKOUT_TEST\"  |\"HAS_CLICKOUT\"  |\"POST_EVAR_LINK_URL\"  |\"POST_EVAR_LINK_TYPE\"  |\n",
      "-----------------------------------------------------------------------------------------------------------------------------------------------------------------------\n",
      "|www.onlineroulette.org/de/paypal.php  |2021-01-09        |83                   |False                |1               |[Missing]             |[Missing]              |\n",
      "|www.onlineroulette.org/de/paypal.php  |2021-01-09        |83                   |False                |1               |[Missing]             |[Missing]              |\n",
      "|www.onlineroulette.org/de/paypal.php  |2021-01-09        |83                   |False                |1               |[Missing]             |[Missing]              |\n",
      "|www.onlineroulette.org/de/paypal.php  |2021-01-09        |83                   |False                |1               |[Missing]             |[Missing]              |\n",
      "|www.onlineroulette.org/de/paypal.php  |2021-01-09        |83                   |False                |1               |[Missing]             |[Missing]              |\n",
      "|www.onlineroulette.org/de/paypal.php  |2021-01-09        |83                   |False                |1               |[Missing]             |[Missing]              |\n",
      "|www.onlineroulette.org/de/paypal.php  |2021-01-09        |83                   |False                |1               |[Missing]             |[Missing]              |\n",
      "|www.onlineroulette.org/de/paypal.php  |2021-01-09        |83                   |False                |1               |[Missing]             |[Missing]              |\n",
      "|www.onlineroulette.org/de/paypal.php  |2021-01-09        |83                   |False                |1               |[Missing]             |[Missing]              |\n",
      "|www.onlineroulette.org/de/paypal.php  |2021-01-09        |83                   |False                |1               |[Missing]             |[Missing]              |\n",
      "|www.onlineroulette.org/de/paypal.php  |2021-01-09        |83                   |False                |1               |[Missing]             |[Missing]              |\n",
      "|www.onlineroulette.org/de/paypal.php  |2021-01-09        |83                   |False                |1               |[Missing]             |[Missing]              |\n",
      "|www.onlineroulette.org/de/paypal.php  |2021-01-09        |83                   |False                |1               |[Missing]             |[Missing]              |\n",
      "|www.onlineroulette.org/de/paypal.php  |2021-01-09        |83                   |False                |1               |[Missing]             |[Missing]              |\n",
      "|www.onlineroulette.org/de/paypal.php  |2021-01-09        |83                   |False                |1               |[Missing]             |[Missing]              |\n",
      "|www.onlineroulette.org/de/paypal.php  |2021-01-09        |83                   |False                |1               |[Missing]             |[Missing]              |\n",
      "|www.onlineroulette.org/de/paypal.php  |2021-01-09        |83                   |False                |1               |[Missing]             |[Missing]              |\n",
      "|www.onlineroulette.org/de/paypal.php  |2021-01-09        |83                   |False                |1               |[Missing]             |[Missing]              |\n",
      "|www.onlineroulette.org/de/paypal.php  |2021-01-09        |83                   |False                |1               |[Missing]             |[Missing]              |\n",
      "|www.onlineroulette.org/de/paypal.php  |2021-01-09        |83                   |False                |1               |[Missing]             |[Missing]              |\n",
      "|www.onlineroulette.org/play/free      |2021-01-09        |124                  |False                |1               |[Missing]             |[Missing]              |\n",
      "|www.onlineroulette.org/play/free      |2021-01-09        |124                  |False                |1               |[Missing]             |[Missing]              |\n",
      "|www.onlineroulette.org/play/free      |2021-01-09        |124                  |False                |1               |[Missing]             |[Missing]              |\n",
      "|www.onlineroulette.org/play/free      |2021-01-09        |124                  |False                |1               |[Missing]             |[Missing]              |\n",
      "|www.onlineroulette.org/play/free      |2021-01-09        |124                  |False                |1               |[Missing]             |[Missing]              |\n",
      "-----------------------------------------------------------------------------------------------------------------------------------------------------------------------\n",
      "\n"
     ]
    }
   ],
   "source": [
    "clickout_test.filter(col(\"HAS_CLICKOUT\")== 1).select(\"PAGE_URL\",'VISIT_DATE_UTC','D_COUNTRY_HIST_SK',\"HAS_CLICKOUT_TEST\",\"HAS_CLICKOUT\",\"post_evar_link_url\",\"post_evar_link_type\").show(25)"
   ]
  },
  {
   "cell_type": "code",
   "execution_count": 35,
   "id": "70dc31ef",
   "metadata": {},
   "outputs": [
    {
     "data": {
      "text/plain": [
       "['VISIT_DATE_UTC',\n",
       " 'D_SITE_HIST_SK',\n",
       " 'SITE_URL',\n",
       " 'VISIT_DATE_TIME_UTC',\n",
       " 'VISITOR_ID',\n",
       " 'VISIT_NUM',\n",
       " 'VISIT_ID',\n",
       " 'DEVICE_TYPE',\n",
       " 'CONNECTION_TYPE',\n",
       " 'D_USER_LANGUAGE_SK',\n",
       " 'D_COUNTRY_HIST_SK',\n",
       " 'STATE_CODE',\n",
       " 'VISIT_REFERRER_TYPE',\n",
       " 'VISIT_SEARCH_ENGINE',\n",
       " 'VISIT_START_PAGE_URL',\n",
       " 'VISIT_START_D_PAGE_HIST_SK',\n",
       " 'HIT_TIME_UTC',\n",
       " 'PAGE_URL',\n",
       " 'D_PAGE_HIST_SK',\n",
       " 'VISIT_PAGE_NUM',\n",
       " 'IS_LANDING_PAGE',\n",
       " 'HAS_CLICKOUT',\n",
       " 'HAS_ENGAGEMENT',\n",
       " 'OUTBOUND_LINK',\n",
       " 'PAGE_VERTICAL',\n",
       " 'CHANNEL_NAME',\n",
       " 'TRANSACTION_ID']"
      ]
     },
     "execution_count": 35,
     "metadata": {},
     "output_type": "execute_result"
    }
   ],
   "source": [
    "f_aa_hits_detail_engagement.columns"
   ]
  },
  {
   "cell_type": "code",
   "execution_count": 41,
   "id": "1ae43553",
   "metadata": {},
   "outputs": [
    {
     "name": "stdout",
     "output_type": "stream",
     "text": [
      "---------------------------------------------------------------------------------------------------------------------------------------------------------------------------------------------------\n",
      "|\"VISIT_DATE_UTC\"  |\"D_SITE_HIST_SK\"  |\"D_COUNTRY_HIST_SK\"  |\"SITE_URL\"          |\"VISIT_ID\"                                          |\"HIT_TIME_UTC\"       |\"HAS_CLICKOUT\"  |\"OUTBOUND_LINK\"     |\n",
      "---------------------------------------------------------------------------------------------------------------------------------------------------------------------------------------------------\n",
      "|2021-01-09        |7                 |83                   |onlineroulette.org  |4715286718389962562_3552708344388170755_1_16101...  |2021-01-09 10:22:32  |1               |/go/betway.php      |\n",
      "|2021-01-09        |7                 |83                   |onlineroulette.org  |4715286718389962562_3552708344388170755_1_16101...  |2021-01-09 10:22:24  |1               |/go/betway.php      |\n",
      "|2021-01-09        |7                 |83                   |onlineroulette.org  |4425821293223091457_1871507140365125147_1_16101...  |2021-01-09 11:38:23  |1               |/go/karamba.php     |\n",
      "|2021-01-09        |7                 |83                   |onlineroulette.org  |4425821293223091457_1871507140365125147_1_16101...  |2021-01-09 11:38:29  |1               |/go/magicred.php    |\n",
      "|2021-01-09        |7                 |83                   |onlineroulette.org  |1166551018625664472_421545419504030801_1_161015...  |2021-01-09 01:53:12  |1               |/go/druckgluck.php  |\n",
      "---------------------------------------------------------------------------------------------------------------------------------------------------------------------------------------------------\n",
      "\n"
     ]
    }
   ],
   "source": [
    "f_aa_hits_detail_engagement.filter((col('PAGE_URL')=='www.onlineroulette.org/de/paypal.php') & (col('VISIT_DATE_UTC')=='2021-01-09') & (col(\"D_COUNTRY_HIST_SK\")==83) & (col('Has_CLICKOUT')==1)).select(['VISIT_DATE_UTC','D_SITE_HIST_SK','D_COUNTRY_HIST_SK','SITE_URL','VISIT_ID', 'HIT_TIME_UTC','HAS_CLICKOUT','OUTBOUND_LINK',]).show(25)"
   ]
  },
  {
   "attachments": {},
   "cell_type": "markdown",
   "id": "0bfde994",
   "metadata": {},
   "source": [
    "Test if has clickout is correct"
   ]
  },
  {
   "attachments": {},
   "cell_type": "markdown",
   "id": "d7259353",
   "metadata": {},
   "source": [
    "f_aa_hits_detail_engagement has clickout and has engagement logic is throughout this notebook and is created from columns from f_aa_hits_detial"
   ]
  },
  {
   "cell_type": "code",
   "execution_count": null,
   "id": "29a8e830",
   "metadata": {},
   "outputs": [],
   "source": []
  },
  {
   "cell_type": "code",
   "execution_count": null,
   "id": "7b26a210",
   "metadata": {},
   "outputs": [],
   "source": []
  },
  {
   "attachments": {},
   "cell_type": "markdown",
   "id": "af9cbde3",
   "metadata": {},
   "source": [
    "## Recreate Engagement"
   ]
  },
  {
   "attachments": {},
   "cell_type": "markdown",
   "id": "3bcf826d",
   "metadata": {},
   "source": [
    "Create Engagement based on has_clickout - go back and troubleshoot above later"
   ]
  },
  {
   "attachments": {},
   "cell_type": "markdown",
   "id": "1f52017a",
   "metadata": {},
   "source": [
    "Create has engagement test Column from the following logic"
   ]
  },
  {
   "attachments": {},
   "cell_type": "markdown",
   "id": "4a73300f",
   "metadata": {},
   "source": [
    "CASE\n",
    "        WHEN has_clickout OR h.post_evar_link_type = 'Internal' OR NVL(TRY_TO_NUMBER(REPLACE(h.post_prop_time_on_page, '+', '')), 0) >= 30\n",
    "          THEN 1\n",
    "        ELSE 0\n",
    "      END AS has_engagement"
   ]
  },
  {
   "cell_type": "code",
   "execution_count": null,
   "id": "bbceb7de",
   "metadata": {},
   "outputs": [],
   "source": [
    "CASE\n",
    "        WHEN has_clickout OR h.post_evar_link_type = 'Internal' OR NVL(TRY_TO_NUMBER(REPLACE(h.post_prop_time_on_page, '+', '')), 0) >= 30\n",
    "          THEN 1\n",
    "        ELSE 0\n",
    "      END AS has_engagement"
   ]
  },
  {
   "cell_type": "code",
   "execution_count": 11,
   "id": "f34d3f6e",
   "metadata": {},
   "outputs": [
    {
     "data": {
      "text/plain": [
       "['D_SITE_HIST_SK',\n",
       " 'VISIT_DATE_UTC',\n",
       " 'HIT_TIME_UTC',\n",
       " 'EVAR_PAGE_URL',\n",
       " 'EVAR_PAGE_TAG_COUNTRY_SK',\n",
       " 'POST_EVAR_LINK_URL',\n",
       " 'POST_EVAR_LINK_TYPE',\n",
       " 'POST_PROP_TIME_ON_PAGE',\n",
       " 'SITE_URL',\n",
       " 'SITE_NAME']"
      ]
     },
     "execution_count": 11,
     "metadata": {},
     "output_type": "execute_result"
    }
   ],
   "source": [
    "hits_detail.columns"
   ]
  },
  {
   "cell_type": "code",
   "execution_count": 115,
   "id": "0e4704a4",
   "metadata": {},
   "outputs": [
    {
     "data": {
      "text/plain": [
       "9298477464"
      ]
     },
     "execution_count": 115,
     "metadata": {},
     "output_type": "execute_result"
    }
   ],
   "source": [
    "hits_detail.select('VISIT_DATE_UTC').count()"
   ]
  },
  {
   "cell_type": "code",
   "execution_count": 116,
   "id": "bfa4eda7",
   "metadata": {},
   "outputs": [
    {
     "data": {
      "text/plain": [
       "928969"
      ]
     },
     "execution_count": 116,
     "metadata": {},
     "output_type": "execute_result"
    }
   ],
   "source": [
    "hits_detail_sample = hits_detail.sample(0.0001)\n",
    "hits_detail_sample.select('VISIT_DATE_UTC').count()"
   ]
  },
  {
   "cell_type": "code",
   "execution_count": 117,
   "id": "23c62f18",
   "metadata": {},
   "outputs": [
    {
     "data": {
      "text/plain": [
       "928420"
      ]
     },
     "execution_count": 117,
     "metadata": {},
     "output_type": "execute_result"
    }
   ],
   "source": [
    "hits_detail_sample.group_by(['HIT_TIME_UTC','EVAR_PAGE_URL','EVAR_PAGE_TAG_COUNTRY_SK']).agg({'VISIT_DATE_UTC':'count'}).count()"
   ]
  },
  {
   "cell_type": "code",
   "execution_count": 118,
   "id": "f9252652",
   "metadata": {},
   "outputs": [
    {
     "name": "stdout",
     "output_type": "stream",
     "text": [
      "916723\n",
      "916566\n"
     ]
    }
   ],
   "source": [
    "f_aa_hits_detail_engagement_sample = f_aa_hits_detail_engagement.sample(0.0001)\n",
    "print(f_aa_hits_detail_engagement_sample.select('VISIT_DATE_UTC').count())\n",
    "print(f_aa_hits_detail_engagement_sample.group_by(['HIT_TIME_UTC','PAGE_URL','D_COUNTRY_HIST_SK']).agg({'VISIT_DATE_UTC':'count'}).count())"
   ]
  },
  {
   "cell_type": "code",
   "execution_count": 104,
   "id": "cf25c13e",
   "metadata": {},
   "outputs": [
    {
     "data": {
      "text/plain": [
       "['VISIT_DATE_UTC',\n",
       " 'D_SITE_HIST_SK',\n",
       " 'SITE_URL',\n",
       " 'VISIT_DATE_TIME_UTC',\n",
       " 'VISITOR_ID',\n",
       " 'VISIT_NUM',\n",
       " 'VISIT_ID',\n",
       " 'DEVICE_TYPE',\n",
       " 'CONNECTION_TYPE',\n",
       " 'D_USER_LANGUAGE_SK',\n",
       " 'D_COUNTRY_HIST_SK',\n",
       " 'STATE_CODE',\n",
       " 'VISIT_REFERRER_TYPE',\n",
       " 'VISIT_SEARCH_ENGINE',\n",
       " 'VISIT_START_PAGE_URL',\n",
       " 'VISIT_START_D_PAGE_HIST_SK',\n",
       " 'HIT_TIME_UTC',\n",
       " 'PAGE_URL',\n",
       " 'D_PAGE_HIST_SK',\n",
       " 'VISIT_PAGE_NUM',\n",
       " 'IS_LANDING_PAGE',\n",
       " 'HAS_CLICKOUT',\n",
       " 'HAS_ENGAGEMENT',\n",
       " 'OUTBOUND_LINK',\n",
       " 'PAGE_VERTICAL',\n",
       " 'CHANNEL_NAME',\n",
       " 'TRANSACTION_ID']"
      ]
     },
     "execution_count": 104,
     "metadata": {},
     "output_type": "execute_result"
    }
   ],
   "source": [
    "f_aa_hits_detail_engagement.columns"
   ]
  },
  {
   "cell_type": "code",
   "execution_count": 12,
   "id": "0e732d06",
   "metadata": {},
   "outputs": [],
   "source": [
    "hits_detail = hits_detail.with_column_renamed(col('EVAR_PAGE_URL'),'PAGE_URL')\n",
    "hits_detail = hits_detail.with_column_renamed(col('EVAR_PAGE_TAG_COUNTRY_SK'),'D_COUNTRY_HIST_SK')"
   ]
  },
  {
   "cell_type": "code",
   "execution_count": 13,
   "id": "da4eca1e",
   "metadata": {},
   "outputs": [],
   "source": [
    "hits_detail_engagement = hits_detail.join(f_aa_hits_detail_engagement.select(['HIT_TIME_UTC','PAGE_URL','D_COUNTRY_HIST_SK','HAS_CLICKOUT','HAS_ENGAGEMENT']), on = ['HIT_TIME_UTC','PAGE_URL','D_COUNTRY_HIST_SK'], how = 'left')"
   ]
  },
  {
   "cell_type": "code",
   "execution_count": 121,
   "id": "1c688995",
   "metadata": {},
   "outputs": [
    {
     "data": {
      "text/plain": [
       "9300799128"
      ]
     },
     "execution_count": 121,
     "metadata": {},
     "output_type": "execute_result"
    }
   ],
   "source": [
    "hits_detail_engagement.select('VISIT_DATE_UTC').count()"
   ]
  },
  {
   "attachments": {},
   "cell_type": "markdown",
   "id": "0839c07d",
   "metadata": {},
   "source": [
    "increased by 2%"
   ]
  },
  {
   "cell_type": "code",
   "execution_count": 123,
   "id": "bba272d3",
   "metadata": {},
   "outputs": [
    {
     "ename": "KeyboardInterrupt",
     "evalue": "",
     "output_type": "error",
     "traceback": [
      "\u001b[1;31m---------------------------------------------------------------------------\u001b[0m",
      "\u001b[1;31mKeyboardInterrupt\u001b[0m                         Traceback (most recent call last)",
      "Cell \u001b[1;32mIn[123], line 5\u001b[0m\n\u001b[0;32m      2\u001b[0m unmatched_rows \u001b[39m=\u001b[39m hits_detail_engagement\u001b[39m.\u001b[39mfilter(hits_detail_engagement[\u001b[39m\"\u001b[39m\u001b[39mHAS_CLICKOUT\u001b[39m\u001b[39m\"\u001b[39m]\u001b[39m.\u001b[39misNull())\n\u001b[0;32m      4\u001b[0m \u001b[39m# count the number of unmatched rows\u001b[39;00m\n\u001b[1;32m----> 5\u001b[0m num_unmatched_rows \u001b[39m=\u001b[39m unmatched_rows\u001b[39m.\u001b[39;49mcount()\n\u001b[0;32m      7\u001b[0m \u001b[39m# print the result\u001b[39;00m\n\u001b[0;32m      8\u001b[0m \u001b[39mprint\u001b[39m(\u001b[39mf\u001b[39m\u001b[39m\"\u001b[39m\u001b[39mThere were \u001b[39m\u001b[39m{\u001b[39;00mnum_unmatched_rows\u001b[39m}\u001b[39;00m\u001b[39m rows that didn\u001b[39m\u001b[39m'\u001b[39m\u001b[39mt match.\u001b[39m\u001b[39m\"\u001b[39m)\n",
      "File \u001b[1;32mc:\\Users\\sophie.jones\\.virtualenvs\\eda_streamlit-675cm0gE\\lib\\site-packages\\snowflake\\snowpark\\dataframe.py:2526\u001b[0m, in \u001b[0;36mDataFrame.count\u001b[1;34m(self, statement_params, block)\u001b[0m\n\u001b[0;32m   2524\u001b[0m df \u001b[39m=\u001b[39m \u001b[39mself\u001b[39m\u001b[39m.\u001b[39magg((\u001b[39m\"\u001b[39m\u001b[39m*\u001b[39m\u001b[39m\"\u001b[39m, \u001b[39m\"\u001b[39m\u001b[39mcount\u001b[39m\u001b[39m\"\u001b[39m))\n\u001b[0;32m   2525\u001b[0m add_api_call(df, \u001b[39m\"\u001b[39m\u001b[39mDataFrame.count\u001b[39m\u001b[39m\"\u001b[39m)\n\u001b[1;32m-> 2526\u001b[0m result \u001b[39m=\u001b[39m df\u001b[39m.\u001b[39;49m_internal_collect_with_tag(\n\u001b[0;32m   2527\u001b[0m     statement_params\u001b[39m=\u001b[39;49mstatement_params,\n\u001b[0;32m   2528\u001b[0m     block\u001b[39m=\u001b[39;49mblock,\n\u001b[0;32m   2529\u001b[0m     data_type\u001b[39m=\u001b[39;49m_AsyncResultType\u001b[39m.\u001b[39;49mCOUNT,\n\u001b[0;32m   2530\u001b[0m )\n\u001b[0;32m   2531\u001b[0m \u001b[39mreturn\u001b[39;00m result[\u001b[39m0\u001b[39m][\u001b[39m0\u001b[39m] \u001b[39mif\u001b[39;00m block \u001b[39melse\u001b[39;00m result\n",
      "File \u001b[1;32mc:\\Users\\sophie.jones\\.virtualenvs\\eda_streamlit-675cm0gE\\lib\\site-packages\\snowflake\\snowpark\\_internal\\telemetry.py:139\u001b[0m, in \u001b[0;36mdf_collect_api_telemetry.<locals>.wrap\u001b[1;34m(*args, **kwargs)\u001b[0m\n\u001b[0;32m    136\u001b[0m \u001b[39m@functools\u001b[39m\u001b[39m.\u001b[39mwraps(func)\n\u001b[0;32m    137\u001b[0m \u001b[39mdef\u001b[39;00m \u001b[39mwrap\u001b[39m(\u001b[39m*\u001b[39margs, \u001b[39m*\u001b[39m\u001b[39m*\u001b[39mkwargs):\n\u001b[0;32m    138\u001b[0m     \u001b[39mwith\u001b[39;00m args[\u001b[39m0\u001b[39m]\u001b[39m.\u001b[39m_session\u001b[39m.\u001b[39mquery_history() \u001b[39mas\u001b[39;00m query_history:\n\u001b[1;32m--> 139\u001b[0m         result \u001b[39m=\u001b[39m func(\u001b[39m*\u001b[39;49margs, \u001b[39m*\u001b[39;49m\u001b[39m*\u001b[39;49mkwargs)\n\u001b[0;32m    140\u001b[0m     plan \u001b[39m=\u001b[39m args[\u001b[39m0\u001b[39m]\u001b[39m.\u001b[39m_select_statement \u001b[39mor\u001b[39;00m args[\u001b[39m0\u001b[39m]\u001b[39m.\u001b[39m_plan\n\u001b[0;32m    141\u001b[0m     api_calls \u001b[39m=\u001b[39m [\n\u001b[0;32m    142\u001b[0m         \u001b[39m*\u001b[39mplan\u001b[39m.\u001b[39mapi_calls,\n\u001b[0;32m    143\u001b[0m         {TelemetryField\u001b[39m.\u001b[39mNAME\u001b[39m.\u001b[39mvalue: \u001b[39mf\u001b[39m\u001b[39m\"\u001b[39m\u001b[39mDataFrame.\u001b[39m\u001b[39m{\u001b[39;00mfunc\u001b[39m.\u001b[39m\u001b[39m__name__\u001b[39m\u001b[39m}\u001b[39;00m\u001b[39m\"\u001b[39m},\n\u001b[0;32m    144\u001b[0m     ]\n",
      "File \u001b[1;32mc:\\Users\\sophie.jones\\.virtualenvs\\eda_streamlit-675cm0gE\\lib\\site-packages\\snowflake\\snowpark\\dataframe.py:623\u001b[0m, in \u001b[0;36mDataFrame._internal_collect_with_tag_no_telemetry\u001b[1;34m(self, statement_params, block, data_type, log_on_exception, case_sensitive)\u001b[0m\n\u001b[0;32m    611\u001b[0m \u001b[39mdef\u001b[39;00m \u001b[39m_internal_collect_with_tag_no_telemetry\u001b[39m(\n\u001b[0;32m    612\u001b[0m     \u001b[39mself\u001b[39m,\n\u001b[0;32m    613\u001b[0m     \u001b[39m*\u001b[39m,\n\u001b[1;32m   (...)\u001b[0m\n\u001b[0;32m    621\u001b[0m     \u001b[39m# we should always call this method instead of collect(), to make sure the\u001b[39;00m\n\u001b[0;32m    622\u001b[0m     \u001b[39m# query tag is set properly.\u001b[39;00m\n\u001b[1;32m--> 623\u001b[0m     \u001b[39mreturn\u001b[39;00m \u001b[39mself\u001b[39;49m\u001b[39m.\u001b[39;49m_session\u001b[39m.\u001b[39;49m_conn\u001b[39m.\u001b[39;49mexecute(\n\u001b[0;32m    624\u001b[0m         \u001b[39mself\u001b[39;49m\u001b[39m.\u001b[39;49m_plan,\n\u001b[0;32m    625\u001b[0m         block\u001b[39m=\u001b[39;49mblock,\n\u001b[0;32m    626\u001b[0m         data_type\u001b[39m=\u001b[39;49mdata_type,\n\u001b[0;32m    627\u001b[0m         _statement_params\u001b[39m=\u001b[39;49mcreate_or_update_statement_params_with_query_tag(\n\u001b[0;32m    628\u001b[0m             statement_params \u001b[39mor\u001b[39;49;00m \u001b[39mself\u001b[39;49m\u001b[39m.\u001b[39;49m_statement_params,\n\u001b[0;32m    629\u001b[0m             \u001b[39mself\u001b[39;49m\u001b[39m.\u001b[39;49m_session\u001b[39m.\u001b[39;49mquery_tag,\n\u001b[0;32m    630\u001b[0m             SKIP_LEVELS_THREE,\n\u001b[0;32m    631\u001b[0m         ),\n\u001b[0;32m    632\u001b[0m         log_on_exception\u001b[39m=\u001b[39;49mlog_on_exception,\n\u001b[0;32m    633\u001b[0m         case_sensitive\u001b[39m=\u001b[39;49mcase_sensitive,\n\u001b[0;32m    634\u001b[0m     )\n",
      "File \u001b[1;32mc:\\Users\\sophie.jones\\.virtualenvs\\eda_streamlit-675cm0gE\\lib\\site-packages\\snowflake\\snowpark\\_internal\\server_connection.py:442\u001b[0m, in \u001b[0;36mServerConnection.execute\u001b[1;34m(self, plan, to_pandas, to_iter, block, data_type, log_on_exception, case_sensitive, **kwargs)\u001b[0m\n\u001b[0;32m    438\u001b[0m \u001b[39mif\u001b[39;00m is_in_stored_procedure() \u001b[39mand\u001b[39;00m \u001b[39mnot\u001b[39;00m block:  \u001b[39m# pragma: no cover\u001b[39;00m\n\u001b[0;32m    439\u001b[0m     \u001b[39mraise\u001b[39;00m \u001b[39mNotImplementedError\u001b[39;00m(\n\u001b[0;32m    440\u001b[0m         \u001b[39m\"\u001b[39m\u001b[39mAsync query is not supported in stored procedure yet\u001b[39m\u001b[39m\"\u001b[39m\n\u001b[0;32m    441\u001b[0m     )\n\u001b[1;32m--> 442\u001b[0m result_set, result_meta \u001b[39m=\u001b[39m \u001b[39mself\u001b[39;49m\u001b[39m.\u001b[39;49mget_result_set(\n\u001b[0;32m    443\u001b[0m     plan,\n\u001b[0;32m    444\u001b[0m     to_pandas,\n\u001b[0;32m    445\u001b[0m     to_iter,\n\u001b[0;32m    446\u001b[0m     \u001b[39m*\u001b[39;49m\u001b[39m*\u001b[39;49mkwargs,\n\u001b[0;32m    447\u001b[0m     block\u001b[39m=\u001b[39;49mblock,\n\u001b[0;32m    448\u001b[0m     data_type\u001b[39m=\u001b[39;49mdata_type,\n\u001b[0;32m    449\u001b[0m     log_on_exception\u001b[39m=\u001b[39;49mlog_on_exception,\n\u001b[0;32m    450\u001b[0m     case_sensitive\u001b[39m=\u001b[39;49mcase_sensitive,\n\u001b[0;32m    451\u001b[0m )\n\u001b[0;32m    452\u001b[0m \u001b[39mif\u001b[39;00m \u001b[39mnot\u001b[39;00m block:\n\u001b[0;32m    453\u001b[0m     \u001b[39mreturn\u001b[39;00m result_set\n",
      "File \u001b[1;32mc:\\Users\\sophie.jones\\.virtualenvs\\eda_streamlit-675cm0gE\\lib\\site-packages\\snowflake\\snowpark\\_internal\\analyzer\\snowflake_plan.py:109\u001b[0m, in \u001b[0;36mSnowflakePlan.Decorator.wrap_exception.<locals>.wrap\u001b[1;34m(*args, **kwargs)\u001b[0m\n\u001b[0;32m    107\u001b[0m \u001b[39mdef\u001b[39;00m \u001b[39mwrap\u001b[39m(\u001b[39m*\u001b[39margs, \u001b[39m*\u001b[39m\u001b[39m*\u001b[39mkwargs):\n\u001b[0;32m    108\u001b[0m     \u001b[39mtry\u001b[39;00m:\n\u001b[1;32m--> 109\u001b[0m         \u001b[39mreturn\u001b[39;00m func(\u001b[39m*\u001b[39;49margs, \u001b[39m*\u001b[39;49m\u001b[39m*\u001b[39;49mkwargs)\n\u001b[0;32m    110\u001b[0m     \u001b[39mexcept\u001b[39;00m snowflake\u001b[39m.\u001b[39mconnector\u001b[39m.\u001b[39merrors\u001b[39m.\u001b[39mProgrammingError \u001b[39mas\u001b[39;00m e:\n\u001b[0;32m    111\u001b[0m         query \u001b[39m=\u001b[39m \u001b[39mNone\u001b[39;00m\n",
      "File \u001b[1;32mc:\\Users\\sophie.jones\\.virtualenvs\\eda_streamlit-675cm0gE\\lib\\site-packages\\snowflake\\snowpark\\_internal\\server_connection.py:550\u001b[0m, in \u001b[0;36mServerConnection.get_result_set\u001b[1;34m(self, plan, to_pandas, to_iter, block, data_type, log_on_exception, case_sensitive, **kwargs)\u001b[0m\n\u001b[0;32m    548\u001b[0m \u001b[39mfor\u001b[39;00m holder, id_ \u001b[39min\u001b[39;00m placeholders\u001b[39m.\u001b[39mitems():\n\u001b[0;32m    549\u001b[0m     final_query \u001b[39m=\u001b[39m final_query\u001b[39m.\u001b[39mreplace(holder, id_)\n\u001b[1;32m--> 550\u001b[0m result \u001b[39m=\u001b[39m \u001b[39mself\u001b[39;49m\u001b[39m.\u001b[39;49mrun_query(\n\u001b[0;32m    551\u001b[0m     final_query,\n\u001b[0;32m    552\u001b[0m     to_pandas,\n\u001b[0;32m    553\u001b[0m     to_iter \u001b[39mand\u001b[39;49;00m (i \u001b[39m==\u001b[39;49m \u001b[39mlen\u001b[39;49m(plan\u001b[39m.\u001b[39;49mqueries) \u001b[39m-\u001b[39;49m \u001b[39m1\u001b[39;49m),\n\u001b[0;32m    554\u001b[0m     is_ddl_on_temp_object\u001b[39m=\u001b[39;49mquery\u001b[39m.\u001b[39;49mis_ddl_on_temp_object,\n\u001b[0;32m    555\u001b[0m     block\u001b[39m=\u001b[39;49m\u001b[39mnot\u001b[39;49;00m is_last,\n\u001b[0;32m    556\u001b[0m     data_type\u001b[39m=\u001b[39;49mdata_type,\n\u001b[0;32m    557\u001b[0m     async_job_plan\u001b[39m=\u001b[39;49mplan,\n\u001b[0;32m    558\u001b[0m     log_on_exception\u001b[39m=\u001b[39;49mlog_on_exception,\n\u001b[0;32m    559\u001b[0m     case_sensitive\u001b[39m=\u001b[39;49mcase_sensitive,\n\u001b[0;32m    560\u001b[0m     params\u001b[39m=\u001b[39;49mquery\u001b[39m.\u001b[39;49mparams,\n\u001b[0;32m    561\u001b[0m     \u001b[39m*\u001b[39;49m\u001b[39m*\u001b[39;49mkwargs,\n\u001b[0;32m    562\u001b[0m )\n\u001b[0;32m    563\u001b[0m placeholders[query\u001b[39m.\u001b[39mquery_id_place_holder] \u001b[39m=\u001b[39m (\n\u001b[0;32m    564\u001b[0m     result[\u001b[39m\"\u001b[39m\u001b[39msfqid\u001b[39m\u001b[39m\"\u001b[39m] \u001b[39mif\u001b[39;00m \u001b[39mnot\u001b[39;00m is_last \u001b[39melse\u001b[39;00m result\u001b[39m.\u001b[39mquery_id\n\u001b[0;32m    565\u001b[0m )\n\u001b[0;32m    566\u001b[0m result_meta \u001b[39m=\u001b[39m \u001b[39mself\u001b[39m\u001b[39m.\u001b[39m_cursor\u001b[39m.\u001b[39mdescription\n",
      "File \u001b[1;32mc:\\Users\\sophie.jones\\.virtualenvs\\eda_streamlit-675cm0gE\\lib\\site-packages\\snowflake\\snowpark\\_internal\\server_connection.py:96\u001b[0m, in \u001b[0;36mServerConnection._Decorator.wrap_exception.<locals>.wrap\u001b[1;34m(*args, **kwargs)\u001b[0m\n\u001b[0;32m     94\u001b[0m     \u001b[39mraise\u001b[39;00m SnowparkClientExceptionMessages\u001b[39m.\u001b[39mSERVER_SESSION_HAS_BEEN_CLOSED()\n\u001b[0;32m     95\u001b[0m \u001b[39mtry\u001b[39;00m:\n\u001b[1;32m---> 96\u001b[0m     \u001b[39mreturn\u001b[39;00m func(\u001b[39m*\u001b[39;49margs, \u001b[39m*\u001b[39;49m\u001b[39m*\u001b[39;49mkwargs)\n\u001b[0;32m     97\u001b[0m \u001b[39mexcept\u001b[39;00m ReauthenticationRequest \u001b[39mas\u001b[39;00m ex:\n\u001b[0;32m     98\u001b[0m     \u001b[39mraise\u001b[39;00m SnowparkClientExceptionMessages\u001b[39m.\u001b[39mSERVER_SESSION_EXPIRED(\n\u001b[0;32m     99\u001b[0m         ex\u001b[39m.\u001b[39mcause\n\u001b[0;32m    100\u001b[0m     )\n",
      "File \u001b[1;32mc:\\Users\\sophie.jones\\.virtualenvs\\eda_streamlit-675cm0gE\\lib\\site-packages\\snowflake\\snowpark\\_internal\\server_connection.py:346\u001b[0m, in \u001b[0;36mServerConnection.run_query\u001b[1;34m(self, query, to_pandas, to_iter, is_ddl_on_temp_object, block, data_type, async_job_plan, log_on_exception, case_sensitive, params, **kwargs)\u001b[0m\n\u001b[0;32m    344\u001b[0m     kwargs[\u001b[39m\"\u001b[39m\u001b[39m_statement_params\u001b[39m\u001b[39m\"\u001b[39m][\u001b[39m\"\u001b[39m\u001b[39mSNOWPARK_SKIP_TXN_COMMIT_IN_DDL\u001b[39m\u001b[39m\"\u001b[39m] \u001b[39m=\u001b[39m \u001b[39mTrue\u001b[39;00m\n\u001b[0;32m    345\u001b[0m \u001b[39mif\u001b[39;00m block:\n\u001b[1;32m--> 346\u001b[0m     results_cursor \u001b[39m=\u001b[39m \u001b[39mself\u001b[39;49m\u001b[39m.\u001b[39;49m_cursor\u001b[39m.\u001b[39;49mexecute(query, params\u001b[39m=\u001b[39;49mparams, \u001b[39m*\u001b[39;49m\u001b[39m*\u001b[39;49mkwargs)\n\u001b[0;32m    347\u001b[0m     \u001b[39mself\u001b[39m\u001b[39m.\u001b[39mnotify_query_listeners(\n\u001b[0;32m    348\u001b[0m         QueryRecord(results_cursor\u001b[39m.\u001b[39msfqid, results_cursor\u001b[39m.\u001b[39mquery)\n\u001b[0;32m    349\u001b[0m     )\n\u001b[0;32m    350\u001b[0m     logger\u001b[39m.\u001b[39mdebug(\u001b[39mf\u001b[39m\u001b[39m\"\u001b[39m\u001b[39mExecute query [queryID: \u001b[39m\u001b[39m{\u001b[39;00mresults_cursor\u001b[39m.\u001b[39msfqid\u001b[39m}\u001b[39;00m\u001b[39m] \u001b[39m\u001b[39m{\u001b[39;00mquery\u001b[39m}\u001b[39;00m\u001b[39m\"\u001b[39m)\n",
      "File \u001b[1;32mc:\\Users\\sophie.jones\\.virtualenvs\\eda_streamlit-675cm0gE\\lib\\site-packages\\snowflake\\connector\\cursor.py:801\u001b[0m, in \u001b[0;36mSnowflakeCursor.execute\u001b[1;34m(self, command, params, _bind_stage, timeout, _exec_async, _no_retry, _do_reset, _put_callback, _put_azure_callback, _put_callback_output_stream, _get_callback, _get_azure_callback, _get_callback_output_stream, _show_progress_bar, _statement_params, _is_internal, _describe_only, _no_results, _is_put_get, _raise_put_get_error, _force_put_overwrite, _skip_upload_on_content_match, file_stream, num_statements)\u001b[0m\n\u001b[0;32m    799\u001b[0m \u001b[39mif\u001b[39;00m logger\u001b[39m.\u001b[39mgetEffectiveLevel() \u001b[39m<\u001b[39m\u001b[39m=\u001b[39m logging\u001b[39m.\u001b[39mINFO:\n\u001b[0;32m    800\u001b[0m     logger\u001b[39m.\u001b[39minfo(\u001b[39m\"\u001b[39m\u001b[39mquery: [\u001b[39m\u001b[39m%s\u001b[39;00m\u001b[39m]\u001b[39m\u001b[39m\"\u001b[39m, \u001b[39mself\u001b[39m\u001b[39m.\u001b[39m_format_query_for_log(query))\n\u001b[1;32m--> 801\u001b[0m ret \u001b[39m=\u001b[39m \u001b[39mself\u001b[39;49m\u001b[39m.\u001b[39;49m_execute_helper(query, \u001b[39m*\u001b[39;49m\u001b[39m*\u001b[39;49mkwargs)\n\u001b[0;32m    802\u001b[0m \u001b[39mself\u001b[39m\u001b[39m.\u001b[39m_sfqid \u001b[39m=\u001b[39m (\n\u001b[0;32m    803\u001b[0m     ret[\u001b[39m\"\u001b[39m\u001b[39mdata\u001b[39m\u001b[39m\"\u001b[39m][\u001b[39m\"\u001b[39m\u001b[39mqueryId\u001b[39m\u001b[39m\"\u001b[39m]\n\u001b[0;32m    804\u001b[0m     \u001b[39mif\u001b[39;00m \u001b[39m\"\u001b[39m\u001b[39mdata\u001b[39m\u001b[39m\"\u001b[39m \u001b[39min\u001b[39;00m ret \u001b[39mand\u001b[39;00m \u001b[39m\"\u001b[39m\u001b[39mqueryId\u001b[39m\u001b[39m\"\u001b[39m \u001b[39min\u001b[39;00m ret[\u001b[39m\"\u001b[39m\u001b[39mdata\u001b[39m\u001b[39m\"\u001b[39m]\n\u001b[0;32m    805\u001b[0m     \u001b[39melse\u001b[39;00m \u001b[39mNone\u001b[39;00m\n\u001b[0;32m    806\u001b[0m )\n\u001b[0;32m    807\u001b[0m logger\u001b[39m.\u001b[39mdebug(\u001b[39mf\u001b[39m\u001b[39m\"\u001b[39m\u001b[39msfqid: \u001b[39m\u001b[39m{\u001b[39;00m\u001b[39mself\u001b[39m\u001b[39m.\u001b[39msfqid\u001b[39m}\u001b[39;00m\u001b[39m\"\u001b[39m)\n",
      "File \u001b[1;32mc:\\Users\\sophie.jones\\.virtualenvs\\eda_streamlit-675cm0gE\\lib\\site-packages\\snowflake\\connector\\cursor.py:521\u001b[0m, in \u001b[0;36mSnowflakeCursor._execute_helper\u001b[1;34m(self, query, timeout, statement_params, binding_params, binding_stage, is_internal, describe_only, _no_results, _is_put_get, _no_retry)\u001b[0m\n\u001b[0;32m    519\u001b[0m ret: \u001b[39mdict\u001b[39m[\u001b[39mstr\u001b[39m, Any] \u001b[39m=\u001b[39m {\u001b[39m\"\u001b[39m\u001b[39mdata\u001b[39m\u001b[39m\"\u001b[39m: {}}\n\u001b[0;32m    520\u001b[0m \u001b[39mtry\u001b[39;00m:\n\u001b[1;32m--> 521\u001b[0m     ret \u001b[39m=\u001b[39m \u001b[39mself\u001b[39;49m\u001b[39m.\u001b[39;49m_connection\u001b[39m.\u001b[39;49mcmd_query(\n\u001b[0;32m    522\u001b[0m         query,\n\u001b[0;32m    523\u001b[0m         \u001b[39mself\u001b[39;49m\u001b[39m.\u001b[39;49m_sequence_counter,\n\u001b[0;32m    524\u001b[0m         \u001b[39mself\u001b[39;49m\u001b[39m.\u001b[39;49m_request_id,\n\u001b[0;32m    525\u001b[0m         binding_params\u001b[39m=\u001b[39;49mbinding_params,\n\u001b[0;32m    526\u001b[0m         binding_stage\u001b[39m=\u001b[39;49mbinding_stage,\n\u001b[0;32m    527\u001b[0m         is_file_transfer\u001b[39m=\u001b[39;49m\u001b[39mbool\u001b[39;49m(\u001b[39mself\u001b[39;49m\u001b[39m.\u001b[39;49m_is_file_transfer),\n\u001b[0;32m    528\u001b[0m         statement_params\u001b[39m=\u001b[39;49mstatement_params,\n\u001b[0;32m    529\u001b[0m         is_internal\u001b[39m=\u001b[39;49mis_internal,\n\u001b[0;32m    530\u001b[0m         describe_only\u001b[39m=\u001b[39;49mdescribe_only,\n\u001b[0;32m    531\u001b[0m         _no_results\u001b[39m=\u001b[39;49m_no_results,\n\u001b[0;32m    532\u001b[0m         _no_retry\u001b[39m=\u001b[39;49m_no_retry,\n\u001b[0;32m    533\u001b[0m     )\n\u001b[0;32m    534\u001b[0m \u001b[39mfinally\u001b[39;00m:\n\u001b[0;32m    535\u001b[0m     \u001b[39mtry\u001b[39;00m:\n",
      "File \u001b[1;32mc:\\Users\\sophie.jones\\.virtualenvs\\eda_streamlit-675cm0gE\\lib\\site-packages\\snowflake\\connector\\connection.py:1067\u001b[0m, in \u001b[0;36mSnowflakeConnection.cmd_query\u001b[1;34m(self, sql, sequence_counter, request_id, binding_params, binding_stage, is_file_transfer, statement_params, is_internal, describe_only, _no_results, _update_current_object, _no_retry)\u001b[0m\n\u001b[0;32m   1058\u001b[0m     logger\u001b[39m.\u001b[39mdebug(\n\u001b[0;32m   1059\u001b[0m         \u001b[39m\"\u001b[39m\u001b[39msql=[\u001b[39m\u001b[39m%s\u001b[39;00m\u001b[39m], sequence_id=[\u001b[39m\u001b[39m%s\u001b[39;00m\u001b[39m], is_file_transfer=[\u001b[39m\u001b[39m%s\u001b[39;00m\u001b[39m]\u001b[39m\u001b[39m\"\u001b[39m,\n\u001b[0;32m   1060\u001b[0m         \u001b[39mself\u001b[39m\u001b[39m.\u001b[39m_format_query_for_log(data[\u001b[39m\"\u001b[39m\u001b[39msqlText\u001b[39m\u001b[39m\"\u001b[39m]),\n\u001b[0;32m   1061\u001b[0m         data[\u001b[39m\"\u001b[39m\u001b[39msequenceId\u001b[39m\u001b[39m\"\u001b[39m],\n\u001b[0;32m   1062\u001b[0m         is_file_transfer,\n\u001b[0;32m   1063\u001b[0m     )\n\u001b[0;32m   1065\u001b[0m url_parameters \u001b[39m=\u001b[39m {REQUEST_ID: request_id}\n\u001b[1;32m-> 1067\u001b[0m ret \u001b[39m=\u001b[39m \u001b[39mself\u001b[39;49m\u001b[39m.\u001b[39;49mrest\u001b[39m.\u001b[39;49mrequest(\n\u001b[0;32m   1068\u001b[0m     \u001b[39m\"\u001b[39;49m\u001b[39m/queries/v1/query-request?\u001b[39;49m\u001b[39m\"\u001b[39;49m \u001b[39m+\u001b[39;49m urlencode(url_parameters),\n\u001b[0;32m   1069\u001b[0m     data,\n\u001b[0;32m   1070\u001b[0m     client\u001b[39m=\u001b[39;49mclient,\n\u001b[0;32m   1071\u001b[0m     _no_results\u001b[39m=\u001b[39;49m_no_results,\n\u001b[0;32m   1072\u001b[0m     _include_retry_params\u001b[39m=\u001b[39;49m\u001b[39mTrue\u001b[39;49;00m,\n\u001b[0;32m   1073\u001b[0m     _no_retry\u001b[39m=\u001b[39;49m_no_retry,\n\u001b[0;32m   1074\u001b[0m )\n\u001b[0;32m   1076\u001b[0m \u001b[39mif\u001b[39;00m ret \u001b[39mis\u001b[39;00m \u001b[39mNone\u001b[39;00m:\n\u001b[0;32m   1077\u001b[0m     ret \u001b[39m=\u001b[39m {\u001b[39m\"\u001b[39m\u001b[39mdata\u001b[39m\u001b[39m\"\u001b[39m: {}}\n",
      "File \u001b[1;32mc:\\Users\\sophie.jones\\.virtualenvs\\eda_streamlit-675cm0gE\\lib\\site-packages\\snowflake\\connector\\network.py:477\u001b[0m, in \u001b[0;36mSnowflakeRestful.request\u001b[1;34m(self, url, body, method, client, _no_results, timeout, _include_retry_params, _no_retry)\u001b[0m\n\u001b[0;32m    475\u001b[0m     headers[HTTP_HEADER_SERVICE_NAME] \u001b[39m=\u001b[39m \u001b[39mself\u001b[39m\u001b[39m.\u001b[39m_connection\u001b[39m.\u001b[39mservice_name\n\u001b[0;32m    476\u001b[0m \u001b[39mif\u001b[39;00m method \u001b[39m==\u001b[39m \u001b[39m\"\u001b[39m\u001b[39mpost\u001b[39m\u001b[39m\"\u001b[39m:\n\u001b[1;32m--> 477\u001b[0m     \u001b[39mreturn\u001b[39;00m \u001b[39mself\u001b[39;49m\u001b[39m.\u001b[39;49m_post_request(\n\u001b[0;32m    478\u001b[0m         url,\n\u001b[0;32m    479\u001b[0m         headers,\n\u001b[0;32m    480\u001b[0m         json\u001b[39m.\u001b[39;49mdumps(body),\n\u001b[0;32m    481\u001b[0m         token\u001b[39m=\u001b[39;49m\u001b[39mself\u001b[39;49m\u001b[39m.\u001b[39;49mtoken,\n\u001b[0;32m    482\u001b[0m         _no_results\u001b[39m=\u001b[39;49m_no_results,\n\u001b[0;32m    483\u001b[0m         timeout\u001b[39m=\u001b[39;49mtimeout,\n\u001b[0;32m    484\u001b[0m         _include_retry_params\u001b[39m=\u001b[39;49m_include_retry_params,\n\u001b[0;32m    485\u001b[0m         no_retry\u001b[39m=\u001b[39;49m_no_retry,\n\u001b[0;32m    486\u001b[0m     )\n\u001b[0;32m    487\u001b[0m \u001b[39melse\u001b[39;00m:\n\u001b[0;32m    488\u001b[0m     \u001b[39mreturn\u001b[39;00m \u001b[39mself\u001b[39m\u001b[39m.\u001b[39m_get_request(url, headers, token\u001b[39m=\u001b[39m\u001b[39mself\u001b[39m\u001b[39m.\u001b[39mtoken, timeout\u001b[39m=\u001b[39mtimeout)\n",
      "File \u001b[1;32mc:\\Users\\sophie.jones\\.virtualenvs\\eda_streamlit-675cm0gE\\lib\\site-packages\\snowflake\\connector\\network.py:763\u001b[0m, in \u001b[0;36mSnowflakeRestful._post_request\u001b[1;34m(self, url, headers, body, token, timeout, _no_results, no_retry, socket_timeout, _include_retry_params)\u001b[0m\n\u001b[0;32m    761\u001b[0m result_url \u001b[39m=\u001b[39m ret[\u001b[39m\"\u001b[39m\u001b[39mdata\u001b[39m\u001b[39m\"\u001b[39m][\u001b[39m\"\u001b[39m\u001b[39mgetResultUrl\u001b[39m\u001b[39m\"\u001b[39m]\n\u001b[0;32m    762\u001b[0m logger\u001b[39m.\u001b[39mdebug(\u001b[39m\"\u001b[39m\u001b[39mping pong starting...\u001b[39m\u001b[39m\"\u001b[39m)\n\u001b[1;32m--> 763\u001b[0m ret \u001b[39m=\u001b[39m \u001b[39mself\u001b[39;49m\u001b[39m.\u001b[39;49m_get_request(\n\u001b[0;32m    764\u001b[0m     result_url, headers, token\u001b[39m=\u001b[39;49m\u001b[39mself\u001b[39;49m\u001b[39m.\u001b[39;49mtoken, timeout\u001b[39m=\u001b[39;49mtimeout\n\u001b[0;32m    765\u001b[0m )\n\u001b[0;32m    766\u001b[0m logger\u001b[39m.\u001b[39mdebug(\u001b[39m\"\u001b[39m\u001b[39mret[code] = \u001b[39m\u001b[39m%s\u001b[39;00m\u001b[39m\"\u001b[39m, ret\u001b[39m.\u001b[39mget(\u001b[39m\"\u001b[39m\u001b[39mcode\u001b[39m\u001b[39m\"\u001b[39m, \u001b[39m\"\u001b[39m\u001b[39mN/A\u001b[39m\u001b[39m\"\u001b[39m))\n\u001b[0;32m    767\u001b[0m logger\u001b[39m.\u001b[39mdebug(\u001b[39m\"\u001b[39m\u001b[39mping pong done\u001b[39m\u001b[39m\"\u001b[39m)\n",
      "File \u001b[1;32mc:\\Users\\sophie.jones\\.virtualenvs\\eda_streamlit-675cm0gE\\lib\\site-packages\\snowflake\\connector\\network.py:672\u001b[0m, in \u001b[0;36mSnowflakeRestful._get_request\u001b[1;34m(self, url, headers, token, timeout, socket_timeout)\u001b[0m\n\u001b[0;32m    669\u001b[0m     \u001b[39mdel\u001b[39;00m headers[\u001b[39m\"\u001b[39m\u001b[39mContent-Length\u001b[39m\u001b[39m\"\u001b[39m]\n\u001b[0;32m    671\u001b[0m full_url \u001b[39m=\u001b[39m \u001b[39mf\u001b[39m\u001b[39m\"\u001b[39m\u001b[39m{\u001b[39;00m\u001b[39mself\u001b[39m\u001b[39m.\u001b[39m_protocol\u001b[39m}\u001b[39;00m\u001b[39m://\u001b[39m\u001b[39m{\u001b[39;00m\u001b[39mself\u001b[39m\u001b[39m.\u001b[39m_host\u001b[39m}\u001b[39;00m\u001b[39m:\u001b[39m\u001b[39m{\u001b[39;00m\u001b[39mself\u001b[39m\u001b[39m.\u001b[39m_port\u001b[39m}\u001b[39;00m\u001b[39m{\u001b[39;00murl\u001b[39m}\u001b[39;00m\u001b[39m\"\u001b[39m\n\u001b[1;32m--> 672\u001b[0m ret \u001b[39m=\u001b[39m \u001b[39mself\u001b[39;49m\u001b[39m.\u001b[39;49mfetch(\n\u001b[0;32m    673\u001b[0m     \u001b[39m\"\u001b[39;49m\u001b[39mget\u001b[39;49m\u001b[39m\"\u001b[39;49m,\n\u001b[0;32m    674\u001b[0m     full_url,\n\u001b[0;32m    675\u001b[0m     headers,\n\u001b[0;32m    676\u001b[0m     timeout\u001b[39m=\u001b[39;49mtimeout,\n\u001b[0;32m    677\u001b[0m     token\u001b[39m=\u001b[39;49mtoken,\n\u001b[0;32m    678\u001b[0m     socket_timeout\u001b[39m=\u001b[39;49msocket_timeout,\n\u001b[0;32m    679\u001b[0m )\n\u001b[0;32m    680\u001b[0m \u001b[39mif\u001b[39;00m ret\u001b[39m.\u001b[39mget(\u001b[39m\"\u001b[39m\u001b[39mcode\u001b[39m\u001b[39m\"\u001b[39m) \u001b[39m==\u001b[39m SESSION_EXPIRED_GS_CODE:\n\u001b[0;32m    681\u001b[0m     \u001b[39mtry\u001b[39;00m:\n",
      "File \u001b[1;32mc:\\Users\\sophie.jones\\.virtualenvs\\eda_streamlit-675cm0gE\\lib\\site-packages\\snowflake\\connector\\network.py:814\u001b[0m, in \u001b[0;36mSnowflakeRestful.fetch\u001b[1;34m(self, method, full_url, headers, data, timeout, **kwargs)\u001b[0m\n\u001b[0;32m    812\u001b[0m retry_ctx \u001b[39m=\u001b[39m RetryCtx(timeout, include_retry_params)\n\u001b[0;32m    813\u001b[0m \u001b[39mwhile\u001b[39;00m \u001b[39mTrue\u001b[39;00m:\n\u001b[1;32m--> 814\u001b[0m     ret \u001b[39m=\u001b[39m \u001b[39mself\u001b[39;49m\u001b[39m.\u001b[39;49m_request_exec_wrapper(\n\u001b[0;32m    815\u001b[0m         session, method, full_url, headers, data, retry_ctx, \u001b[39m*\u001b[39;49m\u001b[39m*\u001b[39;49mkwargs\n\u001b[0;32m    816\u001b[0m     )\n\u001b[0;32m    817\u001b[0m     \u001b[39mif\u001b[39;00m ret \u001b[39mis\u001b[39;00m \u001b[39mnot\u001b[39;00m \u001b[39mNone\u001b[39;00m:\n\u001b[0;32m    818\u001b[0m         \u001b[39mreturn\u001b[39;00m ret\n",
      "File \u001b[1;32mc:\\Users\\sophie.jones\\.virtualenvs\\eda_streamlit-675cm0gE\\lib\\site-packages\\snowflake\\connector\\network.py:857\u001b[0m, in \u001b[0;36mSnowflakeRestful._request_exec_wrapper\u001b[1;34m(self, session, method, full_url, headers, data, retry_ctx, no_retry, token, **kwargs)\u001b[0m\n\u001b[0;32m    855\u001b[0m full_url \u001b[39m=\u001b[39m SnowflakeRestful\u001b[39m.\u001b[39madd_request_guid(full_url)\n\u001b[0;32m    856\u001b[0m \u001b[39mtry\u001b[39;00m:\n\u001b[1;32m--> 857\u001b[0m     return_object \u001b[39m=\u001b[39m \u001b[39mself\u001b[39;49m\u001b[39m.\u001b[39;49m_request_exec(\n\u001b[0;32m    858\u001b[0m         session\u001b[39m=\u001b[39;49msession,\n\u001b[0;32m    859\u001b[0m         method\u001b[39m=\u001b[39;49mmethod,\n\u001b[0;32m    860\u001b[0m         full_url\u001b[39m=\u001b[39;49mfull_url,\n\u001b[0;32m    861\u001b[0m         headers\u001b[39m=\u001b[39;49mheaders,\n\u001b[0;32m    862\u001b[0m         data\u001b[39m=\u001b[39;49mdata,\n\u001b[0;32m    863\u001b[0m         token\u001b[39m=\u001b[39;49mtoken,\n\u001b[0;32m    864\u001b[0m         \u001b[39m*\u001b[39;49m\u001b[39m*\u001b[39;49mkwargs,\n\u001b[0;32m    865\u001b[0m     )\n\u001b[0;32m    866\u001b[0m     \u001b[39mif\u001b[39;00m return_object \u001b[39mis\u001b[39;00m \u001b[39mnot\u001b[39;00m \u001b[39mNone\u001b[39;00m:\n\u001b[0;32m    867\u001b[0m         \u001b[39mreturn\u001b[39;00m return_object\n",
      "File \u001b[1;32mc:\\Users\\sophie.jones\\.virtualenvs\\eda_streamlit-675cm0gE\\lib\\site-packages\\snowflake\\connector\\network.py:1033\u001b[0m, in \u001b[0;36mSnowflakeRestful._request_exec\u001b[1;34m(self, session, method, full_url, headers, data, token, catch_okta_unauthorized_error, is_raw_text, is_raw_binary, binary_data_handler, socket_timeout)\u001b[0m\n\u001b[0;32m   1029\u001b[0m download_start_time \u001b[39m=\u001b[39m get_time_millis()\n\u001b[0;32m   1030\u001b[0m \u001b[39m# socket timeout is constant. You should be able to receive\u001b[39;00m\n\u001b[0;32m   1031\u001b[0m \u001b[39m# the response within the time. If not, ConnectReadTimeout or\u001b[39;00m\n\u001b[0;32m   1032\u001b[0m \u001b[39m# ReadTimeout is raised.\u001b[39;00m\n\u001b[1;32m-> 1033\u001b[0m raw_ret \u001b[39m=\u001b[39m session\u001b[39m.\u001b[39;49mrequest(\n\u001b[0;32m   1034\u001b[0m     method\u001b[39m=\u001b[39;49mmethod,\n\u001b[0;32m   1035\u001b[0m     url\u001b[39m=\u001b[39;49mfull_url,\n\u001b[0;32m   1036\u001b[0m     headers\u001b[39m=\u001b[39;49mheaders,\n\u001b[0;32m   1037\u001b[0m     data\u001b[39m=\u001b[39;49minput_data,\n\u001b[0;32m   1038\u001b[0m     timeout\u001b[39m=\u001b[39;49msocket_timeout,\n\u001b[0;32m   1039\u001b[0m     verify\u001b[39m=\u001b[39;49m\u001b[39mTrue\u001b[39;49;00m,\n\u001b[0;32m   1040\u001b[0m     stream\u001b[39m=\u001b[39;49mis_raw_binary,\n\u001b[0;32m   1041\u001b[0m     auth\u001b[39m=\u001b[39;49mSnowflakeAuth(token),\n\u001b[0;32m   1042\u001b[0m )\n\u001b[0;32m   1043\u001b[0m download_end_time \u001b[39m=\u001b[39m get_time_millis()\n\u001b[0;32m   1045\u001b[0m \u001b[39mtry\u001b[39;00m:\n",
      "File \u001b[1;32mc:\\Users\\sophie.jones\\.virtualenvs\\eda_streamlit-675cm0gE\\lib\\site-packages\\snowflake\\connector\\vendored\\requests\\sessions.py:587\u001b[0m, in \u001b[0;36mSession.request\u001b[1;34m(self, method, url, params, data, headers, cookies, files, auth, timeout, allow_redirects, proxies, hooks, stream, verify, cert, json)\u001b[0m\n\u001b[0;32m    582\u001b[0m send_kwargs \u001b[39m=\u001b[39m {\n\u001b[0;32m    583\u001b[0m     \u001b[39m\"\u001b[39m\u001b[39mtimeout\u001b[39m\u001b[39m\"\u001b[39m: timeout,\n\u001b[0;32m    584\u001b[0m     \u001b[39m\"\u001b[39m\u001b[39mallow_redirects\u001b[39m\u001b[39m\"\u001b[39m: allow_redirects,\n\u001b[0;32m    585\u001b[0m }\n\u001b[0;32m    586\u001b[0m send_kwargs\u001b[39m.\u001b[39mupdate(settings)\n\u001b[1;32m--> 587\u001b[0m resp \u001b[39m=\u001b[39m \u001b[39mself\u001b[39;49m\u001b[39m.\u001b[39;49msend(prep, \u001b[39m*\u001b[39;49m\u001b[39m*\u001b[39;49msend_kwargs)\n\u001b[0;32m    589\u001b[0m \u001b[39mreturn\u001b[39;00m resp\n",
      "File \u001b[1;32mc:\\Users\\sophie.jones\\.virtualenvs\\eda_streamlit-675cm0gE\\lib\\site-packages\\snowflake\\connector\\vendored\\requests\\sessions.py:701\u001b[0m, in \u001b[0;36mSession.send\u001b[1;34m(self, request, **kwargs)\u001b[0m\n\u001b[0;32m    698\u001b[0m start \u001b[39m=\u001b[39m preferred_clock()\n\u001b[0;32m    700\u001b[0m \u001b[39m# Send the request\u001b[39;00m\n\u001b[1;32m--> 701\u001b[0m r \u001b[39m=\u001b[39m adapter\u001b[39m.\u001b[39;49msend(request, \u001b[39m*\u001b[39;49m\u001b[39m*\u001b[39;49mkwargs)\n\u001b[0;32m    703\u001b[0m \u001b[39m# Total elapsed time of the request (approximately)\u001b[39;00m\n\u001b[0;32m    704\u001b[0m elapsed \u001b[39m=\u001b[39m preferred_clock() \u001b[39m-\u001b[39m start\n",
      "File \u001b[1;32mc:\\Users\\sophie.jones\\.virtualenvs\\eda_streamlit-675cm0gE\\lib\\site-packages\\snowflake\\connector\\vendored\\requests\\adapters.py:489\u001b[0m, in \u001b[0;36mHTTPAdapter.send\u001b[1;34m(self, request, stream, timeout, verify, cert, proxies)\u001b[0m\n\u001b[0;32m    487\u001b[0m \u001b[39mtry\u001b[39;00m:\n\u001b[0;32m    488\u001b[0m     \u001b[39mif\u001b[39;00m \u001b[39mnot\u001b[39;00m chunked:\n\u001b[1;32m--> 489\u001b[0m         resp \u001b[39m=\u001b[39m conn\u001b[39m.\u001b[39;49murlopen(\n\u001b[0;32m    490\u001b[0m             method\u001b[39m=\u001b[39;49mrequest\u001b[39m.\u001b[39;49mmethod,\n\u001b[0;32m    491\u001b[0m             url\u001b[39m=\u001b[39;49murl,\n\u001b[0;32m    492\u001b[0m             body\u001b[39m=\u001b[39;49mrequest\u001b[39m.\u001b[39;49mbody,\n\u001b[0;32m    493\u001b[0m             headers\u001b[39m=\u001b[39;49mrequest\u001b[39m.\u001b[39;49mheaders,\n\u001b[0;32m    494\u001b[0m             redirect\u001b[39m=\u001b[39;49m\u001b[39mFalse\u001b[39;49;00m,\n\u001b[0;32m    495\u001b[0m             assert_same_host\u001b[39m=\u001b[39;49m\u001b[39mFalse\u001b[39;49;00m,\n\u001b[0;32m    496\u001b[0m             preload_content\u001b[39m=\u001b[39;49m\u001b[39mFalse\u001b[39;49;00m,\n\u001b[0;32m    497\u001b[0m             decode_content\u001b[39m=\u001b[39;49m\u001b[39mFalse\u001b[39;49;00m,\n\u001b[0;32m    498\u001b[0m             retries\u001b[39m=\u001b[39;49m\u001b[39mself\u001b[39;49m\u001b[39m.\u001b[39;49mmax_retries,\n\u001b[0;32m    499\u001b[0m             timeout\u001b[39m=\u001b[39;49mtimeout,\n\u001b[0;32m    500\u001b[0m         )\n\u001b[0;32m    502\u001b[0m     \u001b[39m# Send the request.\u001b[39;00m\n\u001b[0;32m    503\u001b[0m     \u001b[39melse\u001b[39;00m:\n\u001b[0;32m    504\u001b[0m         \u001b[39mif\u001b[39;00m \u001b[39mhasattr\u001b[39m(conn, \u001b[39m\"\u001b[39m\u001b[39mproxy_pool\u001b[39m\u001b[39m\"\u001b[39m):\n",
      "File \u001b[1;32mc:\\Users\\sophie.jones\\.virtualenvs\\eda_streamlit-675cm0gE\\lib\\site-packages\\snowflake\\connector\\vendored\\urllib3\\connectionpool.py:703\u001b[0m, in \u001b[0;36mHTTPConnectionPool.urlopen\u001b[1;34m(self, method, url, body, headers, retries, redirect, assert_same_host, timeout, pool_timeout, release_conn, chunked, body_pos, **response_kw)\u001b[0m\n\u001b[0;32m    700\u001b[0m     \u001b[39mself\u001b[39m\u001b[39m.\u001b[39m_prepare_proxy(conn)\n\u001b[0;32m    702\u001b[0m \u001b[39m# Make the request on the httplib connection object.\u001b[39;00m\n\u001b[1;32m--> 703\u001b[0m httplib_response \u001b[39m=\u001b[39m \u001b[39mself\u001b[39;49m\u001b[39m.\u001b[39;49m_make_request(\n\u001b[0;32m    704\u001b[0m     conn,\n\u001b[0;32m    705\u001b[0m     method,\n\u001b[0;32m    706\u001b[0m     url,\n\u001b[0;32m    707\u001b[0m     timeout\u001b[39m=\u001b[39;49mtimeout_obj,\n\u001b[0;32m    708\u001b[0m     body\u001b[39m=\u001b[39;49mbody,\n\u001b[0;32m    709\u001b[0m     headers\u001b[39m=\u001b[39;49mheaders,\n\u001b[0;32m    710\u001b[0m     chunked\u001b[39m=\u001b[39;49mchunked,\n\u001b[0;32m    711\u001b[0m )\n\u001b[0;32m    713\u001b[0m \u001b[39m# If we're going to release the connection in ``finally:``, then\u001b[39;00m\n\u001b[0;32m    714\u001b[0m \u001b[39m# the response doesn't need to know about the connection. Otherwise\u001b[39;00m\n\u001b[0;32m    715\u001b[0m \u001b[39m# it will also try to release it and we'll have a double-release\u001b[39;00m\n\u001b[0;32m    716\u001b[0m \u001b[39m# mess.\u001b[39;00m\n\u001b[0;32m    717\u001b[0m response_conn \u001b[39m=\u001b[39m conn \u001b[39mif\u001b[39;00m \u001b[39mnot\u001b[39;00m release_conn \u001b[39melse\u001b[39;00m \u001b[39mNone\u001b[39;00m\n",
      "File \u001b[1;32mc:\\Users\\sophie.jones\\.virtualenvs\\eda_streamlit-675cm0gE\\lib\\site-packages\\snowflake\\connector\\vendored\\urllib3\\connectionpool.py:449\u001b[0m, in \u001b[0;36mHTTPConnectionPool._make_request\u001b[1;34m(self, conn, method, url, timeout, chunked, **httplib_request_kw)\u001b[0m\n\u001b[0;32m    444\u001b[0m             httplib_response \u001b[39m=\u001b[39m conn\u001b[39m.\u001b[39mgetresponse()\n\u001b[0;32m    445\u001b[0m         \u001b[39mexcept\u001b[39;00m \u001b[39mBaseException\u001b[39;00m \u001b[39mas\u001b[39;00m e:\n\u001b[0;32m    446\u001b[0m             \u001b[39m# Remove the TypeError from the exception chain in\u001b[39;00m\n\u001b[0;32m    447\u001b[0m             \u001b[39m# Python 3 (including for exceptions like SystemExit).\u001b[39;00m\n\u001b[0;32m    448\u001b[0m             \u001b[39m# Otherwise it looks like a bug in the code.\u001b[39;00m\n\u001b[1;32m--> 449\u001b[0m             six\u001b[39m.\u001b[39;49mraise_from(e, \u001b[39mNone\u001b[39;49;00m)\n\u001b[0;32m    450\u001b[0m \u001b[39mexcept\u001b[39;00m (SocketTimeout, BaseSSLError, SocketError) \u001b[39mas\u001b[39;00m e:\n\u001b[0;32m    451\u001b[0m     \u001b[39mself\u001b[39m\u001b[39m.\u001b[39m_raise_timeout(err\u001b[39m=\u001b[39me, url\u001b[39m=\u001b[39murl, timeout_value\u001b[39m=\u001b[39mread_timeout)\n",
      "File \u001b[1;32m<string>:3\u001b[0m, in \u001b[0;36mraise_from\u001b[1;34m(value, from_value)\u001b[0m\n",
      "File \u001b[1;32mc:\\Users\\sophie.jones\\.virtualenvs\\eda_streamlit-675cm0gE\\lib\\site-packages\\snowflake\\connector\\vendored\\urllib3\\connectionpool.py:444\u001b[0m, in \u001b[0;36mHTTPConnectionPool._make_request\u001b[1;34m(self, conn, method, url, timeout, chunked, **httplib_request_kw)\u001b[0m\n\u001b[0;32m    441\u001b[0m \u001b[39mexcept\u001b[39;00m \u001b[39mTypeError\u001b[39;00m:\n\u001b[0;32m    442\u001b[0m     \u001b[39m# Python 3\u001b[39;00m\n\u001b[0;32m    443\u001b[0m     \u001b[39mtry\u001b[39;00m:\n\u001b[1;32m--> 444\u001b[0m         httplib_response \u001b[39m=\u001b[39m conn\u001b[39m.\u001b[39;49mgetresponse()\n\u001b[0;32m    445\u001b[0m     \u001b[39mexcept\u001b[39;00m \u001b[39mBaseException\u001b[39;00m \u001b[39mas\u001b[39;00m e:\n\u001b[0;32m    446\u001b[0m         \u001b[39m# Remove the TypeError from the exception chain in\u001b[39;00m\n\u001b[0;32m    447\u001b[0m         \u001b[39m# Python 3 (including for exceptions like SystemExit).\u001b[39;00m\n\u001b[0;32m    448\u001b[0m         \u001b[39m# Otherwise it looks like a bug in the code.\u001b[39;00m\n\u001b[0;32m    449\u001b[0m         six\u001b[39m.\u001b[39mraise_from(e, \u001b[39mNone\u001b[39;00m)\n",
      "File \u001b[1;32mC:\\Program Files\\WindowsApps\\PythonSoftwareFoundation.Python.3.8_3.8.2800.0_x64__qbz5n2kfra8p0\\lib\\http\\client.py:1344\u001b[0m, in \u001b[0;36mHTTPConnection.getresponse\u001b[1;34m(self)\u001b[0m\n\u001b[0;32m   1342\u001b[0m \u001b[39mtry\u001b[39;00m:\n\u001b[0;32m   1343\u001b[0m     \u001b[39mtry\u001b[39;00m:\n\u001b[1;32m-> 1344\u001b[0m         response\u001b[39m.\u001b[39;49mbegin()\n\u001b[0;32m   1345\u001b[0m     \u001b[39mexcept\u001b[39;00m \u001b[39mConnectionError\u001b[39;00m:\n\u001b[0;32m   1346\u001b[0m         \u001b[39mself\u001b[39m\u001b[39m.\u001b[39mclose()\n",
      "File \u001b[1;32mC:\\Program Files\\WindowsApps\\PythonSoftwareFoundation.Python.3.8_3.8.2800.0_x64__qbz5n2kfra8p0\\lib\\http\\client.py:307\u001b[0m, in \u001b[0;36mHTTPResponse.begin\u001b[1;34m(self)\u001b[0m\n\u001b[0;32m    305\u001b[0m \u001b[39m# read until we get a non-100 response\u001b[39;00m\n\u001b[0;32m    306\u001b[0m \u001b[39mwhile\u001b[39;00m \u001b[39mTrue\u001b[39;00m:\n\u001b[1;32m--> 307\u001b[0m     version, status, reason \u001b[39m=\u001b[39m \u001b[39mself\u001b[39;49m\u001b[39m.\u001b[39;49m_read_status()\n\u001b[0;32m    308\u001b[0m     \u001b[39mif\u001b[39;00m status \u001b[39m!=\u001b[39m CONTINUE:\n\u001b[0;32m    309\u001b[0m         \u001b[39mbreak\u001b[39;00m\n",
      "File \u001b[1;32mC:\\Program Files\\WindowsApps\\PythonSoftwareFoundation.Python.3.8_3.8.2800.0_x64__qbz5n2kfra8p0\\lib\\http\\client.py:268\u001b[0m, in \u001b[0;36mHTTPResponse._read_status\u001b[1;34m(self)\u001b[0m\n\u001b[0;32m    267\u001b[0m \u001b[39mdef\u001b[39;00m \u001b[39m_read_status\u001b[39m(\u001b[39mself\u001b[39m):\n\u001b[1;32m--> 268\u001b[0m     line \u001b[39m=\u001b[39m \u001b[39mstr\u001b[39m(\u001b[39mself\u001b[39;49m\u001b[39m.\u001b[39;49mfp\u001b[39m.\u001b[39;49mreadline(_MAXLINE \u001b[39m+\u001b[39;49m \u001b[39m1\u001b[39;49m), \u001b[39m\"\u001b[39m\u001b[39miso-8859-1\u001b[39m\u001b[39m\"\u001b[39m)\n\u001b[0;32m    269\u001b[0m     \u001b[39mif\u001b[39;00m \u001b[39mlen\u001b[39m(line) \u001b[39m>\u001b[39m _MAXLINE:\n\u001b[0;32m    270\u001b[0m         \u001b[39mraise\u001b[39;00m LineTooLong(\u001b[39m\"\u001b[39m\u001b[39mstatus line\u001b[39m\u001b[39m\"\u001b[39m)\n",
      "File \u001b[1;32mC:\\Program Files\\WindowsApps\\PythonSoftwareFoundation.Python.3.8_3.8.2800.0_x64__qbz5n2kfra8p0\\lib\\socket.py:669\u001b[0m, in \u001b[0;36mSocketIO.readinto\u001b[1;34m(self, b)\u001b[0m\n\u001b[0;32m    667\u001b[0m \u001b[39mwhile\u001b[39;00m \u001b[39mTrue\u001b[39;00m:\n\u001b[0;32m    668\u001b[0m     \u001b[39mtry\u001b[39;00m:\n\u001b[1;32m--> 669\u001b[0m         \u001b[39mreturn\u001b[39;00m \u001b[39mself\u001b[39;49m\u001b[39m.\u001b[39;49m_sock\u001b[39m.\u001b[39;49mrecv_into(b)\n\u001b[0;32m    670\u001b[0m     \u001b[39mexcept\u001b[39;00m timeout:\n\u001b[0;32m    671\u001b[0m         \u001b[39mself\u001b[39m\u001b[39m.\u001b[39m_timeout_occurred \u001b[39m=\u001b[39m \u001b[39mTrue\u001b[39;00m\n",
      "File \u001b[1;32mc:\\Users\\sophie.jones\\.virtualenvs\\eda_streamlit-675cm0gE\\lib\\site-packages\\snowflake\\connector\\vendored\\urllib3\\contrib\\pyopenssl.py:323\u001b[0m, in \u001b[0;36mWrappedSocket.recv_into\u001b[1;34m(self, *args, **kwargs)\u001b[0m\n\u001b[0;32m    321\u001b[0m         \u001b[39mraise\u001b[39;00m\n\u001b[0;32m    322\u001b[0m \u001b[39mexcept\u001b[39;00m OpenSSL\u001b[39m.\u001b[39mSSL\u001b[39m.\u001b[39mWantReadError:\n\u001b[1;32m--> 323\u001b[0m     \u001b[39mif\u001b[39;00m \u001b[39mnot\u001b[39;00m util\u001b[39m.\u001b[39;49mwait_for_read(\u001b[39mself\u001b[39;49m\u001b[39m.\u001b[39;49msocket, \u001b[39mself\u001b[39;49m\u001b[39m.\u001b[39;49msocket\u001b[39m.\u001b[39;49mgettimeout()):\n\u001b[0;32m    324\u001b[0m         \u001b[39mraise\u001b[39;00m timeout(\u001b[39m\"\u001b[39m\u001b[39mThe read operation timed out\u001b[39m\u001b[39m\"\u001b[39m)\n\u001b[0;32m    325\u001b[0m     \u001b[39melse\u001b[39;00m:\n",
      "File \u001b[1;32mc:\\Users\\sophie.jones\\.virtualenvs\\eda_streamlit-675cm0gE\\lib\\site-packages\\snowflake\\connector\\vendored\\urllib3\\util\\wait.py:145\u001b[0m, in \u001b[0;36mwait_for_read\u001b[1;34m(sock, timeout)\u001b[0m\n\u001b[0;32m    141\u001b[0m \u001b[39mdef\u001b[39;00m \u001b[39mwait_for_read\u001b[39m(sock, timeout\u001b[39m=\u001b[39m\u001b[39mNone\u001b[39;00m):\n\u001b[0;32m    142\u001b[0m \u001b[39m    \u001b[39m\u001b[39m\"\"\"Waits for reading to be available on a given socket.\u001b[39;00m\n\u001b[0;32m    143\u001b[0m \u001b[39m    Returns True if the socket is readable, or False if the timeout expired.\u001b[39;00m\n\u001b[0;32m    144\u001b[0m \u001b[39m    \"\"\"\u001b[39;00m\n\u001b[1;32m--> 145\u001b[0m     \u001b[39mreturn\u001b[39;00m wait_for_socket(sock, read\u001b[39m=\u001b[39;49m\u001b[39mTrue\u001b[39;49;00m, timeout\u001b[39m=\u001b[39;49mtimeout)\n",
      "File \u001b[1;32mc:\\Users\\sophie.jones\\.virtualenvs\\eda_streamlit-675cm0gE\\lib\\site-packages\\snowflake\\connector\\vendored\\urllib3\\util\\wait.py:85\u001b[0m, in \u001b[0;36mselect_wait_for_socket\u001b[1;34m(sock, read, write, timeout)\u001b[0m\n\u001b[0;32m     79\u001b[0m \u001b[39m# When doing a non-blocking connect, most systems signal success by\u001b[39;00m\n\u001b[0;32m     80\u001b[0m \u001b[39m# marking the socket writable. Windows, though, signals success by marked\u001b[39;00m\n\u001b[0;32m     81\u001b[0m \u001b[39m# it as \"exceptional\". We paper over the difference by checking the write\u001b[39;00m\n\u001b[0;32m     82\u001b[0m \u001b[39m# sockets for both conditions. (The stdlib selectors module does the same\u001b[39;00m\n\u001b[0;32m     83\u001b[0m \u001b[39m# thing.)\u001b[39;00m\n\u001b[0;32m     84\u001b[0m fn \u001b[39m=\u001b[39m partial(select\u001b[39m.\u001b[39mselect, rcheck, wcheck, wcheck)\n\u001b[1;32m---> 85\u001b[0m rready, wready, xready \u001b[39m=\u001b[39m _retry_on_intr(fn, timeout)\n\u001b[0;32m     86\u001b[0m \u001b[39mreturn\u001b[39;00m \u001b[39mbool\u001b[39m(rready \u001b[39mor\u001b[39;00m wready \u001b[39mor\u001b[39;00m xready)\n",
      "File \u001b[1;32mc:\\Users\\sophie.jones\\.virtualenvs\\eda_streamlit-675cm0gE\\lib\\site-packages\\snowflake\\connector\\vendored\\urllib3\\util\\wait.py:43\u001b[0m, in \u001b[0;36m_retry_on_intr\u001b[1;34m(fn, timeout)\u001b[0m\n\u001b[0;32m     42\u001b[0m \u001b[39mdef\u001b[39;00m \u001b[39m_retry_on_intr\u001b[39m(fn, timeout):\n\u001b[1;32m---> 43\u001b[0m     \u001b[39mreturn\u001b[39;00m fn(timeout)\n",
      "File \u001b[1;32mc:\\Users\\sophie.jones\\.virtualenvs\\eda_streamlit-675cm0gE\\lib\\site-packages\\snowflake\\connector\\cursor.py:510\u001b[0m, in \u001b[0;36mSnowflakeCursor._execute_helper.<locals>.interrupt_handler\u001b[1;34m(*_)\u001b[0m\n\u001b[0;32m    507\u001b[0m         \u001b[39mexcept\u001b[39;00m (\u001b[39mValueError\u001b[39;00m, \u001b[39mTypeError\u001b[39;00m):\n\u001b[0;32m    508\u001b[0m             \u001b[39m# ignore failures\u001b[39;00m\n\u001b[0;32m    509\u001b[0m             \u001b[39mpass\u001b[39;00m\n\u001b[1;32m--> 510\u001b[0m \u001b[39mraise\u001b[39;00m \u001b[39mKeyboardInterrupt\u001b[39;00m\n",
      "\u001b[1;31mKeyboardInterrupt\u001b[0m: "
     ]
    }
   ],
   "source": [
    "#filter unmatched rows\n",
    "unmatched_rows = hits_detail_engagement.filter(hits_detail_engagement[\"HAS_CLICKOUT\"].isNull())\n",
    "\n",
    "# count the number of unmatched rows\n",
    "num_unmatched_rows = unmatched_rows.count()\n",
    "\n",
    "# print the result\n",
    "print(f\"There were {num_unmatched_rows} rows that didn't match.\")"
   ]
  },
  {
   "cell_type": "code",
   "execution_count": 124,
   "id": "0e510f1b",
   "metadata": {},
   "outputs": [
    {
     "data": {
      "text/plain": [
       "['HIT_TIME_UTC',\n",
       " 'PAGE_URL',\n",
       " 'D_COUNTRY_HIST_SK',\n",
       " 'D_SITE_HIST_SK',\n",
       " 'VISIT_DATE_UTC',\n",
       " 'POST_EVAR_LINK_URL',\n",
       " 'POST_EVAR_LINK_TYPE',\n",
       " 'POST_PROP_TIME_ON_PAGE',\n",
       " 'SITE_URL',\n",
       " 'SITE_NAME',\n",
       " 'HAS_CLICKOUT',\n",
       " 'HAS_ENGAGEMENT']"
      ]
     },
     "execution_count": 124,
     "metadata": {},
     "output_type": "execute_result"
    }
   ],
   "source": [
    "hits_detail_engagement.columns"
   ]
  },
  {
   "cell_type": "code",
   "execution_count": null,
   "id": "9884bde8",
   "metadata": {},
   "outputs": [],
   "source": [
    "import re\n",
    "print(int(re.findall(r'\\d+', '120+')[0]))"
   ]
  },
  {
   "cell_type": "code",
   "execution_count": 14,
   "id": "b03e4ca5",
   "metadata": {},
   "outputs": [
    {
     "data": {
      "text/plain": [
       "['HIT_TIME_UTC',\n",
       " 'PAGE_URL',\n",
       " 'D_COUNTRY_HIST_SK',\n",
       " 'D_SITE_HIST_SK',\n",
       " 'VISIT_DATE_UTC',\n",
       " 'POST_EVAR_LINK_URL',\n",
       " 'POST_EVAR_LINK_TYPE',\n",
       " 'POST_PROP_TIME_ON_PAGE',\n",
       " 'SITE_URL',\n",
       " 'SITE_NAME',\n",
       " 'HAS_CLICKOUT',\n",
       " 'HAS_ENGAGEMENT',\n",
       " 'HAS_ENGAGEMENT_TEST']"
      ]
     },
     "execution_count": 14,
     "metadata": {},
     "output_type": "execute_result"
    }
   ],
   "source": [
    "from snowflake.snowpark.types import StringType, BooleanType, IntegerType\n",
    "from snowflake.snowpark.functions import udf\n",
    "from snowflake.snowpark.functions import col\n",
    "import re\n",
    "\n",
    "@udf(name='has_engagement', input_types=[BooleanType(), StringType(), StringType()], return_type=IntegerType(), is_permanent=False, replace=True, session=main_session)\n",
    "\n",
    "def has_engagement_function(has_clickout,post_evar_link_type,post_prop_time_on_page) -> int:\n",
    "    pptop = 0\n",
    "    if str(post_prop_time_on_page) == '[Missing]':\n",
    "        pptop = 0\n",
    "    else:\n",
    "        pptop = int(re.findall(r'\\d+', str(post_prop_time_on_page))[0])\n",
    "\n",
    "    if (has_clickout == True) or (post_evar_link_type == 'Internal') or (pptop>=30):\n",
    "        return 1\n",
    "    else:\n",
    "        return 0\n",
    "\n",
    "hits_detail_engagement_sample = hits_detail_engagement.sample(0.0001)\n",
    "hits_detail_engagement_sample = hits_detail_engagement_sample.withColumn('has_engagement_test', has_engagement_function(col('HAS_CLICKOUT'),col('post_evar_link_type'),col('post_prop_time_on_page')))\n",
    "hits_detail_engagement_sample.columns"
   ]
  },
  {
   "cell_type": "code",
   "execution_count": 15,
   "id": "5d5c7bc5",
   "metadata": {},
   "outputs": [
    {
     "ename": "SnowparkSQLException",
     "evalue": "(1304): 000630 (57014): Statement reached its statement or warehouse timeout of 3,600 second(s) and was canceled.",
     "output_type": "error",
     "traceback": [
      "\u001b[1;31m---------------------------------------------------------------------------\u001b[0m",
      "\u001b[1;31mSnowparkSQLException\u001b[0m                      Traceback (most recent call last)",
      "Cell \u001b[1;32mIn[15], line 1\u001b[0m\n\u001b[1;32m----> 1\u001b[0m hits_detail_engagement_sample\u001b[39m.\u001b[39;49mfilter(col(\u001b[39m'\u001b[39;49m\u001b[39mHAS_ENGAGEMENT\u001b[39;49m\u001b[39m'\u001b[39;49m) \u001b[39m!=\u001b[39;49m col(\u001b[39m'\u001b[39;49m\u001b[39mHAS_ENGAGEMENT_TEST\u001b[39;49m\u001b[39m'\u001b[39;49m))\u001b[39m.\u001b[39;49mcount()\n",
      "File \u001b[1;32mc:\\Users\\sophie.jones\\.virtualenvs\\eda_streamlit-675cm0gE\\lib\\site-packages\\snowflake\\snowpark\\dataframe.py:2526\u001b[0m, in \u001b[0;36mDataFrame.count\u001b[1;34m(self, statement_params, block)\u001b[0m\n\u001b[0;32m   2524\u001b[0m df \u001b[39m=\u001b[39m \u001b[39mself\u001b[39m\u001b[39m.\u001b[39magg((\u001b[39m\"\u001b[39m\u001b[39m*\u001b[39m\u001b[39m\"\u001b[39m, \u001b[39m\"\u001b[39m\u001b[39mcount\u001b[39m\u001b[39m\"\u001b[39m))\n\u001b[0;32m   2525\u001b[0m add_api_call(df, \u001b[39m\"\u001b[39m\u001b[39mDataFrame.count\u001b[39m\u001b[39m\"\u001b[39m)\n\u001b[1;32m-> 2526\u001b[0m result \u001b[39m=\u001b[39m df\u001b[39m.\u001b[39;49m_internal_collect_with_tag(\n\u001b[0;32m   2527\u001b[0m     statement_params\u001b[39m=\u001b[39;49mstatement_params,\n\u001b[0;32m   2528\u001b[0m     block\u001b[39m=\u001b[39;49mblock,\n\u001b[0;32m   2529\u001b[0m     data_type\u001b[39m=\u001b[39;49m_AsyncResultType\u001b[39m.\u001b[39;49mCOUNT,\n\u001b[0;32m   2530\u001b[0m )\n\u001b[0;32m   2531\u001b[0m \u001b[39mreturn\u001b[39;00m result[\u001b[39m0\u001b[39m][\u001b[39m0\u001b[39m] \u001b[39mif\u001b[39;00m block \u001b[39melse\u001b[39;00m result\n",
      "File \u001b[1;32mc:\\Users\\sophie.jones\\.virtualenvs\\eda_streamlit-675cm0gE\\lib\\site-packages\\snowflake\\snowpark\\_internal\\telemetry.py:139\u001b[0m, in \u001b[0;36mdf_collect_api_telemetry.<locals>.wrap\u001b[1;34m(*args, **kwargs)\u001b[0m\n\u001b[0;32m    136\u001b[0m \u001b[39m@functools\u001b[39m\u001b[39m.\u001b[39mwraps(func)\n\u001b[0;32m    137\u001b[0m \u001b[39mdef\u001b[39;00m \u001b[39mwrap\u001b[39m(\u001b[39m*\u001b[39margs, \u001b[39m*\u001b[39m\u001b[39m*\u001b[39mkwargs):\n\u001b[0;32m    138\u001b[0m     \u001b[39mwith\u001b[39;00m args[\u001b[39m0\u001b[39m]\u001b[39m.\u001b[39m_session\u001b[39m.\u001b[39mquery_history() \u001b[39mas\u001b[39;00m query_history:\n\u001b[1;32m--> 139\u001b[0m         result \u001b[39m=\u001b[39m func(\u001b[39m*\u001b[39;49margs, \u001b[39m*\u001b[39;49m\u001b[39m*\u001b[39;49mkwargs)\n\u001b[0;32m    140\u001b[0m     plan \u001b[39m=\u001b[39m args[\u001b[39m0\u001b[39m]\u001b[39m.\u001b[39m_select_statement \u001b[39mor\u001b[39;00m args[\u001b[39m0\u001b[39m]\u001b[39m.\u001b[39m_plan\n\u001b[0;32m    141\u001b[0m     api_calls \u001b[39m=\u001b[39m [\n\u001b[0;32m    142\u001b[0m         \u001b[39m*\u001b[39mplan\u001b[39m.\u001b[39mapi_calls,\n\u001b[0;32m    143\u001b[0m         {TelemetryField\u001b[39m.\u001b[39mNAME\u001b[39m.\u001b[39mvalue: \u001b[39mf\u001b[39m\u001b[39m\"\u001b[39m\u001b[39mDataFrame.\u001b[39m\u001b[39m{\u001b[39;00mfunc\u001b[39m.\u001b[39m\u001b[39m__name__\u001b[39m\u001b[39m}\u001b[39;00m\u001b[39m\"\u001b[39m},\n\u001b[0;32m    144\u001b[0m     ]\n",
      "File \u001b[1;32mc:\\Users\\sophie.jones\\.virtualenvs\\eda_streamlit-675cm0gE\\lib\\site-packages\\snowflake\\snowpark\\dataframe.py:623\u001b[0m, in \u001b[0;36mDataFrame._internal_collect_with_tag_no_telemetry\u001b[1;34m(self, statement_params, block, data_type, log_on_exception, case_sensitive)\u001b[0m\n\u001b[0;32m    611\u001b[0m \u001b[39mdef\u001b[39;00m \u001b[39m_internal_collect_with_tag_no_telemetry\u001b[39m(\n\u001b[0;32m    612\u001b[0m     \u001b[39mself\u001b[39m,\n\u001b[0;32m    613\u001b[0m     \u001b[39m*\u001b[39m,\n\u001b[1;32m   (...)\u001b[0m\n\u001b[0;32m    621\u001b[0m     \u001b[39m# we should always call this method instead of collect(), to make sure the\u001b[39;00m\n\u001b[0;32m    622\u001b[0m     \u001b[39m# query tag is set properly.\u001b[39;00m\n\u001b[1;32m--> 623\u001b[0m     \u001b[39mreturn\u001b[39;00m \u001b[39mself\u001b[39;49m\u001b[39m.\u001b[39;49m_session\u001b[39m.\u001b[39;49m_conn\u001b[39m.\u001b[39;49mexecute(\n\u001b[0;32m    624\u001b[0m         \u001b[39mself\u001b[39;49m\u001b[39m.\u001b[39;49m_plan,\n\u001b[0;32m    625\u001b[0m         block\u001b[39m=\u001b[39;49mblock,\n\u001b[0;32m    626\u001b[0m         data_type\u001b[39m=\u001b[39;49mdata_type,\n\u001b[0;32m    627\u001b[0m         _statement_params\u001b[39m=\u001b[39;49mcreate_or_update_statement_params_with_query_tag(\n\u001b[0;32m    628\u001b[0m             statement_params \u001b[39mor\u001b[39;49;00m \u001b[39mself\u001b[39;49m\u001b[39m.\u001b[39;49m_statement_params,\n\u001b[0;32m    629\u001b[0m             \u001b[39mself\u001b[39;49m\u001b[39m.\u001b[39;49m_session\u001b[39m.\u001b[39;49mquery_tag,\n\u001b[0;32m    630\u001b[0m             SKIP_LEVELS_THREE,\n\u001b[0;32m    631\u001b[0m         ),\n\u001b[0;32m    632\u001b[0m         log_on_exception\u001b[39m=\u001b[39;49mlog_on_exception,\n\u001b[0;32m    633\u001b[0m         case_sensitive\u001b[39m=\u001b[39;49mcase_sensitive,\n\u001b[0;32m    634\u001b[0m     )\n",
      "File \u001b[1;32mc:\\Users\\sophie.jones\\.virtualenvs\\eda_streamlit-675cm0gE\\lib\\site-packages\\snowflake\\snowpark\\_internal\\server_connection.py:442\u001b[0m, in \u001b[0;36mServerConnection.execute\u001b[1;34m(self, plan, to_pandas, to_iter, block, data_type, log_on_exception, case_sensitive, **kwargs)\u001b[0m\n\u001b[0;32m    438\u001b[0m \u001b[39mif\u001b[39;00m is_in_stored_procedure() \u001b[39mand\u001b[39;00m \u001b[39mnot\u001b[39;00m block:  \u001b[39m# pragma: no cover\u001b[39;00m\n\u001b[0;32m    439\u001b[0m     \u001b[39mraise\u001b[39;00m \u001b[39mNotImplementedError\u001b[39;00m(\n\u001b[0;32m    440\u001b[0m         \u001b[39m\"\u001b[39m\u001b[39mAsync query is not supported in stored procedure yet\u001b[39m\u001b[39m\"\u001b[39m\n\u001b[0;32m    441\u001b[0m     )\n\u001b[1;32m--> 442\u001b[0m result_set, result_meta \u001b[39m=\u001b[39m \u001b[39mself\u001b[39;49m\u001b[39m.\u001b[39;49mget_result_set(\n\u001b[0;32m    443\u001b[0m     plan,\n\u001b[0;32m    444\u001b[0m     to_pandas,\n\u001b[0;32m    445\u001b[0m     to_iter,\n\u001b[0;32m    446\u001b[0m     \u001b[39m*\u001b[39;49m\u001b[39m*\u001b[39;49mkwargs,\n\u001b[0;32m    447\u001b[0m     block\u001b[39m=\u001b[39;49mblock,\n\u001b[0;32m    448\u001b[0m     data_type\u001b[39m=\u001b[39;49mdata_type,\n\u001b[0;32m    449\u001b[0m     log_on_exception\u001b[39m=\u001b[39;49mlog_on_exception,\n\u001b[0;32m    450\u001b[0m     case_sensitive\u001b[39m=\u001b[39;49mcase_sensitive,\n\u001b[0;32m    451\u001b[0m )\n\u001b[0;32m    452\u001b[0m \u001b[39mif\u001b[39;00m \u001b[39mnot\u001b[39;00m block:\n\u001b[0;32m    453\u001b[0m     \u001b[39mreturn\u001b[39;00m result_set\n",
      "File \u001b[1;32mc:\\Users\\sophie.jones\\.virtualenvs\\eda_streamlit-675cm0gE\\lib\\site-packages\\snowflake\\snowpark\\_internal\\analyzer\\snowflake_plan.py:179\u001b[0m, in \u001b[0;36mSnowflakePlan.Decorator.wrap_exception.<locals>.wrap\u001b[1;34m(*args, **kwargs)\u001b[0m\n\u001b[0;32m    175\u001b[0m \u001b[39melse\u001b[39;00m:\n\u001b[0;32m    176\u001b[0m     ne \u001b[39m=\u001b[39m SnowparkClientExceptionMessages\u001b[39m.\u001b[39mSQL_EXCEPTION_FROM_PROGRAMMING_ERROR(\n\u001b[0;32m    177\u001b[0m         e\n\u001b[0;32m    178\u001b[0m     )\n\u001b[1;32m--> 179\u001b[0m     \u001b[39mraise\u001b[39;00m ne\u001b[39m.\u001b[39mwith_traceback(tb) \u001b[39mfrom\u001b[39;00m \u001b[39mNone\u001b[39;00m\n",
      "File \u001b[1;32mc:\\Users\\sophie.jones\\.virtualenvs\\eda_streamlit-675cm0gE\\lib\\site-packages\\snowflake\\snowpark\\_internal\\analyzer\\snowflake_plan.py:109\u001b[0m, in \u001b[0;36mSnowflakePlan.Decorator.wrap_exception.<locals>.wrap\u001b[1;34m(*args, **kwargs)\u001b[0m\n\u001b[0;32m    107\u001b[0m \u001b[39mdef\u001b[39;00m \u001b[39mwrap\u001b[39m(\u001b[39m*\u001b[39margs, \u001b[39m*\u001b[39m\u001b[39m*\u001b[39mkwargs):\n\u001b[0;32m    108\u001b[0m     \u001b[39mtry\u001b[39;00m:\n\u001b[1;32m--> 109\u001b[0m         \u001b[39mreturn\u001b[39;00m func(\u001b[39m*\u001b[39;49margs, \u001b[39m*\u001b[39;49m\u001b[39m*\u001b[39;49mkwargs)\n\u001b[0;32m    110\u001b[0m     \u001b[39mexcept\u001b[39;00m snowflake\u001b[39m.\u001b[39mconnector\u001b[39m.\u001b[39merrors\u001b[39m.\u001b[39mProgrammingError \u001b[39mas\u001b[39;00m e:\n\u001b[0;32m    111\u001b[0m         query \u001b[39m=\u001b[39m \u001b[39mNone\u001b[39;00m\n",
      "File \u001b[1;32mc:\\Users\\sophie.jones\\.virtualenvs\\eda_streamlit-675cm0gE\\lib\\site-packages\\snowflake\\snowpark\\_internal\\server_connection.py:550\u001b[0m, in \u001b[0;36mServerConnection.get_result_set\u001b[1;34m(self, plan, to_pandas, to_iter, block, data_type, log_on_exception, case_sensitive, **kwargs)\u001b[0m\n\u001b[0;32m    548\u001b[0m \u001b[39mfor\u001b[39;00m holder, id_ \u001b[39min\u001b[39;00m placeholders\u001b[39m.\u001b[39mitems():\n\u001b[0;32m    549\u001b[0m     final_query \u001b[39m=\u001b[39m final_query\u001b[39m.\u001b[39mreplace(holder, id_)\n\u001b[1;32m--> 550\u001b[0m result \u001b[39m=\u001b[39m \u001b[39mself\u001b[39;49m\u001b[39m.\u001b[39;49mrun_query(\n\u001b[0;32m    551\u001b[0m     final_query,\n\u001b[0;32m    552\u001b[0m     to_pandas,\n\u001b[0;32m    553\u001b[0m     to_iter \u001b[39mand\u001b[39;49;00m (i \u001b[39m==\u001b[39;49m \u001b[39mlen\u001b[39;49m(plan\u001b[39m.\u001b[39;49mqueries) \u001b[39m-\u001b[39;49m \u001b[39m1\u001b[39;49m),\n\u001b[0;32m    554\u001b[0m     is_ddl_on_temp_object\u001b[39m=\u001b[39;49mquery\u001b[39m.\u001b[39;49mis_ddl_on_temp_object,\n\u001b[0;32m    555\u001b[0m     block\u001b[39m=\u001b[39;49m\u001b[39mnot\u001b[39;49;00m is_last,\n\u001b[0;32m    556\u001b[0m     data_type\u001b[39m=\u001b[39;49mdata_type,\n\u001b[0;32m    557\u001b[0m     async_job_plan\u001b[39m=\u001b[39;49mplan,\n\u001b[0;32m    558\u001b[0m     log_on_exception\u001b[39m=\u001b[39;49mlog_on_exception,\n\u001b[0;32m    559\u001b[0m     case_sensitive\u001b[39m=\u001b[39;49mcase_sensitive,\n\u001b[0;32m    560\u001b[0m     params\u001b[39m=\u001b[39;49mquery\u001b[39m.\u001b[39;49mparams,\n\u001b[0;32m    561\u001b[0m     \u001b[39m*\u001b[39;49m\u001b[39m*\u001b[39;49mkwargs,\n\u001b[0;32m    562\u001b[0m )\n\u001b[0;32m    563\u001b[0m placeholders[query\u001b[39m.\u001b[39mquery_id_place_holder] \u001b[39m=\u001b[39m (\n\u001b[0;32m    564\u001b[0m     result[\u001b[39m\"\u001b[39m\u001b[39msfqid\u001b[39m\u001b[39m\"\u001b[39m] \u001b[39mif\u001b[39;00m \u001b[39mnot\u001b[39;00m is_last \u001b[39melse\u001b[39;00m result\u001b[39m.\u001b[39mquery_id\n\u001b[0;32m    565\u001b[0m )\n\u001b[0;32m    566\u001b[0m result_meta \u001b[39m=\u001b[39m \u001b[39mself\u001b[39m\u001b[39m.\u001b[39m_cursor\u001b[39m.\u001b[39mdescription\n",
      "File \u001b[1;32mc:\\Users\\sophie.jones\\.virtualenvs\\eda_streamlit-675cm0gE\\lib\\site-packages\\snowflake\\snowpark\\_internal\\server_connection.py:102\u001b[0m, in \u001b[0;36mServerConnection._Decorator.wrap_exception.<locals>.wrap\u001b[1;34m(*args, **kwargs)\u001b[0m\n\u001b[0;32m     98\u001b[0m     \u001b[39mraise\u001b[39;00m SnowparkClientExceptionMessages\u001b[39m.\u001b[39mSERVER_SESSION_EXPIRED(\n\u001b[0;32m     99\u001b[0m         ex\u001b[39m.\u001b[39mcause\n\u001b[0;32m    100\u001b[0m     )\n\u001b[0;32m    101\u001b[0m \u001b[39mexcept\u001b[39;00m \u001b[39mException\u001b[39;00m \u001b[39mas\u001b[39;00m ex:\n\u001b[1;32m--> 102\u001b[0m     \u001b[39mraise\u001b[39;00m ex\n",
      "File \u001b[1;32mc:\\Users\\sophie.jones\\.virtualenvs\\eda_streamlit-675cm0gE\\lib\\site-packages\\snowflake\\snowpark\\_internal\\server_connection.py:96\u001b[0m, in \u001b[0;36mServerConnection._Decorator.wrap_exception.<locals>.wrap\u001b[1;34m(*args, **kwargs)\u001b[0m\n\u001b[0;32m     94\u001b[0m     \u001b[39mraise\u001b[39;00m SnowparkClientExceptionMessages\u001b[39m.\u001b[39mSERVER_SESSION_HAS_BEEN_CLOSED()\n\u001b[0;32m     95\u001b[0m \u001b[39mtry\u001b[39;00m:\n\u001b[1;32m---> 96\u001b[0m     \u001b[39mreturn\u001b[39;00m func(\u001b[39m*\u001b[39;49margs, \u001b[39m*\u001b[39;49m\u001b[39m*\u001b[39;49mkwargs)\n\u001b[0;32m     97\u001b[0m \u001b[39mexcept\u001b[39;00m ReauthenticationRequest \u001b[39mas\u001b[39;00m ex:\n\u001b[0;32m     98\u001b[0m     \u001b[39mraise\u001b[39;00m SnowparkClientExceptionMessages\u001b[39m.\u001b[39mSERVER_SESSION_EXPIRED(\n\u001b[0;32m     99\u001b[0m         ex\u001b[39m.\u001b[39mcause\n\u001b[0;32m    100\u001b[0m     )\n",
      "File \u001b[1;32mc:\\Users\\sophie.jones\\.virtualenvs\\eda_streamlit-675cm0gE\\lib\\site-packages\\snowflake\\snowpark\\_internal\\server_connection.py:365\u001b[0m, in \u001b[0;36mServerConnection.run_query\u001b[1;34m(self, query, to_pandas, to_iter, is_ddl_on_temp_object, block, data_type, async_job_plan, log_on_exception, case_sensitive, params, **kwargs)\u001b[0m\n\u001b[0;32m    363\u001b[0m         query_id_log \u001b[39m=\u001b[39m \u001b[39mf\u001b[39m\u001b[39m\"\u001b[39m\u001b[39m [queryID: \u001b[39m\u001b[39m{\u001b[39;00mex\u001b[39m.\u001b[39msfqid\u001b[39m}\u001b[39;00m\u001b[39m]\u001b[39m\u001b[39m\"\u001b[39m \u001b[39mif\u001b[39;00m \u001b[39mhasattr\u001b[39m(ex, \u001b[39m\"\u001b[39m\u001b[39msfqid\u001b[39m\u001b[39m\"\u001b[39m) \u001b[39melse\u001b[39;00m \u001b[39m\"\u001b[39m\u001b[39m\"\u001b[39m\n\u001b[0;32m    364\u001b[0m         logger\u001b[39m.\u001b[39merror(\u001b[39mf\u001b[39m\u001b[39m\"\u001b[39m\u001b[39mFailed to execute query\u001b[39m\u001b[39m{\u001b[39;00mquery_id_log\u001b[39m}\u001b[39;00m\u001b[39m \u001b[39m\u001b[39m{\u001b[39;00mquery\u001b[39m}\u001b[39;00m\u001b[39m\\n\u001b[39;00m\u001b[39m{\u001b[39;00mex\u001b[39m}\u001b[39;00m\u001b[39m\"\u001b[39m)\n\u001b[1;32m--> 365\u001b[0m     \u001b[39mraise\u001b[39;00m ex\n\u001b[0;32m    367\u001b[0m \u001b[39m# fetch_pandas_all/batches() only works for SELECT statements\u001b[39;00m\n\u001b[0;32m    368\u001b[0m \u001b[39m# We call fetchall() if fetch_pandas_all/batches() fails,\u001b[39;00m\n\u001b[0;32m    369\u001b[0m \u001b[39m# because when the query plan has multiple queries, it will\u001b[39;00m\n\u001b[0;32m    370\u001b[0m \u001b[39m# have non-select statements, and it shouldn't fail if the user\u001b[39;00m\n\u001b[0;32m    371\u001b[0m \u001b[39m# calls to_pandas() to execute the query.\u001b[39;00m\n\u001b[0;32m    372\u001b[0m \u001b[39mif\u001b[39;00m block:\n",
      "File \u001b[1;32mc:\\Users\\sophie.jones\\.virtualenvs\\eda_streamlit-675cm0gE\\lib\\site-packages\\snowflake\\snowpark\\_internal\\server_connection.py:346\u001b[0m, in \u001b[0;36mServerConnection.run_query\u001b[1;34m(self, query, to_pandas, to_iter, is_ddl_on_temp_object, block, data_type, async_job_plan, log_on_exception, case_sensitive, params, **kwargs)\u001b[0m\n\u001b[0;32m    344\u001b[0m     kwargs[\u001b[39m\"\u001b[39m\u001b[39m_statement_params\u001b[39m\u001b[39m\"\u001b[39m][\u001b[39m\"\u001b[39m\u001b[39mSNOWPARK_SKIP_TXN_COMMIT_IN_DDL\u001b[39m\u001b[39m\"\u001b[39m] \u001b[39m=\u001b[39m \u001b[39mTrue\u001b[39;00m\n\u001b[0;32m    345\u001b[0m \u001b[39mif\u001b[39;00m block:\n\u001b[1;32m--> 346\u001b[0m     results_cursor \u001b[39m=\u001b[39m \u001b[39mself\u001b[39;49m\u001b[39m.\u001b[39;49m_cursor\u001b[39m.\u001b[39;49mexecute(query, params\u001b[39m=\u001b[39;49mparams, \u001b[39m*\u001b[39;49m\u001b[39m*\u001b[39;49mkwargs)\n\u001b[0;32m    347\u001b[0m     \u001b[39mself\u001b[39m\u001b[39m.\u001b[39mnotify_query_listeners(\n\u001b[0;32m    348\u001b[0m         QueryRecord(results_cursor\u001b[39m.\u001b[39msfqid, results_cursor\u001b[39m.\u001b[39mquery)\n\u001b[0;32m    349\u001b[0m     )\n\u001b[0;32m    350\u001b[0m     logger\u001b[39m.\u001b[39mdebug(\u001b[39mf\u001b[39m\u001b[39m\"\u001b[39m\u001b[39mExecute query [queryID: \u001b[39m\u001b[39m{\u001b[39;00mresults_cursor\u001b[39m.\u001b[39msfqid\u001b[39m}\u001b[39;00m\u001b[39m] \u001b[39m\u001b[39m{\u001b[39;00mquery\u001b[39m}\u001b[39;00m\u001b[39m\"\u001b[39m)\n",
      "File \u001b[1;32mc:\\Users\\sophie.jones\\.virtualenvs\\eda_streamlit-675cm0gE\\lib\\site-packages\\snowflake\\connector\\cursor.py:904\u001b[0m, in \u001b[0;36mSnowflakeCursor.execute\u001b[1;34m(self, command, params, _bind_stage, timeout, _exec_async, _no_retry, _do_reset, _put_callback, _put_azure_callback, _put_callback_output_stream, _get_callback, _get_azure_callback, _get_callback_output_stream, _show_progress_bar, _statement_params, _is_internal, _describe_only, _no_results, _is_put_get, _raise_put_get_error, _force_put_overwrite, _skip_upload_on_content_match, file_stream, num_statements)\u001b[0m\n\u001b[0;32m    900\u001b[0m     is_integrity_error \u001b[39m=\u001b[39m (\n\u001b[0;32m    901\u001b[0m         code \u001b[39m==\u001b[39m \u001b[39m\"\u001b[39m\u001b[39m100072\u001b[39m\u001b[39m\"\u001b[39m\n\u001b[0;32m    902\u001b[0m     )  \u001b[39m# NULL result in a non-nullable column\u001b[39;00m\n\u001b[0;32m    903\u001b[0m     error_class \u001b[39m=\u001b[39m IntegrityError \u001b[39mif\u001b[39;00m is_integrity_error \u001b[39melse\u001b[39;00m ProgrammingError\n\u001b[1;32m--> 904\u001b[0m     Error\u001b[39m.\u001b[39;49merrorhandler_wrapper(\u001b[39mself\u001b[39;49m\u001b[39m.\u001b[39;49mconnection, \u001b[39mself\u001b[39;49m, error_class, errvalue)\n\u001b[0;32m    905\u001b[0m \u001b[39mreturn\u001b[39;00m \u001b[39mself\u001b[39m\n",
      "File \u001b[1;32mc:\\Users\\sophie.jones\\.virtualenvs\\eda_streamlit-675cm0gE\\lib\\site-packages\\snowflake\\connector\\errors.py:290\u001b[0m, in \u001b[0;36mError.errorhandler_wrapper\u001b[1;34m(connection, cursor, error_class, error_value)\u001b[0m\n\u001b[0;32m    267\u001b[0m \u001b[39m@staticmethod\u001b[39m\n\u001b[0;32m    268\u001b[0m \u001b[39mdef\u001b[39;00m \u001b[39merrorhandler_wrapper\u001b[39m(\n\u001b[0;32m    269\u001b[0m     connection: SnowflakeConnection \u001b[39m|\u001b[39m \u001b[39mNone\u001b[39;00m,\n\u001b[1;32m   (...)\u001b[0m\n\u001b[0;32m    272\u001b[0m     error_value: \u001b[39mdict\u001b[39m[\u001b[39mstr\u001b[39m, Any],\n\u001b[0;32m    273\u001b[0m ) \u001b[39m-\u001b[39m\u001b[39m>\u001b[39m \u001b[39mNone\u001b[39;00m:\n\u001b[0;32m    274\u001b[0m \u001b[39m    \u001b[39m\u001b[39m\"\"\"Error handler wrapper that calls the errorhandler method.\u001b[39;00m\n\u001b[0;32m    275\u001b[0m \n\u001b[0;32m    276\u001b[0m \u001b[39m    Args:\u001b[39;00m\n\u001b[1;32m   (...)\u001b[0m\n\u001b[0;32m    287\u001b[0m \u001b[39m        exception to the first handler in that order.\u001b[39;00m\n\u001b[0;32m    288\u001b[0m \u001b[39m    \"\"\"\u001b[39;00m\n\u001b[1;32m--> 290\u001b[0m     handed_over \u001b[39m=\u001b[39m Error\u001b[39m.\u001b[39;49mhand_to_other_handler(\n\u001b[0;32m    291\u001b[0m         connection,\n\u001b[0;32m    292\u001b[0m         cursor,\n\u001b[0;32m    293\u001b[0m         error_class,\n\u001b[0;32m    294\u001b[0m         error_value,\n\u001b[0;32m    295\u001b[0m     )\n\u001b[0;32m    296\u001b[0m     \u001b[39mif\u001b[39;00m \u001b[39mnot\u001b[39;00m handed_over:\n\u001b[0;32m    297\u001b[0m         \u001b[39mraise\u001b[39;00m Error\u001b[39m.\u001b[39merrorhandler_make_exception(\n\u001b[0;32m    298\u001b[0m             error_class,\n\u001b[0;32m    299\u001b[0m             error_value,\n\u001b[0;32m    300\u001b[0m         )\n",
      "File \u001b[1;32mc:\\Users\\sophie.jones\\.virtualenvs\\eda_streamlit-675cm0gE\\lib\\site-packages\\snowflake\\connector\\errors.py:345\u001b[0m, in \u001b[0;36mError.hand_to_other_handler\u001b[1;34m(connection, cursor, error_class, error_value)\u001b[0m\n\u001b[0;32m    343\u001b[0m \u001b[39mif\u001b[39;00m cursor \u001b[39mis\u001b[39;00m \u001b[39mnot\u001b[39;00m \u001b[39mNone\u001b[39;00m:\n\u001b[0;32m    344\u001b[0m     cursor\u001b[39m.\u001b[39mmessages\u001b[39m.\u001b[39mappend((error_class, error_value))\n\u001b[1;32m--> 345\u001b[0m     cursor\u001b[39m.\u001b[39;49merrorhandler(connection, cursor, error_class, error_value)\n\u001b[0;32m    346\u001b[0m     \u001b[39mreturn\u001b[39;00m \u001b[39mTrue\u001b[39;00m\n\u001b[0;32m    347\u001b[0m \u001b[39melif\u001b[39;00m connection \u001b[39mis\u001b[39;00m \u001b[39mnot\u001b[39;00m \u001b[39mNone\u001b[39;00m:\n",
      "File \u001b[1;32mc:\\Users\\sophie.jones\\.virtualenvs\\eda_streamlit-675cm0gE\\lib\\site-packages\\snowflake\\connector\\errors.py:221\u001b[0m, in \u001b[0;36mError.default_errorhandler\u001b[1;34m(connection, cursor, error_class, error_value)\u001b[0m\n\u001b[0;32m    219\u001b[0m errno \u001b[39m=\u001b[39m error_value\u001b[39m.\u001b[39mget(\u001b[39m\"\u001b[39m\u001b[39merrno\u001b[39m\u001b[39m\"\u001b[39m)\n\u001b[0;32m    220\u001b[0m done_format_msg \u001b[39m=\u001b[39m error_value\u001b[39m.\u001b[39mget(\u001b[39m\"\u001b[39m\u001b[39mdone_format_msg\u001b[39m\u001b[39m\"\u001b[39m)\n\u001b[1;32m--> 221\u001b[0m \u001b[39mraise\u001b[39;00m error_class(\n\u001b[0;32m    222\u001b[0m     msg\u001b[39m=\u001b[39merror_value\u001b[39m.\u001b[39mget(\u001b[39m\"\u001b[39m\u001b[39mmsg\u001b[39m\u001b[39m\"\u001b[39m),\n\u001b[0;32m    223\u001b[0m     errno\u001b[39m=\u001b[39m\u001b[39mNone\u001b[39;00m \u001b[39mif\u001b[39;00m errno \u001b[39mis\u001b[39;00m \u001b[39mNone\u001b[39;00m \u001b[39melse\u001b[39;00m \u001b[39mint\u001b[39m(errno),\n\u001b[0;32m    224\u001b[0m     sqlstate\u001b[39m=\u001b[39merror_value\u001b[39m.\u001b[39mget(\u001b[39m\"\u001b[39m\u001b[39msqlstate\u001b[39m\u001b[39m\"\u001b[39m),\n\u001b[0;32m    225\u001b[0m     sfqid\u001b[39m=\u001b[39merror_value\u001b[39m.\u001b[39mget(\u001b[39m\"\u001b[39m\u001b[39msfqid\u001b[39m\u001b[39m\"\u001b[39m),\n\u001b[0;32m    226\u001b[0m     query\u001b[39m=\u001b[39merror_value\u001b[39m.\u001b[39mget(\u001b[39m\"\u001b[39m\u001b[39mquery\u001b[39m\u001b[39m\"\u001b[39m),\n\u001b[0;32m    227\u001b[0m     done_format_msg\u001b[39m=\u001b[39m(\n\u001b[0;32m    228\u001b[0m         \u001b[39mNone\u001b[39;00m \u001b[39mif\u001b[39;00m done_format_msg \u001b[39mis\u001b[39;00m \u001b[39mNone\u001b[39;00m \u001b[39melse\u001b[39;00m \u001b[39mbool\u001b[39m(done_format_msg)\n\u001b[0;32m    229\u001b[0m     ),\n\u001b[0;32m    230\u001b[0m     connection\u001b[39m=\u001b[39mconnection,\n\u001b[0;32m    231\u001b[0m     cursor\u001b[39m=\u001b[39mcursor,\n\u001b[0;32m    232\u001b[0m )\n",
      "\u001b[1;31mSnowparkSQLException\u001b[0m: (1304): 000630 (57014): Statement reached its statement or warehouse timeout of 3,600 second(s) and was canceled."
     ]
    }
   ],
   "source": [
    "hits_detail_engagement_sample.filter(col('HAS_ENGAGEMENT') != col('HAS_ENGAGEMENT_TEST')).count()"
   ]
  },
  {
   "cell_type": "code",
   "execution_count": null,
   "id": "f524791d",
   "metadata": {},
   "outputs": [],
   "source": [
    "hits_detail_engagement_sample.count()"
   ]
  },
  {
   "cell_type": "code",
   "execution_count": null,
   "id": "3292a8ba",
   "metadata": {},
   "outputs": [],
   "source": []
  },
  {
   "cell_type": "code",
   "execution_count": 127,
   "id": "64c81a53",
   "metadata": {},
   "outputs": [],
   "source": [
    "hits_detail_engagement.filter((col(\"POST_EVAR_LINK_TYPE\") != '[Missing]') | (col(\"POST_PROP_TIME_ON_PAGE\")!='[Missing]')).select('PAGE_URL','VISIT_DATE_UTC','D_COUNTRY_HIST_SK','HAS_ENGAGEMENT','HAS_ENGAGEMENT_TEST','HAS_CLICKOUT','post_evar_link_type','post_prop_time_on_page').show(25)"
   ]
  },
  {
   "cell_type": "code",
   "execution_count": null,
   "id": "2b5e7df5",
   "metadata": {},
   "outputs": [],
   "source": [
    "#filter unmatched rows\n",
    "unmatched_rows = result.filter(result[\"HAS_CLICKOUT\"].isNull())\n",
    "\n",
    "# count the number of unmatched rows\n",
    "num_unmatched_rows = unmatched_rows.count()\n",
    "\n",
    "# print the result\n",
    "print(f\"There were {num_unmatched_rows} rows that didn't match.\")"
   ]
  },
  {
   "cell_type": "code",
   "execution_count": null,
   "id": "775c4473",
   "metadata": {},
   "outputs": [],
   "source": [
    "f_aa_hits_detail.select()"
   ]
  },
  {
   "cell_type": "code",
   "execution_count": null,
   "id": "a300ee72",
   "metadata": {},
   "outputs": [],
   "source": []
  },
  {
   "cell_type": "code",
   "execution_count": null,
   "id": "080def6d",
   "metadata": {},
   "outputs": [],
   "source": [
    "could use category from d_page_hist and create and engament rate based on commercial; vs non comericsl"
   ]
  },
  {
   "cell_type": "code",
   "execution_count": null,
   "id": "611a1308",
   "metadata": {},
   "outputs": [],
   "source": []
  },
  {
   "attachments": {},
   "cell_type": "markdown",
   "id": "26470c84",
   "metadata": {},
   "source": [
    "## Changed plan to recreate on visit level \n",
    "- as missing tos at hit level - could go back and calculate in the future"
   ]
  },
  {
   "cell_type": "code",
   "execution_count": 105,
   "id": "b5556f3e",
   "metadata": {},
   "outputs": [
    {
     "name": "stdout",
     "output_type": "stream",
     "text": [
      "Initiating login request with your identity provider. A browser window should have opened for you to complete the login. If you can't see it, check existing browser windows, or your OS settings. Press CTRL+C to abort and try again...\n",
      "Going to open: https://netman.okta.com/app/snowflake/exk5idnkinyNtZ20m417/sso/saml?SAMLRequest=lVJNT%2BMwFPwrkfec2ElTWKy2qEuEtrsFsrRlJW4meU2tJHbwc5r236%2FTDwQHkPZmPc94xjNvdL2rK28LBqVWYxIGjHigMp1LVYzJannrfyceWqFyUWkFY7IHJNeTEYq6avi0tRv1CK8toPXcQwp5fzEmrVFcC5TIlagBuc34Yno351HAuEAEY50cOVFylE5rY23DKe26LugGgTYFjRhjlF1Rh%2Boh38g7ieZrjcZoqzNdnSk796dPJELK4l7CIZxCeiL%2BkOoYwVcqL0cQ8p%2FLZeqnD4sl8abn391ohW0NZgFmKzNYPc6PBtA5KDC%2BYCwOoPU7F50fBqh0t65ECZmum9a6VwN3omvIaaUL6bKaJWPSlDJPfqVWRzuxTSAp65c%2F6cXm70oscA750%2B%2B7hxiFrET%2Byoq2yIj3dG426pudIbYwU32f1o1YNPDZ0A%2BHy3DAGePxZeBmz8RLnCmphD0wz6YV2FqoQJdWHLyJpqFvtinsyqHMVSnV%2Ft4%2BR6yOw0uKqGnfFjkuDD%2Fom8n%2FxjCi79mn3bt3dcySVFcy23u32tTCft5WGISHicz99QHKoXY5TfPcAKJrrap0d2NAWLfi1rRA6OSo%2BnHJJ%2F8A&RelayState=63546 to authenticate...\n"
     ]
    },
    {
     "data": {
      "text/plain": [
       "['VISIT_DATE_UTC',\n",
       " 'D_SITE_HIST_SK',\n",
       " 'VISIT_DATE_TIME_UTC',\n",
       " 'VISIT_ID',\n",
       " 'DEVICE_TYPE',\n",
       " 'CONNECTION_TYPE',\n",
       " 'D_COUNTRY_HIST_SK',\n",
       " 'STATE_CODE',\n",
       " 'D_USER_LANGUAGE_SK',\n",
       " 'VISIT_REFERRER_TYPE',\n",
       " 'VISIT_SEARCH_ENGINE',\n",
       " 'TIME_ON_SITE_SECONDS',\n",
       " 'SITE_VISIT_CONVERSION',\n",
       " 'SITE_VISIT_UNQIUE_CLICKOUT',\n",
       " 'SITE_VISIT_TOTAL_CLICKOUT',\n",
       " 'SITE_VISIT_ENGAGEMENT',\n",
       " 'SITE_VISIT_BOUNCE',\n",
       " 'HAS_PAGE_VIEW_POKER',\n",
       " 'SITE_VISIT_CONVERSION_POKER',\n",
       " 'SITE_VISIT_UNIQUE_CLICKOUT_POKER',\n",
       " 'SITE_VISIT_TOTAL_CLICKOUT_POKER',\n",
       " 'SITE_VISIT_ENGAGEMENT_POKER',\n",
       " 'SITE_VISIT_BOUNCE_POKER',\n",
       " 'HAS_PAGE_VIEW_CASINO',\n",
       " 'SITE_VISIT_CONVERSION_CASINO',\n",
       " 'SITE_VISIT_UNIQUE_CLICKOUT_CASINO',\n",
       " 'SITE_VISIT_TOTAL_CLICKOUT_CASINO',\n",
       " 'SITE_VISIT_ENGAGEMENT_CASINO',\n",
       " 'SITE_VISIT_BOUNCE_CASINO',\n",
       " 'HAS_PAGE_VIEW_SPORTS',\n",
       " 'SITE_VISIT_CONVERSION_SPORTS',\n",
       " 'SITE_VISIT_UNIQUE_CLICKOUT_SPORTS',\n",
       " 'SITE_VISIT_TOTAL_CLICKOUT_SPORTS',\n",
       " 'SITE_VISIT_ENGAGEMENT_SPORTS',\n",
       " 'SITE_VISIT_BOUNCE_SPORTS',\n",
       " 'ETL_LOAD_TIME',\n",
       " 'ETL_DAG_ID',\n",
       " 'ETL_TASK_ID',\n",
       " 'ETL_LOGICAL_DATE_TIME',\n",
       " 'CHANNEL_NAME',\n",
       " 'IS_FIRST_VISIT',\n",
       " 'VISIT_START_PAGE_URL',\n",
       " 'VISIT_START_D_PAGE_HIST_SK',\n",
       " 'VISIT_PAGEVIEWS',\n",
       " 'VISIT_START_PAGE_LCP_CNT',\n",
       " 'VISIT_START_PAGE_LCP_SUM',\n",
       " 'VISIT_START_PAGE_FID_CNT',\n",
       " 'VISIT_START_PAGE_FID_SUM',\n",
       " 'VISIT_START_PAGE_CLS_CNT',\n",
       " 'VISIT_START_PAGE_CLS_SUM']"
      ]
     },
     "execution_count": 105,
     "metadata": {},
     "output_type": "execute_result"
    }
   ],
   "source": [
    "f_aa_engagement_by_site = main_session.table('dimensional.f_aa_engagement_by_site')\n",
    "f_aa_engagement_by_site.columns"
   ]
  },
  {
   "cell_type": "code",
   "execution_count": 106,
   "id": "2c68a8f0",
   "metadata": {},
   "outputs": [
    {
     "data": {
      "text/plain": [
       "['D_SITE_HIST_SK',\n",
       " 'SITE_URL',\n",
       " 'SITE_NAME',\n",
       " 'PILLAR',\n",
       " 'ETL_LOAD_TIME',\n",
       " 'ETL_DAG_ID',\n",
       " 'ETL_TASK_ID',\n",
       " 'ETL_LOGICAL_DATE_TIME',\n",
       " 'SITE_NUMBER']"
      ]
     },
     "execution_count": 106,
     "metadata": {},
     "output_type": "execute_result"
    }
   ],
   "source": [
    "d_site_hist = main_session.table('dimensional.d_site_hist')\n",
    "d_site_hist.columns"
   ]
  },
  {
   "attachments": {},
   "cell_type": "markdown",
   "id": "94eea9ea",
   "metadata": {},
   "source": [
    "'VISIT_DATE_TIME_UTC',\n",
    " 'VISIT_ID',\n",
    "  'D_SITE_HIST_SK',\n",
    "   'D_COUNTRY_HIST_SK',\n",
    " 'TIME_ON_SITE_SECONDS',\n",
    "  'SITE_VISIT_UNQIUE_CLICKOUT',\n",
    " 'SITE_VISIT_TOTAL_CLICKOUT',\n",
    " 'SITE_VISIT_ENGAGEMENT',"
   ]
  }
 ],
 "metadata": {
  "kernelspec": {
   "display_name": "eda_streamlit-675cm0gE",
   "language": "python",
   "name": "python3"
  },
  "language_info": {
   "codemirror_mode": {
    "name": "ipython",
    "version": 3
   },
   "file_extension": ".py",
   "mimetype": "text/x-python",
   "name": "python",
   "nbconvert_exporter": "python",
   "pygments_lexer": "ipython3",
   "version": "3.8.10"
  }
 },
 "nbformat": 4,
 "nbformat_minor": 5
}
