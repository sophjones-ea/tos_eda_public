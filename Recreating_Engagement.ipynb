{
 "cells": [
  {
   "cell_type": "markdown",
   "id": "6880664f-5550-4ad0-9f03-08bcc6c48f7d",
   "metadata": {},
   "source": [
    "## Experiment with different thresholds (eg.45,60,75,90) and observe the effects\n",
    "Join 'dimensional.f_aa_hits_detail_engagement’ to ‘dimensional.f_aa_engagement_by_site’ accurately in order to add information about if the visit has been marked as engaged so I can then recreate this column using the time on site column to check it matches up, before creating new has engagement columns using 45, 60, 75 and 90 seconds to observe the effect this has.\n",
    "- dimensional.f_aa_hits_detail_engagement is per hit\n",
    "- dimensional.f_aa_engagement_by_site is per visit - made up of multiple hits\n",
    "- so need to group dimensional.f_aa_hits_detail_engagement into visits - by visit id, site_url and date\n",
    "- then for each visit add post_evar_link_type (if none - null, if mutliple then a list), has_engagement (sum (as engagament sum) and then has engagement if 0,-> 0 and if >0 then 1), same for has_clickout"
   ]
  },
  {
   "cell_type": "code",
   "execution_count": 1,
   "id": "70c537de-a362-47cd-95e3-d87ab6a74250",
   "metadata": {
    "tags": []
   },
   "outputs": [
    {
     "name": "stdout",
     "output_type": "stream",
     "text": [
      "Note: you may need to restart the kernel to use updated packages.\n"
     ]
    }
   ],
   "source": [
    "pip install snowflake-snowpark-python --quiet"
   ]
  },
  {
   "cell_type": "code",
   "execution_count": 2,
   "id": "03096e03-c839-4611-93c5-8c2802415c33",
   "metadata": {
    "tags": []
   },
   "outputs": [
    {
     "name": "stderr",
     "output_type": "stream",
     "text": [
      "/home/ec2-user/anaconda3/envs/mxnet_p38/lib/python3.8/site-packages/snowflake/connector/options.py:96: UserWarning: You have an incompatible version of 'pyarrow' installed (10.0.1), please install a version that adheres to: 'pyarrow<8.1.0,>=8.0.0; extra == \"pandas\"'\n",
      "  warn_incompatible_dep(\n"
     ]
    }
   ],
   "source": [
    "#connecting and reading to and from snowflake\n",
    "import boto3\n",
    "import snowflake.connector\n",
    "from pathlib import Path\n",
    "from snowflake.connector.pandas_tools import write_pandas\n",
    "from sqlalchemy import create_engine\n",
    "from snowflake.connector.pandas_tools import pd_writer\n",
    "from snowflake.connector import DictCursor\n",
    "import pandas as pd\n",
    "from snowflake.snowpark import functions as fn\n",
    "from snowflake.snowpark import types as type\n",
    "from snowflake.snowpark import DataFrame as df\n",
    "\n",
    "   \n",
    "def get_snowflake_credentials():\n",
    "    \"\"\" iTech credentials service for Sagemaker\n",
    "   \n",
    "    iTech has a service account for Sagemaker notebooks that has access permission to snowflake.\n",
    "    We need to use this service account every time we need to build a connection, to obtain the right credentials.\n",
    "    \"\"\"\n",
    "    params = [\n",
    "        '/sagemaker/snowflake/user_id',\n",
    "        '/sagemaker/snowflake/password',\n",
    "        '/sagemaker/snowflake/account_id'\n",
    "    ]\n",
    " \n",
    "    sm = boto3.client('secretsmanager', \"eu-west-1\")\n",
    " \n",
    "    param_values = {}\n",
    "    for param in params:\n",
    "        param_values[param.replace('/sagemaker/snowflake/','').replace('_id','')] = sm.get_secret_value(SecretId = param)['SecretString']\n",
    "    return param_values\n",
    "\n",
    "def create_snowflake_connection(schema='DIMENSIONAL'):\n",
    "    \"\"\"\n",
    "    With the created connection object `conn` you can connect to Snowflake and obtain data with the following way:\n",
    " \n",
    "    ```python\n",
    "    with conn.cursor() as c:\n",
    "        df = c.execute(\"SQL_QUERY_STRING_HERE\").fetch_pandas_all()\n",
    "    ```\n",
    "    \"\"\"\n",
    "    credentials = get_snowflake_credentials()\n",
    "    return snowflake.connector.connect(\n",
    "        user=credentials['user'],\n",
    "        password=credentials['password'],\n",
    "        account=credentials['account'],\n",
    "        role=\"PRD_ANALYST\",\n",
    "        warehouse='PRD_WH',\n",
    "        database='PRD_DWH',\n",
    "        schema=schema\n",
    "    )\n",
    "\n",
    "def download_from_snowflake(sql_query):\n",
    "    with create_snowflake_connection().cursor(DictCursor) as cur:\n",
    "            data = cur.execute(sql_query).fetchall()\n",
    "            data = pd.DataFrame(data).rename(columns=str.lower)\n",
    "    return data\n",
    "\n",
    "def read_sql_query(sql_file):\n",
    "    return sql_file.read_text()\n",
    " \n",
    "\n",
    "def write_to_table(df, table_name):\n",
    "    drop_sql = f'DROP TABLE IF EXISTS {table_name.upper()}'\n",
    "    with create_snowflake_connection(schema='SANDBOX') as conn:\n",
    "        conn.cursor().execute(drop_sql)\n",
    "        write_pandas(conn, df, table_name.upper())"
   ]
  },
  {
   "cell_type": "code",
   "execution_count": 3,
   "id": "9195a520-01ee-49d0-9e58-e528bec94925",
   "metadata": {
    "tags": []
   },
   "outputs": [],
   "source": [
    "import numpy as np\n",
    "\n",
    "def is_outlier(points, thresh=3.5):\n",
    "    \"\"\"\n",
    "    Returns a boolean array with True if points are outliers and False \n",
    "    otherwise.\n",
    "\n",
    "    Parameters:\n",
    "    -----------\n",
    "        points : An numobservations by numdimensions array of observations\n",
    "        thresh : The modified z-score to use as a threshold. Observations with\n",
    "            a modified z-score (based on the median absolute deviation) greater\n",
    "            than this value will be classified as outliers.\n",
    "\n",
    "    Returns:\n",
    "    --------\n",
    "        mask : A numobservations-length boolean array.\n",
    "\n",
    "    References:\n",
    "    ----------\n",
    "        Boris Iglewicz and David Hoaglin (1993), \"Volume 16: How to Detect and\n",
    "        Handle Outliers\", The ASQC Basic References in Quality Control:\n",
    "        Statistical Techniques, Edward F. Mykytka, Ph.D., Editor. \n",
    "    \"\"\"\n",
    "    if len(points.shape) == 1:\n",
    "        points = points[:,None]\n",
    "    median = np.median(points, axis=0)\n",
    "    diff = np.sum((points - median)**2, axis=-1)\n",
    "    diff = np.sqrt(diff)\n",
    "    med_abs_deviation = np.median(diff)\n",
    "\n",
    "    modified_z_score = 0.6745 * diff / med_abs_deviation\n",
    "\n",
    "    return modified_z_score > thresh"
   ]
  },
  {
   "cell_type": "code",
   "execution_count": 4,
   "id": "98aee96c-2c9c-4915-a31c-8e5069b7da8d",
   "metadata": {
    "tags": []
   },
   "outputs": [],
   "source": [
    "from snowflake.snowpark import Session\n",
    "\n",
    "credentials = get_snowflake_credentials()\n",
    "connection_parameters = {\n",
    "    \"account\": str(credentials['account']),\n",
    "    \"user\": str(credentials['user']),\n",
    "    \"password\" : str(credentials['password']),\n",
    "    \"role\": \"PRD_ANALYST\",\n",
    "    \"warehouse\": \"PRD_WH\",\n",
    "    \"database\": \"PRD_DWH\",\n",
    "    \"schema\": \"SANDBOX\"\n",
    "}\n",
    "\n",
    "test_session = Session.builder.configs(connection_parameters).create()\n",
    "#test_session.sql('select current_date, current_warehouse(), current_database(), current_schema()').collect()\n",
    "#test_session.close()"
   ]
  },
  {
   "cell_type": "code",
   "execution_count": null,
   "id": "4ed2f467-c70d-4fb1-bf72-e009e27247e2",
   "metadata": {},
   "outputs": [],
   "source": []
  },
  {
   "cell_type": "code",
   "execution_count": null,
   "id": "48045ab2-c9ca-46e1-bd04-107f44f58bee",
   "metadata": {},
   "outputs": [],
   "source": []
  },
  {
   "cell_type": "code",
   "execution_count": 5,
   "id": "a6ffa6a6-94b4-4437-9eef-209ff0ad350b",
   "metadata": {
    "tags": []
   },
   "outputs": [],
   "source": [
    "f_aa_engagement_by_site = test_session.table('dimensional.f_aa_engagement_by_site')"
   ]
  },
  {
   "cell_type": "code",
   "execution_count": 6,
   "id": "078ca79c-1f56-4a54-abeb-59d3010c359c",
   "metadata": {
    "tags": []
   },
   "outputs": [],
   "source": [
    "f_aa_hits_detail_engagement = test_session.table('dimensional.f_aa_hits_detail_engagement')"
   ]
  },
  {
   "cell_type": "code",
   "execution_count": 7,
   "id": "7ae5466e-e1cf-4feb-812c-b97b99ed116c",
   "metadata": {
    "tags": []
   },
   "outputs": [
    {
     "data": {
      "text/plain": [
       "['VISIT_DATE_UTC',\n",
       " 'D_SITE_HIST_SK',\n",
       " 'SITE_URL',\n",
       " 'VISIT_DATE_TIME_UTC',\n",
       " 'VISITOR_ID',\n",
       " 'VISIT_NUM',\n",
       " 'VISIT_ID',\n",
       " 'DEVICE_TYPE',\n",
       " 'CONNECTION_TYPE',\n",
       " 'D_USER_LANGUAGE_SK',\n",
       " 'D_COUNTRY_HIST_SK',\n",
       " 'STATE_CODE',\n",
       " 'VISIT_REFERRER_TYPE',\n",
       " 'VISIT_SEARCH_ENGINE',\n",
       " 'VISIT_START_PAGE_URL',\n",
       " 'VISIT_START_D_PAGE_HIST_SK',\n",
       " 'HIT_TIME_UTC',\n",
       " 'PAGE_URL',\n",
       " 'D_PAGE_HIST_SK',\n",
       " 'VISIT_PAGE_NUM',\n",
       " 'IS_LANDING_PAGE',\n",
       " 'HAS_CLICKOUT',\n",
       " 'HAS_ENGAGEMENT',\n",
       " 'OUTBOUND_LINK',\n",
       " 'PAGE_VERTICAL',\n",
       " 'CHANNEL_NAME',\n",
       " 'TRANSACTION_ID']"
      ]
     },
     "execution_count": 7,
     "metadata": {},
     "output_type": "execute_result"
    }
   ],
   "source": [
    "f_aa_hits_detail_engagement.columns"
   ]
  },
  {
   "cell_type": "code",
   "execution_count": 23,
   "id": "a21161ca-1085-4ea9-8d43-c52d16e28316",
   "metadata": {
    "tags": []
   },
   "outputs": [],
   "source": [
    "grouped_hits_detail = f_aa_hits_detail_engagement.groupBy('VISIT_ID', 'VISIT_START_PAGE_URL', 'VISIT_DATE_UTC').agg(\n",
    "    fn.array_agg(\"OUTBOUND_LINK\").alias(\"OUTBOUND_LINK_values\"),\n",
    "    fn.array_agg(\"HAS_ENGAGEMENT\").alias(\"HAS_ENGAGEMENT_values\"),\n",
    "    fn.array_agg(\"HAS_CLICKOUT\").alias(\"HAS_CLICKOUT_values\"))\n"
   ]
  },
  {
   "cell_type": "code",
   "execution_count": 24,
   "id": "6572adb2-db4d-4987-99a5-423972514e34",
   "metadata": {
    "tags": []
   },
   "outputs": [
    {
     "data": {
      "text/plain": [
       "['VISIT_ID',\n",
       " 'VISIT_START_PAGE_URL',\n",
       " 'VISIT_DATE_UTC',\n",
       " 'OUTBOUND_LINK_VALUES',\n",
       " 'HAS_ENGAGEMENT_VALUES',\n",
       " 'HAS_CLICKOUT_VALUES']"
      ]
     },
     "execution_count": 24,
     "metadata": {},
     "output_type": "execute_result"
    }
   ],
   "source": [
    "grouped_hits_detail.columns"
   ]
  },
  {
   "cell_type": "code",
   "execution_count": null,
   "id": "0db7e8ca-2b31-4037-b00b-fee7061e3492",
   "metadata": {},
   "outputs": [],
   "source": [
    "grouped_hits_detail.show(5)"
   ]
  },
  {
   "cell_type": "code",
   "execution_count": 18,
   "id": "51eae20f-edda-4fa6-a4e9-904f84193b18",
   "metadata": {
    "tags": []
   },
   "outputs": [],
   "source": [
    "grouped_engagement_by_site = f_aa_engagement_by_site.groupBy('VISIT_ID', 'VISIT_START_PAGE_URL', 'VISIT_DATE_UTC').agg(\n",
    "    fn.array_agg(\"DEVICE_TYPE\").alias(\"DEVICE_TYPE_values\"),\n",
    "    fn.array_agg(\"D_COUNTRY_HIST_SK\").alias(\"D_COUNTRY_HIST_SK_values\"),\n",
    "    fn.array_agg(\"TIME_ON_SITE_SECONDS\").alias(\"TIME_ON_SITE_SECONDS_values\"),\n",
    "    fn.array_agg(\"CHANNEL_NAME\").alias(\"CHANNEL_NAME_values\"),\n",
    "    fn.array_agg(\"HAS_PAGE_VIEW_POKER\").alias(\"HAS_PAGE_VIEW_POKER_values\"),\n",
    "    fn.array_agg(\"HAS_PAGE_VIEW_CASINO\").alias(\"HAS_PAGE_VIEW_CASINO_values\"),\n",
    "    fn.array_agg(\"HAS_PAGE_VIEW_SPORTS\").alias(\"HAS_PAGE_VIEW_SPORTS_values\"),\n",
    "    )"
   ]
  },
  {
   "cell_type": "code",
   "execution_count": 19,
   "id": "9b713fde-81f2-4f09-8ff3-b47c631ffe6e",
   "metadata": {
    "tags": []
   },
   "outputs": [
    {
     "data": {
      "text/plain": [
       "['VISIT_ID',\n",
       " 'VISIT_START_PAGE_URL',\n",
       " 'VISIT_DATE_UTC',\n",
       " 'DEVICE_TYPE_VALUES',\n",
       " 'D_COUNTRY_HIST_SK_VALUES',\n",
       " 'TIME_ON_SITE_SECONDS_VALUES',\n",
       " 'CHANNEL_NAME_VALUES',\n",
       " 'HAS_PAGE_VIEW_POKER_VALUES',\n",
       " 'HAS_PAGE_VIEW_CASINO_VALUES',\n",
       " 'HAS_PAGE_VIEW_SPORTS_VALUES']"
      ]
     },
     "execution_count": 19,
     "metadata": {},
     "output_type": "execute_result"
    }
   ],
   "source": [
    "grouped_engagement_by_site.columns"
   ]
  },
  {
   "cell_type": "code",
   "execution_count": null,
   "id": "c5a78dc8-8418-45b8-a39b-1142d602197a",
   "metadata": {},
   "outputs": [],
   "source": [
    "grouped_engagement_by_site.show(5)"
   ]
  },
  {
   "cell_type": "code",
   "execution_count": 30,
   "id": "6f6bc12a-cab5-4919-bc75-6d637c845f16",
   "metadata": {
    "tags": []
   },
   "outputs": [],
   "source": [
    "result = grouped_engagement_by_site.join(\n",
    "    grouped_hits_detail,\n",
    "    (\n",
    "        (grouped_engagement_by_site.VISIT_ID == grouped_hits_detail.VISIT_ID) &\n",
    "        (grouped_engagement_by_site.VISIT_START_PAGE_URL == grouped_hits_detail.VISIT_START_PAGE_URL)&\n",
    "        (grouped_engagement_by_site.VISIT_DATE_UTC == grouped_hits_detail.VISIT_DATE_UTC)\n",
    "    ),\n",
    "    how = 'left'\n",
    ")"
   ]
  },
  {
   "cell_type": "code",
   "execution_count": 31,
   "id": "080a19bb-9359-447b-a69f-f9850e715a1b",
   "metadata": {
    "tags": []
   },
   "outputs": [
    {
     "data": {
      "text/plain": [
       "['\"l_x1z0_VISIT_ID\"',\n",
       " '\"l_x1z0_VISIT_START_PAGE_URL\"',\n",
       " '\"l_x1z0_VISIT_DATE_UTC\"',\n",
       " 'DEVICE_TYPE_VALUES',\n",
       " 'D_COUNTRY_HIST_SK_VALUES',\n",
       " 'TIME_ON_SITE_SECONDS_VALUES',\n",
       " 'CHANNEL_NAME_VALUES',\n",
       " 'HAS_PAGE_VIEW_POKER_VALUES',\n",
       " 'HAS_PAGE_VIEW_CASINO_VALUES',\n",
       " 'HAS_PAGE_VIEW_SPORTS_VALUES',\n",
       " '\"r_3kfy_VISIT_ID\"',\n",
       " '\"r_3kfy_VISIT_START_PAGE_URL\"',\n",
       " '\"r_3kfy_VISIT_DATE_UTC\"',\n",
       " 'OUTBOUND_LINK_VALUES',\n",
       " 'HAS_ENGAGEMENT_VALUES',\n",
       " 'HAS_CLICKOUT_VALUES']"
      ]
     },
     "execution_count": 31,
     "metadata": {},
     "output_type": "execute_result"
    }
   ],
   "source": [
    "result.columns"
   ]
  },
  {
   "cell_type": "code",
   "execution_count": 32,
   "id": "74b64ddb-1405-4013-ac71-c5cce0e77446",
   "metadata": {
    "tags": []
   },
   "outputs": [
    {
     "data": {
      "text/plain": [
       "347787470"
      ]
     },
     "execution_count": 32,
     "metadata": {},
     "output_type": "execute_result"
    }
   ],
   "source": [
    "result.count()"
   ]
  },
  {
   "cell_type": "code",
   "execution_count": 28,
   "id": "08a392c0-2b08-4f21-976e-b53c9085415b",
   "metadata": {
    "tags": []
   },
   "outputs": [
    {
     "data": {
      "text/plain": [
       "347787470"
      ]
     },
     "execution_count": 28,
     "metadata": {},
     "output_type": "execute_result"
    }
   ],
   "source": [
    "grouped_engagement_by_site.count()"
   ]
  },
  {
   "cell_type": "code",
   "execution_count": 29,
   "id": "ce48d0cd-5485-4ecd-9d83-46f8cf60aa91",
   "metadata": {
    "tags": []
   },
   "outputs": [
    {
     "data": {
      "text/plain": [
       "347849791"
      ]
     },
     "execution_count": 29,
     "metadata": {},
     "output_type": "execute_result"
    }
   ],
   "source": [
    "grouped_hits_detail.count()"
   ]
  },
  {
   "cell_type": "code",
   "execution_count": 33,
   "id": "05283674-9a39-4b54-bf96-21743072b0cc",
   "metadata": {
    "tags": []
   },
   "outputs": [
    {
     "name": "stdout",
     "output_type": "stream",
     "text": [
      "There were 0 rows that didn't match.\n"
     ]
    }
   ],
   "source": [
    "#filter unmatched rows\n",
    "unmatched_rows = result.filter(result[\"TIME_ON_SITE_SECONDS_VALUES\"].isNull())\n",
    "\n",
    "# count the number of unmatched rows\n",
    "num_unmatched_rows = unmatched_rows.count()\n",
    "\n",
    "# print the result\n",
    "print(f\"There were {num_unmatched_rows} rows that didn't match.\")\n"
   ]
  },
  {
   "cell_type": "code",
   "execution_count": null,
   "id": "5e0e11c0-aa95-4e80-b7ab-f50cfea955eb",
   "metadata": {
    "tags": []
   },
   "outputs": [],
   "source": [
    "result.show(5)"
   ]
  },
  {
   "cell_type": "code",
   "execution_count": 7,
   "id": "d8a5f60b-8536-46e2-86b1-7962e6746952",
   "metadata": {
    "tags": []
   },
   "outputs": [],
   "source": [
    "# has engagement calculation \n",
    "#CASE\n",
    "        #WHEN has_clickout OR h.post_evar_link_type = 'Internal' OR NVL(TRY_TO_NUMBER(REPLACE(h.post_prop_time_on_page, '+', '')), 0) >= 30\n",
    "          #THEN 1\n",
    "        #ELSE 0\n",
    "      #END AS has_engagement"
   ]
  },
  {
   "cell_type": "code",
   "execution_count": 8,
   "id": "7f282977-2260-40f8-8a0f-e71091379a94",
   "metadata": {
    "tags": []
   },
   "outputs": [],
   "source": [
    "#join the table and its columns below to the exisitng snowpark table\n",
    "\n",
    "#post_evar_link_type\n",
    "#has_engagement\n",
    "#has_clickout\n",
    "#post_prop_time_on_page\n",
    "\n",
    "#join by url/site, visit id and date?"
   ]
  },
  {
   "cell_type": "code",
   "execution_count": 9,
   "id": "66b0b79f-ca10-4d50-ab1b-9eecf407e508",
   "metadata": {
    "tags": []
   },
   "outputs": [],
   "source": [
    "f_aa_hits_detail_engagement = test_session.table('dimensional.f_aa_hits_detail_engagement')"
   ]
  },
  {
   "cell_type": "code",
   "execution_count": 10,
   "id": "e376c48f-d2ce-4ce3-88db-5d8ca59831d0",
   "metadata": {
    "tags": []
   },
   "outputs": [
    {
     "data": {
      "text/plain": [
       "['VISIT_DATE_UTC',\n",
       " 'D_SITE_HIST_SK',\n",
       " 'SITE_URL',\n",
       " 'VISIT_DATE_TIME_UTC',\n",
       " 'VISITOR_ID',\n",
       " 'VISIT_NUM',\n",
       " 'VISIT_ID',\n",
       " 'DEVICE_TYPE',\n",
       " 'CONNECTION_TYPE',\n",
       " 'D_USER_LANGUAGE_SK',\n",
       " 'D_COUNTRY_HIST_SK',\n",
       " 'STATE_CODE',\n",
       " 'VISIT_REFERRER_TYPE',\n",
       " 'VISIT_SEARCH_ENGINE',\n",
       " 'VISIT_START_PAGE_URL',\n",
       " 'VISIT_START_D_PAGE_HIST_SK',\n",
       " 'HIT_TIME_UTC',\n",
       " 'PAGE_URL',\n",
       " 'D_PAGE_HIST_SK',\n",
       " 'VISIT_PAGE_NUM',\n",
       " 'IS_LANDING_PAGE',\n",
       " 'HAS_CLICKOUT',\n",
       " 'HAS_ENGAGEMENT',\n",
       " 'OUTBOUND_LINK',\n",
       " 'PAGE_VERTICAL',\n",
       " 'CHANNEL_NAME',\n",
       " 'TRANSACTION_ID']"
      ]
     },
     "execution_count": 10,
     "metadata": {},
     "output_type": "execute_result"
    }
   ],
   "source": [
    "f_aa_hits_detail_engagement.columns"
   ]
  },
  {
   "cell_type": "code",
   "execution_count": 11,
   "id": "24931f95-d92c-44df-9313-275f24aaaad5",
   "metadata": {
    "tags": []
   },
   "outputs": [],
   "source": [
    "f_aa_hits_detail_engagement_cols = f_aa_hits_detail_engagement.select('visit_id','VISIT_DATE_TIME_UTC','VISIT_START_PAGE_URL','OUTBOUND_LINK','has_engagement','has_clickout')"
   ]
  },
  {
   "cell_type": "code",
   "execution_count": 12,
   "id": "33edb06e-18a5-4dfa-8154-0b0000b6eb95",
   "metadata": {
    "tags": []
   },
   "outputs": [
    {
     "data": {
      "text/plain": [
       "['VISIT_ID',\n",
       " 'VISIT_DATE_TIME_UTC',\n",
       " 'VISIT_START_PAGE_URL',\n",
       " 'OUTBOUND_LINK',\n",
       " 'HAS_ENGAGEMENT',\n",
       " 'HAS_CLICKOUT']"
      ]
     },
     "execution_count": 12,
     "metadata": {},
     "output_type": "execute_result"
    }
   ],
   "source": [
    "f_aa_hits_detail_engagement_cols.columns"
   ]
  },
  {
   "cell_type": "code",
   "execution_count": 13,
   "id": "5e3e460f-2b1c-445d-a44c-5cb966943511",
   "metadata": {
    "tags": []
   },
   "outputs": [
    {
     "data": {
      "text/plain": [
       "['VISIT_DATE_UTC',\n",
       " 'D_SITE_HIST_SK',\n",
       " 'VISIT_DATE_TIME_UTC',\n",
       " 'VISIT_ID',\n",
       " 'DEVICE_TYPE',\n",
       " 'CONNECTION_TYPE',\n",
       " 'D_COUNTRY_HIST_SK',\n",
       " 'STATE_CODE',\n",
       " 'D_USER_LANGUAGE_SK',\n",
       " 'VISIT_REFERRER_TYPE',\n",
       " 'VISIT_SEARCH_ENGINE',\n",
       " 'TIME_ON_SITE_SECONDS',\n",
       " 'SITE_VISIT_CONVERSION',\n",
       " 'SITE_VISIT_UNQIUE_CLICKOUT',\n",
       " 'SITE_VISIT_TOTAL_CLICKOUT',\n",
       " 'SITE_VISIT_ENGAGEMENT',\n",
       " 'SITE_VISIT_BOUNCE',\n",
       " 'HAS_PAGE_VIEW_POKER',\n",
       " 'SITE_VISIT_CONVERSION_POKER',\n",
       " 'SITE_VISIT_UNIQUE_CLICKOUT_POKER',\n",
       " 'SITE_VISIT_TOTAL_CLICKOUT_POKER',\n",
       " 'SITE_VISIT_ENGAGEMENT_POKER',\n",
       " 'SITE_VISIT_BOUNCE_POKER',\n",
       " 'HAS_PAGE_VIEW_CASINO',\n",
       " 'SITE_VISIT_CONVERSION_CASINO',\n",
       " 'SITE_VISIT_UNIQUE_CLICKOUT_CASINO',\n",
       " 'SITE_VISIT_TOTAL_CLICKOUT_CASINO',\n",
       " 'SITE_VISIT_ENGAGEMENT_CASINO',\n",
       " 'SITE_VISIT_BOUNCE_CASINO',\n",
       " 'HAS_PAGE_VIEW_SPORTS',\n",
       " 'SITE_VISIT_CONVERSION_SPORTS',\n",
       " 'SITE_VISIT_UNIQUE_CLICKOUT_SPORTS',\n",
       " 'SITE_VISIT_TOTAL_CLICKOUT_SPORTS',\n",
       " 'SITE_VISIT_ENGAGEMENT_SPORTS',\n",
       " 'SITE_VISIT_BOUNCE_SPORTS',\n",
       " 'ETL_LOAD_TIME',\n",
       " 'ETL_DAG_ID',\n",
       " 'ETL_TASK_ID',\n",
       " 'ETL_LOGICAL_DATE_TIME',\n",
       " 'CHANNEL_NAME',\n",
       " 'IS_FIRST_VISIT',\n",
       " 'VISIT_START_PAGE_URL',\n",
       " 'VISIT_START_D_PAGE_HIST_SK',\n",
       " 'VISIT_PAGEVIEWS',\n",
       " 'VISIT_START_PAGE_LCP_CNT',\n",
       " 'VISIT_START_PAGE_LCP_SUM',\n",
       " 'VISIT_START_PAGE_FID_CNT',\n",
       " 'VISIT_START_PAGE_FID_SUM',\n",
       " 'VISIT_START_PAGE_CLS_CNT',\n",
       " 'VISIT_START_PAGE_CLS_SUM']"
      ]
     },
     "execution_count": 13,
     "metadata": {},
     "output_type": "execute_result"
    }
   ],
   "source": [
    "f_aa_engagement_by_site.columns"
   ]
  },
  {
   "cell_type": "code",
   "execution_count": 14,
   "id": "0f02833e-26ff-48ca-8dc4-026a082f8d09",
   "metadata": {
    "tags": []
   },
   "outputs": [],
   "source": [
    "result = f_aa_hits_detail_engagement_cols.join(\n",
    "    f_aa_engagement_by_site,\n",
    "    (\n",
    "        (f_aa_hits_detail_engagement_cols.VISIT_ID == f_aa_engagement_by_site.VISIT_ID) &\n",
    "        (f_aa_hits_detail_engagement_cols.VISIT_START_PAGE_URL == f_aa_engagement_by_site.VISIT_START_PAGE_URL)&\n",
    "        (f_aa_hits_detail_engagement_cols.VISIT_DATE_TIME_UTC == f_aa_engagement_by_site.VISIT_DATE_TIME_UTC)\n",
    "    ),\n",
    "    how = 'inner'\n",
    ")\n"
   ]
  },
  {
   "cell_type": "code",
   "execution_count": 15,
   "id": "9047b11f-4cb6-4ab1-bbe7-423605fae007",
   "metadata": {
    "tags": []
   },
   "outputs": [
    {
     "data": {
      "text/plain": [
       "['\"l_4c3i_VISIT_ID\"',\n",
       " '\"l_4c3i_VISIT_DATE_TIME_UTC\"',\n",
       " '\"l_4c3i_VISIT_START_PAGE_URL\"',\n",
       " 'OUTBOUND_LINK',\n",
       " 'HAS_ENGAGEMENT',\n",
       " 'HAS_CLICKOUT',\n",
       " 'VISIT_DATE_UTC',\n",
       " 'D_SITE_HIST_SK',\n",
       " '\"r_b7ig_VISIT_DATE_TIME_UTC\"',\n",
       " '\"r_b7ig_VISIT_ID\"',\n",
       " 'DEVICE_TYPE',\n",
       " 'CONNECTION_TYPE',\n",
       " 'D_COUNTRY_HIST_SK',\n",
       " 'STATE_CODE',\n",
       " 'D_USER_LANGUAGE_SK',\n",
       " 'VISIT_REFERRER_TYPE',\n",
       " 'VISIT_SEARCH_ENGINE',\n",
       " 'TIME_ON_SITE_SECONDS',\n",
       " 'SITE_VISIT_CONVERSION',\n",
       " 'SITE_VISIT_UNQIUE_CLICKOUT',\n",
       " 'SITE_VISIT_TOTAL_CLICKOUT',\n",
       " 'SITE_VISIT_ENGAGEMENT',\n",
       " 'SITE_VISIT_BOUNCE',\n",
       " 'HAS_PAGE_VIEW_POKER',\n",
       " 'SITE_VISIT_CONVERSION_POKER',\n",
       " 'SITE_VISIT_UNIQUE_CLICKOUT_POKER',\n",
       " 'SITE_VISIT_TOTAL_CLICKOUT_POKER',\n",
       " 'SITE_VISIT_ENGAGEMENT_POKER',\n",
       " 'SITE_VISIT_BOUNCE_POKER',\n",
       " 'HAS_PAGE_VIEW_CASINO',\n",
       " 'SITE_VISIT_CONVERSION_CASINO',\n",
       " 'SITE_VISIT_UNIQUE_CLICKOUT_CASINO',\n",
       " 'SITE_VISIT_TOTAL_CLICKOUT_CASINO',\n",
       " 'SITE_VISIT_ENGAGEMENT_CASINO',\n",
       " 'SITE_VISIT_BOUNCE_CASINO',\n",
       " 'HAS_PAGE_VIEW_SPORTS',\n",
       " 'SITE_VISIT_CONVERSION_SPORTS',\n",
       " 'SITE_VISIT_UNIQUE_CLICKOUT_SPORTS',\n",
       " 'SITE_VISIT_TOTAL_CLICKOUT_SPORTS',\n",
       " 'SITE_VISIT_ENGAGEMENT_SPORTS',\n",
       " 'SITE_VISIT_BOUNCE_SPORTS',\n",
       " 'ETL_LOAD_TIME',\n",
       " 'ETL_DAG_ID',\n",
       " 'ETL_TASK_ID',\n",
       " 'ETL_LOGICAL_DATE_TIME',\n",
       " 'CHANNEL_NAME',\n",
       " 'IS_FIRST_VISIT',\n",
       " '\"r_b7ig_VISIT_START_PAGE_URL\"',\n",
       " 'VISIT_START_D_PAGE_HIST_SK',\n",
       " 'VISIT_PAGEVIEWS',\n",
       " 'VISIT_START_PAGE_LCP_CNT',\n",
       " 'VISIT_START_PAGE_LCP_SUM',\n",
       " 'VISIT_START_PAGE_FID_CNT',\n",
       " 'VISIT_START_PAGE_FID_SUM',\n",
       " 'VISIT_START_PAGE_CLS_CNT',\n",
       " 'VISIT_START_PAGE_CLS_SUM']"
      ]
     },
     "execution_count": 15,
     "metadata": {},
     "output_type": "execute_result"
    }
   ],
   "source": [
    "result.columns"
   ]
  },
  {
   "cell_type": "code",
   "execution_count": 16,
   "id": "a6c820a9-d92e-451d-b996-132e1146ed7b",
   "metadata": {
    "tags": []
   },
   "outputs": [
    {
     "data": {
      "text/plain": [
       "8822887396"
      ]
     },
     "execution_count": 16,
     "metadata": {},
     "output_type": "execute_result"
    }
   ],
   "source": [
    "f_aa_hits_detail_engagement_cols.count()"
   ]
  },
  {
   "cell_type": "code",
   "execution_count": 17,
   "id": "06bf641e-aaf8-42b9-8619-34e451bfb585",
   "metadata": {
    "tags": []
   },
   "outputs": [
    {
     "data": {
      "text/plain": [
       "345038879"
      ]
     },
     "execution_count": 17,
     "metadata": {},
     "output_type": "execute_result"
    }
   ],
   "source": [
    "f_aa_engagement_by_site.count()"
   ]
  },
  {
   "cell_type": "code",
   "execution_count": 18,
   "id": "a6e62f74-eafe-42a0-b57a-f4c7d581ce3c",
   "metadata": {
    "tags": []
   },
   "outputs": [
    {
     "data": {
      "text/plain": [
       "3802264787"
      ]
     },
     "execution_count": 18,
     "metadata": {},
     "output_type": "execute_result"
    }
   ],
   "source": [
    "result.count()"
   ]
  },
  {
   "cell_type": "code",
   "execution_count": null,
   "id": "81e6de93-4572-42bb-b277-6200dcc57a8a",
   "metadata": {},
   "outputs": [],
   "source": [
    "#3802264787 without inner"
   ]
  },
  {
   "cell_type": "code",
   "execution_count": 33,
   "id": "af4af6f2-2da5-4f9f-9e5f-fd1546d0205b",
   "metadata": {
    "tags": []
   },
   "outputs": [
    {
     "name": "stdout",
     "output_type": "stream",
     "text": [
      "There were 0 rows that didn't match.\n"
     ]
    }
   ],
   "source": [
    "#filter unmatched rows\n",
    "unmatched_rows = result.filter(result[\"HAS_CLICKOUT\"].isNull())\n",
    "\n",
    "# count the number of unmatched rows\n",
    "num_unmatched_rows = unmatched_rows.count()\n",
    "\n",
    "# print the result\n",
    "print(f\"There were {num_unmatched_rows} rows that didn't match.\")\n"
   ]
  },
  {
   "cell_type": "code",
   "execution_count": 41,
   "id": "e4cf97c1-fab0-4fb1-8b55-7fcc80208ec1",
   "metadata": {
    "tags": []
   },
   "outputs": [
    {
     "name": "stdout",
     "output_type": "stream",
     "text": [
      "-------------------------------------------------------------------------------------------------------------------------------------------------------------------------------------------------------------------------------------------------------------------------------------------------------------------------------------------------------------------\n",
      "|\"r_6z27_VISIT_ID\"                                   |\"l_sjb8_VISIT_ID\"                                   |\"r_6z27_VISIT_DATE_TIME_UTC\"  |\"l_sjb8_VISIT_DATE_TIME_UTC\"  |\"r_6z27_VISIT_START_PAGE_URL\"                       |\"l_sjb8_VISIT_START_PAGE_URL\"                       |\"OUTBOUND_LINK\"   |\"HAS_ENGAGEMENT\"  |\"HAS_CLICKOUT\"  |\"TIME_ON_SITE_SECONDS\"  |\n",
      "-------------------------------------------------------------------------------------------------------------------------------------------------------------------------------------------------------------------------------------------------------------------------------------------------------------------------------------------------------------------\n",
      "|4321076816191924335_3186139455019173331_47_1665...  |4321076816191924335_3186139455019173331_47_1665...  |2022-10-11 22:35:21           |2022-10-11 22:35:21           |www.covers.com/forum/mlb-betting-27/476-402-42-...  |www.covers.com/forum/mlb-betting-27/476-402-42-...  |[Not Applicable]  |1                 |0               |7231                    |\n",
      "|4827372167482817014_1917781959126449137_1101_16...  |4827372167482817014_1917781959126449137_1101_16...  |2022-10-11 19:36:39           |2022-10-11 19:36:39           |www.covers.com/sports/mlb/matchups                  |www.covers.com/sports/mlb/matchups                  |[Not Applicable]  |0                 |0               |26                      |\n",
      "|4321076816191924335_3186139455019173331_47_1665...  |4321076816191924335_3186139455019173331_47_1665...  |2022-10-11 22:35:21           |2022-10-11 22:35:21           |www.covers.com/forum/mlb-betting-27/476-402-42-...  |www.covers.com/forum/mlb-betting-27/476-402-42-...  |[Not Applicable]  |1                 |0               |7231                    |\n",
      "|4321076816191924335_3186139455019173331_47_1665...  |4321076816191924335_3186139455019173331_47_1665...  |2022-10-11 22:35:21           |2022-10-11 22:35:21           |www.covers.com/forum/mlb-betting-27/476-402-42-...  |www.covers.com/forum/mlb-betting-27/476-402-42-...  |[Not Applicable]  |0                 |0               |7231                    |\n",
      "|4321076816191924335_3186139455019173331_47_1665...  |4321076816191924335_3186139455019173331_47_1665...  |2022-10-11 22:35:21           |2022-10-11 22:35:21           |www.covers.com/forum/mlb-betting-27/476-402-42-...  |www.covers.com/forum/mlb-betting-27/476-402-42-...  |[Not Applicable]  |0                 |0               |7231                    |\n",
      "|4321076816191924335_3186139455019173331_47_1665...  |4321076816191924335_3186139455019173331_47_1665...  |2022-10-11 22:35:21           |2022-10-11 22:35:21           |www.covers.com/forum/mlb-betting-27/476-402-42-...  |www.covers.com/forum/mlb-betting-27/476-402-42-...  |[Not Applicable]  |0                 |0               |7231                    |\n",
      "|4321076816191924335_3186139455019173331_47_1665...  |4321076816191924335_3186139455019173331_47_1665...  |2022-10-11 22:35:21           |2022-10-11 22:35:21           |www.covers.com/forum/mlb-betting-27/476-402-42-...  |www.covers.com/forum/mlb-betting-27/476-402-42-...  |[Not Applicable]  |0                 |0               |7231                    |\n",
      "|4321076816191924335_3186139455019173331_47_1665...  |4321076816191924335_3186139455019173331_47_1665...  |2022-10-11 22:35:21           |2022-10-11 22:35:21           |www.covers.com/forum/mlb-betting-27/476-402-42-...  |www.covers.com/forum/mlb-betting-27/476-402-42-...  |[Not Applicable]  |0                 |0               |7231                    |\n",
      "|4321076816191924335_3186139455019173331_47_1665...  |4321076816191924335_3186139455019173331_47_1665...  |2022-10-11 22:35:21           |2022-10-11 22:35:21           |www.covers.com/forum/mlb-betting-27/476-402-42-...  |www.covers.com/forum/mlb-betting-27/476-402-42-...  |[Not Applicable]  |0                 |0               |7231                    |\n",
      "|4321076816191924335_3186139455019173331_47_1665...  |4321076816191924335_3186139455019173331_47_1665...  |2022-10-11 22:35:21           |2022-10-11 22:35:21           |www.covers.com/forum/mlb-betting-27/476-402-42-...  |www.covers.com/forum/mlb-betting-27/476-402-42-...  |[Not Applicable]  |0                 |0               |7231                    |\n",
      "|4321076816191924335_3186139455019173331_47_1665...  |4321076816191924335_3186139455019173331_47_1665...  |2022-10-11 22:35:21           |2022-10-11 22:35:21           |www.covers.com/forum/mlb-betting-27/476-402-42-...  |www.covers.com/forum/mlb-betting-27/476-402-42-...  |[Not Applicable]  |0                 |0               |7231                    |\n",
      "|4321076816191924335_3186139455019173331_47_1665...  |4321076816191924335_3186139455019173331_47_1665...  |2022-10-11 22:35:21           |2022-10-11 22:35:21           |www.covers.com/forum/mlb-betting-27/476-402-42-...  |www.covers.com/forum/mlb-betting-27/476-402-42-...  |[Not Applicable]  |0                 |0               |7231                    |\n",
      "|22561373665434402_3631012098327307701_5_1665448101  |22561373665434402_3631012098327307701_5_1665448101  |2022-10-11 00:28:21           |2022-10-11 00:28:21           |www.covers.com/nfl/picks                            |www.covers.com/nfl/picks                            |[Not Applicable]  |1                 |0               |0                       |\n",
      "|4321076816191924335_3186139455019173331_47_1665...  |4321076816191924335_3186139455019173331_47_1665...  |2022-10-11 22:35:21           |2022-10-11 22:35:21           |www.covers.com/forum/mlb-betting-27/476-402-42-...  |www.covers.com/forum/mlb-betting-27/476-402-42-...  |[Not Applicable]  |0                 |0               |7231                    |\n",
      "|4321076816191924335_3186139455019173331_47_1665...  |4321076816191924335_3186139455019173331_47_1665...  |2022-10-11 22:35:21           |2022-10-11 22:35:21           |www.covers.com/forum/mlb-betting-27/476-402-42-...  |www.covers.com/forum/mlb-betting-27/476-402-42-...  |[Not Applicable]  |0                 |0               |7231                    |\n",
      "|9175226332558615893_685341564997541670_75_16655...  |9175226332558615893_685341564997541670_75_16655...  |2022-10-11 15:41:36           |2022-10-11 15:41:36           |www.covers.com/sports/mlb/matchups                  |www.covers.com/sports/mlb/matchups                  |[Not Applicable]  |1                 |0               |241                     |\n",
      "|4321076816191924335_3186139455019173331_47_1665...  |4321076816191924335_3186139455019173331_47_1665...  |2022-10-11 22:35:21           |2022-10-11 22:35:21           |www.covers.com/forum/mlb-betting-27/476-402-42-...  |www.covers.com/forum/mlb-betting-27/476-402-42-...  |[Not Applicable]  |0                 |0               |7231                    |\n",
      "|4321076816191924335_3186139455019173331_47_1665...  |4321076816191924335_3186139455019173331_47_1665...  |2022-10-11 22:35:21           |2022-10-11 22:35:21           |www.covers.com/forum/mlb-betting-27/476-402-42-...  |www.covers.com/forum/mlb-betting-27/476-402-42-...  |[Not Applicable]  |1                 |0               |7231                    |\n",
      "|4321076816191924335_3186139455019173331_47_1665...  |4321076816191924335_3186139455019173331_47_1665...  |2022-10-11 22:35:21           |2022-10-11 22:35:21           |www.covers.com/forum/mlb-betting-27/476-402-42-...  |www.covers.com/forum/mlb-betting-27/476-402-42-...  |[Not Applicable]  |0                 |0               |7231                    |\n",
      "|6470595351607423610_8373792821293811851_1_16655...  |6470595351607423610_8373792821293811851_1_16655...  |2022-10-11 21:23:16           |2022-10-11 21:23:16           |www.covers.com/nfl/week-6-odds-to-bet-now-bet-l...  |www.covers.com/nfl/week-6-odds-to-bet-now-bet-l...  |[Not Applicable]  |0                 |0               |10                      |\n",
      "|22561373665434402_3631012098327307701_5_1665448101  |22561373665434402_3631012098327307701_5_1665448101  |2022-10-11 00:28:21           |2022-10-11 00:28:21           |www.covers.com/nfl/picks                            |www.covers.com/nfl/picks                            |[Not Applicable]  |1                 |0               |0                       |\n",
      "|9175226332558615893_685341564997541670_75_16655...  |9175226332558615893_685341564997541670_75_16655...  |2022-10-11 15:41:36           |2022-10-11 15:41:36           |www.covers.com/sports/mlb/matchups                  |www.covers.com/sports/mlb/matchups                  |[Not Applicable]  |0                 |0               |241                     |\n",
      "|7129750900089879886_1598234458201186218_282_166...  |7129750900089879886_1598234458201186218_282_166...  |2022-10-11 23:00:57           |2022-10-11 23:00:57           |www.covers.com/sports/mlb/matchups                  |www.covers.com/sports/mlb/matchups                  |[Not Applicable]  |0                 |0               |10928                   |\n",
      "|7129750900089879886_1598234458201186218_282_166...  |7129750900089879886_1598234458201186218_282_166...  |2022-10-11 23:00:57           |2022-10-11 23:00:57           |www.covers.com/sports/mlb/matchups                  |www.covers.com/sports/mlb/matchups                  |[Not Applicable]  |0                 |0               |10928                   |\n",
      "|123840528600443164_24334948131740370_47_1665454455  |123840528600443164_24334948131740370_47_1665454455  |2022-10-11 02:14:15           |2022-10-11 02:14:15           |www.covers.com/                                     |www.covers.com/                                     |[Not Applicable]  |0                 |0               |4947                    |\n",
      "-------------------------------------------------------------------------------------------------------------------------------------------------------------------------------------------------------------------------------------------------------------------------------------------------------------------------------------------------------------------\n",
      "\n"
     ]
    }
   ],
   "source": [
    "result.select(f_aa_engagement_by_site['VISIT_ID'],f_aa_hits_detail_engagement_cols['VISIT_ID'],f_aa_engagement_by_site['VISIT_DATE_TIME_UTC'],f_aa_hits_detail_engagement_cols['VISIT_DATE_TIME_UTC'],f_aa_engagement_by_site['VISIT_START_PAGE_URL'],f_aa_hits_detail_engagement_cols['VISIT_START_PAGE_URL'],'OUTBOUND_LINK','has_engagement','has_clickout','TIME_ON_SITE_SECONDS').show(25)"
   ]
  },
  {
   "cell_type": "code",
   "execution_count": 42,
   "id": "78343142-842d-4fd5-b012-775b0a66c1ec",
   "metadata": {
    "tags": []
   },
   "outputs": [
    {
     "data": {
      "text/plain": [
       "3802264787"
      ]
     },
     "execution_count": 42,
     "metadata": {},
     "output_type": "execute_result"
    }
   ],
   "source": [
    "result.count()"
   ]
  },
  {
   "cell_type": "code",
   "execution_count": null,
   "id": "6db6f8c9-05be-4c38-a0c4-19f214cc4dd2",
   "metadata": {},
   "outputs": [],
   "source": [
    "345038879"
   ]
  },
  {
   "cell_type": "code",
   "execution_count": 21,
   "id": "8129257b-7a32-4610-9fe6-2d3d33f1b09e",
   "metadata": {
    "tags": []
   },
   "outputs": [
    {
     "data": {
      "text/plain": [
       "0"
      ]
     },
     "execution_count": 21,
     "metadata": {},
     "output_type": "execute_result"
    }
   ],
   "source": [
    "notequal = result.filter(f_aa_engagement_by_site['VISIT_ID']!=f_aa_hits_detail_engagement_cols['VISIT_ID'])\n",
    "notequal.count()"
   ]
  }
 ],
 "metadata": {
  "kernelspec": {
   "display_name": "conda_mxnet_p38",
   "language": "python",
   "name": "conda_mxnet_p38"
  },
  "language_info": {
   "codemirror_mode": {
    "name": "ipython",
    "version": 3
   },
   "file_extension": ".py",
   "mimetype": "text/x-python",
   "name": "python",
   "nbconvert_exporter": "python",
   "pygments_lexer": "ipython3",
   "version": "3.8.15"
  }
 },
 "nbformat": 4,
 "nbformat_minor": 5
}
