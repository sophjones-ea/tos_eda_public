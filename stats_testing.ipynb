{
 "cells": [
  {
   "cell_type": "code",
   "execution_count": 1,
   "metadata": {},
   "outputs": [
    {
     "name": "stderr",
     "output_type": "stream",
     "text": [
      "c:\\Users\\sophie.jones\\.virtualenvs\\eda_streamlit-675cm0gE\\lib\\site-packages\\snowflake\\connector\\options.py:108: UserWarning: You have an incompatible version of 'pyarrow' installed (12.0.0), please install a version that adheres to: 'pyarrow<10.1.0,>=10.0.1; extra == \"pandas\"'\n",
      "  warn_incompatible_dep(\n",
      "Failed to import ArrowResult. No Apache Arrow result set format can be used. ImportError: DLL load failed while importing arrow_iterator: The specified procedure could not be found.\n"
     ]
    }
   ],
   "source": [
    "#connecting and reading to and from snowflake\n",
    "import boto3\n",
    "import snowflake.connector\n",
    "from pathlib import Path\n",
    "from snowflake.connector.pandas_tools import write_pandas\n",
    "from sqlalchemy import create_engine\n",
    "from snowflake.connector.pandas_tools import pd_writer\n",
    "from snowflake.connector import DictCursor\n",
    "import pandas as pd\n",
    "from snowflake.snowpark import functions as fn\n",
    "from snowflake.snowpark import types as type\n",
    "from snowflake.snowpark import DataFrame as df\n",
    "import snowflake.connector\n",
    "import pandas as pd\n",
    "#import streamlit as st\n",
    "from snowflake.snowpark import Session\n",
    "#from streamlit_autorefresh import st_autorefresh\n",
    "import matplotlib.pyplot as plt\n",
    "import numpy as np\n",
    "from snowflake.snowpark.functions import col, count, lit, sum as sum_, max as max_, month, year, concat, asc, to_date, floor,dayofyear, dayofweek,dateadd,avg\n",
    "import re\n",
    "from snowflake.snowpark.types import IntegerType\n",
    "from snowflake.snowpark.functions import udf\n",
    "import datetime as dt"
   ]
  },
  {
   "cell_type": "code",
   "execution_count": 2,
   "metadata": {},
   "outputs": [
    {
     "name": "stdout",
     "output_type": "stream",
     "text": [
      "Initiating login request with your identity provider. A browser window should have opened for you to complete the login. If you can't see it, check existing browser windows, or your OS settings. Press CTRL+C to abort and try again...\n",
      "Going to open: https://netman.okta.com/app/snowflake/exk5idnkinyNtZ20m417/sso/saml?SAMLRequest=lZLdb9owFMX%2Flch7Tux8sA2LUGVl1dDagoC2W9%2Fc5AJeEjvzdQj893P4mLqHVtpb5Jzj3%2FE9d3S1rytvBwalVikJA0Y8ULkupNqk5GF1438mHlqhClFpBSk5AJKr8QhFXTU8a%2B1WLeB3C2g9d5FC3v9ISWsU1wIlciVqQG5zvszubnkUMC4QwViHI2dLgdKxttY2nNKu64IuDrTZ0IgxRtmQOlUv%2BUBeIZr3GY3RVue6ulj27k1vIELKkh7hFI4wPxu%2FSHUawXuUl5MI%2BbfVau7PZ8sV8bLL6661wrYGswSzkzk8LG5PAdAl2GDykbEkgNbv3Oj8MEClu3UlSsh13bTW3Rq4L7qGglZ6I92sppOUNKUs9rv8LvslfqrZk%2FgxUdvF5LsW7GsDj09hDU0x617KoT6UXYI58R4vzUZ9s1PEFqaq79O6IxbFPhv4UbwKYz4Y8jgKkiR8Jt7EhZJK2KPzElqBrYUKdGnFMZtoGvo3NoV9OZCFKqU63NvniNVJ%2BIkiatq3RU4Lw498M%2F7fMYzoa%2Fd59%2B5dHdPJXFcyP3g32tTCvt1WGITHE1n466OUQy1klRWFAUTXWlXp7tqAsG7FrWmB0PGJ%2Bu%2BSj%2F8A&RelayState=61914 to authenticate...\n"
     ]
    }
   ],
   "source": [
    "# to run : python -m streamlit run EDA.py\n",
    "\n",
    "def is_outlier(col_name, lower_multiplier=0.3, upper_multiplier=0.3): \n",
    "    quartiles = engagement_test.approxQuantile(col_name, [0.25, 0.75]) \n",
    "    Q1 = quartiles[0] \n",
    "    Q3 = quartiles[1] \n",
    "    IQR = Q3 - Q1 \n",
    "    lower_bound = Q1 - (lower_multiplier * IQR) \n",
    "    upper_bound = Q3 + (upper_multiplier * IQR) \n",
    "    return (col(col_name) >= lower_bound) & (col(col_name) <= upper_bound) \n",
    "\n",
    "\n",
    "# Connect using the Snowflake Snowpark package\n",
    "#@st.cache_resource\n",
    "def snowflake_session(connection_parameters) -> Session:\n",
    "    return Session.builder.configs(connection_parameters).create()\n",
    "\n",
    "connection_parameters = {\n",
    "    \"user\" : \"sophie.jones@contractor.itech.media\",\n",
    "    \"account\" : \"gs46004.eu-west-1\",\n",
    "    \"role\" : \"PRD_ANALYST\",\n",
    "    \"warehouse\" : \"PRD_WH\",\n",
    "    \"database\" : \"PRD_DWH\",\n",
    "    \"authenticator\" : \"externalbrowser\"\n",
    "}\n",
    "\n",
    "main_session = snowflake_session(connection_parameters)\n",
    "engagement_test = main_session.table('sandbox.sj_engagement_test')"
   ]
  },
  {
   "cell_type": "code",
   "execution_count": 26,
   "metadata": {},
   "outputs": [
    {
     "data": {
      "text/plain": [
       "1070809"
      ]
     },
     "execution_count": 26,
     "metadata": {},
     "output_type": "execute_result"
    }
   ],
   "source": [
    "engagement_test.count()"
   ]
  },
  {
   "cell_type": "code",
   "execution_count": 28,
   "metadata": {},
   "outputs": [
    {
     "data": {
      "text/plain": [
       "107137"
      ]
     },
     "execution_count": 28,
     "metadata": {},
     "output_type": "execute_result"
    }
   ],
   "source": [
    "engagement_test_sample_1 = engagement_test.sample(frac = 0.1)\n",
    "engagement_test_sample_1.count()"
   ]
  },
  {
   "cell_type": "code",
   "execution_count": 29,
   "metadata": {},
   "outputs": [
    {
     "data": {
      "text/plain": [
       "106734"
      ]
     },
     "execution_count": 29,
     "metadata": {},
     "output_type": "execute_result"
    }
   ],
   "source": [
    "engagement_test_sample_2 = engagement_test.sample(frac = 0.1)\n",
    "engagement_test_sample_2.count()"
   ]
  },
  {
   "cell_type": "code",
   "execution_count": 31,
   "metadata": {},
   "outputs": [
    {
     "name": "stdout",
     "output_type": "stream",
     "text": [
      "Engagement Rate with time on site ping of 30: 74672\n"
     ]
    }
   ],
   "source": [
    "#streamlit options for which pings to compare?\n",
    "#sample method or all?\n",
    "datalist = engagement_test_sample_1.select(count(col(\"*\")).alias(\"count_all\"),sum_(col(\"has_engagement_test_30\")).alias(\"sum_30\"),((sum_(col(\"has_engagement_test_30\"))/count(col(\"*\")))*100).alias(\"Engage_rate_30\")).collect()\n",
    "print(\"Engagement Rate with time on site ping of 30:\",datalist[0][1])\n",
    "#print(\"Engagement Rate with time on site ping of 90:\",datalist[0][4])"
   ]
  },
  {
   "cell_type": "code",
   "execution_count": 32,
   "metadata": {},
   "outputs": [
    {
     "name": "stdout",
     "output_type": "stream",
     "text": [
      "Engagement Rate with time on site ping of 45: 69941\n"
     ]
    }
   ],
   "source": [
    "datalist = engagement_test_sample_2.select(count(col(\"*\")).alias(\"count_all\"),sum_(col(\"has_engagement_test_45\")).alias(\"sum_45\"),((sum_(col(\"has_engagement_test_45\"))/count(col(\"*\")))*100).alias(\"Engage_rate_45\")).collect()\n",
    "print(\"Engagement Rate with time on site ping of 45:\",datalist[0][1])"
   ]
  },
  {
   "cell_type": "code",
   "execution_count": 16,
   "metadata": {},
   "outputs": [],
   "source": [
    "import numpy as np\n",
    "import pandas as pd\n",
    "import scipy\n",
    "import scipy.special"
   ]
  },
  {
   "cell_type": "code",
   "execution_count": 17,
   "metadata": {},
   "outputs": [
    {
     "data": {
      "text/plain": [
       "1070809"
      ]
     },
     "execution_count": 17,
     "metadata": {},
     "output_type": "execute_result"
    }
   ],
   "source": [
    "datalist[0][0]"
   ]
  },
  {
   "cell_type": "code",
   "execution_count": 18,
   "metadata": {},
   "outputs": [
    {
     "data": {
      "text/html": [
       "<div>\n",
       "<style scoped>\n",
       "    .dataframe tbody tr th:only-of-type {\n",
       "        vertical-align: middle;\n",
       "    }\n",
       "\n",
       "    .dataframe tbody tr th {\n",
       "        vertical-align: top;\n",
       "    }\n",
       "\n",
       "    .dataframe thead th {\n",
       "        text-align: right;\n",
       "    }\n",
       "</style>\n",
       "<table border=\"1\" class=\"dataframe\">\n",
       "  <thead>\n",
       "    <tr style=\"text-align: right;\">\n",
       "      <th></th>\n",
       "      <th>Engaged</th>\n",
       "      <th>Not Engaged</th>\n",
       "    </tr>\n",
       "  </thead>\n",
       "  <tbody>\n",
       "    <tr>\n",
       "      <th>Tos_ping_30</th>\n",
       "      <td>745043</td>\n",
       "      <td>325766</td>\n",
       "    </tr>\n",
       "    <tr>\n",
       "      <th>Tos_ping_90</th>\n",
       "      <td>607660</td>\n",
       "      <td>463149</td>\n",
       "    </tr>\n",
       "  </tbody>\n",
       "</table>\n",
       "</div>"
      ],
      "text/plain": [
       "             Engaged  Not Engaged\n",
       "Tos_ping_30   745043       325766\n",
       "Tos_ping_90   607660       463149"
      ]
     },
     "execution_count": 18,
     "metadata": {},
     "output_type": "execute_result"
    }
   ],
   "source": [
    "ar=np.array([[datalist[0][1], (datalist[0][0]-datalist[0][1])],[datalist[0][3], (datalist[0][0]-datalist[0][3])]])    \n",
    "df=pd.DataFrame(ar, columns=[\"Engaged\", \"Not Engaged\"])\n",
    "df.index=[\"Tos_ping_30\", \"Tos_ping_90\"] \n",
    "df "
   ]
  },
  {
   "cell_type": "code",
   "execution_count": 19,
   "metadata": {},
   "outputs": [
    {
     "data": {
      "text/html": [
       "<div>\n",
       "<style scoped>\n",
       "    .dataframe tbody tr th:only-of-type {\n",
       "        vertical-align: middle;\n",
       "    }\n",
       "\n",
       "    .dataframe tbody tr th {\n",
       "        vertical-align: top;\n",
       "    }\n",
       "\n",
       "    .dataframe thead th {\n",
       "        text-align: right;\n",
       "    }\n",
       "</style>\n",
       "<table border=\"1\" class=\"dataframe\">\n",
       "  <thead>\n",
       "    <tr style=\"text-align: right;\">\n",
       "      <th></th>\n",
       "      <th>Engaged</th>\n",
       "      <th>Not Engaged</th>\n",
       "      <th>Row_Total</th>\n",
       "    </tr>\n",
       "  </thead>\n",
       "  <tbody>\n",
       "    <tr>\n",
       "      <th>Tos_ping_30</th>\n",
       "      <td>745043</td>\n",
       "      <td>325766</td>\n",
       "      <td>1070809</td>\n",
       "    </tr>\n",
       "    <tr>\n",
       "      <th>Tos_ping_90</th>\n",
       "      <td>607660</td>\n",
       "      <td>463149</td>\n",
       "      <td>1070809</td>\n",
       "    </tr>\n",
       "    <tr>\n",
       "      <th>Column_Total</th>\n",
       "      <td>1352703</td>\n",
       "      <td>788915</td>\n",
       "      <td>2141618</td>\n",
       "    </tr>\n",
       "  </tbody>\n",
       "</table>\n",
       "</div>"
      ],
      "text/plain": [
       "              Engaged  Not Engaged  Row_Total\n",
       "Tos_ping_30    745043       325766    1070809\n",
       "Tos_ping_90    607660       463149    1070809\n",
       "Column_Total  1352703       788915    2141618"
      ]
     },
     "execution_count": 19,
     "metadata": {},
     "output_type": "execute_result"
    }
   ],
   "source": [
    "df2=df.copy()\n",
    "df2.loc['Column_Total']= df2.sum(numeric_only=True, axis=0)\n",
    "df2.loc[:,'Row_Total'] = df2.sum(numeric_only=True, axis=1)\n",
    "df2"
   ]
  },
  {
   "cell_type": "code",
   "execution_count": 20,
   "metadata": {},
   "outputs": [
    {
     "data": {
      "text/html": [
       "<div>\n",
       "<style scoped>\n",
       "    .dataframe tbody tr th:only-of-type {\n",
       "        vertical-align: middle;\n",
       "    }\n",
       "\n",
       "    .dataframe tbody tr th {\n",
       "        vertical-align: top;\n",
       "    }\n",
       "\n",
       "    .dataframe thead th {\n",
       "        text-align: right;\n",
       "    }\n",
       "</style>\n",
       "<table border=\"1\" class=\"dataframe\">\n",
       "  <thead>\n",
       "    <tr style=\"text-align: right;\">\n",
       "      <th></th>\n",
       "      <th>Engaged</th>\n",
       "      <th>Not Engaged</th>\n",
       "      <th>Row_Total</th>\n",
       "    </tr>\n",
       "  </thead>\n",
       "  <tbody>\n",
       "    <tr>\n",
       "      <th>Tos_ping_30</th>\n",
       "      <td>676351.5</td>\n",
       "      <td>394457.5</td>\n",
       "      <td>1070809</td>\n",
       "    </tr>\n",
       "    <tr>\n",
       "      <th>Tos_ping_90</th>\n",
       "      <td>676351.5</td>\n",
       "      <td>394457.5</td>\n",
       "      <td>1070809</td>\n",
       "    </tr>\n",
       "    <tr>\n",
       "      <th>Column_Total</th>\n",
       "      <td>1352703.0</td>\n",
       "      <td>788915.0</td>\n",
       "      <td>2141618</td>\n",
       "    </tr>\n",
       "  </tbody>\n",
       "</table>\n",
       "</div>"
      ],
      "text/plain": [
       "                Engaged  Not Engaged  Row_Total\n",
       "Tos_ping_30    676351.5     394457.5    1070809\n",
       "Tos_ping_90    676351.5     394457.5    1070809\n",
       "Column_Total  1352703.0     788915.0    2141618"
      ]
     },
     "execution_count": 20,
     "metadata": {},
     "output_type": "execute_result"
    }
   ],
   "source": [
    "n=df2.at[\"Column_Total\", \"Row_Total\"]  # grand total \n",
    "\n",
    "exp=df2.copy()               # create dataframe with expected frequencies\n",
    "for x in exp.index[0:-1]:\n",
    "    for y in exp.columns[0:-1]:\n",
    "        # round expected values to nearest hundredths:\n",
    "        v= (((df2.at[x, \"Row_Total\"]) * (df2.at[\"Column_Total\", y])   )   /n ).round(2) \n",
    "        exp.at[x,y]=float(v)\n",
    "\n",
    "exp"
   ]
  },
  {
   "cell_type": "code",
   "execution_count": 21,
   "metadata": {},
   "outputs": [
    {
     "data": {
      "text/plain": [
       "0.0"
      ]
     },
     "execution_count": 21,
     "metadata": {},
     "output_type": "execute_result"
    }
   ],
   "source": [
    "def p(a): \n",
    "    v=(scipy.special.binom(int(df2.iloc[0,2]), a) * scipy.special.binom(int(df2.iloc[1,2]), (int(df2.iloc[2,0])-a)) )/scipy.special.binom(n, int(df2.iloc[2,0]))\n",
    "    return v\n",
    "\n",
    "p(1) # if we try \"a=1\" we get the following probability ... "
   ]
  },
  {
   "cell_type": "code",
   "execution_count": 22,
   "metadata": {},
   "outputs": [
    {
     "name": "stderr",
     "output_type": "stream",
     "text": [
      "C:\\Users\\sophie.jones\\AppData\\Local\\Temp\\ipykernel_20016\\2466435755.py:2: RuntimeWarning: invalid value encountered in scalar multiply\n",
      "  v=(scipy.special.binom(int(df2.iloc[0,2]), a) * scipy.special.binom(int(df2.iloc[1,2]), (int(df2.iloc[2,0])-a)) )/scipy.special.binom(n, int(df2.iloc[2,0]))\n"
     ]
    },
    {
     "ename": "KeyboardInterrupt",
     "evalue": "",
     "output_type": "error",
     "traceback": [
      "\u001b[1;31m---------------------------------------------------------------------------\u001b[0m",
      "\u001b[1;31mKeyboardInterrupt\u001b[0m                         Traceback (most recent call last)",
      "Cell \u001b[1;32mIn[22], line 6\u001b[0m\n\u001b[0;32m      3\u001b[0m p_list\u001b[39m=\u001b[39m[]\n\u001b[0;32m      4\u001b[0m \u001b[39mfor\u001b[39;00m i \u001b[39min\u001b[39;00m \u001b[39mrange\u001b[39m(\u001b[39mint\u001b[39m(df2\u001b[39m.\u001b[39miloc[\u001b[39m0\u001b[39m,\u001b[39m2\u001b[39m])  \u001b[39m+\u001b[39m \u001b[39m1\u001b[39m  ): \u001b[39m# calculate p(a) for every possible table we can get given the fixed margins...\u001b[39;00m\n\u001b[0;32m      5\u001b[0m \u001b[39m#... this ranges from \"9 choose 0\" to \"9 choose 9\" so we should get 10 possible tables and their respective probabilities..\u001b[39;00m\n\u001b[1;32m----> 6\u001b[0m     \u001b[39mif\u001b[39;00m p(i)\u001b[39m<\u001b[39m\u001b[39m=\u001b[39mp_observed:\n\u001b[0;32m      7\u001b[0m         p_list\u001b[39m.\u001b[39mappend(p(i))     \u001b[39m# append these probabilites to p_list only if <= p_observed\u001b[39;00m\n\u001b[0;32m      9\u001b[0m p_val\u001b[39m=\u001b[39mnp\u001b[39m.\u001b[39msum(p_list) \u001b[39m# the sum of this list corresponds to the p-value \u001b[39;00m\n",
      "Cell \u001b[1;32mIn[21], line 2\u001b[0m, in \u001b[0;36mp\u001b[1;34m(a)\u001b[0m\n\u001b[0;32m      1\u001b[0m \u001b[39mdef\u001b[39;00m \u001b[39mp\u001b[39m(a): \n\u001b[1;32m----> 2\u001b[0m     v\u001b[39m=\u001b[39m(scipy\u001b[39m.\u001b[39mspecial\u001b[39m.\u001b[39mbinom(\u001b[39mint\u001b[39m(df2\u001b[39m.\u001b[39miloc[\u001b[39m0\u001b[39m,\u001b[39m2\u001b[39m]), a) \u001b[39m*\u001b[39m scipy\u001b[39m.\u001b[39mspecial\u001b[39m.\u001b[39mbinom(\u001b[39mint\u001b[39m(df2\u001b[39m.\u001b[39miloc[\u001b[39m1\u001b[39m,\u001b[39m2\u001b[39m]), (\u001b[39mint\u001b[39m(df2\u001b[39m.\u001b[39miloc[\u001b[39m2\u001b[39m,\u001b[39m0\u001b[39m])\u001b[39m-\u001b[39ma)) )\u001b[39m/\u001b[39mscipy\u001b[39m.\u001b[39mspecial\u001b[39m.\u001b[39mbinom(n, \u001b[39mint\u001b[39m(df2\u001b[39m.\u001b[39;49miloc[\u001b[39m2\u001b[39;49m,\u001b[39m0\u001b[39;49m]))\n\u001b[0;32m      3\u001b[0m     \u001b[39mreturn\u001b[39;00m v\n",
      "File \u001b[1;32mc:\\Users\\sophie.jones\\.virtualenvs\\eda_streamlit-675cm0gE\\lib\\site-packages\\pandas\\core\\indexing.py:1096\u001b[0m, in \u001b[0;36m_LocationIndexer.__getitem__\u001b[1;34m(self, key)\u001b[0m\n\u001b[0;32m   1094\u001b[0m     key \u001b[39m=\u001b[39m \u001b[39mtuple\u001b[39m(com\u001b[39m.\u001b[39mapply_if_callable(x, \u001b[39mself\u001b[39m\u001b[39m.\u001b[39mobj) \u001b[39mfor\u001b[39;00m x \u001b[39min\u001b[39;00m key)\n\u001b[0;32m   1095\u001b[0m     \u001b[39mif\u001b[39;00m \u001b[39mself\u001b[39m\u001b[39m.\u001b[39m_is_scalar_access(key):\n\u001b[1;32m-> 1096\u001b[0m         \u001b[39mreturn\u001b[39;00m \u001b[39mself\u001b[39;49m\u001b[39m.\u001b[39;49mobj\u001b[39m.\u001b[39;49m_get_value(\u001b[39m*\u001b[39;49mkey, takeable\u001b[39m=\u001b[39;49m\u001b[39mself\u001b[39;49m\u001b[39m.\u001b[39;49m_takeable)\n\u001b[0;32m   1097\u001b[0m     \u001b[39mreturn\u001b[39;00m \u001b[39mself\u001b[39m\u001b[39m.\u001b[39m_getitem_tuple(key)\n\u001b[0;32m   1098\u001b[0m \u001b[39melse\u001b[39;00m:\n\u001b[0;32m   1099\u001b[0m     \u001b[39m# we by definition only have the 0th axis\u001b[39;00m\n",
      "File \u001b[1;32mc:\\Users\\sophie.jones\\.virtualenvs\\eda_streamlit-675cm0gE\\lib\\site-packages\\pandas\\core\\frame.py:3877\u001b[0m, in \u001b[0;36mDataFrame._get_value\u001b[1;34m(self, index, col, takeable)\u001b[0m\n\u001b[0;32m   3858\u001b[0m \u001b[39m\u001b[39m\u001b[39m\"\"\"\u001b[39;00m\n\u001b[0;32m   3859\u001b[0m \u001b[39mQuickly retrieve single value at passed column and index.\u001b[39;00m\n\u001b[0;32m   3860\u001b[0m \n\u001b[1;32m   (...)\u001b[0m\n\u001b[0;32m   3874\u001b[0m \u001b[39m`self.columns._index_as_unique`; Caller is responsible for checking.\u001b[39;00m\n\u001b[0;32m   3875\u001b[0m \u001b[39m\"\"\"\u001b[39;00m\n\u001b[0;32m   3876\u001b[0m \u001b[39mif\u001b[39;00m takeable:\n\u001b[1;32m-> 3877\u001b[0m     series \u001b[39m=\u001b[39m \u001b[39mself\u001b[39;49m\u001b[39m.\u001b[39;49m_ixs(col, axis\u001b[39m=\u001b[39;49m\u001b[39m1\u001b[39;49m)\n\u001b[0;32m   3878\u001b[0m     \u001b[39mreturn\u001b[39;00m series\u001b[39m.\u001b[39m_values[index]\n\u001b[0;32m   3880\u001b[0m series \u001b[39m=\u001b[39m \u001b[39mself\u001b[39m\u001b[39m.\u001b[39m_get_item_cache(col)\n",
      "File \u001b[1;32mc:\\Users\\sophie.jones\\.virtualenvs\\eda_streamlit-675cm0gE\\lib\\site-packages\\pandas\\core\\frame.py:3666\u001b[0m, in \u001b[0;36mDataFrame._ixs\u001b[1;34m(self, i, axis)\u001b[0m\n\u001b[0;32m   3662\u001b[0m \u001b[39m# icol\u001b[39;00m\n\u001b[0;32m   3663\u001b[0m \u001b[39melse\u001b[39;00m:\n\u001b[0;32m   3664\u001b[0m     label \u001b[39m=\u001b[39m \u001b[39mself\u001b[39m\u001b[39m.\u001b[39mcolumns[i]\n\u001b[1;32m-> 3666\u001b[0m     col_mgr \u001b[39m=\u001b[39m \u001b[39mself\u001b[39;49m\u001b[39m.\u001b[39;49m_mgr\u001b[39m.\u001b[39;49miget(i)\n\u001b[0;32m   3667\u001b[0m     result \u001b[39m=\u001b[39m \u001b[39mself\u001b[39m\u001b[39m.\u001b[39m_box_col_values(col_mgr, i)\n\u001b[0;32m   3669\u001b[0m     \u001b[39m# this is a cached value, mark it so\u001b[39;00m\n",
      "File \u001b[1;32mc:\\Users\\sophie.jones\\.virtualenvs\\eda_streamlit-675cm0gE\\lib\\site-packages\\pandas\\core\\internals\\managers.py:1088\u001b[0m, in \u001b[0;36mBlockManager.iget\u001b[1;34m(self, i, track_ref)\u001b[0m\n\u001b[0;32m   1084\u001b[0m \u001b[39mdef\u001b[39;00m \u001b[39miget\u001b[39m(\u001b[39mself\u001b[39m, i: \u001b[39mint\u001b[39m, track_ref: \u001b[39mbool\u001b[39m \u001b[39m=\u001b[39m \u001b[39mTrue\u001b[39;00m) \u001b[39m-\u001b[39m\u001b[39m>\u001b[39m SingleBlockManager:\n\u001b[0;32m   1085\u001b[0m \u001b[39m    \u001b[39m\u001b[39m\"\"\"\u001b[39;00m\n\u001b[0;32m   1086\u001b[0m \u001b[39m    Return the data as a SingleBlockManager.\u001b[39;00m\n\u001b[0;32m   1087\u001b[0m \u001b[39m    \"\"\"\u001b[39;00m\n\u001b[1;32m-> 1088\u001b[0m     block \u001b[39m=\u001b[39m \u001b[39mself\u001b[39;49m\u001b[39m.\u001b[39;49mblocks[\u001b[39mself\u001b[39;49m\u001b[39m.\u001b[39;49mblknos[i]]\n\u001b[0;32m   1089\u001b[0m     values \u001b[39m=\u001b[39m block\u001b[39m.\u001b[39miget(\u001b[39mself\u001b[39m\u001b[39m.\u001b[39mblklocs[i])\n\u001b[0;32m   1091\u001b[0m     \u001b[39m# shortcut for select a single-dim from a 2-dim BM\u001b[39;00m\n",
      "\u001b[1;31mKeyboardInterrupt\u001b[0m: "
     ]
    }
   ],
   "source": [
    "p_observed=p(7) # In our contingency table, a was equal to 7.\n",
    "\n",
    "p_list=[]\n",
    "for i in range(int(df2.iloc[0,2])  + 1  ): # calculate p(a) for every possible table we can get given the fixed margins...\n",
    "#... this ranges from \"9 choose 0\" to \"9 choose 9\" so we should get 10 possible tables and their respective probabilities..\n",
    "    if p(i)<=p_observed:\n",
    "        p_list.append(p(i))     # append these probabilites to p_list only if <= p_observed\n",
    "        \n",
    "p_val=np.sum(p_list) # the sum of this list corresponds to the p-value \n",
    "p_val "
   ]
  },
  {
   "cell_type": "code",
   "execution_count": 70,
   "metadata": {},
   "outputs": [
    {
     "name": "stdout",
     "output_type": "stream",
     "text": [
      "Engagement Rate with time on site ping of 30: 745043\n"
     ]
    }
   ],
   "source": [
    "datalist = engagement_test.select(count(col(\"*\")).alias(\"count_all\"),sum_(col(\"has_engagement_test_30\")).alias(\"sum_30\"),((sum_(col(\"has_engagement_test_30\"))/count(col(\"*\")))*100).alias(\"Engage_rate_30\"),sum_(col(\"has_engagement_test_90\")).alias(\"sum_90\"),((sum_(col(\"has_engagement_test_90\"))/count(col(\"*\")))*100).alias(\"Engage_rate_90\")).collect()\n",
    "print(\"Engagement Rate with time on site ping of 30:\",datalist[0][1])"
   ]
  },
  {
   "cell_type": "code",
   "execution_count": 71,
   "metadata": {},
   "outputs": [
    {
     "data": {
      "text/plain": [
       "[Row(COUNT_ALL=1070809, SUM_30=745043, ENGAGE_RATE_30=Decimal('69.577600'), SUM_90=607660, ENGAGE_RATE_90=Decimal('56.747700'))]"
      ]
     },
     "execution_count": 71,
     "metadata": {},
     "output_type": "execute_result"
    }
   ],
   "source": [
    "datalist"
   ]
  },
  {
   "cell_type": "code",
   "execution_count": 72,
   "metadata": {},
   "outputs": [
    {
     "name": "stdout",
     "output_type": "stream",
     "text": [
      "[[745043, 325766], [607660, 463149]]\n"
     ]
    },
    {
     "data": {
      "text/plain": [
       "0.0"
      ]
     },
     "execution_count": 72,
     "metadata": {},
     "output_type": "execute_result"
    }
   ],
   "source": [
    "import scipy.stats as stats\n",
    "\n",
    "data = [[datalist[0][1], (datalist[0][0]-datalist[0][1])],[datalist[0][3], (datalist[0][0]-datalist[0][3])]]\n",
    "#data = [[datalist[0][1], datalist[0][3]],[(datalist[0][0]-datalist[0][1]), (datalist[0][0]-datalist[0][3])]]\n",
    "print(data)\n",
    "oddsratio, pvalue = stats.fisher_exact(data)  \n",
    "pvalue"
   ]
  },
  {
   "cell_type": "code",
   "execution_count": 73,
   "metadata": {},
   "outputs": [
    {
     "name": "stdout",
     "output_type": "stream",
     "text": [
      "p value is 0.0\n",
      "Dependent (reject H0)\n"
     ]
    }
   ],
   "source": [
    "from scipy.stats import chi2_contingency\n",
    "\n",
    "stat, p, dof, expected = chi2_contingency(data)\n",
    " \n",
    "# interpret p-value\n",
    "alpha = 0.05\n",
    "print(\"p value is \" + str(p))\n",
    "if p <= alpha:\n",
    "    print('Dependent (reject H0)')\n",
    "else:\n",
    "    print('Independent (H0 holds true)')"
   ]
  },
  {
   "cell_type": "code",
   "execution_count": 74,
   "metadata": {},
   "outputs": [
    {
     "name": "stdout",
     "output_type": "stream",
     "text": [
      "chi2 statistic:     37876\n",
      "p-value:            0\n",
      "degrees of freedom: 1\n",
      "expected frequencies:\n",
      "[[676351.5 394457.5]\n",
      " [676351.5 394457.5]]\n"
     ]
    }
   ],
   "source": [
    "chi2, p, dof, expected = chi2_contingency(data)\n",
    "\n",
    "print(f\"chi2 statistic:     {chi2:.5g}\")\n",
    "print(f\"p-value:            {p:.5g}\")\n",
    "print(f\"degrees of freedom: {dof}\")\n",
    "print(\"expected frequencies:\")\n",
    "print(expected)"
   ]
  },
  {
   "cell_type": "code",
   "execution_count": 75,
   "metadata": {},
   "outputs": [
    {
     "name": "stdout",
     "output_type": "stream",
     "text": [
      "[[745043, 325766], [607660, 463149]]\n",
      "statistic=325766.000, p-value=0.000\n",
      "Different proportions of errors (reject H0)\n"
     ]
    }
   ],
   "source": [
    "# Example of calculating the mcnemar test\n",
    "from statsmodels.stats.contingency_tables import mcnemar\n",
    "\n",
    "#data = [[datalist[0][1], (datalist[0][0]-datalist[0][1])],[datalist[0][3], (datalist[0][0]-datalist[0][3])]]\n",
    "#data = [[datalist[0][1], datalist[0][3]],[(datalist[0][0]-datalist[0][1]), (datalist[0][0]-datalist[0][3])]]\n",
    "print(data)\n",
    "# define contingency table\n",
    "\n",
    "# calculate mcnemar test\n",
    "result = mcnemar(data, exact=True)\n",
    "# summarize the finding\n",
    "print('statistic=%.3f, p-value=%.3f' % (result.statistic, result.pvalue))\n",
    "# interpret the p-value\n",
    "alpha = 0.05\n",
    "if result.pvalue > alpha:\n",
    " print('Same proportions of errors (fail to reject H0)')\n",
    "else:\n",
    " print('Different proportions of errors (reject H0)')"
   ]
  },
  {
   "cell_type": "code",
   "execution_count": null,
   "metadata": {},
   "outputs": [],
   "source": []
  }
 ],
 "metadata": {
  "kernelspec": {
   "display_name": "eda_streamlit-675cm0gE",
   "language": "python",
   "name": "python3"
  },
  "language_info": {
   "codemirror_mode": {
    "name": "ipython",
    "version": 3
   },
   "file_extension": ".py",
   "mimetype": "text/x-python",
   "name": "python",
   "nbconvert_exporter": "python",
   "pygments_lexer": "ipython3",
   "version": "3.8.10"
  },
  "orig_nbformat": 4
 },
 "nbformat": 4,
 "nbformat_minor": 2
}
