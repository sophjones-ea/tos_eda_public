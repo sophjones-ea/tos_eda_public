{
 "cells": [
  {
   "cell_type": "markdown",
   "id": "5e44f5df-5524-4a67-b36c-5cf2dfc29c2b",
   "metadata": {},
   "source": [
    "# Detailed analysis of the \"time on site\" variable and determine if 30 seconds is the correct threshold to use for identifying engaged users:"
   ]
  },
  {
   "cell_type": "markdown",
   "id": "4ea200e6-ab20-47fe-ba92-fc105f0bb037",
   "metadata": {},
   "source": [
    "Also segmenting by product, device and marketing channel"
   ]
  },
  {
   "cell_type": "markdown",
   "id": "7575d540-89a7-49e5-ae0a-b1d29fe01559",
   "metadata": {
    "jp-MarkdownHeadingCollapsed": true,
    "tags": []
   },
   "source": [
    "### Set up required connections and imports"
   ]
  },
  {
   "cell_type": "code",
   "execution_count": 2,
   "id": "264fb072-1ed6-42c8-9c34-4348b0670959",
   "metadata": {
    "tags": []
   },
   "outputs": [
    {
     "name": "stdout",
     "output_type": "stream",
     "text": [
      "Note: you may need to restart the kernel to use updated packages.\n"
     ]
    }
   ],
   "source": [
    "pip install snowflake-snowpark-python --quiet"
   ]
  },
  {
   "cell_type": "code",
   "execution_count": 2,
   "id": "64fbae46-4351-4731-9c77-0bba7742baec",
   "metadata": {
    "tags": []
   },
   "outputs": [
    {
     "name": "stderr",
     "output_type": "stream",
     "text": [
      "c:\\Users\\sophie.jones\\.virtualenvs\\eda_streamlit-675cm0gE\\lib\\site-packages\\snowflake\\connector\\options.py:108: UserWarning: You have an incompatible version of 'pyarrow' installed (11.0.0), please install a version that adheres to: 'pyarrow<10.1.0,>=10.0.1; extra == \"pandas\"'\n",
      "  warn_incompatible_dep(\n",
      "Failed to import ArrowResult. No Apache Arrow result set format can be used. ImportError: DLL load failed while importing arrow_iterator: The specified procedure could not be found.\n"
     ]
    }
   ],
   "source": [
    "#connecting and reading to and from snowflake\n",
    "import boto3\n",
    "import snowflake.connector\n",
    "from pathlib import Path\n",
    "from snowflake.connector.pandas_tools import write_pandas\n",
    "from sqlalchemy import create_engine\n",
    "from snowflake.connector.pandas_tools import pd_writer\n",
    "from snowflake.connector import DictCursor\n",
    "import pandas as pd\n",
    "from snowflake.snowpark import functions as fn\n",
    "from snowflake.snowpark import types as type\n",
    "from snowflake.snowpark import DataFrame as df\n",
    "\n",
    "   \n",
    "def get_snowflake_credentials():\n",
    "    \"\"\" iTech credentials service for Sagemaker\n",
    "   \n",
    "    iTech has a service account for Sagemaker notebooks that has access permission to snowflake.\n",
    "    We need to use this service account every time we need to build a connection, to obtain the right credentials.\n",
    "    \"\"\"\n",
    "    params = [\n",
    "        '/sagemaker/snowflake/user_id',\n",
    "        '/sagemaker/snowflake/password',\n",
    "        '/sagemaker/snowflake/account_id'\n",
    "    ]\n",
    " \n",
    "    sm = boto3.client('secretsmanager', \"eu-west-1\")\n",
    " \n",
    "    param_values = {}\n",
    "    for param in params:\n",
    "        param_values[param.replace('/sagemaker/snowflake/','').replace('_id','')] = sm.get_secret_value(SecretId = param)['SecretString']\n",
    "    return param_values\n",
    "\n",
    "def create_snowflake_connection(schema='DIMENSIONAL'):\n",
    "    \"\"\"\n",
    "    With the created connection object `conn` you can connect to Snowflake and obtain data with the following way:\n",
    " \n",
    "    ```python\n",
    "    with conn.cursor() as c:\n",
    "        df = c.execute(\"SQL_QUERY_STRING_HERE\").fetch_pandas_all()\n",
    "    ```\n",
    "    \"\"\"\n",
    "    credentials = get_snowflake_credentials()\n",
    "    return snowflake.connector.connect(\n",
    "        user=credentials['user'],\n",
    "        password=credentials['password'],\n",
    "        account=credentials['account'],\n",
    "        role=\"PRD_ANALYST\",\n",
    "        warehouse='PRD_WH',\n",
    "        database='PRD_DWH',\n",
    "        schema=schema\n",
    "    )\n",
    "\n",
    "def download_from_snowflake(sql_query):\n",
    "    with create_snowflake_connection().cursor(DictCursor) as cur:\n",
    "            data = cur.execute(sql_query).fetchall()\n",
    "            data = pd.DataFrame(data).rename(columns=str.lower)\n",
    "    return data\n",
    "\n",
    "def read_sql_query(sql_file):\n",
    "    return sql_file.read_text()\n",
    " \n",
    "\n",
    "def write_to_table(df, table_name):\n",
    "    drop_sql = f'DROP TABLE IF EXISTS {table_name.upper()}'\n",
    "    with create_snowflake_connection(schema='SANDBOX') as conn:\n",
    "        conn.cursor().execute(drop_sql)\n",
    "        write_pandas(conn, df, table_name.upper())"
   ]
  },
  {
   "cell_type": "code",
   "execution_count": 3,
   "id": "c028d832-54ef-4806-815d-b50646c3bc6c",
   "metadata": {
    "tags": []
   },
   "outputs": [],
   "source": [
    "import numpy as np\n",
    "\n",
    "def is_outlier(points, thresh=3.5):\n",
    "    \"\"\"\n",
    "    Returns a boolean array with True if points are outliers and False \n",
    "    otherwise.\n",
    "\n",
    "    Parameters:\n",
    "    -----------\n",
    "        points : An numobservations by numdimensions array of observations\n",
    "        thresh : The modified z-score to use as a threshold. Observations with\n",
    "            a modified z-score (based on the median absolute deviation) greater\n",
    "            than this value will be classified as outliers.\n",
    "\n",
    "    Returns:\n",
    "    --------\n",
    "        mask : A numobservations-length boolean array.\n",
    "\n",
    "    References:\n",
    "    ----------\n",
    "        Boris Iglewicz and David Hoaglin (1993), \"Volume 16: How to Detect and\n",
    "        Handle Outliers\", The ASQC Basic References in Quality Control:\n",
    "        Statistical Techniques, Edward F. Mykytka, Ph.D., Editor. \n",
    "    \"\"\"\n",
    "    if len(points.shape) == 1:\n",
    "        points = points[:,None]\n",
    "    median = np.median(points, axis=0)\n",
    "    diff = np.sum((points - median)**2, axis=-1)\n",
    "    diff = np.sqrt(diff)\n",
    "    med_abs_deviation = np.median(diff)\n",
    "\n",
    "    modified_z_score = 0.6745 * diff / med_abs_deviation\n",
    "\n",
    "    return modified_z_score > thresh"
   ]
  },
  {
   "cell_type": "code",
   "execution_count": 4,
   "id": "250f56e5-cf32-4c5a-8f17-0b83fb30dc1a",
   "metadata": {
    "tags": []
   },
   "outputs": [
    {
     "ename": "NoCredentialsError",
     "evalue": "Unable to locate credentials",
     "output_type": "error",
     "traceback": [
      "\u001b[1;31m---------------------------------------------------------------------------\u001b[0m",
      "\u001b[1;31mNoCredentialsError\u001b[0m                        Traceback (most recent call last)",
      "Cell \u001b[1;32mIn[4], line 3\u001b[0m\n\u001b[0;32m      1\u001b[0m \u001b[39mfrom\u001b[39;00m \u001b[39msnowflake\u001b[39;00m\u001b[39m.\u001b[39;00m\u001b[39msnowpark\u001b[39;00m \u001b[39mimport\u001b[39;00m Session\n\u001b[1;32m----> 3\u001b[0m credentials \u001b[39m=\u001b[39m get_snowflake_credentials()\n\u001b[0;32m      4\u001b[0m connection_parameters \u001b[39m=\u001b[39m {\n\u001b[0;32m      5\u001b[0m     \u001b[39m\"\u001b[39m\u001b[39maccount\u001b[39m\u001b[39m\"\u001b[39m: \u001b[39mstr\u001b[39m(credentials[\u001b[39m'\u001b[39m\u001b[39maccount\u001b[39m\u001b[39m'\u001b[39m]),\n\u001b[0;32m      6\u001b[0m     \u001b[39m\"\u001b[39m\u001b[39muser\u001b[39m\u001b[39m\"\u001b[39m: \u001b[39mstr\u001b[39m(credentials[\u001b[39m'\u001b[39m\u001b[39muser\u001b[39m\u001b[39m'\u001b[39m]),\n\u001b[1;32m   (...)\u001b[0m\n\u001b[0;32m     11\u001b[0m     \u001b[39m\"\u001b[39m\u001b[39mschema\u001b[39m\u001b[39m\"\u001b[39m: \u001b[39m\"\u001b[39m\u001b[39mSANDBOX\u001b[39m\u001b[39m\"\u001b[39m\n\u001b[0;32m     12\u001b[0m }\n\u001b[0;32m     14\u001b[0m test_session \u001b[39m=\u001b[39m Session\u001b[39m.\u001b[39mbuilder\u001b[39m.\u001b[39mconfigs(connection_parameters)\u001b[39m.\u001b[39mcreate()\n",
      "Cell \u001b[1;32mIn[2], line 31\u001b[0m, in \u001b[0;36mget_snowflake_credentials\u001b[1;34m()\u001b[0m\n\u001b[0;32m     29\u001b[0m param_values \u001b[39m=\u001b[39m {}\n\u001b[0;32m     30\u001b[0m \u001b[39mfor\u001b[39;00m param \u001b[39min\u001b[39;00m params:\n\u001b[1;32m---> 31\u001b[0m     param_values[param\u001b[39m.\u001b[39mreplace(\u001b[39m'\u001b[39m\u001b[39m/sagemaker/snowflake/\u001b[39m\u001b[39m'\u001b[39m,\u001b[39m'\u001b[39m\u001b[39m'\u001b[39m)\u001b[39m.\u001b[39mreplace(\u001b[39m'\u001b[39m\u001b[39m_id\u001b[39m\u001b[39m'\u001b[39m,\u001b[39m'\u001b[39m\u001b[39m'\u001b[39m)] \u001b[39m=\u001b[39m sm\u001b[39m.\u001b[39;49mget_secret_value(SecretId \u001b[39m=\u001b[39;49m param)[\u001b[39m'\u001b[39m\u001b[39mSecretString\u001b[39m\u001b[39m'\u001b[39m]\n\u001b[0;32m     32\u001b[0m \u001b[39mreturn\u001b[39;00m param_values\n",
      "File \u001b[1;32mc:\\Users\\sophie.jones\\.virtualenvs\\eda_streamlit-675cm0gE\\lib\\site-packages\\botocore\\client.py:530\u001b[0m, in \u001b[0;36mClientCreator._create_api_method.<locals>._api_call\u001b[1;34m(self, *args, **kwargs)\u001b[0m\n\u001b[0;32m    526\u001b[0m     \u001b[39mraise\u001b[39;00m \u001b[39mTypeError\u001b[39;00m(\n\u001b[0;32m    527\u001b[0m         \u001b[39mf\u001b[39m\u001b[39m\"\u001b[39m\u001b[39m{\u001b[39;00mpy_operation_name\u001b[39m}\u001b[39;00m\u001b[39m() only accepts keyword arguments.\u001b[39m\u001b[39m\"\u001b[39m\n\u001b[0;32m    528\u001b[0m     )\n\u001b[0;32m    529\u001b[0m \u001b[39m# The \"self\" in this scope is referring to the BaseClient.\u001b[39;00m\n\u001b[1;32m--> 530\u001b[0m \u001b[39mreturn\u001b[39;00m \u001b[39mself\u001b[39;49m\u001b[39m.\u001b[39;49m_make_api_call(operation_name, kwargs)\n",
      "File \u001b[1;32mc:\\Users\\sophie.jones\\.virtualenvs\\eda_streamlit-675cm0gE\\lib\\site-packages\\botocore\\client.py:943\u001b[0m, in \u001b[0;36mBaseClient._make_api_call\u001b[1;34m(self, operation_name, api_params)\u001b[0m\n\u001b[0;32m    941\u001b[0m \u001b[39melse\u001b[39;00m:\n\u001b[0;32m    942\u001b[0m     apply_request_checksum(request_dict)\n\u001b[1;32m--> 943\u001b[0m     http, parsed_response \u001b[39m=\u001b[39m \u001b[39mself\u001b[39;49m\u001b[39m.\u001b[39;49m_make_request(\n\u001b[0;32m    944\u001b[0m         operation_model, request_dict, request_context\n\u001b[0;32m    945\u001b[0m     )\n\u001b[0;32m    947\u001b[0m \u001b[39mself\u001b[39m\u001b[39m.\u001b[39mmeta\u001b[39m.\u001b[39mevents\u001b[39m.\u001b[39memit(\n\u001b[0;32m    948\u001b[0m     \u001b[39m'\u001b[39m\u001b[39mafter-call.\u001b[39m\u001b[39m{service_id}\u001b[39;00m\u001b[39m.\u001b[39m\u001b[39m{operation_name}\u001b[39;00m\u001b[39m'\u001b[39m\u001b[39m.\u001b[39mformat(\n\u001b[0;32m    949\u001b[0m         service_id\u001b[39m=\u001b[39mservice_id, operation_name\u001b[39m=\u001b[39moperation_name\n\u001b[1;32m   (...)\u001b[0m\n\u001b[0;32m    954\u001b[0m     context\u001b[39m=\u001b[39mrequest_context,\n\u001b[0;32m    955\u001b[0m )\n\u001b[0;32m    957\u001b[0m \u001b[39mif\u001b[39;00m http\u001b[39m.\u001b[39mstatus_code \u001b[39m>\u001b[39m\u001b[39m=\u001b[39m \u001b[39m300\u001b[39m:\n",
      "File \u001b[1;32mc:\\Users\\sophie.jones\\.virtualenvs\\eda_streamlit-675cm0gE\\lib\\site-packages\\botocore\\client.py:966\u001b[0m, in \u001b[0;36mBaseClient._make_request\u001b[1;34m(self, operation_model, request_dict, request_context)\u001b[0m\n\u001b[0;32m    964\u001b[0m \u001b[39mdef\u001b[39;00m \u001b[39m_make_request\u001b[39m(\u001b[39mself\u001b[39m, operation_model, request_dict, request_context):\n\u001b[0;32m    965\u001b[0m     \u001b[39mtry\u001b[39;00m:\n\u001b[1;32m--> 966\u001b[0m         \u001b[39mreturn\u001b[39;00m \u001b[39mself\u001b[39;49m\u001b[39m.\u001b[39;49m_endpoint\u001b[39m.\u001b[39;49mmake_request(operation_model, request_dict)\n\u001b[0;32m    967\u001b[0m     \u001b[39mexcept\u001b[39;00m \u001b[39mException\u001b[39;00m \u001b[39mas\u001b[39;00m e:\n\u001b[0;32m    968\u001b[0m         \u001b[39mself\u001b[39m\u001b[39m.\u001b[39mmeta\u001b[39m.\u001b[39mevents\u001b[39m.\u001b[39memit(\n\u001b[0;32m    969\u001b[0m             \u001b[39m'\u001b[39m\u001b[39mafter-call-error.\u001b[39m\u001b[39m{service_id}\u001b[39;00m\u001b[39m.\u001b[39m\u001b[39m{operation_name}\u001b[39;00m\u001b[39m'\u001b[39m\u001b[39m.\u001b[39mformat(\n\u001b[0;32m    970\u001b[0m                 service_id\u001b[39m=\u001b[39m\u001b[39mself\u001b[39m\u001b[39m.\u001b[39m_service_model\u001b[39m.\u001b[39mservice_id\u001b[39m.\u001b[39mhyphenize(),\n\u001b[1;32m   (...)\u001b[0m\n\u001b[0;32m    974\u001b[0m             context\u001b[39m=\u001b[39mrequest_context,\n\u001b[0;32m    975\u001b[0m         )\n",
      "File \u001b[1;32mc:\\Users\\sophie.jones\\.virtualenvs\\eda_streamlit-675cm0gE\\lib\\site-packages\\botocore\\endpoint.py:119\u001b[0m, in \u001b[0;36mEndpoint.make_request\u001b[1;34m(self, operation_model, request_dict)\u001b[0m\n\u001b[0;32m    113\u001b[0m \u001b[39mdef\u001b[39;00m \u001b[39mmake_request\u001b[39m(\u001b[39mself\u001b[39m, operation_model, request_dict):\n\u001b[0;32m    114\u001b[0m     logger\u001b[39m.\u001b[39mdebug(\n\u001b[0;32m    115\u001b[0m         \u001b[39m\"\u001b[39m\u001b[39mMaking request for \u001b[39m\u001b[39m%s\u001b[39;00m\u001b[39m with params: \u001b[39m\u001b[39m%s\u001b[39;00m\u001b[39m\"\u001b[39m,\n\u001b[0;32m    116\u001b[0m         operation_model,\n\u001b[0;32m    117\u001b[0m         request_dict,\n\u001b[0;32m    118\u001b[0m     )\n\u001b[1;32m--> 119\u001b[0m     \u001b[39mreturn\u001b[39;00m \u001b[39mself\u001b[39;49m\u001b[39m.\u001b[39;49m_send_request(request_dict, operation_model)\n",
      "File \u001b[1;32mc:\\Users\\sophie.jones\\.virtualenvs\\eda_streamlit-675cm0gE\\lib\\site-packages\\botocore\\endpoint.py:198\u001b[0m, in \u001b[0;36mEndpoint._send_request\u001b[1;34m(self, request_dict, operation_model)\u001b[0m\n\u001b[0;32m    196\u001b[0m context \u001b[39m=\u001b[39m request_dict[\u001b[39m'\u001b[39m\u001b[39mcontext\u001b[39m\u001b[39m'\u001b[39m]\n\u001b[0;32m    197\u001b[0m \u001b[39mself\u001b[39m\u001b[39m.\u001b[39m_update_retries_context(context, attempts)\n\u001b[1;32m--> 198\u001b[0m request \u001b[39m=\u001b[39m \u001b[39mself\u001b[39;49m\u001b[39m.\u001b[39;49mcreate_request(request_dict, operation_model)\n\u001b[0;32m    199\u001b[0m success_response, exception \u001b[39m=\u001b[39m \u001b[39mself\u001b[39m\u001b[39m.\u001b[39m_get_response(\n\u001b[0;32m    200\u001b[0m     request, operation_model, context\n\u001b[0;32m    201\u001b[0m )\n\u001b[0;32m    202\u001b[0m \u001b[39mwhile\u001b[39;00m \u001b[39mself\u001b[39m\u001b[39m.\u001b[39m_needs_retry(\n\u001b[0;32m    203\u001b[0m     attempts,\n\u001b[0;32m    204\u001b[0m     operation_model,\n\u001b[1;32m   (...)\u001b[0m\n\u001b[0;32m    207\u001b[0m     exception,\n\u001b[0;32m    208\u001b[0m ):\n",
      "File \u001b[1;32mc:\\Users\\sophie.jones\\.virtualenvs\\eda_streamlit-675cm0gE\\lib\\site-packages\\botocore\\endpoint.py:134\u001b[0m, in \u001b[0;36mEndpoint.create_request\u001b[1;34m(self, params, operation_model)\u001b[0m\n\u001b[0;32m    130\u001b[0m     service_id \u001b[39m=\u001b[39m operation_model\u001b[39m.\u001b[39mservice_model\u001b[39m.\u001b[39mservice_id\u001b[39m.\u001b[39mhyphenize()\n\u001b[0;32m    131\u001b[0m     event_name \u001b[39m=\u001b[39m \u001b[39m'\u001b[39m\u001b[39mrequest-created.\u001b[39m\u001b[39m{service_id}\u001b[39;00m\u001b[39m.\u001b[39m\u001b[39m{op_name}\u001b[39;00m\u001b[39m'\u001b[39m\u001b[39m.\u001b[39mformat(\n\u001b[0;32m    132\u001b[0m         service_id\u001b[39m=\u001b[39mservice_id, op_name\u001b[39m=\u001b[39moperation_model\u001b[39m.\u001b[39mname\n\u001b[0;32m    133\u001b[0m     )\n\u001b[1;32m--> 134\u001b[0m     \u001b[39mself\u001b[39;49m\u001b[39m.\u001b[39;49m_event_emitter\u001b[39m.\u001b[39;49memit(\n\u001b[0;32m    135\u001b[0m         event_name,\n\u001b[0;32m    136\u001b[0m         request\u001b[39m=\u001b[39;49mrequest,\n\u001b[0;32m    137\u001b[0m         operation_name\u001b[39m=\u001b[39;49moperation_model\u001b[39m.\u001b[39;49mname,\n\u001b[0;32m    138\u001b[0m     )\n\u001b[0;32m    139\u001b[0m prepared_request \u001b[39m=\u001b[39m \u001b[39mself\u001b[39m\u001b[39m.\u001b[39mprepare_request(request)\n\u001b[0;32m    140\u001b[0m \u001b[39mreturn\u001b[39;00m prepared_request\n",
      "File \u001b[1;32mc:\\Users\\sophie.jones\\.virtualenvs\\eda_streamlit-675cm0gE\\lib\\site-packages\\botocore\\hooks.py:412\u001b[0m, in \u001b[0;36mEventAliaser.emit\u001b[1;34m(self, event_name, **kwargs)\u001b[0m\n\u001b[0;32m    410\u001b[0m \u001b[39mdef\u001b[39;00m \u001b[39memit\u001b[39m(\u001b[39mself\u001b[39m, event_name, \u001b[39m*\u001b[39m\u001b[39m*\u001b[39mkwargs):\n\u001b[0;32m    411\u001b[0m     aliased_event_name \u001b[39m=\u001b[39m \u001b[39mself\u001b[39m\u001b[39m.\u001b[39m_alias_event_name(event_name)\n\u001b[1;32m--> 412\u001b[0m     \u001b[39mreturn\u001b[39;00m \u001b[39mself\u001b[39;49m\u001b[39m.\u001b[39;49m_emitter\u001b[39m.\u001b[39;49memit(aliased_event_name, \u001b[39m*\u001b[39;49m\u001b[39m*\u001b[39;49mkwargs)\n",
      "File \u001b[1;32mc:\\Users\\sophie.jones\\.virtualenvs\\eda_streamlit-675cm0gE\\lib\\site-packages\\botocore\\hooks.py:256\u001b[0m, in \u001b[0;36mHierarchicalEmitter.emit\u001b[1;34m(self, event_name, **kwargs)\u001b[0m\n\u001b[0;32m    245\u001b[0m \u001b[39mdef\u001b[39;00m \u001b[39memit\u001b[39m(\u001b[39mself\u001b[39m, event_name, \u001b[39m*\u001b[39m\u001b[39m*\u001b[39mkwargs):\n\u001b[0;32m    246\u001b[0m \u001b[39m    \u001b[39m\u001b[39m\"\"\"\u001b[39;00m\n\u001b[0;32m    247\u001b[0m \u001b[39m    Emit an event by name with arguments passed as keyword args.\u001b[39;00m\n\u001b[0;32m    248\u001b[0m \n\u001b[1;32m   (...)\u001b[0m\n\u001b[0;32m    254\u001b[0m \u001b[39m             handlers.\u001b[39;00m\n\u001b[0;32m    255\u001b[0m \u001b[39m    \"\"\"\u001b[39;00m\n\u001b[1;32m--> 256\u001b[0m     \u001b[39mreturn\u001b[39;00m \u001b[39mself\u001b[39;49m\u001b[39m.\u001b[39;49m_emit(event_name, kwargs)\n",
      "File \u001b[1;32mc:\\Users\\sophie.jones\\.virtualenvs\\eda_streamlit-675cm0gE\\lib\\site-packages\\botocore\\hooks.py:239\u001b[0m, in \u001b[0;36mHierarchicalEmitter._emit\u001b[1;34m(self, event_name, kwargs, stop_on_response)\u001b[0m\n\u001b[0;32m    237\u001b[0m \u001b[39mfor\u001b[39;00m handler \u001b[39min\u001b[39;00m handlers_to_call:\n\u001b[0;32m    238\u001b[0m     logger\u001b[39m.\u001b[39mdebug(\u001b[39m'\u001b[39m\u001b[39mEvent \u001b[39m\u001b[39m%s\u001b[39;00m\u001b[39m: calling handler \u001b[39m\u001b[39m%s\u001b[39;00m\u001b[39m'\u001b[39m, event_name, handler)\n\u001b[1;32m--> 239\u001b[0m     response \u001b[39m=\u001b[39m handler(\u001b[39m*\u001b[39;49m\u001b[39m*\u001b[39;49mkwargs)\n\u001b[0;32m    240\u001b[0m     responses\u001b[39m.\u001b[39mappend((handler, response))\n\u001b[0;32m    241\u001b[0m     \u001b[39mif\u001b[39;00m stop_on_response \u001b[39mand\u001b[39;00m response \u001b[39mis\u001b[39;00m \u001b[39mnot\u001b[39;00m \u001b[39mNone\u001b[39;00m:\n",
      "File \u001b[1;32mc:\\Users\\sophie.jones\\.virtualenvs\\eda_streamlit-675cm0gE\\lib\\site-packages\\botocore\\signers.py:105\u001b[0m, in \u001b[0;36mRequestSigner.handler\u001b[1;34m(self, operation_name, request, **kwargs)\u001b[0m\n\u001b[0;32m    100\u001b[0m \u001b[39mdef\u001b[39;00m \u001b[39mhandler\u001b[39m(\u001b[39mself\u001b[39m, operation_name\u001b[39m=\u001b[39m\u001b[39mNone\u001b[39;00m, request\u001b[39m=\u001b[39m\u001b[39mNone\u001b[39;00m, \u001b[39m*\u001b[39m\u001b[39m*\u001b[39mkwargs):\n\u001b[0;32m    101\u001b[0m     \u001b[39m# This is typically hooked up to the \"request-created\" event\u001b[39;00m\n\u001b[0;32m    102\u001b[0m     \u001b[39m# from a client's event emitter.  When a new request is created\u001b[39;00m\n\u001b[0;32m    103\u001b[0m     \u001b[39m# this method is invoked to sign the request.\u001b[39;00m\n\u001b[0;32m    104\u001b[0m     \u001b[39m# Don't call this method directly.\u001b[39;00m\n\u001b[1;32m--> 105\u001b[0m     \u001b[39mreturn\u001b[39;00m \u001b[39mself\u001b[39;49m\u001b[39m.\u001b[39;49msign(operation_name, request)\n",
      "File \u001b[1;32mc:\\Users\\sophie.jones\\.virtualenvs\\eda_streamlit-675cm0gE\\lib\\site-packages\\botocore\\signers.py:189\u001b[0m, in \u001b[0;36mRequestSigner.sign\u001b[1;34m(self, operation_name, request, region_name, signing_type, expires_in, signing_name)\u001b[0m\n\u001b[0;32m    186\u001b[0m     \u001b[39melse\u001b[39;00m:\n\u001b[0;32m    187\u001b[0m         \u001b[39mraise\u001b[39;00m e\n\u001b[1;32m--> 189\u001b[0m auth\u001b[39m.\u001b[39;49madd_auth(request)\n",
      "File \u001b[1;32mc:\\Users\\sophie.jones\\.virtualenvs\\eda_streamlit-675cm0gE\\lib\\site-packages\\botocore\\auth.py:418\u001b[0m, in \u001b[0;36mSigV4Auth.add_auth\u001b[1;34m(self, request)\u001b[0m\n\u001b[0;32m    416\u001b[0m \u001b[39mdef\u001b[39;00m \u001b[39madd_auth\u001b[39m(\u001b[39mself\u001b[39m, request):\n\u001b[0;32m    417\u001b[0m     \u001b[39mif\u001b[39;00m \u001b[39mself\u001b[39m\u001b[39m.\u001b[39mcredentials \u001b[39mis\u001b[39;00m \u001b[39mNone\u001b[39;00m:\n\u001b[1;32m--> 418\u001b[0m         \u001b[39mraise\u001b[39;00m NoCredentialsError()\n\u001b[0;32m    419\u001b[0m     datetime_now \u001b[39m=\u001b[39m datetime\u001b[39m.\u001b[39mdatetime\u001b[39m.\u001b[39mutcnow()\n\u001b[0;32m    420\u001b[0m     request\u001b[39m.\u001b[39mcontext[\u001b[39m'\u001b[39m\u001b[39mtimestamp\u001b[39m\u001b[39m'\u001b[39m] \u001b[39m=\u001b[39m datetime_now\u001b[39m.\u001b[39mstrftime(SIGV4_TIMESTAMP)\n",
      "\u001b[1;31mNoCredentialsError\u001b[0m: Unable to locate credentials"
     ]
    }
   ],
   "source": [
    "from snowflake.snowpark import Session\n",
    "\n",
    "credentials = get_snowflake_credentials()\n",
    "connection_parameters = {\n",
    "    \"account\": str(credentials['account']),\n",
    "    \"user\": str(credentials['user']),\n",
    "    \"password\" : str(credentials['password']),\n",
    "    \"role\": \"PRD_ANALYST\",\n",
    "    \"warehouse\": \"PRD_WH\",\n",
    "    \"database\": \"PRD_DWH\",\n",
    "    \"schema\": \"SANDBOX\"\n",
    "}\n",
    "\n",
    "test_session = Session.builder.configs(connection_parameters).create()\n",
    "#test_session.sql('select current_date, current_warehouse(), current_database(), current_schema()').collect()\n",
    "#test_session.close()"
   ]
  },
  {
   "cell_type": "code",
   "execution_count": 6,
   "id": "91161219",
   "metadata": {},
   "outputs": [
    {
     "name": "stdout",
     "output_type": "stream",
     "text": [
      "Initiating login request with your identity provider. A browser window should have opened for you to complete the login. If you can't see it, check existing browser windows, or your OS settings. Press CTRL+C to abort and try again...\n",
      "Going to open: https://netman.okta.com/app/snowflake/exk5idnkinyNtZ20m417/sso/saml?SAMLRequest=lZJBb%2BIwEIX%2FSuQ9J3ZCKK0FVCwsKivoogKVlpubDGCS2KnHIdBfvyaUVffQSnuz7PdmPs%2Bb7v2xyL0DGJRa9UgYMOKBSnQq1bZHVsuxf0s8tEKlItcKeuQESO77XRRFXvJBZXfqCV4rQOu5Qgp589AjlVFcC5TIlSgAuU34YjCb8ihgvDTa6kTn5IPla4dABGMd4dWSonR4O2tLTmld10HdCrTZ0ogxRtkddaqz5NtVf3R%2F%2BkQfUhaf9U7h5PN3tu9SXUbwFdbLRYT8Ybmc%2B%2FNfiyXxBlfUoVZYFWAWYA4ygdXT9AKAjmCL8Q1jcQCVX7vR%2BWGAStebXGSQ6KKsrKsauBPdQEpzvZXu45NRj5SZTI%2FxbGzGh%2Bd1lRz3P38vHt7ELtT7znClfuyj9iJ9fWlPxc3pbpYlxHu%2BJhudk50gVjBR5zytu2JRy2exH3WWYcxbjLduA9Zpr4k3clBSCds4r9AKbCFUoDMrGjZRlvQvNoVj1papyqQ6Pdp1xIo47FBETc%2FpksvC8Ka%2F6f%2FvGLr0o%2Ft99x5dHJPRXOcyOXljbQphP08rDMLmRqb%2BppFyKITMB2lqANGllue6HhoQ1q24NRUQ2r90%2FXfJ%2B38A&RelayState=51271 to authenticate...\n"
     ]
    }
   ],
   "source": [
    "connection_parameters = {\n",
    "    \"user\" : \"sophie.jones@contractor.itech.media\",\n",
    "    \"account\" : \"gs46004.eu-west-1\",\n",
    "    \"role\" : \"PRD_ANALYST\",\n",
    "    \"warehouse\" : \"PRD_WH\",\n",
    "    \"database\" : \"PRD_DWH\",\n",
    "    \"authenticator\" : \"externalbrowser\"\n",
    "}\n",
    "\n",
    "\n",
    "test_session = Session.builder.configs(connection_parameters).create()"
   ]
  },
  {
   "cell_type": "markdown",
   "id": "3ed1d052-f717-4617-86ec-78c1ed1493a2",
   "metadata": {
    "jp-MarkdownHeadingCollapsed": true,
    "tags": []
   },
   "source": [
    "### Read in dimensional.f_aa_engagement_by_site as already includes time on site data"
   ]
  },
  {
   "cell_type": "code",
   "execution_count": 7,
   "id": "9b83a023-42b6-4b06-9df1-6485672d1e63",
   "metadata": {
    "tags": []
   },
   "outputs": [],
   "source": [
    "f_aa_engagement_by_site = test_session.table('dimensional.f_aa_engagement_by_site')"
   ]
  },
  {
   "cell_type": "code",
   "execution_count": null,
   "id": "879416b6-963f-4682-a509-04066bd0670e",
   "metadata": {
    "tags": []
   },
   "outputs": [
    {
     "data": {
      "text/plain": [
       "['VISIT_DATE_UTC',\n",
       " 'D_SITE_HIST_SK',\n",
       " 'VISIT_DATE_TIME_UTC',\n",
       " 'VISIT_ID',\n",
       " 'DEVICE_TYPE',\n",
       " 'CONNECTION_TYPE',\n",
       " 'D_COUNTRY_HIST_SK',\n",
       " 'STATE_CODE',\n",
       " 'D_USER_LANGUAGE_SK',\n",
       " 'VISIT_REFERRER_TYPE',\n",
       " 'VISIT_SEARCH_ENGINE',\n",
       " 'TIME_ON_SITE_SECONDS',\n",
       " 'SITE_VISIT_CONVERSION',\n",
       " 'SITE_VISIT_UNQIUE_CLICKOUT',\n",
       " 'SITE_VISIT_TOTAL_CLICKOUT',\n",
       " 'SITE_VISIT_ENGAGEMENT',\n",
       " 'SITE_VISIT_BOUNCE',\n",
       " 'HAS_PAGE_VIEW_POKER',\n",
       " 'SITE_VISIT_CONVERSION_POKER',\n",
       " 'SITE_VISIT_UNIQUE_CLICKOUT_POKER',\n",
       " 'SITE_VISIT_TOTAL_CLICKOUT_POKER',\n",
       " 'SITE_VISIT_ENGAGEMENT_POKER',\n",
       " 'SITE_VISIT_BOUNCE_POKER',\n",
       " 'HAS_PAGE_VIEW_CASINO',\n",
       " 'SITE_VISIT_CONVERSION_CASINO',\n",
       " 'SITE_VISIT_UNIQUE_CLICKOUT_CASINO',\n",
       " 'SITE_VISIT_TOTAL_CLICKOUT_CASINO',\n",
       " 'SITE_VISIT_ENGAGEMENT_CASINO',\n",
       " 'SITE_VISIT_BOUNCE_CASINO',\n",
       " 'HAS_PAGE_VIEW_SPORTS',\n",
       " 'SITE_VISIT_CONVERSION_SPORTS',\n",
       " 'SITE_VISIT_UNIQUE_CLICKOUT_SPORTS',\n",
       " 'SITE_VISIT_TOTAL_CLICKOUT_SPORTS',\n",
       " 'SITE_VISIT_ENGAGEMENT_SPORTS',\n",
       " 'SITE_VISIT_BOUNCE_SPORTS',\n",
       " 'ETL_LOAD_TIME',\n",
       " 'ETL_DAG_ID',\n",
       " 'ETL_TASK_ID',\n",
       " 'ETL_LOGICAL_DATE_TIME',\n",
       " 'CHANNEL_NAME',\n",
       " 'IS_FIRST_VISIT',\n",
       " 'VISIT_START_PAGE_URL',\n",
       " 'VISIT_START_D_PAGE_HIST_SK',\n",
       " 'VISIT_PAGEVIEWS',\n",
       " 'VISIT_START_PAGE_LCP_CNT',\n",
       " 'VISIT_START_PAGE_LCP_SUM',\n",
       " 'VISIT_START_PAGE_FID_CNT',\n",
       " 'VISIT_START_PAGE_FID_SUM',\n",
       " 'VISIT_START_PAGE_CLS_CNT',\n",
       " 'VISIT_START_PAGE_CLS_SUM']"
      ]
     },
     "execution_count": 9,
     "metadata": {},
     "output_type": "execute_result"
    }
   ],
   "source": [
    "f_aa_engagement_by_site.columns"
   ]
  },
  {
   "cell_type": "code",
   "execution_count": 13,
   "id": "4abb6c53",
   "metadata": {},
   "outputs": [
    {
     "name": "stdout",
     "output_type": "stream",
     "text": [
      "-----------------------------------------------\n",
      "|\"TIME_ON_SITE_SECONDS\"  |\"COUNT(LITERAL())\"  |\n",
      "-----------------------------------------------\n",
      "|7                       |1463743             |\n",
      "|32680                   |5                   |\n",
      "|9100                    |470                 |\n",
      "|28383                   |5                   |\n",
      "|4461                    |3409                |\n",
      "-----------------------------------------------\n",
      "\n"
     ]
    }
   ],
   "source": [
    "from snowflake.snowpark.functions import col, lit, sum as sum_, max as max_\n",
    "f_aa_engagement_by_site.group_by(\"time_on_site_seconds\").agg((col(\"*\"), \"count\")).sample(n=500).show(5)"
   ]
  },
  {
   "cell_type": "markdown",
   "id": "56297f85-d61b-48ab-b9d1-437d8e87a4b0",
   "metadata": {
    "jp-MarkdownHeadingCollapsed": true,
    "tags": []
   },
   "source": [
    "## Basic Descriptive Statistics about the time on site column - to understand the spread of the data"
   ]
  },
  {
   "cell_type": "code",
   "execution_count": 15,
   "id": "f4ab2bf8-fe77-424a-81f8-a695d51750a4",
   "metadata": {
    "tags": []
   },
   "outputs": [
    {
     "name": "stdout",
     "output_type": "stream",
     "text": [
      "-------------------------------\n",
      "|\"AVG(TIME_ON_SITE_SECONDS)\"  |\n",
      "-------------------------------\n",
      "|661.095333                   |\n",
      "-------------------------------\n",
      "\n",
      "----------------------------------\n",
      "|\"STDDEV(TIME_ON_SITE_SECONDS)\"  |\n",
      "----------------------------------\n",
      "|1429.2346441707884              |\n",
      "----------------------------------\n",
      "\n",
      "-------------------------------\n",
      "|\"MIN(TIME_ON_SITE_SECONDS)\"  |\n",
      "-------------------------------\n",
      "|0                            |\n",
      "-------------------------------\n",
      "\n",
      "-------------------------------\n",
      "|\"MAX(TIME_ON_SITE_SECONDS)\"  |\n",
      "-------------------------------\n",
      "|43200                        |\n",
      "-------------------------------\n",
      "\n",
      "Median: 225.36372891611407\n",
      "25th percentile: 30.000000000000007\n",
      "75th percentile: 618.5334082457388\n"
     ]
    }
   ],
   "source": [
    "# Get basic descriptive statistics\n",
    "f_aa_engagement_by_site.agg({\"time_on_site_seconds\": \"avg\"}).show()\n",
    "f_aa_engagement_by_site.agg({\"time_on_site_seconds\": \"std\"}).show()\n",
    "f_aa_engagement_by_site.agg({\"time_on_site_seconds\": \"min\"}).show()\n",
    "f_aa_engagement_by_site.agg({\"time_on_site_seconds\": \"max\"}).show()\n",
    "quartiles = f_aa_engagement_by_site.approx_quantile(\"time_on_site_seconds\", [0.25, 0.5, 0.75])\n",
    "print(\"Median: {}\".format(quartiles[1]))\n",
    "print(\"25th percentile: {}\".format(quartiles[0]))\n",
    "print(\"75th percentile: {}\".format(quartiles[2]))\n"
   ]
  },
  {
   "cell_type": "markdown",
   "id": "cc58af70-e410-41a4-b0d8-321b0e97942c",
   "metadata": {
    "tags": []
   },
   "source": [
    "## Basic Descriptive Statistics Segmented"
   ]
  },
  {
   "cell_type": "markdown",
   "id": "52e2d39f-9133-4c26-b32b-e05ff4ac09da",
   "metadata": {
    "tags": []
   },
   "source": [
    "### Device Type"
   ]
  },
  {
   "cell_type": "code",
   "execution_count": 16,
   "id": "28bfd5e8-21fb-46fb-8f57-8d78d6d6a765",
   "metadata": {
    "tags": []
   },
   "outputs": [
    {
     "name": "stdout",
     "output_type": "stream",
     "text": [
      "-----------------------------------------------------\n",
      "|\"DEVICE_TYPE\"        |\"AVG(TIME_ON_SITE_SECONDS)\"  |\n",
      "-----------------------------------------------------\n",
      "|Mobile Phone         |593.343893                   |\n",
      "|eReader              |216.772727                   |\n",
      "|Geolocation Tracker  |455.066667                   |\n",
      "|Glasses              |440.000000                   |\n",
      "|Desktop              |799.096699                   |\n",
      "|Braille Tablet       |981.650888                   |\n",
      "|[Missing]            |471.364617                   |\n",
      "|VR Headset           |9.000000                     |\n",
      "|Security Hub         |149.000000                   |\n",
      "|TV                   |803.778111                   |\n",
      "-----------------------------------------------------\n",
      "\n",
      "--------------------------------------------------------------\n",
      "|\"DEVICE_TYPE\"              |\"STDDEV(TIME_ON_SITE_SECONDS)\"  |\n",
      "--------------------------------------------------------------\n",
      "|TV                         |1522.9949687388992              |\n",
      "|Data Collection Terminal   |1214.3726359639368              |\n",
      "|Projector                  |336.8260809735493               |\n",
      "|Vehicle Multimedia System  |348.6905837386493               |\n",
      "|Mobile Phone               |1357.2601961801577              |\n",
      "|eReader                    |309.30289235796033              |\n",
      "|Geolocation Tracker        |920.5472337278517               |\n",
      "|Glasses                    |367.4248222425916               |\n",
      "|Digital Home Assistant     |3260.433081263285               |\n",
      "|Security Hub               |42.42640687119285               |\n",
      "--------------------------------------------------------------\n",
      "\n",
      "-----------------------------------------------------------\n",
      "|\"DEVICE_TYPE\"              |\"MIN(TIME_ON_SITE_SECONDS)\"  |\n",
      "-----------------------------------------------------------\n",
      "|Games Console              |0                            |\n",
      "|TV                         |0                            |\n",
      "|Data Collection Terminal   |0                            |\n",
      "|Projector                  |9                            |\n",
      "|Vehicle Multimedia System  |8                            |\n",
      "|Digital Home Assistant     |0                            |\n",
      "|Glasses                    |16                           |\n",
      "|Desktop                    |0                            |\n",
      "|Braille Tablet             |0                            |\n",
      "|[Missing]                  |0                            |\n",
      "-----------------------------------------------------------\n",
      "\n",
      "-----------------------------------------------------------\n",
      "|\"DEVICE_TYPE\"              |\"MAX(TIME_ON_SITE_SECONDS)\"  |\n",
      "-----------------------------------------------------------\n",
      "|Glasses                    |665                          |\n",
      "|Set Top Box                |37453                        |\n",
      "|Wireless Hotspot           |10                           |\n",
      "|Wristwatch                 |5411                         |\n",
      "|Payment Terminal           |9530                         |\n",
      "|Camera                     |1092                         |\n",
      "|Data Collection Terminal   |20113                        |\n",
      "|TV                         |29846                        |\n",
      "|Vehicle Multimedia System  |1423                         |\n",
      "|Projector                  |1435                         |\n",
      "-----------------------------------------------------------\n",
      "\n",
      "\n",
      "Games Console quartiles:\n",
      "Median: 239.99999999999997\n",
      "25th percentile: 62.748258359148885\n",
      "75th percentile: 886.8712911280847\n",
      "\n",
      "Mobile Phone quartiles:\n",
      "Median: 150.77811275791663\n",
      "25th percentile: 29.000000000000014\n",
      "75th percentile: 521.4189516832123\n",
      "\n",
      "eReader quartiles:\n",
      "Median: 120.0\n",
      "25th percentile: 33.5\n",
      "75th percentile: 260.25\n",
      "\n",
      "Geolocation Tracker quartiles:\n",
      "Median: 142.0\n",
      "25th percentile: 63.5\n",
      "75th percentile: 239.0\n",
      "\n",
      "TV quartiles:\n",
      "Median: 239.99999999999994\n",
      "25th percentile: 57.56542075667143\n",
      "75th percentile: 855.7367708333335\n",
      "\n",
      "Data Collection Terminal quartiles:\n",
      "Median: 240.0\n",
      "25th percentile: 70.11111111111111\n",
      "75th percentile: 671.5\n",
      "\n",
      "Vehicle Multimedia System quartiles:\n",
      "Median: 168.5\n",
      "25th percentile: 26.0\n",
      "75th percentile: 306.75\n",
      "\n",
      "Projector quartiles:\n",
      "Median: 59.0\n",
      "25th percentile: 30.0\n",
      "75th percentile: 118.0\n",
      "\n",
      "Glasses quartiles:\n",
      "Median: 639.0\n",
      "25th percentile: 327.5\n",
      "75th percentile: 652.0\n",
      "\n",
      "Security Hub quartiles:\n",
      "Median: 149.0\n",
      "25th percentile: 134.0\n",
      "75th percentile: 164.0\n",
      "\n",
      "VR Headset quartiles:\n",
      "Median: 9.0\n",
      "25th percentile: 9.0\n",
      "75th percentile: 9.0\n",
      "\n",
      "Digital Home Assistant quartiles:\n",
      "Median: 289.0\n",
      "25th percentile: 90.0\n",
      "75th percentile: 1019.0\n",
      "\n",
      "Desktop quartiles:\n",
      "Median: 241.93431117214786\n",
      "25th percentile: 50.36518359472225\n",
      "75th percentile: 852.0393726962055\n",
      "\n",
      "Braille Tablet quartiles:\n",
      "Median: 534.0\n",
      "25th percentile: 240.0\n",
      "75th percentile: 1243.0\n",
      "\n",
      "[Missing] quartiles:\n",
      "Median: 126.7931460477192\n",
      "25th percentile: 29.0\n",
      "75th percentile: 362.46855683955926\n",
      "\n",
      "Wristwatch quartiles:\n",
      "Median: 119.0\n",
      "25th percentile: 20.0\n",
      "75th percentile: 425.0\n",
      "\n",
      "Set Top Box quartiles:\n",
      "Median: 287.5083583083583\n",
      "25th percentile: 81.7987140061504\n",
      "75th percentile: 980.2746065304204\n",
      "\n",
      "Wireless Hotspot quartiles:\n",
      "Median: 9.0\n",
      "25th percentile: 8.5\n",
      "75th percentile: 9.5\n",
      "\n",
      "Digital Signage Media Player quartiles:\n",
      "Median: 90.0\n",
      "25th percentile: 22.5\n",
      "75th percentile: 226.0\n",
      "\n",
      "Media Player quartiles:\n",
      "Median: 63.91975710258078\n",
      "25th percentile: 9.397357723577235\n",
      "75th percentile: 249.3109403944644\n",
      "\n",
      "Tablet quartiles:\n",
      "Median: 239.99999999999997\n",
      "25th percentile: 57.77366467376912\n",
      "75th percentile: 752.7980669670229\n",
      "\n",
      "Embedded Network Module quartiles:\n",
      "Median: 2.0\n",
      "25th percentile: 2.0\n",
      "75th percentile: 2.0\n",
      "\n",
      "Payment Terminal quartiles:\n",
      "Median: 98.83333333333333\n",
      "25th percentile: 23.0\n",
      "75th percentile: 263.25\n",
      "\n",
      "Camera quartiles:\n",
      "Median: 59.0\n",
      "25th percentile: 32.0\n",
      "75th percentile: 180.0\n"
     ]
    }
   ],
   "source": [
    "# Get basic descriptive statistics\n",
    "device_group = f_aa_engagement_by_site.groupBy('device_type')\n",
    "avg = device_group.agg({\"time_on_site_seconds\": \"avg\"})\n",
    "device_group.agg({\"time_on_site_seconds\": \"avg\"}).show()\n",
    "device_group.agg({\"time_on_site_seconds\": \"std\"}).show()\n",
    "device_group.agg({\"time_on_site_seconds\": \"min\"}).show()\n",
    "device_group.agg({\"time_on_site_seconds\": \"max\"}).show()\n",
    "#print(avg['DEVICE_TYPE'].count())\n",
    "\n",
    "#quartiles = device_group.approx_quantile(\"time_on_site_seconds\", [0.25, 0.5, 0.75])\n",
    "#print(\"Median: {}\".format(quartiles[1]))\n",
    "#print(\"25th percentile: {}\".format(quartiles[0]))\n",
    "#print(\"75th percentile: {}\".format(quartiles[2]))\n",
    "\n",
    "distinct_ids = [x.DEVICE_TYPE for x in avg.select('DEVICE_TYPE').distinct().collect()]\n",
    "for i in distinct_ids:\n",
    "    print('')\n",
    "    print(f'{i} quartiles:')\n",
    "    quartiles = f_aa_engagement_by_site.filter(f_aa_engagement_by_site['device_type'] == i).approx_quantile(\"time_on_site_seconds\", [0.25, 0.5, 0.75])\n",
    "    print(\"Median: {}\".format(quartiles[1]))\n",
    "    print(\"25th percentile: {}\".format(quartiles[0]))\n",
    "    print(\"75th percentile: {}\".format(quartiles[2]))\n",
    "    "
   ]
  },
  {
   "cell_type": "markdown",
   "id": "cae00cf3-1bac-4f51-b6a2-ea2d8a8b1ec8",
   "metadata": {},
   "source": [
    "### Marketing channel"
   ]
  },
  {
   "cell_type": "code",
   "execution_count": 17,
   "id": "e0340ea8-31f0-4138-a768-97fff14b5841",
   "metadata": {},
   "outputs": [],
   "source": [
    "#channel_name"
   ]
  },
  {
   "cell_type": "code",
   "execution_count": 18,
   "id": "2008f12b-0cde-4b6f-aa93-706fee1ab472",
   "metadata": {
    "tags": []
   },
   "outputs": [
    {
     "name": "stdout",
     "output_type": "stream",
     "text": [
      "------------------------------------------------------\n",
      "|\"CHANNEL_NAME\"        |\"AVG(TIME_ON_SITE_SECONDS)\"  |\n",
      "------------------------------------------------------\n",
      "|Direct                |686.665165                   |\n",
      "|Email                 |837.114716                   |\n",
      "|[Missing]             |409.464588                   |\n",
      "|Paid Social           |91.712333                    |\n",
      "|Organic Search        |575.976404                   |\n",
      "|Referring             |950.318589                   |\n",
      "|News & Blogs          |155.289525                   |\n",
      "|Display View Through  |917.179542                   |\n",
      "|Programmatic          |74.412707                    |\n",
      "|Social Media          |460.930900                   |\n",
      "------------------------------------------------------\n",
      "\n",
      "---------------------------------------------------------\n",
      "|\"CHANNEL_NAME\"        |\"STDDEV(TIME_ON_SITE_SECONDS)\"  |\n",
      "---------------------------------------------------------\n",
      "|Direct                |1420.2745374718932              |\n",
      "|Social Media          |1205.7643705181374              |\n",
      "|Internal              |1714.519706453093               |\n",
      "|Organic Search        |1321.5654534744012              |\n",
      "|Display View Through  |1650.4922679949154              |\n",
      "|Referring             |1752.2876812353045              |\n",
      "|News & Blogs          |491.83744625841575              |\n",
      "|Email                 |1593.8224066087162              |\n",
      "|[Missing]             |1046.3505397470774              |\n",
      "|Paid Social           |269.22979344418775              |\n",
      "---------------------------------------------------------\n",
      "\n",
      "------------------------------------------------------\n",
      "|\"CHANNEL_NAME\"        |\"MIN(TIME_ON_SITE_SECONDS)\"  |\n",
      "------------------------------------------------------\n",
      "|Organic Search        |0                            |\n",
      "|Direct                |0                            |\n",
      "|Display View Through  |0                            |\n",
      "|Email                 |0                            |\n",
      "|[Missing]             |0                            |\n",
      "|Paid Social           |0                            |\n",
      "|Programmatic          |0                            |\n",
      "|Referring             |0                            |\n",
      "|News & Blogs          |0                            |\n",
      "|Social Media          |0                            |\n",
      "------------------------------------------------------\n",
      "\n",
      "------------------------------------------------------\n",
      "|\"CHANNEL_NAME\"        |\"MAX(TIME_ON_SITE_SECONDS)\"  |\n",
      "------------------------------------------------------\n",
      "|Direct                |43200                        |\n",
      "|Organic Search        |43200                        |\n",
      "|Referring             |43200                        |\n",
      "|News & Blogs          |33891                        |\n",
      "|Email                 |43199                        |\n",
      "|[Missing]             |43200                        |\n",
      "|Paid Social           |8501                         |\n",
      "|Programmatic          |43190                        |\n",
      "|Display View Through  |43200                        |\n",
      "|Social Media          |43197                        |\n",
      "------------------------------------------------------\n",
      "\n",
      "\n",
      "Organic Search quartiles:\n",
      "Median: 161.27883567005935\n",
      "25th percentile: 29.000000000000014\n",
      "75th percentile: 477.0191136779123\n",
      "\n",
      "Direct quartiles:\n",
      "Median: 238.99999999999858\n",
      "25th percentile: 29.000000000000004\n",
      "75th percentile: 701.4665258801447\n",
      "\n",
      "Display View Through quartiles:\n",
      "Median: 282.61222443979267\n",
      "25th percentile: 89.98056280043858\n",
      "75th percentile: 1091.8720509250602\n",
      "\n",
      "Social Media quartiles:\n",
      "Median: 119.00000000000003\n",
      "25th percentile: 30.0\n",
      "75th percentile: 280.3111528580803\n",
      "\n",
      "Internal quartiles:\n",
      "Median: 264.2113194317285\n",
      "25th percentile: 63.059236898551056\n",
      "75th percentile: 1054.6775798901247\n",
      "\n",
      "[Missing] quartiles:\n",
      "Median: 118.99999999999997\n",
      "25th percentile: 0.0\n",
      "75th percentile: 264.01433660841514\n",
      "\n",
      "Email quartiles:\n",
      "Median: 257.14601773103163\n",
      "25th percentile: 89.48241994847258\n",
      "75th percentile: 906.7599056140868\n",
      "\n",
      "Paid Social quartiles:\n",
      "Median: 0.0\n",
      "25th percentile: 0.0\n",
      "75th percentile: 58.99999999999999\n",
      "\n",
      "Referring quartiles:\n",
      "Median: 278.4729402681286\n",
      "25th percentile: 88.7087608684885\n",
      "75th percentile: 1122.1930894621064\n",
      "\n",
      "News & Blogs quartiles:\n",
      "Median: 47.0\n",
      "25th percentile: 31.0\n",
      "75th percentile: 90.00000000000003\n",
      "\n",
      "Programmatic quartiles:\n",
      "Median: 3.0000000000000004\n",
      "25th percentile: 1.0\n",
      "75th percentile: 10.000000000000002\n"
     ]
    }
   ],
   "source": [
    "# Get basic descriptive statistics\n",
    "channel_name = f_aa_engagement_by_site.groupBy('channel_name')\n",
    "avg = channel_name.agg({\"time_on_site_seconds\": \"avg\"})\n",
    "channel_name.agg({\"time_on_site_seconds\": \"avg\"}).show()\n",
    "channel_name.agg({\"time_on_site_seconds\": \"std\"}).show()\n",
    "channel_name.agg({\"time_on_site_seconds\": \"min\"}).show()\n",
    "channel_name.agg({\"time_on_site_seconds\": \"max\"}).show()\n",
    "#print(avg['DEVICE_TYPE'].count())\n",
    "\n",
    "#quartiles = device_group.approx_quantile(\"time_on_site_seconds\", [0.25, 0.5, 0.75])\n",
    "#print(\"Median: {}\".format(quartiles[1]))\n",
    "#print(\"25th percentile: {}\".format(quartiles[0]))\n",
    "#print(\"75th percentile: {}\".format(quartiles[2]))\n",
    "\n",
    "distinct_ids = [x.CHANNEL_NAME for x in avg.select('channel_name').distinct().collect()]\n",
    "for i in distinct_ids:\n",
    "    print('')\n",
    "    print(f'{i} quartiles:')\n",
    "    quartiles = f_aa_engagement_by_site.filter(f_aa_engagement_by_site['channel_name'] == i).approx_quantile(\"time_on_site_seconds\", [0.25, 0.5, 0.75])\n",
    "    print(\"Median: {}\".format(quartiles[1]))\n",
    "    print(\"25th percentile: {}\".format(quartiles[0]))\n",
    "    print(\"75th percentile: {}\".format(quartiles[2]))"
   ]
  },
  {
   "cell_type": "markdown",
   "id": "1de00a0d-c4e2-48b4-8f3a-d79bf5b6fde9",
   "metadata": {},
   "source": [
    "### Product"
   ]
  },
  {
   "cell_type": "code",
   "execution_count": 19,
   "id": "c137618f-6fce-4fbb-bd58-b68267771d28",
   "metadata": {
    "tags": []
   },
   "outputs": [],
   "source": [
    "# HAS_PAGE_VIEW_POKER, HAS_PAGE_VIEW_CASINO, HAS_PAGE_VIEW_SPORTS"
   ]
  },
  {
   "cell_type": "code",
   "execution_count": 6,
   "id": "47c3aab3-b87d-4240-9baf-5d595cc528c9",
   "metadata": {
    "tags": []
   },
   "outputs": [
    {
     "name": "stdout",
     "output_type": "stream",
     "text": [
      "---------------------------------------------------------------------------\n",
      "|\"HAS_PAGE_VIEW_POKER\"  |\"HAS_PAGE_VIEW_CASINO\"  |\"HAS_PAGE_VIEW_SPORTS\"  |\n",
      "---------------------------------------------------------------------------\n",
      "|False                  |False                   |False                   |\n",
      "|False                  |False                   |False                   |\n",
      "|False                  |False                   |False                   |\n",
      "|False                  |False                   |False                   |\n",
      "|False                  |False                   |False                   |\n",
      "---------------------------------------------------------------------------\n",
      "\n"
     ]
    }
   ],
   "source": [
    "f_aa_engagement_by_site.select('HAS_PAGE_VIEW_POKER', 'HAS_PAGE_VIEW_CASINO', 'HAS_PAGE_VIEW_SPORTS').show(5)"
   ]
  },
  {
   "cell_type": "code",
   "execution_count": 7,
   "id": "38e601b9-1292-4541-9db5-877d5eece5c3",
   "metadata": {
    "tags": []
   },
   "outputs": [
    {
     "name": "stdout",
     "output_type": "stream",
     "text": [
      "-----------------------------------------------------------------------------------------------------------------------------------------------------------------------------\n",
      "|\"HAS_PAGE_VIEW_POKER\"  |\"HAS_PAGE_VIEW_CASINO\"  |\"HAS_PAGE_VIEW_SPORTS\"  |\"HAS_PAGE_VIEW_POKER_ENCODED\"  |\"HAS_PAGE_VIEW_CASINO_ENCODED\"  |\"HAS_PAGE_VIEW_SPORTS_ENCODED\"  |\n",
      "-----------------------------------------------------------------------------------------------------------------------------------------------------------------------------\n",
      "|False                  |False                   |False                   |0                              |0                               |0                               |\n",
      "|False                  |False                   |False                   |0                              |0                               |0                               |\n",
      "|False                  |False                   |False                   |0                              |0                               |0                               |\n",
      "|False                  |False                   |False                   |0                              |0                               |0                               |\n",
      "|False                  |False                   |False                   |0                              |0                               |0                               |\n",
      "-----------------------------------------------------------------------------------------------------------------------------------------------------------------------------\n",
      "\n"
     ]
    }
   ],
   "source": [
    "f_aa_engagement_by_site = f_aa_engagement_by_site.withColumn(\"HAS_PAGE_VIEW_POKER_ENCODED\", fn.when(f_aa_engagement_by_site[\"HAS_PAGE_VIEW_POKER\"], 1).otherwise(0))\n",
    "f_aa_engagement_by_site = f_aa_engagement_by_site.withColumn(\"HAS_PAGE_VIEW_CASINO_ENCODED\", fn.when(f_aa_engagement_by_site[\"HAS_PAGE_VIEW_CASINO\"], 1).otherwise(0))\n",
    "f_aa_engagement_by_site = f_aa_engagement_by_site.withColumn(\"HAS_PAGE_VIEW_SPORTS_ENCODED\", fn.when(f_aa_engagement_by_site[\"HAS_PAGE_VIEW_SPORTS\"], 1).otherwise(0))\n",
    "f_aa_engagement_by_site.select('HAS_PAGE_VIEW_POKER', 'HAS_PAGE_VIEW_CASINO', 'HAS_PAGE_VIEW_SPORTS','HAS_PAGE_VIEW_POKER_ENCODED','HAS_PAGE_VIEW_CASINO_ENCODED','HAS_PAGE_VIEW_SPORTS_ENCODED').show(5)"
   ]
  },
  {
   "cell_type": "code",
   "execution_count": 8,
   "id": "a610a2a6-47e5-4f24-a49d-535d588efb00",
   "metadata": {
    "tags": []
   },
   "outputs": [],
   "source": [
    "f_aa_engagement_by_site = f_aa_engagement_by_site.withColumn(\n",
    "    \"Product_Count\", (f_aa_engagement_by_site.HAS_PAGE_VIEW_POKER_ENCODED  + f_aa_engagement_by_site.HAS_PAGE_VIEW_CASINO_ENCODED + f_aa_engagement_by_site.HAS_PAGE_VIEW_SPORTS_ENCODED))"
   ]
  },
  {
   "cell_type": "code",
   "execution_count": 9,
   "id": "554e9aad",
   "metadata": {},
   "outputs": [
    {
     "name": "stdout",
     "output_type": "stream",
     "text": [
      "---------------------------------------------------------------\n",
      "|\"TIME_ON_SITE_SECONDS\"  |\"DEVICE_TYPE\"  |\"COUNT(LITERAL())\"  |\n",
      "---------------------------------------------------------------\n",
      "|581                     |Desktop        |26326               |\n",
      "|338                     |Desktop        |55445               |\n",
      "|56                      |Mobile Phone   |380021              |\n",
      "|248                     |Mobile Phone   |356559              |\n",
      "|316                     |Desktop        |65229               |\n",
      "|763                     |Desktop        |20493               |\n",
      "|427                     |Mobile Phone   |76524               |\n",
      "|54                      |Mobile Phone   |349296              |\n",
      "|450                     |Desktop        |34550               |\n",
      "|599                     |Mobile Phone   |52146               |\n",
      "---------------------------------------------------------------\n",
      "\n"
     ]
    }
   ],
   "source": [
    "from snowflake.snowpark.functions import col\n",
    "f_aa_engagement_by_site.group_by([\"time_on_site_seconds\",\"device_type\"]).agg((col(\"*\"), \"count\")).show(10) "
   ]
  },
  {
   "cell_type": "code",
   "execution_count": 10,
   "id": "89c6aaa3",
   "metadata": {},
   "outputs": [],
   "source": [
    "f_aa_engagement_by_site = f_aa_engagement_by_site.withColumn(\"desktop\",fn.when(f_aa_engagement_by_site.device_type == 'Desktop', 1).otherwise(0))"
   ]
  },
  {
   "cell_type": "code",
   "execution_count": 11,
   "id": "633574ba",
   "metadata": {},
   "outputs": [
    {
     "name": "stdout",
     "output_type": "stream",
     "text": [
      "-----------------------------\n",
      "|\"DEVICE_TYPE\"  |\"DESKTOP\"  |\n",
      "-----------------------------\n",
      "|Mobile Phone   |0          |\n",
      "|Mobile Phone   |0          |\n",
      "|Desktop        |1          |\n",
      "|Mobile Phone   |0          |\n",
      "|Mobile Phone   |0          |\n",
      "-----------------------------\n",
      "\n"
     ]
    }
   ],
   "source": [
    "f_aa_engagement_by_site.select(['device_type','desktop']).show(5)"
   ]
  },
  {
   "cell_type": "code",
   "execution_count": 20,
   "id": "9657acaa",
   "metadata": {},
   "outputs": [
    {
     "name": "stdout",
     "output_type": "stream",
     "text": [
      "{'Games Console': 'sum', 'Mobile Phone': 'sum', 'Geolocation Tracker': 'sum', 'eReader': 'sum', 'TV': 'sum', 'Data Collection Terminal': 'sum', 'Projector': 'sum', 'Vehicle Multimedia System': 'sum', 'Glasses': 'sum', 'Security Hub': 'sum', 'VR Headset': 'sum', 'Digital Home Assistant': 'sum', 'Desktop': 'sum', 'Braille Tablet': 'sum', '[Missing]': 'sum', 'Wristwatch': 'sum', 'Set Top Box': 'sum', 'Wireless Hotspot': 'sum', 'Digital Signage Media Player': 'sum', 'Media Player': 'sum', 'Tablet': 'sum', 'Embedded Network Module': 'sum', 'Payment Terminal': 'sum', 'Camera': 'sum'}\n"
     ]
    }
   ],
   "source": [
    "device_group = f_aa_engagement_by_site.groupBy('device_type')\n",
    "avg = device_group.agg({\"time_on_site_seconds\": \"avg\"})\n",
    "distinct_ids = [x.DEVICE_TYPE for x in avg.select('DEVICE_TYPE').distinct().collect()]\n",
    "dict = {}\n",
    "keys = range(len(distinct_ids))\n",
    "for i in distinct_ids:\n",
    "        dict[i] = \"sum\"\n",
    "print(dict)"
   ]
  },
  {
   "cell_type": "code",
   "execution_count": 18,
   "id": "5b92d55e",
   "metadata": {},
   "outputs": [],
   "source": [
    "for i in distinct_ids:\n",
    "        f_aa_engagement_by_site = f_aa_engagement_by_site.withColumn(i,fn.when(f_aa_engagement_by_site.device_type == i, 1).otherwise(0))"
   ]
  },
  {
   "cell_type": "code",
   "execution_count": 23,
   "id": "f1006d39",
   "metadata": {},
   "outputs": [
    {
     "ename": "AttributeError",
     "evalue": "DataFrame object has no attribute asc",
     "output_type": "error",
     "traceback": [
      "\u001b[1;31m---------------------------------------------------------------------------\u001b[0m",
      "\u001b[1;31mAttributeError\u001b[0m                            Traceback (most recent call last)",
      "Cell \u001b[1;32mIn[23], line 1\u001b[0m\n\u001b[1;32m----> 1\u001b[0m f_aa_engagement_by_site\u001b[39m.\u001b[39;49magg(\u001b[39mdict\u001b[39;49m)\u001b[39m.\u001b[39;49masc()\u001b[39m.\u001b[39mshow()\n",
      "File \u001b[1;32mc:\\Users\\sophie.jones\\.virtualenvs\\eda_streamlit-675cm0gE\\lib\\site-packages\\snowflake\\snowpark\\dataframe.py:899\u001b[0m, in \u001b[0;36mDataFrame.__getattr__\u001b[1;34m(self, name)\u001b[0m\n\u001b[0;32m    896\u001b[0m \u001b[39mdef\u001b[39;00m \u001b[39m__getattr__\u001b[39m(\u001b[39mself\u001b[39m, name: \u001b[39mstr\u001b[39m):\n\u001b[0;32m    897\u001b[0m     \u001b[39m# Snowflake DB ignores cases when there is no quotes.\u001b[39;00m\n\u001b[0;32m    898\u001b[0m     \u001b[39mif\u001b[39;00m name\u001b[39m.\u001b[39mlower() \u001b[39mnot\u001b[39;00m \u001b[39min\u001b[39;00m [c\u001b[39m.\u001b[39mlower() \u001b[39mfor\u001b[39;00m c \u001b[39min\u001b[39;00m \u001b[39mself\u001b[39m\u001b[39m.\u001b[39mcolumns]:\n\u001b[1;32m--> 899\u001b[0m         \u001b[39mraise\u001b[39;00m \u001b[39mAttributeError\u001b[39;00m(\n\u001b[0;32m    900\u001b[0m             \u001b[39mf\u001b[39m\u001b[39m\"\u001b[39m\u001b[39m{\u001b[39;00m\u001b[39mself\u001b[39m\u001b[39m.\u001b[39m\u001b[39m__class__\u001b[39m\u001b[39m.\u001b[39m\u001b[39m__name__\u001b[39m\u001b[39m}\u001b[39;00m\u001b[39m object has no attribute \u001b[39m\u001b[39m{\u001b[39;00mname\u001b[39m}\u001b[39;00m\u001b[39m\"\u001b[39m\n\u001b[0;32m    901\u001b[0m         )\n\u001b[0;32m    902\u001b[0m     \u001b[39mreturn\u001b[39;00m \u001b[39mself\u001b[39m\u001b[39m.\u001b[39mcol(name)\n",
      "\u001b[1;31mAttributeError\u001b[0m: DataFrame object has no attribute asc"
     ]
    }
   ],
   "source": [
    "f_aa_engagement_by_site.agg(dict).show()"
   ]
  },
  {
   "cell_type": "code",
   "execution_count": 9,
   "id": "a06092e1-26b1-480c-b43d-8706ad22323b",
   "metadata": {
    "tags": []
   },
   "outputs": [
    {
     "name": "stdout",
     "output_type": "stream",
     "text": [
      "-----------------------------------------------------------------------------------------------------------------------------------------------------------------------------------------------\n",
      "|\"HAS_PAGE_VIEW_POKER\"  |\"HAS_PAGE_VIEW_CASINO\"  |\"HAS_PAGE_VIEW_SPORTS\"  |\"HAS_PAGE_VIEW_POKER_ENCODED\"  |\"HAS_PAGE_VIEW_CASINO_ENCODED\"  |\"HAS_PAGE_VIEW_SPORTS_ENCODED\"  |\"PRODUCT_COUNT\"  |\n",
      "-----------------------------------------------------------------------------------------------------------------------------------------------------------------------------------------------\n",
      "|False                  |False                   |True                    |0                              |0                               |1                               |1                |\n",
      "|False                  |False                   |True                    |0                              |0                               |1                               |1                |\n",
      "|False                  |False                   |True                    |0                              |0                               |1                               |1                |\n",
      "|False                  |False                   |True                    |0                              |0                               |1                               |1                |\n",
      "|False                  |False                   |True                    |0                              |0                               |1                               |1                |\n",
      "-----------------------------------------------------------------------------------------------------------------------------------------------------------------------------------------------\n",
      "\n"
     ]
    }
   ],
   "source": [
    "f_aa_engagement_by_site.select('HAS_PAGE_VIEW_POKER', 'HAS_PAGE_VIEW_CASINO', 'HAS_PAGE_VIEW_SPORTS','HAS_PAGE_VIEW_POKER_ENCODED','HAS_PAGE_VIEW_CASINO_ENCODED','HAS_PAGE_VIEW_SPORTS_ENCODED','PRODUCT_COUNT').show(5)"
   ]
  },
  {
   "cell_type": "code",
   "execution_count": 10,
   "id": "2294a798-00ab-4b36-9d9b-a69a0bd2469e",
   "metadata": {
    "tags": []
   },
   "outputs": [],
   "source": [
    "f_aa_engagement_by_site = f_aa_engagement_by_site.withColumn(\n",
    "    \"Product_Named\", fn.when(f_aa_engagement_by_site.PRODUCT_COUNT == 2, \"Multi-Product\").when(f_aa_engagement_by_site.PRODUCT_COUNT == 3, \"Multi-Product\").when(f_aa_engagement_by_site.HAS_PAGE_VIEW_POKER == True, 'Poker').when(f_aa_engagement_by_site.HAS_PAGE_VIEW_CASINO == True, 'Casino').when(f_aa_engagement_by_site.HAS_PAGE_VIEW_SPORTS == True, 'Sports').otherwise('None'))"
   ]
  },
  {
   "cell_type": "code",
   "execution_count": 11,
   "id": "7f704d4a-3150-44ef-9ec8-ca2d3a59e8f0",
   "metadata": {
    "tags": []
   },
   "outputs": [
    {
     "name": "stdout",
     "output_type": "stream",
     "text": [
      "---------------------------------------------------------------------------------------------------------------------------------------\n",
      "|\"HAS_PAGE_VIEW_POKER_ENCODED\"  |\"HAS_PAGE_VIEW_CASINO_ENCODED\"  |\"HAS_PAGE_VIEW_SPORTS_ENCODED\"  |\"PRODUCT_COUNT\"  |\"PRODUCT_NAMED\"  |\n",
      "---------------------------------------------------------------------------------------------------------------------------------------\n",
      "|0                              |0                               |0                               |0                |None             |\n",
      "|0                              |0                               |0                               |0                |None             |\n",
      "|0                              |0                               |0                               |0                |None             |\n",
      "|0                              |0                               |0                               |0                |None             |\n",
      "|0                              |0                               |0                               |0                |None             |\n",
      "|0                              |0                               |0                               |0                |None             |\n",
      "|0                              |0                               |0                               |0                |None             |\n",
      "|0                              |0                               |0                               |0                |None             |\n",
      "|0                              |0                               |0                               |0                |None             |\n",
      "|0                              |0                               |0                               |0                |None             |\n",
      "|0                              |0                               |0                               |0                |None             |\n",
      "|0                              |0                               |0                               |0                |None             |\n",
      "|0                              |0                               |0                               |0                |None             |\n",
      "|0                              |0                               |0                               |0                |None             |\n",
      "|0                              |0                               |0                               |0                |None             |\n",
      "|0                              |0                               |0                               |0                |None             |\n",
      "|0                              |0                               |0                               |0                |None             |\n",
      "|0                              |0                               |0                               |0                |None             |\n",
      "|0                              |0                               |0                               |0                |None             |\n",
      "|0                              |0                               |0                               |0                |None             |\n",
      "|0                              |0                               |0                               |0                |None             |\n",
      "|0                              |0                               |0                               |0                |None             |\n",
      "|0                              |0                               |0                               |0                |None             |\n",
      "|0                              |0                               |0                               |0                |None             |\n",
      "|0                              |0                               |0                               |0                |None             |\n",
      "|0                              |0                               |0                               |0                |None             |\n",
      "|0                              |0                               |0                               |0                |None             |\n",
      "|0                              |0                               |0                               |0                |None             |\n",
      "|0                              |0                               |0                               |0                |None             |\n",
      "|0                              |0                               |0                               |0                |None             |\n",
      "|0                              |0                               |0                               |0                |None             |\n",
      "|0                              |0                               |0                               |0                |None             |\n",
      "|0                              |0                               |0                               |0                |None             |\n",
      "|0                              |0                               |0                               |0                |None             |\n",
      "|0                              |0                               |0                               |0                |None             |\n",
      "|0                              |0                               |0                               |0                |None             |\n",
      "|0                              |0                               |0                               |0                |None             |\n",
      "|0                              |0                               |0                               |0                |None             |\n",
      "|0                              |0                               |0                               |0                |None             |\n",
      "|0                              |0                               |0                               |0                |None             |\n",
      "|0                              |0                               |0                               |0                |None             |\n",
      "|0                              |0                               |0                               |0                |None             |\n",
      "|0                              |0                               |0                               |0                |None             |\n",
      "|0                              |0                               |0                               |0                |None             |\n",
      "|0                              |0                               |0                               |0                |None             |\n",
      "|0                              |0                               |0                               |0                |None             |\n",
      "|0                              |0                               |0                               |0                |None             |\n",
      "|0                              |0                               |0                               |0                |None             |\n",
      "|0                              |0                               |0                               |0                |None             |\n",
      "|0                              |0                               |0                               |0                |None             |\n",
      "|0                              |0                               |0                               |0                |None             |\n",
      "|0                              |0                               |0                               |0                |None             |\n",
      "|0                              |0                               |0                               |0                |None             |\n",
      "|0                              |0                               |0                               |0                |None             |\n",
      "|0                              |0                               |0                               |0                |None             |\n",
      "|0                              |0                               |0                               |0                |None             |\n",
      "|0                              |0                               |0                               |0                |None             |\n",
      "|0                              |0                               |0                               |0                |None             |\n",
      "|0                              |0                               |0                               |0                |None             |\n",
      "|0                              |0                               |0                               |0                |None             |\n",
      "|0                              |0                               |0                               |0                |None             |\n",
      "|0                              |0                               |0                               |0                |None             |\n",
      "|0                              |0                               |0                               |0                |None             |\n",
      "|0                              |0                               |0                               |0                |None             |\n",
      "|0                              |0                               |0                               |0                |None             |\n",
      "|0                              |0                               |0                               |0                |None             |\n",
      "|0                              |0                               |0                               |0                |None             |\n",
      "|0                              |0                               |0                               |0                |None             |\n",
      "|0                              |0                               |0                               |0                |None             |\n",
      "|0                              |0                               |0                               |0                |None             |\n",
      "|0                              |0                               |0                               |0                |None             |\n",
      "|0                              |0                               |0                               |0                |None             |\n",
      "|0                              |0                               |0                               |0                |None             |\n",
      "|0                              |0                               |0                               |0                |None             |\n",
      "|0                              |0                               |0                               |0                |None             |\n",
      "|0                              |0                               |0                               |0                |None             |\n",
      "|0                              |0                               |0                               |0                |None             |\n",
      "|0                              |0                               |0                               |0                |None             |\n",
      "|0                              |0                               |0                               |0                |None             |\n",
      "|0                              |0                               |0                               |0                |None             |\n",
      "|0                              |0                               |0                               |0                |None             |\n",
      "|0                              |0                               |0                               |0                |None             |\n",
      "|0                              |0                               |0                               |0                |None             |\n",
      "|0                              |0                               |0                               |0                |None             |\n",
      "|0                              |0                               |0                               |0                |None             |\n",
      "|0                              |0                               |0                               |0                |None             |\n",
      "|0                              |0                               |0                               |0                |None             |\n",
      "|0                              |0                               |0                               |0                |None             |\n",
      "|0                              |0                               |0                               |0                |None             |\n",
      "|0                              |0                               |0                               |0                |None             |\n",
      "|0                              |0                               |0                               |0                |None             |\n",
      "|0                              |0                               |0                               |0                |None             |\n",
      "|0                              |0                               |0                               |0                |None             |\n",
      "|0                              |0                               |0                               |0                |None             |\n",
      "|0                              |0                               |0                               |0                |None             |\n",
      "|0                              |0                               |0                               |0                |None             |\n",
      "|0                              |0                               |0                               |0                |None             |\n",
      "|0                              |0                               |0                               |0                |None             |\n",
      "|0                              |0                               |0                               |0                |None             |\n",
      "|0                              |0                               |0                               |0                |None             |\n",
      "---------------------------------------------------------------------------------------------------------------------------------------\n",
      "\n"
     ]
    }
   ],
   "source": [
    "f_aa_engagement_by_site.select('HAS_PAGE_VIEW_POKER_ENCODED','HAS_PAGE_VIEW_CASINO_ENCODED','HAS_PAGE_VIEW_SPORTS_ENCODED','PRODUCT_COUNT','Product_Named').show(100)"
   ]
  },
  {
   "cell_type": "code",
   "execution_count": 13,
   "id": "4cd23188-be30-4837-9c34-9dc17249e4dd",
   "metadata": {
    "tags": []
   },
   "outputs": [
    {
     "name": "stdout",
     "output_type": "stream",
     "text": [
      "-------------------------------------------------\n",
      "|\"PRODUCT_NAMED\"  |\"AVG(TIME_ON_SITE_SECONDS)\"  |\n",
      "-------------------------------------------------\n",
      "|Multi-Product    |1262.159187                  |\n",
      "|Sports           |701.955490                   |\n",
      "|None             |794.354279                   |\n",
      "|Poker            |598.298993                   |\n",
      "|Casino           |352.303339                   |\n",
      "-------------------------------------------------\n",
      "\n",
      "----------------------------------------------------\n",
      "|\"PRODUCT_NAMED\"  |\"STDDEV(TIME_ON_SITE_SECONDS)\"  |\n",
      "----------------------------------------------------\n",
      "|Multi-Product    |2296.4449146308734              |\n",
      "|Sports           |1492.3418319560703              |\n",
      "|Casino           |805.3379624356473               |\n",
      "|Poker            |1241.2755285789694              |\n",
      "|None             |1604.4333551222999              |\n",
      "----------------------------------------------------\n",
      "\n",
      "-------------------------------------------------\n",
      "|\"PRODUCT_NAMED\"  |\"MIN(TIME_ON_SITE_SECONDS)\"  |\n",
      "-------------------------------------------------\n",
      "|Casino           |0                            |\n",
      "|Multi-Product    |0                            |\n",
      "|Sports           |0                            |\n",
      "|None             |0                            |\n",
      "|Poker            |0                            |\n",
      "-------------------------------------------------\n",
      "\n",
      "-------------------------------------------------\n",
      "|\"PRODUCT_NAMED\"  |\"MAX(TIME_ON_SITE_SECONDS)\"  |\n",
      "-------------------------------------------------\n",
      "|Multi-Product    |43198                        |\n",
      "|None             |43200                        |\n",
      "|Sports           |43200                        |\n",
      "|Casino           |43200                        |\n",
      "|Poker            |43200                        |\n",
      "-------------------------------------------------\n",
      "\n",
      "\n",
      "Multi-Product quartiles:\n",
      "Median: 484.51680554750453\n",
      "25th percentile: 215.09960273660607\n",
      "75th percentile: 1400.9560646372586\n",
      "\n",
      "None quartiles:\n",
      "Median: 240.00000000000003\n",
      "25th percentile: 27.342628009994247\n",
      "75th percentile: 865.7115512909841\n",
      "\n",
      "Casino quartiles:\n",
      "Median: 98.17247879420515\n",
      "25th percentile: 10.999764420420638\n",
      "75th percentile: 249.44919628002992\n",
      "\n",
      "Sports quartiles:\n",
      "Median: 237.9054266287542\n",
      "25th percentile: 34.87842670948722\n",
      "75th percentile: 684.4352314556701\n",
      "\n",
      "Poker quartiles:\n",
      "Median: 238.99999999999977\n",
      "25th percentile: 28.067014704303244\n",
      "75th percentile: 550.144939534303\n"
     ]
    }
   ],
   "source": [
    "# Get basic descriptive statistics\n",
    "Product = f_aa_engagement_by_site.groupBy('Product_Named')\n",
    "avg = Product.agg({\"time_on_site_seconds\": \"avg\"})\n",
    "Product.agg({\"time_on_site_seconds\": \"avg\"}).show()\n",
    "Product.agg({\"time_on_site_seconds\": \"std\"}).show()\n",
    "Product.agg({\"time_on_site_seconds\": \"min\"}).show()\n",
    "Product.agg({\"time_on_site_seconds\": \"max\"}).show()\n",
    "#print(avg['DEVICE_TYPE'].count())\n",
    "\n",
    "#quartiles = device_group.approx_quantile(\"time_on_site_seconds\", [0.25, 0.5, 0.75])\n",
    "#print(\"Median: {}\".format(quartiles[1]))\n",
    "#print(\"25th percentile: {}\".format(quartiles[0]))\n",
    "#print(\"75th percentile: {}\".format(quartiles[2]))\n",
    "\n",
    "distinct_ids = [x.PRODUCT_NAMED for x in avg.select('PRODUCT_NAMED').distinct().collect()]\n",
    "for i in distinct_ids:\n",
    "    print('')\n",
    "    print(f'{i} quartiles:')\n",
    "    quartiles = f_aa_engagement_by_site.filter(f_aa_engagement_by_site['Product_Named'] == i).approx_quantile(\"time_on_site_seconds\", [0.25, 0.5, 0.75])\n",
    "    print(\"Median: {}\".format(quartiles[1]))\n",
    "    print(\"25th percentile: {}\".format(quartiles[0]))\n",
    "    print(\"75th percentile: {}\".format(quartiles[2]))"
   ]
  },
  {
   "cell_type": "markdown",
   "id": "c1f29801-b4dd-4acc-8ebc-18a0cf6701a9",
   "metadata": {
    "tags": []
   },
   "source": [
    "## Plot the distrubtion of the time on site column - in order to visualise the spread and recognise any patterns"
   ]
  },
  {
   "cell_type": "code",
   "execution_count": null,
   "id": "98d8806c-83b3-4ce1-aee2-b47ebe0d42bc",
   "metadata": {
    "tags": []
   },
   "outputs": [],
   "source": [
    "df = f_aa_engagement_by_site.select('time_on_site_seconds').to_pandas()"
   ]
  },
  {
   "cell_type": "code",
   "execution_count": null,
   "id": "a988d1dd-4714-4188-a7f3-0c16d988aef4",
   "metadata": {
    "tags": []
   },
   "outputs": [],
   "source": [
    "import matplotlib.pyplot as plt\n",
    "# Plot the histogram\n",
    "plt.hist(df, bins=50)\n",
    "plt.xlabel('Time on site (seconds)')\n",
    "plt.ylabel(\"Frequency\")\n",
    "plt.show()"
   ]
  },
  {
   "cell_type": "markdown",
   "id": "d88cace0-34a9-4964-9a6c-07daa712f292",
   "metadata": {},
   "source": [
    "### As the outliers make it diffucult to visualise the distrubtion, define a function to remove outliers and replot"
   ]
  },
  {
   "cell_type": "code",
   "execution_count": null,
   "id": "fe0a59bc-5ca5-4f73-bfe7-b4afb7607688",
   "metadata": {
    "tags": []
   },
   "outputs": [],
   "source": [
    "filtered_df = df[~is_outlier(df['TIME_ON_SITE_SECONDS'])]"
   ]
  },
  {
   "cell_type": "code",
   "execution_count": null,
   "id": "bd0bcbae-2176-400f-bb87-45bf32c1ef5c",
   "metadata": {
    "tags": []
   },
   "outputs": [],
   "source": [
    "# Plot the histogram with outliers removed\n",
    "plt.hist(filtered_df, bins=100)\n",
    "plt.xlabel('Time on site (seconds)')\n",
    "plt.ylabel(\"Frequency\")\n",
    "plt.show()"
   ]
  },
  {
   "cell_type": "markdown",
   "id": "79f8e108-2fdc-4931-aad5-b9e738218b43",
   "metadata": {},
   "source": [
    "### Plot distrubtion with harsher outlier removal and showing engaged vs not engaged users"
   ]
  },
  {
   "cell_type": "code",
   "execution_count": null,
   "id": "58050c1d-acce-402c-846d-9160309bf748",
   "metadata": {},
   "outputs": [],
   "source": []
  },
  {
   "cell_type": "code",
   "execution_count": null,
   "id": "dbf45a0e-d403-4aa3-adfd-cdb6efb47ff4",
   "metadata": {
    "tags": []
   },
   "outputs": [],
   "source": [
    "df = f_aa_engagement_by_site.select(['time_on_site_seconds','SITE_VISIT_ENGAGEMENT']).to_pandas()\n",
    "df = df[~is_outlier(df['TIME_ON_SITE_SECONDS'],thresh=2)]"
   ]
  },
  {
   "cell_type": "code",
   "execution_count": null,
   "id": "b04e9b6a-7d20-4886-96eb-d6c8066de371",
   "metadata": {
    "tags": []
   },
   "outputs": [],
   "source": [
    "import seaborn as sns\n",
    "import matplotlib.pyplot as plt\n",
    "\n",
    "x1 = list(df[df['SITE_VISIT_ENGAGEMENT'] == True]['TIME_ON_SITE_SECONDS'])\n",
    "x2 = list(df[df['SITE_VISIT_ENGAGEMENT'] == False]['TIME_ON_SITE_SECONDS'])\n",
    " \n",
    "# Setting colors and names\n",
    "colors=['green','blue']\n",
    "names=['Engaged User', 'None Enagaged User']\n",
    " \n",
    "# Creating plot with list values, colors and names (labels)\n",
    "# Note the density value set as true which represents the\n",
    "# probability distribution\n",
    "#\n",
    "plt.hist([x1, x2], bins =100, color=colors, label=names, density=True)\n",
    "plt.show()"
   ]
  },
  {
   "cell_type": "markdown",
   "id": "8ce17eb8-68a8-4fc0-95e3-128e6969f3ff",
   "metadata": {},
   "source": [
    "### Plot the distrubtion with harsh outlier remove and label the quartiles of the complete (no outlier removal) time on site data"
   ]
  },
  {
   "cell_type": "code",
   "execution_count": null,
   "id": "091471cc-9e7e-4918-934d-0b5ef6257a4e",
   "metadata": {
    "tags": []
   },
   "outputs": [],
   "source": [
    "df = f_aa_engagement_by_site.select(['time_on_site_seconds','SITE_VISIT_ENGAGEMENT']).to_pandas()\n",
    "df = df[~is_outlier(df['TIME_ON_SITE_SECONDS'],thresh=1)]"
   ]
  },
  {
   "cell_type": "code",
   "execution_count": null,
   "id": "6adac855-1779-4efb-97fe-3caebe0fa225",
   "metadata": {
    "tags": []
   },
   "outputs": [],
   "source": [
    "import seaborn as sns\n",
    "import matplotlib.pyplot as plt\n",
    "\n",
    "x1 = list(df[df['SITE_VISIT_ENGAGEMENT'] == True]['TIME_ON_SITE_SECONDS'])\n",
    "x2 = list(df[df['SITE_VISIT_ENGAGEMENT'] == False]['TIME_ON_SITE_SECONDS'])\n",
    " \n",
    "# Setting colors and names\n",
    "colors=['green','blue']\n",
    "names=['Engaged User', 'None Enagaged User']\n",
    " \n",
    "fig, ax = plt.subplots(figsize = (20,4))\n",
    "\n",
    "# Creating plot with list values, colors and names (labels)\n",
    "# Note the density value set as true which represents the\n",
    "# probability distribution\n",
    "#\n",
    "plt.hist([x1, x2 ], bins =100, color=colors, label=names, density=True)\n",
    "\n",
    "quant_5, quant_25, quant_50, quant_75 = f_aa_engagement_by_site.approx_quantile(\"time_on_site_seconds\", [0.05, 0.25, 0.5, 0.75])\n",
    "quants = [[quant_5, 0.6, 0.16], [quant_25, 0.8, 0.26], [quant_50, 1, 0.36],  [quant_75, 0.8, 0.46]]\n",
    "for i in quants:\n",
    "    ax.axvline(i[0], alpha = i[1], ymax = i[2], linestyle = \":\", color= 'black')\n",
    "\n",
    "ax.xaxis.set_ticks(np.arange(0, 550, 15))\n",
    "\n",
    "# Annotations\n",
    "ax.text(quant_5-.3, 0.087, \"5th\", size = 10, alpha = 0.8)\n",
    "ax.text(quant_25-.13, 0.03, \"25th\", size = 11, alpha = 0.85)\n",
    "ax.text(quant_50-.13, 0.04, \"50th\", size = 12, alpha = 1)\n",
    "ax.text(quant_75-.13, 0.05, \"75th\", size = 11, alpha = 0.85)\n",
    "\n",
    "# Overall\n",
    "ax.grid(False)\n",
    "\n",
    "plt.show()"
   ]
  },
  {
   "cell_type": "markdown",
   "id": "bea4af7d-a19d-47ae-8524-03be246225c3",
   "metadata": {},
   "source": [
    "### Plot the distrubtion of the time on site column with outlier removal and segmented"
   ]
  },
  {
   "cell_type": "code",
   "execution_count": 9,
   "id": "6f3f727e-d99d-413c-9a62-1e0d019f1832",
   "metadata": {
    "tags": []
   },
   "outputs": [
    {
     "data": {
      "text/plain": [
       "['VISIT_DATE_UTC',\n",
       " 'D_SITE_HIST_SK',\n",
       " 'VISIT_DATE_TIME_UTC',\n",
       " 'VISIT_ID',\n",
       " 'DEVICE_TYPE',\n",
       " 'CONNECTION_TYPE',\n",
       " 'D_COUNTRY_HIST_SK',\n",
       " 'STATE_CODE',\n",
       " 'D_USER_LANGUAGE_SK',\n",
       " 'VISIT_REFERRER_TYPE',\n",
       " 'VISIT_SEARCH_ENGINE',\n",
       " 'TIME_ON_SITE_SECONDS',\n",
       " 'SITE_VISIT_CONVERSION',\n",
       " 'SITE_VISIT_UNQIUE_CLICKOUT',\n",
       " 'SITE_VISIT_TOTAL_CLICKOUT',\n",
       " 'SITE_VISIT_ENGAGEMENT',\n",
       " 'SITE_VISIT_BOUNCE',\n",
       " 'HAS_PAGE_VIEW_POKER',\n",
       " 'SITE_VISIT_CONVERSION_POKER',\n",
       " 'SITE_VISIT_UNIQUE_CLICKOUT_POKER',\n",
       " 'SITE_VISIT_TOTAL_CLICKOUT_POKER',\n",
       " 'SITE_VISIT_ENGAGEMENT_POKER',\n",
       " 'SITE_VISIT_BOUNCE_POKER',\n",
       " 'HAS_PAGE_VIEW_CASINO',\n",
       " 'SITE_VISIT_CONVERSION_CASINO',\n",
       " 'SITE_VISIT_UNIQUE_CLICKOUT_CASINO',\n",
       " 'SITE_VISIT_TOTAL_CLICKOUT_CASINO',\n",
       " 'SITE_VISIT_ENGAGEMENT_CASINO',\n",
       " 'SITE_VISIT_BOUNCE_CASINO',\n",
       " 'HAS_PAGE_VIEW_SPORTS',\n",
       " 'SITE_VISIT_CONVERSION_SPORTS',\n",
       " 'SITE_VISIT_UNIQUE_CLICKOUT_SPORTS',\n",
       " 'SITE_VISIT_TOTAL_CLICKOUT_SPORTS',\n",
       " 'SITE_VISIT_ENGAGEMENT_SPORTS',\n",
       " 'SITE_VISIT_BOUNCE_SPORTS',\n",
       " 'ETL_LOAD_TIME',\n",
       " 'ETL_DAG_ID',\n",
       " 'ETL_TASK_ID',\n",
       " 'ETL_LOGICAL_DATE_TIME',\n",
       " 'CHANNEL_NAME',\n",
       " 'IS_FIRST_VISIT',\n",
       " 'VISIT_START_PAGE_URL',\n",
       " 'VISIT_START_D_PAGE_HIST_SK',\n",
       " 'VISIT_PAGEVIEWS',\n",
       " 'VISIT_START_PAGE_LCP_CNT',\n",
       " 'VISIT_START_PAGE_LCP_SUM',\n",
       " 'VISIT_START_PAGE_FID_CNT',\n",
       " 'VISIT_START_PAGE_FID_SUM',\n",
       " 'VISIT_START_PAGE_CLS_CNT',\n",
       " 'VISIT_START_PAGE_CLS_SUM']"
      ]
     },
     "execution_count": 9,
     "metadata": {},
     "output_type": "execute_result"
    }
   ],
   "source": [
    "f_aa_engagement_by_site.columns"
   ]
  },
  {
   "cell_type": "markdown",
   "id": "78af533d-40c5-4a67-bc0b-23ce45f25699",
   "metadata": {},
   "source": [
    "Attempting to plot a histrogram of data filtered by device types, time on site column but am unable to plot woth snowpark and everytime i try to convert to pandas the kernel dies\n",
    "- tried to go pandas in chunks to hdf5 files then to vaex"
   ]
  },
  {
   "cell_type": "code",
   "execution_count": 11,
   "id": "73e8fc6f-73e2-447e-8749-b867a6084e94",
   "metadata": {
    "tags": []
   },
   "outputs": [
    {
     "name": "stdout",
     "output_type": "stream",
     "text": [
      "------------------------------------------\n",
      "|\"DEVICE_TYPE\"  |\"TIME_ON_SITE_SECONDS\"  |\n",
      "------------------------------------------\n",
      "|Games Console  |45                      |\n",
      "|Games Console  |0                       |\n",
      "|Games Console  |379                     |\n",
      "|Games Console  |29                      |\n",
      "|Games Console  |9                       |\n",
      "------------------------------------------\n",
      "\n",
      "------------------------------------------\n",
      "|\"DEVICE_TYPE\"  |\"TIME_ON_SITE_SECONDS\"  |\n",
      "------------------------------------------\n",
      "|Mobile Phone   |1060                    |\n",
      "|Mobile Phone   |10                      |\n",
      "|Mobile Phone   |18                      |\n",
      "|Mobile Phone   |90                      |\n",
      "|Mobile Phone   |240                     |\n",
      "------------------------------------------\n",
      "\n",
      "------------------------------------------\n",
      "|\"DEVICE_TYPE\"  |\"TIME_ON_SITE_SECONDS\"  |\n",
      "------------------------------------------\n",
      "|eReader        |239                     |\n",
      "|eReader        |1407                    |\n",
      "|eReader        |52                      |\n",
      "|eReader        |346                     |\n",
      "|eReader        |32                      |\n",
      "------------------------------------------\n",
      "\n",
      "------------------------------------------------\n",
      "|\"DEVICE_TYPE\"        |\"TIME_ON_SITE_SECONDS\"  |\n",
      "------------------------------------------------\n",
      "|Geolocation Tracker  |175                     |\n",
      "|Geolocation Tracker  |130                     |\n",
      "|Geolocation Tracker  |239                     |\n",
      "|Geolocation Tracker  |240                     |\n",
      "|Geolocation Tracker  |142                     |\n",
      "------------------------------------------------\n",
      "\n",
      "------------------------------------------\n",
      "|\"DEVICE_TYPE\"  |\"TIME_ON_SITE_SECONDS\"  |\n",
      "------------------------------------------\n",
      "|TV             |190                     |\n",
      "|TV             |561                     |\n",
      "|TV             |17615                   |\n",
      "|TV             |239                     |\n",
      "|TV             |247                     |\n",
      "------------------------------------------\n",
      "\n",
      "-----------------------------------------------------\n",
      "|\"DEVICE_TYPE\"             |\"TIME_ON_SITE_SECONDS\"  |\n",
      "-----------------------------------------------------\n",
      "|Data Collection Terminal  |29                      |\n",
      "|Data Collection Terminal  |354                     |\n",
      "|Data Collection Terminal  |1786                    |\n",
      "|Data Collection Terminal  |0                       |\n",
      "|Data Collection Terminal  |240                     |\n",
      "-----------------------------------------------------\n",
      "\n",
      "------------------------------------------------------\n",
      "|\"DEVICE_TYPE\"              |\"TIME_ON_SITE_SECONDS\"  |\n",
      "------------------------------------------------------\n",
      "|Vehicle Multimedia System  |8                       |\n",
      "|Vehicle Multimedia System  |11                      |\n",
      "|Vehicle Multimedia System  |594                     |\n",
      "|Vehicle Multimedia System  |8                       |\n",
      "|Vehicle Multimedia System  |157                     |\n",
      "------------------------------------------------------\n",
      "\n",
      "------------------------------------------\n",
      "|\"DEVICE_TYPE\"  |\"TIME_ON_SITE_SECONDS\"  |\n",
      "------------------------------------------\n",
      "|Projector      |1435                    |\n",
      "|Projector      |43                      |\n",
      "|Projector      |30                      |\n",
      "|Projector      |120                     |\n",
      "|Projector      |59                      |\n",
      "------------------------------------------\n",
      "\n",
      "------------------------------------------\n",
      "|\"DEVICE_TYPE\"  |\"TIME_ON_SITE_SECONDS\"  |\n",
      "------------------------------------------\n",
      "|Glasses        |16                      |\n",
      "|Glasses        |639                     |\n",
      "|Glasses        |665                     |\n",
      "------------------------------------------\n",
      "\n",
      "------------------------------------------\n",
      "|\"DEVICE_TYPE\"  |\"TIME_ON_SITE_SECONDS\"  |\n",
      "------------------------------------------\n",
      "|Security Hub   |179                     |\n",
      "|Security Hub   |119                     |\n",
      "------------------------------------------\n",
      "\n",
      "------------------------------------------\n",
      "|\"DEVICE_TYPE\"  |\"TIME_ON_SITE_SECONDS\"  |\n",
      "------------------------------------------\n",
      "|VR Headset     |9                       |\n",
      "------------------------------------------\n",
      "\n",
      "---------------------------------------------------\n",
      "|\"DEVICE_TYPE\"           |\"TIME_ON_SITE_SECONDS\"  |\n",
      "---------------------------------------------------\n",
      "|Digital Home Assistant  |240                     |\n",
      "|Digital Home Assistant  |1294                    |\n",
      "|Digital Home Assistant  |242                     |\n",
      "|Digital Home Assistant  |0                       |\n",
      "|Digital Home Assistant  |300                     |\n",
      "---------------------------------------------------\n",
      "\n",
      "------------------------------------------\n",
      "|\"DEVICE_TYPE\"  |\"TIME_ON_SITE_SECONDS\"  |\n",
      "------------------------------------------\n",
      "|Desktop        |3145                    |\n",
      "|Desktop        |10070                   |\n",
      "|Desktop        |0                       |\n",
      "|Desktop        |7339                    |\n",
      "|Desktop        |2062                    |\n",
      "------------------------------------------\n",
      "\n",
      "-------------------------------------------\n",
      "|\"DEVICE_TYPE\"   |\"TIME_ON_SITE_SECONDS\"  |\n",
      "-------------------------------------------\n",
      "|Braille Tablet  |17                      |\n",
      "|Braille Tablet  |1817                    |\n",
      "|Braille Tablet  |238                     |\n",
      "|Braille Tablet  |1594                    |\n",
      "|Braille Tablet  |238                     |\n",
      "-------------------------------------------\n",
      "\n",
      "------------------------------------------\n",
      "|\"DEVICE_TYPE\"  |\"TIME_ON_SITE_SECONDS\"  |\n",
      "------------------------------------------\n",
      "|[Missing]      |240                     |\n",
      "|[Missing]      |0                       |\n",
      "|[Missing]      |7                       |\n",
      "|[Missing]      |197                     |\n",
      "|[Missing]      |180                     |\n",
      "------------------------------------------\n",
      "\n",
      "------------------------------------------\n",
      "|\"DEVICE_TYPE\"  |\"TIME_ON_SITE_SECONDS\"  |\n",
      "------------------------------------------\n",
      "|Wristwatch     |90                      |\n",
      "|Wristwatch     |0                       |\n",
      "|Wristwatch     |0                       |\n",
      "|Wristwatch     |0                       |\n",
      "|Wristwatch     |0                       |\n",
      "------------------------------------------\n",
      "\n",
      "------------------------------------------\n",
      "|\"DEVICE_TYPE\"  |\"TIME_ON_SITE_SECONDS\"  |\n",
      "------------------------------------------\n",
      "|Set Top Box    |2008                    |\n",
      "|Set Top Box    |1629                    |\n",
      "|Set Top Box    |888                     |\n",
      "|Set Top Box    |1159                    |\n",
      "|Set Top Box    |24                      |\n",
      "------------------------------------------\n",
      "\n",
      "---------------------------------------------\n",
      "|\"DEVICE_TYPE\"     |\"TIME_ON_SITE_SECONDS\"  |\n",
      "---------------------------------------------\n",
      "|Wireless Hotspot  |10                      |\n",
      "|Wireless Hotspot  |8                       |\n",
      "---------------------------------------------\n",
      "\n",
      "---------------------------------------------------------\n",
      "|\"DEVICE_TYPE\"                 |\"TIME_ON_SITE_SECONDS\"  |\n",
      "---------------------------------------------------------\n",
      "|Digital Signage Media Player  |26                      |\n",
      "|Digital Signage Media Player  |19                      |\n",
      "|Digital Signage Media Player  |10                      |\n",
      "|Digital Signage Media Player  |216                     |\n",
      "|Digital Signage Media Player  |90                      |\n",
      "---------------------------------------------------------\n",
      "\n",
      "------------------------------------------\n",
      "|\"DEVICE_TYPE\"  |\"TIME_ON_SITE_SECONDS\"  |\n",
      "------------------------------------------\n",
      "|Media Player   |16                      |\n",
      "|Media Player   |240                     |\n",
      "|Media Player   |0                       |\n",
      "|Media Player   |88                      |\n",
      "|Media Player   |90                      |\n",
      "------------------------------------------\n",
      "\n",
      "------------------------------------------\n",
      "|\"DEVICE_TYPE\"  |\"TIME_ON_SITE_SECONDS\"  |\n",
      "------------------------------------------\n",
      "|Tablet         |45                      |\n",
      "|Tablet         |5                       |\n",
      "|Tablet         |873                     |\n",
      "|Tablet         |0                       |\n",
      "|Tablet         |196                     |\n",
      "------------------------------------------\n",
      "\n",
      "----------------------------------------------------\n",
      "|\"DEVICE_TYPE\"            |\"TIME_ON_SITE_SECONDS\"  |\n",
      "----------------------------------------------------\n",
      "|Embedded Network Module  |2                       |\n",
      "|Embedded Network Module  |2                       |\n",
      "|Embedded Network Module  |2                       |\n",
      "|Embedded Network Module  |2                       |\n",
      "----------------------------------------------------\n",
      "\n",
      "---------------------------------------------\n",
      "|\"DEVICE_TYPE\"     |\"TIME_ON_SITE_SECONDS\"  |\n",
      "---------------------------------------------\n",
      "|Payment Terminal  |138                     |\n",
      "|Payment Terminal  |249                     |\n",
      "|Payment Terminal  |248                     |\n",
      "|Payment Terminal  |73                      |\n",
      "|Payment Terminal  |1421                    |\n",
      "---------------------------------------------\n",
      "\n",
      "------------------------------------------\n",
      "|\"DEVICE_TYPE\"  |\"TIME_ON_SITE_SECONDS\"  |\n",
      "------------------------------------------\n",
      "|Camera         |63                      |\n",
      "|Camera         |547                     |\n",
      "|Camera         |0                       |\n",
      "|Camera         |48                      |\n",
      "|Camera         |36                      |\n",
      "------------------------------------------\n",
      "\n"
     ]
    }
   ],
   "source": [
    "device_group = f_aa_engagement_by_site.groupBy('device_type')\n",
    "avg = device_group.agg({\"time_on_site_seconds\": \"avg\"})\n",
    "distinct_ids = [x.DEVICE_TYPE for x in avg.select('DEVICE_TYPE').distinct().collect()]\n",
    "for i in distinct_ids:\n",
    "    f_aa_engagement_by_site.filter(f_aa_engagement_by_site['device_type'] == i).select(['device_type','time_on_site_seconds']).show(5)"
   ]
  },
  {
   "cell_type": "code",
   "execution_count": null,
   "id": "8b0880b4-5cfa-459a-9000-61404760f647",
   "metadata": {
    "tags": []
   },
   "outputs": [],
   "source": [
    "device_group = f_aa_engagement_by_site.groupBy('device_type')\n",
    "avg = device_group.agg({\"time_on_site_seconds\": \"avg\"})\n",
    "distinct_ids = [x.DEVICE_TYPE for x in avg.select('DEVICE_TYPE').distinct().collect()]\n",
    "for i in distinct_ids:\n",
    "    for chunk in f_aa_engagement_by_site.filter(f_aa_engagement_by_site['device_type'] == i).to_pandas_batches():\n",
    "        pandas_df = load_chunk(chunk) # your function to load a piece that does fit into memory\n",
    "        pandas_df.export(f'data/chunk_{chunk}.hdf5')\n",
    "    df = vaex.open('data/chunk_*.hdf5')\n",
    "    df.head()\n",
    "    break\n",
    "\n",
    "\n",
    "\n",
    "#df = vaex.open('chunk_*.hdf5', convert='big.hdf5') # will convert to 1 file if it does not exist"
   ]
  },
  {
   "cell_type": "code",
   "execution_count": null,
   "id": "77b23a18-3a1a-4b28-82ca-fc9ac4cf67a3",
   "metadata": {},
   "outputs": [],
   "source": []
  },
  {
   "cell_type": "code",
   "execution_count": null,
   "id": "b05bbfe5-5d0a-44c5-87d7-c348ef7812a8",
   "metadata": {
    "tags": []
   },
   "outputs": [],
   "source": [
    "df = f_aa_engagement_by_site.select(['device_type','time_on_site_seconds']).to_pandas()\n",
    "\n",
    "filtered_df = df[~is_outlier(df['TIME_ON_SITE_SECONDS'])]\n",
    "# Plot the histogram with outliers removed\n",
    "plt.hist(filtered_df, bins=100)\n",
    "plt.xlabel('Time on site (seconds)')\n",
    "plt.ylabel(\"Frequency\")\n",
    "plt.show()"
   ]
  },
  {
   "cell_type": "code",
   "execution_count": null,
   "id": "398d4c2d-78fa-4086-bf8d-2e37a7cbc81f",
   "metadata": {
    "tags": []
   },
   "outputs": [
    {
     "name": "stdout",
     "output_type": "stream",
     "text": [
      "Games Console distrubtion visualisation:\n",
      "df created\n"
     ]
    }
   ],
   "source": [
    "import matplotlib.pyplot as plt\n",
    "device_group = f_aa_engagement_by_site.groupBy('device_type')\n",
    "avg = device_group.agg({\"time_on_site_seconds\": \"avg\"})\n",
    "\n",
    "distinct_ids = [x.DEVICE_TYPE for x in avg.select('DEVICE_TYPE').distinct().collect()]\n",
    "for i in distinct_ids:\n",
    "    print(f'{i} distrubtion visualisation:')\n",
    "    df = f_aa_engagement_by_site.filter(f_aa_engagement_by_site['device_type'] == i)\n",
    "    print('df created')\n",
    "    df = df.select('time_on_site_seconds').to_pandas_batches()\n",
    "    #filtered_df = df[~is_outlier(df['TIME_ON_SITE_SECONDS'])]\n",
    "    # Plot the histogram with outliers removed\n",
    "    plt.hist(i, bins=100)\n",
    "    plt.xlabel('Time on site (seconds)')\n",
    "    plt.ylabel(\"Frequency\")\n",
    "    plt.show()\n",
    "    print('')\n",
    "    "
   ]
  },
  {
   "cell_type": "code",
   "execution_count": null,
   "id": "016dcbe7-6491-4923-b9c1-0aed83af8d1d",
   "metadata": {
    "tags": []
   },
   "outputs": [],
   "source": [
    "for df in f_aa_engagement_by_site.select(['visit_date_time_utc','device_type','time_on_site_seconds']).to_pandas_batches():\n",
    "     print(df.head())"
   ]
  },
  {
   "cell_type": "code",
   "execution_count": null,
   "id": "c52eab8f-2e22-44a9-bf5e-970df7db3555",
   "metadata": {
    "tags": []
   },
   "outputs": [],
   "source": [
    "device_df = f_aa_engagement_by_site.select(['visit_date_time_utc','device_type','time_on_site_seconds']).to_pandas()\n",
    "#'channel_name','product_named',"
   ]
  },
  {
   "cell_type": "code",
   "execution_count": null,
   "id": "f5842ec1-3f5b-49ed-b0da-83987ce77496",
   "metadata": {
    "tags": []
   },
   "outputs": [],
   "source": [
    "filtered_df = df[~is_outlier(df['TIME_ON_SITE_SECONDS'])]\n",
    "# Plot the histogram with outliers removed\n",
    "plt.hist(filtered_df, bins=100)\n",
    "plt.xlabel('Time on site (seconds)')\n",
    "plt.ylabel(\"Frequency\")\n",
    "plt.show()"
   ]
  },
  {
   "cell_type": "code",
   "execution_count": null,
   "id": "ad535bd8-6f34-4f02-96dc-75bb0620f516",
   "metadata": {},
   "outputs": [],
   "source": []
  },
  {
   "cell_type": "markdown",
   "id": "86da715e-a5fc-466e-96de-40eb67c98596",
   "metadata": {},
   "source": [
    "## How does time on site change over time?\n",
    "### Plot the monthly total time on site as a time series"
   ]
  },
  {
   "cell_type": "code",
   "execution_count": null,
   "id": "31ceb889-3b7a-4968-8cd5-fba34aef8a9b",
   "metadata": {
    "tags": []
   },
   "outputs": [],
   "source": [
    "df = f_aa_engagement_by_site.select(['time_on_site_seconds','visit_date_time_utc']).to_pandas()\n",
    "df['month_year'] = df['VISIT_DATE_TIME_UTC'].dt.to_period('M')\n",
    "df.groupby('month_year').sum('TIME_ON_SITE_SECONDS').drop('2023-04').plot()"
   ]
  },
  {
   "cell_type": "markdown",
   "id": "98e6a6a7-efaa-415e-b74c-8cb53296282e",
   "metadata": {},
   "source": [
    "### Plot the weekly total time on site as a time series"
   ]
  },
  {
   "cell_type": "code",
   "execution_count": null,
   "id": "0203de4a-c92d-4261-9a3a-4cf266a38ad6",
   "metadata": {
    "tags": []
   },
   "outputs": [],
   "source": [
    "df.tail()"
   ]
  },
  {
   "cell_type": "code",
   "execution_count": 59,
   "id": "dae48c75-3e1d-43a4-b232-c5454aa24ce2",
   "metadata": {
    "tags": []
   },
   "outputs": [],
   "source": [
    "df['week_month_year'] = df['VISIT_DATE_TIME_UTC'].dt.to_period('W')\n",
    "weeklydf = df.groupby('week_month_year').sum('TIME_ON_SITE_SECONDS')\n",
    "weeklydf.drop('2023-04-10/2023-04-16').plot()"
   ]
  },
  {
   "cell_type": "markdown",
   "id": "92c3c4cb-8fd3-4ba6-bad7-4babe2c4fe81",
   "metadata": {},
   "source": [
    "## Observe Correlations between time on site and other key metrics"
   ]
  },
  {
   "cell_type": "code",
   "execution_count": 8,
   "id": "c134fec9-45fc-48a3-89da-81a853b23809",
   "metadata": {
    "tags": []
   },
   "outputs": [],
   "source": [
    "f_aa_engagement_by_site = f_aa_engagement_by_site.withColumn(\n",
    "    \"visit_engagement_encoded\",\n",
    "    fn.when(f_aa_engagement_by_site.SITE_VISIT_ENGAGEMENT == True, 1).otherwise(0)\n",
    "           )"
   ]
  },
  {
   "cell_type": "code",
   "execution_count": 10,
   "id": "5f11f699-ad08-4c53-9ca1-67a281be99ab",
   "metadata": {
    "tags": []
   },
   "outputs": [
    {
     "data": {
      "text/plain": [
       "['VISIT_DATE_UTC',\n",
       " 'D_SITE_HIST_SK',\n",
       " 'VISIT_DATE_TIME_UTC',\n",
       " 'VISIT_ID',\n",
       " 'DEVICE_TYPE',\n",
       " 'CONNECTION_TYPE',\n",
       " 'D_COUNTRY_HIST_SK',\n",
       " 'STATE_CODE',\n",
       " 'D_USER_LANGUAGE_SK',\n",
       " 'VISIT_REFERRER_TYPE',\n",
       " 'VISIT_SEARCH_ENGINE',\n",
       " 'TIME_ON_SITE_SECONDS',\n",
       " 'SITE_VISIT_CONVERSION',\n",
       " 'SITE_VISIT_UNQIUE_CLICKOUT',\n",
       " 'SITE_VISIT_TOTAL_CLICKOUT',\n",
       " 'SITE_VISIT_ENGAGEMENT',\n",
       " 'SITE_VISIT_BOUNCE',\n",
       " 'HAS_PAGE_VIEW_POKER',\n",
       " 'SITE_VISIT_CONVERSION_POKER',\n",
       " 'SITE_VISIT_UNIQUE_CLICKOUT_POKER',\n",
       " 'SITE_VISIT_TOTAL_CLICKOUT_POKER',\n",
       " 'SITE_VISIT_ENGAGEMENT_POKER',\n",
       " 'SITE_VISIT_BOUNCE_POKER',\n",
       " 'HAS_PAGE_VIEW_CASINO',\n",
       " 'SITE_VISIT_CONVERSION_CASINO',\n",
       " 'SITE_VISIT_UNIQUE_CLICKOUT_CASINO',\n",
       " 'SITE_VISIT_TOTAL_CLICKOUT_CASINO',\n",
       " 'SITE_VISIT_ENGAGEMENT_CASINO',\n",
       " 'SITE_VISIT_BOUNCE_CASINO',\n",
       " 'HAS_PAGE_VIEW_SPORTS',\n",
       " 'SITE_VISIT_CONVERSION_SPORTS',\n",
       " 'SITE_VISIT_UNIQUE_CLICKOUT_SPORTS',\n",
       " 'SITE_VISIT_TOTAL_CLICKOUT_SPORTS',\n",
       " 'SITE_VISIT_ENGAGEMENT_SPORTS',\n",
       " 'SITE_VISIT_BOUNCE_SPORTS',\n",
       " 'ETL_LOAD_TIME',\n",
       " 'ETL_DAG_ID',\n",
       " 'ETL_TASK_ID',\n",
       " 'ETL_LOGICAL_DATE_TIME',\n",
       " 'CHANNEL_NAME',\n",
       " 'IS_FIRST_VISIT',\n",
       " 'VISIT_START_PAGE_URL',\n",
       " 'VISIT_START_D_PAGE_HIST_SK',\n",
       " 'VISIT_PAGEVIEWS',\n",
       " 'VISIT_START_PAGE_LCP_CNT',\n",
       " 'VISIT_START_PAGE_LCP_SUM',\n",
       " 'VISIT_START_PAGE_FID_CNT',\n",
       " 'VISIT_START_PAGE_FID_SUM',\n",
       " 'VISIT_START_PAGE_CLS_CNT',\n",
       " 'VISIT_START_PAGE_CLS_SUM',\n",
       " 'VISIT_ENGAGEMENT_ENCODED']"
      ]
     },
     "execution_count": 10,
     "metadata": {},
     "output_type": "execute_result"
    }
   ],
   "source": [
    "f_aa_engagement_by_site.columns"
   ]
  },
  {
   "cell_type": "code",
   "execution_count": 11,
   "id": "613745e0-0c8f-4a82-9053-f690c5b0369f",
   "metadata": {
    "tags": []
   },
   "outputs": [
    {
     "name": "stdout",
     "output_type": "stream",
     "text": [
      "---------------------------------------------------------------------------------\n",
      "|\"TIME_ON_SITE_SECONDS\"  |\"SITE_VISIT_ENGAGEMENT\"  |\"VISIT_ENGAGEMENT_ENCODED\"  |\n",
      "---------------------------------------------------------------------------------\n",
      "|151                     |True                     |1                           |\n",
      "|14                      |False                    |0                           |\n",
      "|92                      |True                     |1                           |\n",
      "|119                     |True                     |1                           |\n",
      "|177                     |True                     |1                           |\n",
      "---------------------------------------------------------------------------------\n",
      "\n"
     ]
    }
   ],
   "source": [
    "f_aa_engagement_by_site.select('TIME_ON_SITE_SECONDS','SITE_VISIT_ENGAGEMENT','VISIT_ENGAGEMENT_ENCODED').show(5)"
   ]
  },
  {
   "cell_type": "code",
   "execution_count": 12,
   "id": "af843ebb-76a9-455c-9ace-614027300753",
   "metadata": {
    "tags": []
   },
   "outputs": [
    {
     "name": "stdout",
     "output_type": "stream",
     "text": [
      "The correlation coefficient between column1 and column2 is 0.203\n"
     ]
    }
   ],
   "source": [
    "#time on site with engagement correlation\n",
    "corr = f_aa_engagement_by_site.select(fn.corr(f_aa_engagement_by_site.TIME_ON_SITE_SECONDS, f_aa_engagement_by_site.VISIT_ENGAGEMENT_ENCODED)).collect()[0][0]\n",
    "    \n",
    "# Print the correlation coefficient\n",
    "print(f\"The correlation coefficient between time on site and visit engagement is {corr:.3f}\")"
   ]
  },
  {
   "cell_type": "code",
   "execution_count": 15,
   "id": "42a35db0-04a7-40eb-9261-1c5abdc665cf",
   "metadata": {
    "tags": []
   },
   "outputs": [
    {
     "name": "stdout",
     "output_type": "stream",
     "text": [
      "-----------------------------------------------------------------------------------------------------------\n",
      "|\"TIME_ON_SITE_SECONDS\"  |\"SITE_VISIT_ENGAGEMENT\"  |\"VISIT_ENGAGEMENT_ENCODED\"  |\"SITE_VISIT_CONVERSION\"  |\n",
      "-----------------------------------------------------------------------------------------------------------\n",
      "|0                       |False                    |0                           |False                    |\n",
      "|139                     |True                     |1                           |False                    |\n",
      "|258                     |True                     |1                           |False                    |\n",
      "|0                       |False                    |0                           |False                    |\n",
      "|29                      |True                     |1                           |False                    |\n",
      "-----------------------------------------------------------------------------------------------------------\n",
      "\n"
     ]
    }
   ],
   "source": [
    "f_aa_engagement_by_site.select('TIME_ON_SITE_SECONDS','SITE_VISIT_ENGAGEMENT','VISIT_ENGAGEMENT_ENCODED','SITE_VISIT_CONVERSION').show(5)"
   ]
  },
  {
   "cell_type": "code",
   "execution_count": 16,
   "id": "cf3466f3-800e-4437-acde-c758cee6ec64",
   "metadata": {
    "tags": []
   },
   "outputs": [],
   "source": [
    "f_aa_engagement_by_site = f_aa_engagement_by_site.withColumn(\n",
    "    \"visit_conversion_encoded\",\n",
    "    fn.when(f_aa_engagement_by_site.SITE_VISIT_CONVERSION == True, 1).otherwise(0)\n",
    "           )"
   ]
  },
  {
   "cell_type": "code",
   "execution_count": 17,
   "id": "6fde249e-33ca-4771-a7f2-9f1657d1c25c",
   "metadata": {
    "tags": []
   },
   "outputs": [
    {
     "name": "stdout",
     "output_type": "stream",
     "text": [
      "----------------------------------------------------------------------------------------------------------------------------------------\n",
      "|\"TIME_ON_SITE_SECONDS\"  |\"SITE_VISIT_ENGAGEMENT\"  |\"VISIT_ENGAGEMENT_ENCODED\"  |\"SITE_VISIT_CONVERSION\"  |\"VISIT_CONVERSION_ENCODED\"  |\n",
      "----------------------------------------------------------------------------------------------------------------------------------------\n",
      "|1067                    |True                     |1                           |False                    |0                           |\n",
      "|177                     |True                     |1                           |False                    |0                           |\n",
      "|363                     |True                     |1                           |False                    |0                           |\n",
      "|103                     |True                     |1                           |False                    |0                           |\n",
      "|240                     |True                     |1                           |False                    |0                           |\n",
      "----------------------------------------------------------------------------------------------------------------------------------------\n",
      "\n"
     ]
    }
   ],
   "source": [
    "f_aa_engagement_by_site.select('TIME_ON_SITE_SECONDS','SITE_VISIT_ENGAGEMENT','VISIT_ENGAGEMENT_ENCODED','SITE_VISIT_CONVERSION','visit_conversion_encoded').show(5)"
   ]
  },
  {
   "cell_type": "code",
   "execution_count": 18,
   "id": "5e9893f1-a317-4efb-a237-f34030a2ca73",
   "metadata": {
    "tags": []
   },
   "outputs": [
    {
     "name": "stdout",
     "output_type": "stream",
     "text": [
      "The correlation coefficient between column1 and column2 is -0.014\n"
     ]
    }
   ],
   "source": [
    "#time on site with conversion (clickout) correlation\n",
    "corr = f_aa_engagement_by_site.select(fn.corr(f_aa_engagement_by_site.TIME_ON_SITE_SECONDS, f_aa_engagement_by_site.VISIT_CONVERSION_ENCODED)).collect()[0][0]\n",
    "    \n",
    "# Print the correlation coefficient\n",
    "print(f\"The correlation coefficient between time on site and visit conversion is {corr:.3f}\")"
   ]
  },
  {
   "cell_type": "markdown",
   "id": "c3a44043-7b91-497a-9390-673f8afb566b",
   "metadata": {},
   "source": [
    "### would this improve with remove of the time on site outliers"
   ]
  },
  {
   "cell_type": "code",
   "execution_count": 19,
   "id": "7dfa7a61-3405-41c0-9513-8c8bd8223e12",
   "metadata": {
    "tags": []
   },
   "outputs": [
    {
     "data": {
      "text/plain": [
       "345038879"
      ]
     },
     "execution_count": 19,
     "metadata": {},
     "output_type": "execute_result"
    }
   ],
   "source": [
    "f_aa_engagement_by_site.count()"
   ]
  },
  {
   "cell_type": "code",
   "execution_count": 20,
   "id": "824b972a-6fd0-452c-88a0-a6cbdd23cc45",
   "metadata": {
    "tags": []
   },
   "outputs": [
    {
     "name": "stderr",
     "output_type": "stream",
     "text": [
      "/tmp/ipykernel_12281/2739683886.py:26: FutureWarning: Support for multi-dimensional indexing (e.g. `obj[:, None]`) is deprecated and will be removed in a future version.  Convert to a numpy array before indexing instead.\n",
      "  points = points[:,None]\n"
     ]
    }
   ],
   "source": [
    "corrdf = f_aa_engagement_by_site.select(['TIME_ON_SITE_SECONDS','VISIT_ENGAGEMENT_ENCODED','VISIT_CONVERSION_ENCODED']).to_pandas()\n",
    "corrdf = corrdf[~is_outlier(corrdf['TIME_ON_SITE_SECONDS'],thresh=2)]"
   ]
  },
  {
   "cell_type": "code",
   "execution_count": 21,
   "id": "54a48a66-ab59-4975-aa41-ab290a89d3dd",
   "metadata": {
    "tags": []
   },
   "outputs": [
    {
     "data": {
      "text/plain": [
       "TIME_ON_SITE_SECONDS        272900944\n",
       "VISIT_ENGAGEMENT_ENCODED    272900944\n",
       "VISIT_CONVERSION_ENCODED    272900944\n",
       "dtype: int64"
      ]
     },
     "execution_count": 21,
     "metadata": {},
     "output_type": "execute_result"
    }
   ],
   "source": [
    "corrdf.count()"
   ]
  },
  {
   "cell_type": "code",
   "execution_count": 22,
   "id": "948575b0-0173-4e71-bf99-c128805f7f77",
   "metadata": {
    "tags": []
   },
   "outputs": [
    {
     "name": "stdout",
     "output_type": "stream",
     "text": [
      "The correlation coefficient between TIME_ON_SITE_SECONDS and VISIT_ENGAGEMENT_ENCODED, with time on site outliers removed, is 0.438\n"
     ]
    }
   ],
   "source": [
    "#time on site with engagement correlation\n",
    "corr = corrdf[\"TIME_ON_SITE_SECONDS\"].corr(corrdf[\"VISIT_ENGAGEMENT_ENCODED\"])\n",
    "\n",
    "# Print the correlation coefficient\n",
    "print(f\"The correlation coefficient between TIME_ON_SITE_SECONDS and VISIT_ENGAGEMENT_ENCODED, with time on site outliers removed, is {corr:.3f}\")"
   ]
  },
  {
   "cell_type": "code",
   "execution_count": 23,
   "id": "26728c00-5807-4a79-a7a2-0afe87b1365c",
   "metadata": {
    "tags": []
   },
   "outputs": [
    {
     "name": "stdout",
     "output_type": "stream",
     "text": [
      "The correlation coefficient between TIME_ON_SITE_SECONDS and VISIT_CONVERSION_ENCODED, with time on site outliers removed, is 0.030\n"
     ]
    }
   ],
   "source": [
    "#time on site with conversion (clickout) correlation\n",
    "corr = corrdf[\"TIME_ON_SITE_SECONDS\"].corr(corrdf[\"VISIT_CONVERSION_ENCODED\"])\n",
    "\n",
    "# Print the correlation coefficient\n",
    "print(f\"The correlation coefficient between TIME_ON_SITE_SECONDS and VISIT_CONVERSION_ENCODED, with time on site outliers removed, is {corr:.3f}\")"
   ]
  }
 ],
 "metadata": {
  "kernelspec": {
   "display_name": "eda_streamlit-675cm0gE",
   "language": "python",
   "name": "python3"
  },
  "language_info": {
   "codemirror_mode": {
    "name": "ipython",
    "version": 3
   },
   "file_extension": ".py",
   "mimetype": "text/x-python",
   "name": "python",
   "nbconvert_exporter": "python",
   "pygments_lexer": "ipython3",
   "version": "3.8.10"
  }
 },
 "nbformat": 4,
 "nbformat_minor": 5
}
